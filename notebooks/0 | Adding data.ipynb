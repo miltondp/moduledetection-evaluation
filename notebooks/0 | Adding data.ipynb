{
 "cells": [
  {
   "cell_type": "markdown",
   "id": "7c941185",
   "metadata": {},
   "source": [
    "Note: if you have downloaded the results and data folder from zenodo, you do not have to run this notebook."
   ]
  },
  {
   "cell_type": "markdown",
   "id": "d880da69",
   "metadata": {},
   "source": [
    "# Adding a new dataset"
   ]
  },
  {
   "cell_type": "code",
   "execution_count": 1,
   "id": "fdc9ae62",
   "metadata": {},
   "outputs": [],
   "source": [
    "import pandas as pd"
   ]
  },
  {
   "cell_type": "markdown",
   "id": "810aa215",
   "metadata": {},
   "source": [
    "## Gene expression data"
   ]
  },
  {
   "cell_type": "code",
   "execution_count": 3,
   "id": "0431db01",
   "metadata": {},
   "outputs": [],
   "source": [
    "! mkdir -p ../data/ecoli_precise2"
   ]
  },
  {
   "cell_type": "code",
   "execution_count": 5,
   "id": "1ad1ee23",
   "metadata": {},
   "outputs": [
    {
     "name": "stdout",
     "output_type": "stream",
     "text": [
      "--2021-09-27 16:37:37--  https://raw.githack.com/SBRG/precise2/master/data/precise2/log_tpm_norm_qc.csv\n",
      "Resolving raw.githack.com (raw.githack.com)... 104.21.234.231, 104.21.234.230, 2606:4700:3038::6815:eae6, ...\n",
      "Connecting to raw.githack.com (raw.githack.com)|104.21.234.231|:443... connected.\n",
      "HTTP request sent, awaiting response... 200 OK\n",
      "Length: unspecified [text/csv]\n",
      "Saving to: ‘../data/ecoli_precise2/E_raw.csv’\n",
      "\n",
      "../data/ecoli_preci     [              <=>   ]  62.20M  19.3MB/s    in 3.2s    \n",
      "\n",
      "2021-09-27 16:37:40 (19.3 MB/s) - ‘../data/ecoli_precise2/E_raw.csv’ saved [65221427]\n",
      "\n"
     ]
    }
   ],
   "source": [
    "! wget https://raw.githack.com/SBRG/precise2/master/data/precise2/log_tpm_norm_qc.csv -O ../data/ecoli_precise2/E_raw.csv"
   ]
  },
  {
   "cell_type": "code",
   "execution_count": 10,
   "id": "c1cff8a0",
   "metadata": {},
   "outputs": [
    {
     "name": "stdout",
     "output_type": "stream",
     "text": [
      "--2021-09-27 16:39:43--  https://raw.githack.com/SBRG/precise2/master/data/precise2/gene_info.csv\n",
      "Resolving raw.githack.com (raw.githack.com)... 104.21.234.231, 104.21.234.230, 2606:4700:3038::6815:eae6, ...\n",
      "Connecting to raw.githack.com (raw.githack.com)|104.21.234.231|:443... connected.\n",
      "HTTP request sent, awaiting response... 200 OK\n",
      "Length: unspecified [text/csv]\n",
      "Saving to: ‘../data/ecoli_precise2/gene_info.csv’\n",
      "\n",
      "../data/ecoli_preci     [ <=>                ] 448.99K  --.-KB/s    in 0.07s   \n",
      "\n",
      "2021-09-27 16:39:43 (6.40 MB/s) - ‘../data/ecoli_precise2/gene_info.csv’ saved [459769]\n",
      "\n"
     ]
    }
   ],
   "source": [
    "! wget https://raw.githack.com/SBRG/precise2/master/data/precise2/gene_info.csv  -O ../data/ecoli_precise2/gene_info.csv"
   ]
  },
  {
   "cell_type": "code",
   "execution_count": 14,
   "id": "c8b4392e",
   "metadata": {},
   "outputs": [
    {
     "name": "stdout",
     "output_type": "stream",
     "text": [
      "locus_tag,gene_name,old_locus_tag,start,end,strand,gene_product,COG,uniprot\n",
      "b0001,thrL,,190,255,+,thr operon leader peptide,No COG annotation,P0AD86\n",
      "b0002,thrA,,337,2799,+,fused aspartate kinase/homoserine dehydrogenase 1,Amino acid transport and metabolism,P00561\n",
      "b0003,thrB,,2801,3733,+,homoserine kinase,Nucleotide transport and metabolism,P00547\n",
      "b0004,thrC,,3734,5020,+,threonine synthase,Amino acid transport and metabolism,P00934\n",
      "b0005,yaaX,,5234,5530,+,DUF2502 domain-containing protein YaaX,Function unknown,P75616\n",
      "b0006,yaaA,,5683,6459,-,peroxide stress resistance protein YaaA,Function unknown,P0A8I3\n",
      "b0007,yaaJ,,6529,7959,-,putative transporter YaaJ,Amino acid transport and metabolism,P30143\n",
      "b0008,talB,,8238,9191,+,transaldolase B,Carbohydrate transport and metabolism,P0A870\n",
      "b0009,mog,,9306,9893,+,molybdopterin adenylyltransferase,Nucleotide transport and metabolism,P0AF03\n"
     ]
    }
   ],
   "source": [
    "! head ../data/ecoli_precise2/gene_info.csv"
   ]
  },
  {
   "cell_type": "code",
   "execution_count": 8,
   "id": "45b10554",
   "metadata": {},
   "outputs": [],
   "source": [
    "E = pd.read_csv(\"../data/ecoli_precise2/E_raw.csv\", index_col = 0)"
   ]
  },
  {
   "cell_type": "code",
   "execution_count": 11,
   "id": "d1985846",
   "metadata": {},
   "outputs": [],
   "source": [
    "gene_info = pd.read_csv(\"../data/ecoli_precise2/gene_info.csv\", index_col = 0)"
   ]
  },
  {
   "cell_type": "code",
   "execution_count": 16,
   "id": "83dd3a63",
   "metadata": {},
   "outputs": [
    {
     "data": {
      "text/plain": [
       "Index(['b0001', 'b0002', 'b0003', 'b0004', 'b0005', 'b0006', 'b0007', 'b0008',\n",
       "       'b0009', 'b0010',\n",
       "       ...\n",
       "       'b4394', 'b4395', 'b4396', 'b4397', 'b4398', 'b4399', 'b4400', 'b4401',\n",
       "       'b4402', 'b4403'],\n",
       "      dtype='object', name='locus_tag', length=4355)"
      ]
     },
     "execution_count": 16,
     "metadata": {},
     "output_type": "execute_result"
    }
   ],
   "source": [
    "gene_info.index"
   ]
  },
  {
   "cell_type": "code",
   "execution_count": 54,
   "id": "9bc9039d",
   "metadata": {},
   "outputs": [],
   "source": [
    "E.index = gene_info[\"gene_name\"][E.index]"
   ]
  },
  {
   "cell_type": "code",
   "execution_count": 59,
   "id": "9458eada",
   "metadata": {},
   "outputs": [],
   "source": [
    "E.T.to_csv(\"../data/ecoli_precise2/E.tsv\", sep = \"\\t\")"
   ]
  },
  {
   "cell_type": "markdown",
   "id": "9241ecbb",
   "metadata": {},
   "source": [
    "## Download and process most recent regulondb network"
   ]
  },
  {
   "cell_type": "code",
   "execution_count": 18,
   "id": "1e7c5532",
   "metadata": {},
   "outputs": [],
   "source": [
    "! mkdir -p ../data/ecoli_precise2/knownmodules"
   ]
  },
  {
   "cell_type": "code",
   "execution_count": 24,
   "id": "1101e55e",
   "metadata": {},
   "outputs": [
    {
     "name": "stdout",
     "output_type": "stream",
     "text": [
      "--2021-09-27 16:48:32--  http://regulondb.ccg.unam.mx/menu/download/datasets/files/network_tf_gene.txt\n",
      "Resolving regulondb.ccg.unam.mx (regulondb.ccg.unam.mx)... 132.248.34.160\n",
      "Connecting to regulondb.ccg.unam.mx (regulondb.ccg.unam.mx)|132.248.34.160|:80... connected.\n",
      "HTTP request sent, awaiting response... 200 OK\n",
      "Length: 224852 (220K) [text/plain]\n",
      "Saving to: ‘../data/ecoli_precise2/knownmodules/regulondb_raw.txt’\n",
      "\n",
      "../data/ecoli_preci 100%[===================>] 219.58K   279KB/s    in 0.8s    \n",
      "\n",
      "2021-09-27 16:48:34 (279 KB/s) - ‘../data/ecoli_precise2/knownmodules/regulondb_raw.txt’ saved [224852/224852]\n",
      "\n"
     ]
    }
   ],
   "source": [
    "! wget http://regulondb.ccg.unam.mx/menu/download/datasets/files/network_tf_gene.txt -O ../data/ecoli_precise2/knownmodules/regulondb_raw.txt"
   ]
  },
  {
   "cell_type": "code",
   "execution_count": 31,
   "id": "072fd534",
   "metadata": {},
   "outputs": [
    {
     "name": "stdout",
     "output_type": "stream",
     "text": [
      "# Copies and Copyright-Notice\n",
      "#\n",
      "#      RegulonDB is free for academic/noncommercial use\n",
      "#\n",
      "#      User is not entitled to change or erase data sets of the RegulonDB\n",
      "#      database or to eliminate copyright notices from RegulonDB. Furthermore,\n",
      "#      User is not entitled to expand RegulonDB or to integrate RegulonDB partly\n",
      "#      or as a whole into other databank systems, without prior written consent\n",
      "#      from CCG-UNAM.\n",
      "#\n",
      "#      Please check the license at http://regulondb.ccg.unam.mx/menu/download/full_version/terms_and_conditions.jsp\n",
      "#\n",
      "# Citation\n",
      "#\n",
      "#      Santos-Zavaleta A et al. (2019). RegulonDB v 10.5: tackling challenges to unify classic and high throughput knowledge of gene regulation in E. coli K-12.,\n",
      "#      Nucleic Acids Res. 2019 Jan 8;47(D1):D212-D220. doi: 10.1093/nar/gky1077.\n",
      "#\n",
      "#\n",
      "# Contact\n",
      "#\n",
      "#      Person: RegulonDB Team\n",
      "#      Web Page: http://regulondb.ccg.unam.mx/menu/about_regulondb/contact_us/index.jsp\n",
      "#          (regulondb@ccg.unam.mx)\n",
      "#\n",
      "#\n",
      "# Release: 10.9 Date: 06/29/2021\n",
      "# ___________________________________________________________________________\n",
      "#\n",
      "# Columns:\n",
      "#  (1) Transcription Factor (TF) ID\n",
      "#  (2) Transcription Factor (TF) Name\n",
      "#  (3) Gene ID regulated by the TF (regulated gene)\n",
      "#  (4) Gene regulated by the TF (regulated gene)\n",
      "#  (5) Regulatory effect of the TF on the regulated gene (+ activator, - repressor, +- dual, ? unknown)\n",
      "#  (6) Evidence that supports the existence of the regulatory interaction\n",
      "#  (7) Evidence Type [Weak, Strong, Confirmed] For details see: http://regulondb.ccg.unam.mx/evidenceclassification\n",
      "#\n",
      "ECK125286586\tAccB\tECK120000269\taccB\t-\t[]\tnull\t\n",
      "ECK125286586\tAccB\tECK120000270\taccC\t-\t[]\tnull\t\n",
      "ECK120015994\tAcrR\tECK120001646\tacrA\t-\t[]\tnull\t\n"
     ]
    }
   ],
   "source": [
    "! head -n 40 ../data/ecoli_precise2/knownmodules/regulondb_raw.txt"
   ]
  },
  {
   "cell_type": "code",
   "execution_count": 63,
   "id": "b575938b",
   "metadata": {},
   "outputs": [],
   "source": [
    "regnet = pd.read_table(\"../data/ecoli_precise2/knownmodules/regulondb_raw.txt\", comment = \"#\", names = [\"tf_id\", \"tf_name\", \"target_id\", \"target_name\", \"effect\", \"evidence\", \"evidence_type\", \"-\"])\n",
    "regnet = regnet.query(\"target_name in @E.index\")"
   ]
  },
  {
   "cell_type": "code",
   "execution_count": 68,
   "id": "d09d49ab",
   "metadata": {},
   "outputs": [],
   "source": [
    "modules = []\n",
    "for tf_name, tf_regnet in regnet.groupby(\"tf_name\"):\n",
    "    if tf_regnet.shape[0] > 5:\n",
    "        modules.append(tf_regnet[\"target_name\"].tolist())"
   ]
  },
  {
   "cell_type": "code",
   "execution_count": 71,
   "id": "999d4671",
   "metadata": {},
   "outputs": [
    {
     "data": {
      "text/plain": [
       "132"
      ]
     },
     "execution_count": 71,
     "metadata": {},
     "output_type": "execute_result"
    }
   ],
   "source": [
    "len(modules)"
   ]
  },
  {
   "cell_type": "code",
   "execution_count": 94,
   "id": "7e1bcf1b",
   "metadata": {},
   "outputs": [],
   "source": [
    "import json"
   ]
  },
  {
   "cell_type": "code",
   "execution_count": 98,
   "id": "1fca0c2c",
   "metadata": {},
   "outputs": [],
   "source": [
    "!mkdir -p ../data/ecoli_precise2/knownmodules/ecoli_regulondb"
   ]
  },
  {
   "cell_type": "code",
   "execution_count": 96,
   "id": "3d84cd08",
   "metadata": {},
   "outputs": [],
   "source": [
    "json.dump(modules, open(\"../data/ecoli_precise2/knownmodules/ecoli_regulondb/minimal.json\", \"w\"))"
   ]
  },
  {
   "cell_type": "code",
   "execution_count": 97,
   "id": "b8326bdf",
   "metadata": {},
   "outputs": [],
   "source": [
    "tfs = list(set([tf[0].lower() + tf[1:] for tfs in regnet[\"tf_name\"].unique() for tf in tfs.split(\"-\")]) & set(E.index))\n",
    "\n",
    "json.dump(tfs, open(\"../data/ecoli_precise2/regulators.json\", \"w\"))"
   ]
  },
  {
   "cell_type": "markdown",
   "id": "ad1758e9",
   "metadata": {},
   "source": [
    "## Write configuration file"
   ]
  },
  {
   "cell_type": "code",
   "execution_count": 102,
   "id": "5d551fc0",
   "metadata": {},
   "outputs": [],
   "source": [
    "config = {\n",
    "    \"location\": \"conf/datasets/ecoli_precise2.json\",\n",
    "    \"knownmodules\": {\n",
    "        \"ecoli_regulondb\": {\n",
    "            \"minimal\": \"data/ecoli_precise2/knownmodules/ecoli_regulondb/minimal.json\"\n",
    "        }\n",
    "    },\n",
    "    \"gsets\": {\n",
    "    },\n",
    "    \"regulators\": \"data/ecoli_colombos/regulators.json\",\n",
    "    \"binding\": {\n",
    "    },\n",
    "    \"datasetname\": \"ecoli_precise2\",\n",
    "    \"regnets\": [\n",
    "        \"ecoli_regulondb\"\n",
    "    ],\n",
    "    \"params\": {\n",
    "        \"datasetname\": \"ecoli_precise2\",\n",
    "        \"organism\": \"ecoli\"\n",
    "    },\n",
    "    \"baselinename\": \"ecoli_precise2\",\n",
    "    \"expression\": \"data/ecoli_precise2/E.tsv\"\n",
    "}\n",
    "json.dump(config, open(\"../conf/datasets/ecoli_precise2.json\", \"w\"))"
   ]
  }
 ],
 "metadata": {
  "jupytext": {
   "cell_metadata_filter": "all,-execution,-papermill,-trusted"
  },
  "kernelspec": {
   "display_name": "Python 3 (ipykernel)",
   "language": "python",
   "name": "python3"
  },
  "language_info": {
   "codemirror_mode": {
    "name": "ipython",
    "version": 3
   },
   "file_extension": ".py",
   "mimetype": "text/x-python",
   "name": "python",
   "nbconvert_exporter": "python",
   "pygments_lexer": "ipython3",
   "version": "3.9.7"
  },
  "toc": {
   "base_numbering": 1,
   "nav_menu": {},
   "number_sections": true,
   "sideBar": true,
   "skip_h1_title": false,
   "title_cell": "Table of Contents",
   "title_sidebar": "Contents",
   "toc_cell": false,
   "toc_position": {},
   "toc_section_display": true,
   "toc_window_display": false
  }
 },
 "nbformat": 4,
 "nbformat_minor": 5
}
