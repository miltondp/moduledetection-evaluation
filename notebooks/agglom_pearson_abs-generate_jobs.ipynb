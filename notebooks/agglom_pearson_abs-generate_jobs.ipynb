{
 "cells": [
  {
   "cell_type": "markdown",
   "id": "60615a64",
   "metadata": {
    "papermill": {
     "duration": 0.033461,
     "end_time": "2021-10-06T02:02:55.339308",
     "exception": false,
     "start_time": "2021-10-06T02:02:55.305847",
     "status": "completed"
    },
    "tags": []
   },
   "source": [
    "# Overall performance of module detection methods"
   ]
  },
  {
   "cell_type": "code",
   "execution_count": 1,
   "id": "345a7eaa",
   "metadata": {
    "execution": {
     "iopub.execute_input": "2021-10-06T02:02:55.412998Z",
     "iopub.status.busy": "2021-10-06T02:02:55.412599Z",
     "iopub.status.idle": "2021-10-06T02:02:55.867096Z",
     "shell.execute_reply": "2021-10-06T02:02:55.867667Z"
    },
    "papermill": {
     "duration": 0.497699,
     "end_time": "2021-10-06T02:02:55.867855",
     "exception": false,
     "start_time": "2021-10-06T02:02:55.370156",
     "status": "completed"
    },
    "scrolled": true,
    "tags": []
   },
   "outputs": [],
   "source": [
    "import sys\n",
    "import os\n",
    "# sys.path.insert(0,os.path.abspath(\"../lib/\"))\n",
    "\n",
    "import json\n",
    "\n",
    "from util import JSONExtendedEncoder\n",
    "\n",
    "%load_ext autoreload\n",
    "%autoreload 2\n",
    "\n",
    "%matplotlib inline\n",
    "from matplotlib.pyplot import *\n",
    "\n",
    "import pandas as pd\n",
    "import numpy as np\n",
    "\n",
    "import multiprocessing as mp\n",
    "\n",
    "from itertools import product\n",
    "\n",
    "import itertools\n",
    "import shutil\n",
    "\n",
    "import os\n",
    "\n",
    "conf_folder = \"conf/\""
   ]
  },
  {
   "cell_type": "markdown",
   "id": "4c9d62a2",
   "metadata": {
    "papermill": {
     "duration": 0.030067,
     "end_time": "2021-10-06T02:02:55.929672",
     "exception": false,
     "start_time": "2021-10-06T02:02:55.899605",
     "status": "completed"
    },
    "tags": []
   },
   "source": [
    "# Settings"
   ]
  },
  {
   "cell_type": "code",
   "execution_count": 2,
   "id": "8a79f30b",
   "metadata": {
    "execution": {
     "iopub.execute_input": "2021-10-06T02:02:55.999949Z",
     "iopub.status.busy": "2021-10-06T02:02:55.999553Z",
     "iopub.status.idle": "2021-10-06T02:02:56.001201Z",
     "shell.execute_reply": "2021-10-06T02:02:56.001493Z"
    },
    "papermill": {
     "duration": 0.041465,
     "end_time": "2021-10-06T02:02:56.001599",
     "exception": false,
     "start_time": "2021-10-06T02:02:55.960134",
     "status": "completed"
    },
    "tags": []
   },
   "outputs": [],
   "source": [
    "N_JOBS = 1\n",
    "# N_JOBS = mp.cpu_count()-1"
   ]
  },
  {
   "cell_type": "code",
   "execution_count": 3,
   "id": "6d98758d",
   "metadata": {
    "execution": {
     "iopub.execute_input": "2021-10-06T02:02:56.072443Z",
     "iopub.status.busy": "2021-10-06T02:02:56.072059Z",
     "iopub.status.idle": "2021-10-06T02:02:56.073697Z",
     "shell.execute_reply": "2021-10-06T02:02:56.073989Z"
    },
    "papermill": {
     "duration": 0.041726,
     "end_time": "2021-10-06T02:02:56.074097",
     "exception": false,
     "start_time": "2021-10-06T02:02:56.032371",
     "status": "completed"
    },
    "tags": [
     "parameters"
    ]
   },
   "outputs": [],
   "source": [
    "method_name = None"
   ]
  },
  {
   "cell_type": "code",
   "execution_count": 4,
   "id": "9fa4d675",
   "metadata": {
    "execution": {
     "iopub.execute_input": "2021-10-06T02:02:56.144696Z",
     "iopub.status.busy": "2021-10-06T02:02:56.144312Z",
     "iopub.status.idle": "2021-10-06T02:02:56.145955Z",
     "shell.execute_reply": "2021-10-06T02:02:56.146242Z"
    },
    "papermill": {
     "duration": 0.041333,
     "end_time": "2021-10-06T02:02:56.146350",
     "exception": false,
     "start_time": "2021-10-06T02:02:56.105017",
     "status": "completed"
    },
    "tags": [
     "injected-parameters"
    ]
   },
   "outputs": [],
   "source": [
    "# Parameters\n",
    "method_name = \"agglom_pearson_abs\"\n"
   ]
  },
  {
   "cell_type": "code",
   "execution_count": 5,
   "id": "13cd2e8c",
   "metadata": {
    "execution": {
     "iopub.execute_input": "2021-10-06T02:02:56.217837Z",
     "iopub.status.busy": "2021-10-06T02:02:56.217451Z",
     "iopub.status.idle": "2021-10-06T02:02:56.219084Z",
     "shell.execute_reply": "2021-10-06T02:02:56.219372Z"
    },
    "papermill": {
     "duration": 0.042135,
     "end_time": "2021-10-06T02:02:56.219479",
     "exception": false,
     "start_time": "2021-10-06T02:02:56.177344",
     "status": "completed"
    },
    "tags": []
   },
   "outputs": [],
   "source": [
    "assert method_name is not None, \"You have to specify a method_name\""
   ]
  },
  {
   "cell_type": "markdown",
   "id": "747e9f3f",
   "metadata": {
    "papermill": {
     "duration": 0.030367,
     "end_time": "2021-10-06T02:02:56.280707",
     "exception": false,
     "start_time": "2021-10-06T02:02:56.250340",
     "status": "completed"
    },
    "tags": []
   },
   "source": [
    "# Running a method on different parameter settings and datasets"
   ]
  },
  {
   "cell_type": "markdown",
   "id": "dc884936",
   "metadata": {
    "papermill": {
     "duration": 0.030327,
     "end_time": "2021-10-06T02:02:56.341780",
     "exception": false,
     "start_time": "2021-10-06T02:02:56.311453",
     "status": "completed"
    },
    "tags": []
   },
   "source": [
    "Note: If you downloaded the results from zenodo, you don't need to rerun this for \"dummy\", \"agglom\", \"ica_zscore\", \"spectral_biclust\" and \"meanshift\""
   ]
  },
  {
   "cell_type": "markdown",
   "id": "4d9df6a9",
   "metadata": {
    "papermill": {
     "duration": 0.030372,
     "end_time": "2021-10-06T02:02:56.403099",
     "exception": false,
     "start_time": "2021-10-06T02:02:56.372727",
     "status": "completed"
    },
    "tags": []
   },
   "source": [
    "The following code will explore the parameters of a module detection method on every dataset using a grid-search approach."
   ]
  },
  {
   "cell_type": "markdown",
   "id": "ed65264b",
   "metadata": {
    "papermill": {
     "duration": 0.030433,
     "end_time": "2021-10-06T02:02:56.464478",
     "exception": false,
     "start_time": "2021-10-06T02:02:56.434045",
     "status": "completed"
    },
    "tags": []
   },
   "source": [
    "If you want to run your own method, you should wrap it into a python function and add its parameters to `conf/paramexplo_blueprints.py`. We will show the whole workflow here for a \"dummy\"  (but fast) clustering method, which will simply group genes randomly."
   ]
  },
  {
   "cell_type": "markdown",
   "id": "fecbd99a",
   "metadata": {
    "papermill": {
     "duration": 0.030824,
     "end_time": "2021-10-06T02:02:56.526370",
     "exception": false,
     "start_time": "2021-10-06T02:02:56.495546",
     "status": "completed"
    },
    "tags": []
   },
   "source": [
    "Every module detection method is wrapped in a python function (see `scripts/moduledetection.py`)\n",
    "\n",
    "Because module detection methods usually take a while to run, we generate the files necessary to run a method on the several parameter settings and datasets here. These can then be easily called from the commandline, for example on a computer cluster or locally using GNU `parallel`.\n",
    "\n",
    "This function will be called by scripts/moduledetection.py , which will save the modules in the correct format along with additional run information (such as running times)."
   ]
  },
  {
   "cell_type": "code",
   "execution_count": 6,
   "id": "c9966352",
   "metadata": {
    "execution": {
     "iopub.execute_input": "2021-10-06T02:02:56.609208Z",
     "iopub.status.busy": "2021-10-06T02:02:56.608810Z",
     "iopub.status.idle": "2021-10-06T02:02:56.610554Z",
     "shell.execute_reply": "2021-10-06T02:02:56.610846Z"
    },
    "papermill": {
     "duration": 0.053291,
     "end_time": "2021-10-06T02:02:56.610954",
     "exception": false,
     "start_time": "2021-10-06T02:02:56.557663",
     "status": "completed"
    },
    "tags": []
   },
   "outputs": [],
   "source": [
    "# datasets to run\n",
    "datasetnames = [\n",
    "    \"ecoli_colombos\",\n",
    "    \"ecoli_dream5\",\n",
    "    \"yeast_gpl2529\",\n",
    "    \"yeast_dream5\",\n",
    "    \"synth_ecoli_regulondb\",\n",
    "    \"synth_yeast_macisaac\",\n",
    "    \"human_tcga\",\n",
    "    \"human_gtex\",\n",
    "    \"human_seek_gpl5175\",\n",
    "    \"ecoli_precise2\"\n",
    "]\n",
    "\n",
    "# choose the method to evaluate\n",
    "# method_name = \"agglom_pearson_abs\" # use the dummy method to check if everything works correctly\n",
    "# method_name = \"agglom\" # this method runs very fast, and has the best performance among clustering methods\n",
    "# method_name = \"ica_zscore\" # this method runs very slow, but has approx. the highest performance in the benchmark\n",
    "# method_name = \"spectral_biclust\" # top biclustering method\n",
    "# method_name = \"meanshift\""
   ]
  },
  {
   "cell_type": "markdown",
   "id": "1070303a",
   "metadata": {
    "papermill": {
     "duration": 0.030598,
     "end_time": "2021-10-06T02:02:56.675440",
     "exception": false,
     "start_time": "2021-10-06T02:02:56.644842",
     "status": "completed"
    },
    "tags": []
   },
   "source": [
    "To add your own method, create a function with \"your_method_name\" in the `lib/clustering.py` file (or any other file as long as it's imported in `scripts/moduledetection.py`.\n",
    "This function should accept an `E` object (which is a dataframe with genes in columns) and any additional parameters\n",
    "Then add reasonable parameter setting of your method to `conf/paramexplo_blueprints.py`."
   ]
  },
  {
   "cell_type": "markdown",
   "id": "8e0722ee",
   "metadata": {
    "papermill": {
     "duration": 0.030449,
     "end_time": "2021-10-06T02:02:56.743568",
     "exception": false,
     "start_time": "2021-10-06T02:02:56.713119",
     "status": "completed"
    },
    "tags": []
   },
   "source": [
    "method_name = \"your_method_name\""
   ]
  },
  {
   "cell_type": "code",
   "execution_count": 7,
   "id": "fecff985",
   "metadata": {
    "execution": {
     "iopub.execute_input": "2021-10-06T02:02:56.817387Z",
     "iopub.status.busy": "2021-10-06T02:02:56.816999Z",
     "iopub.status.idle": "2021-10-06T02:02:56.819259Z",
     "shell.execute_reply": "2021-10-06T02:02:56.819758Z"
    },
    "papermill": {
     "duration": 0.045538,
     "end_time": "2021-10-06T02:02:56.819871",
     "exception": false,
     "start_time": "2021-10-06T02:02:56.774333",
     "status": "completed"
    },
    "tags": []
   },
   "outputs": [],
   "source": [
    "# paramexplo_blueprints.py stores for every method the parameters which will be varied using a grid-search approach.\n",
    "%run ../conf/paramexplo_blueprints.py\n",
    "methodblueprint = blueprints[method_name]"
   ]
  },
  {
   "cell_type": "code",
   "execution_count": 8,
   "id": "d202de8c",
   "metadata": {
    "execution": {
     "iopub.execute_input": "2021-10-06T02:02:56.889038Z",
     "iopub.status.busy": "2021-10-06T02:02:56.888645Z",
     "iopub.status.idle": "2021-10-06T02:02:56.895255Z",
     "shell.execute_reply": "2021-10-06T02:02:56.895572Z"
    },
    "papermill": {
     "duration": 0.044896,
     "end_time": "2021-10-06T02:02:56.895681",
     "exception": false,
     "start_time": "2021-10-06T02:02:56.850785",
     "status": "completed"
    },
    "tags": []
   },
   "outputs": [
    {
     "data": {
      "text/plain": [
       "{'staticparams': {'method': 'agglom_pearson_abs',\n",
       "  'simdist_function': 'pearson_correlation_absolute'},\n",
       " 'dynparams': {'linkage': ['complete', 'average'],\n",
       "  'k': array([ 25.,  50.,  75., 100., 125., 150., 175., 200., 225., 250., 275.,\n",
       "         300.])},\n",
       " 'type': 'moduledetection'}"
      ]
     },
     "execution_count": 8,
     "metadata": {},
     "output_type": "execute_result"
    }
   ],
   "source": [
    "methodblueprint"
   ]
  },
  {
   "cell_type": "markdown",
   "id": "550b1877",
   "metadata": {
    "papermill": {
     "duration": 0.031213,
     "end_time": "2021-10-06T02:02:56.959532",
     "exception": false,
     "start_time": "2021-10-06T02:02:56.928319",
     "status": "completed"
    },
    "tags": []
   },
   "source": [
    "Generate different parameter settings using a grid-search."
   ]
  },
  {
   "cell_type": "code",
   "execution_count": 9,
   "id": "72a632bf",
   "metadata": {
    "execution": {
     "iopub.execute_input": "2021-10-06T02:02:57.028989Z",
     "iopub.status.busy": "2021-10-06T02:02:57.028568Z",
     "iopub.status.idle": "2021-10-06T02:02:57.037573Z",
     "shell.execute_reply": "2021-10-06T02:02:57.037931Z"
    },
    "papermill": {
     "duration": 0.04691,
     "end_time": "2021-10-06T02:02:57.038044",
     "exception": false,
     "start_time": "2021-10-06T02:02:56.991134",
     "status": "completed"
    },
    "tags": []
   },
   "outputs": [],
   "source": [
    "params_folder = \"conf/paramexplo/\" + method_name + \"/\"\n",
    "if os.path.exists(\"../\" + params_folder):\n",
    "    shutil.rmtree(\"../\" + params_folder)\n",
    "os.makedirs(\"../\" + params_folder)\n",
    "\n",
    "methodsettings = []\n",
    "method_locations = []\n",
    "i = 0\n",
    "for dynparam_combination in list(itertools.product(*[methodblueprint[\"dynparams\"][param] for param in sorted(methodblueprint[\"dynparams\"].keys())])):\n",
    "    method = {\"params\":{}}\n",
    "    method[\"params\"] = methodblueprint[\"staticparams\"].copy()\n",
    "    method[\"params\"].update(dict(zip(sorted(methodblueprint[\"dynparams\"].keys()), dynparam_combination)))\n",
    "    method[\"location\"] = params_folder + str(i) + \".json\"\n",
    "    method[\"seed\"] = 0\n",
    "\n",
    "    methodsettings.append(method)\n",
    "\n",
    "    json.dump(method, open(\"../\" + method[\"location\"], \"w\"), cls=JSONExtendedEncoder)\n",
    "\n",
    "    method_locations.append(method[\"location\"])\n",
    "\n",
    "    i+=1"
   ]
  },
  {
   "cell_type": "markdown",
   "id": "02f013e0",
   "metadata": {
    "papermill": {
     "duration": 0.031946,
     "end_time": "2021-10-06T02:02:57.101694",
     "exception": false,
     "start_time": "2021-10-06T02:02:57.069748",
     "status": "completed"
    },
    "tags": []
   },
   "source": [
    "Now combine the different parameter settings and datasets. Then generate the different python commands to run every parameter setting and dataset in parallel."
   ]
  },
  {
   "cell_type": "code",
   "execution_count": 10,
   "id": "d3727128",
   "metadata": {
    "execution": {
     "iopub.execute_input": "2021-10-06T02:02:57.172770Z",
     "iopub.status.busy": "2021-10-06T02:02:57.172360Z",
     "iopub.status.idle": "2021-10-06T02:02:57.178602Z",
     "shell.execute_reply": "2021-10-06T02:02:57.178956Z"
    },
    "papermill": {
     "duration": 0.045989,
     "end_time": "2021-10-06T02:02:57.179064",
     "exception": false,
     "start_time": "2021-10-06T02:02:57.133075",
     "status": "completed"
    },
    "tags": []
   },
   "outputs": [],
   "source": [
    "settings_name = \"paramexplo/{method_name}\".format(method_name = method_name)\n",
    "settings = []\n",
    "for datasetname in datasetnames:\n",
    "    for setting_ix, methodsetting in enumerate(methodsettings):\n",
    "        settingid = datasetname + \"_\" + str(setting_ix)\n",
    "        settings.append({\n",
    "            \"dataset_location\":\"conf/datasets/\" + datasetname + \".json\",\n",
    "            \"dataset_name\":datasetname,\n",
    "            \"method_location\":methodsetting[\"location\"],\n",
    "            \"output_folder\":\"results/\" + methodblueprint[\"type\"] + \"/{settings_name}/{settingid}/\".format(settings_name=settings_name, settingid=settingid),\n",
    "            \"settingid\":settingid\n",
    "        })\n",
    "json.dump(settings, open(\"../conf/settings/{settings_name}.json\".format(settings_name=settings_name), \"w\"))"
   ]
  },
  {
   "cell_type": "code",
   "execution_count": 11,
   "id": "5958d96b",
   "metadata": {
    "execution": {
     "iopub.execute_input": "2021-10-06T02:02:57.252748Z",
     "iopub.status.busy": "2021-10-06T02:02:57.252351Z",
     "iopub.status.idle": "2021-10-06T02:02:57.269458Z",
     "shell.execute_reply": "2021-10-06T02:02:57.269814Z"
    },
    "papermill": {
     "duration": 0.058951,
     "end_time": "2021-10-06T02:02:57.269922",
     "exception": false,
     "start_time": "2021-10-06T02:02:57.210971",
     "status": "completed"
    },
    "tags": []
   },
   "outputs": [],
   "source": [
    "settings_dataset = pd.DataFrame([dict(settingid=setting[\"settingid\"], **json.load(open(\"../\" + setting[\"dataset_location\"]))[\"params\"]) for setting in settings])\n",
    "settings_method = pd.DataFrame([dict(settingid=setting[\"settingid\"], **json.load(open(\"../\" + setting[\"method_location\"]))[\"params\"]) for setting in settings])"
   ]
  },
  {
   "cell_type": "code",
   "execution_count": 12,
   "id": "be8837b2",
   "metadata": {
    "execution": {
     "iopub.execute_input": "2021-10-06T02:02:57.340981Z",
     "iopub.status.busy": "2021-10-06T02:02:57.340578Z",
     "iopub.status.idle": "2021-10-06T02:02:57.346715Z",
     "shell.execute_reply": "2021-10-06T02:02:57.347075Z"
    },
    "papermill": {
     "duration": 0.04546,
     "end_time": "2021-10-06T02:02:57.347183",
     "exception": false,
     "start_time": "2021-10-06T02:02:57.301723",
     "status": "completed"
    },
    "tags": []
   },
   "outputs": [
    {
     "name": "stdout",
     "output_type": "stream",
     "text": [
      "Run the following command:\n",
      "parallel -j 4 -a tmp/paramexplo/agglom_pearson_abs.txt\n"
     ]
    }
   ],
   "source": [
    "commands = \"\"\n",
    "for i, setting in enumerate(settings):\n",
    "    #commands += \"python scripts/moduledetection.py {method_location} {dataset_location} {output_folder} 0 test\\n\".format(**setting)\n",
    "    commands += \"python3 scripts/\" + methodblueprint[\"type\"] + \".py {method_location} {dataset_location} {output_folder}\\n\".format(**setting)\n",
    "\n",
    "commands_location = \"tmp/{settings_name}.txt\".format(**locals())\n",
    "os.makedirs(\"../\" + os.path.dirname(commands_location), exist_ok=True)\n",
    "with open(\"../\" + commands_location, \"w\") as outfile:\n",
    "    outfile.write(commands)\n",
    "commands_location = \"tmp/{settings_name}.txt\".format(**locals())\n",
    "os.makedirs(os.path.dirname(\"../tmp/\" + commands_location), exist_ok=True)\n",
    "with open(\"../tmp/\" + commands_location, \"w\") as outfile:\n",
    "    outfile.write(commands)\n",
    "    \n",
    "#script_location = generate_batchcode(commands_location, settings_name, len(settings), {\"memory\":\"10G\", \"numcores\":1}, \"biclust_comp2\")\n",
    "\n",
    "# this command can be used on most linux computers to run the different parameter settings in parallel\n",
    "print(\"Run the following command:\\nparallel -j 4 -a \" + commands_location)"
   ]
  },
  {
   "cell_type": "code",
   "execution_count": null,
   "id": "906e4ed1",
   "metadata": {
    "papermill": {
     "duration": 0.032129,
     "end_time": "2021-10-06T02:02:57.411706",
     "exception": false,
     "start_time": "2021-10-06T02:02:57.379577",
     "status": "completed"
    },
    "tags": []
   },
   "outputs": [],
   "source": []
  }
 ],
 "metadata": {
  "celltoolbar": "Tags",
  "jupytext": {
   "cell_metadata_filter": "all,-execution,-papermill,-trusted",
   "text_representation": {
    "extension": ".py",
    "format_name": "percent",
    "format_version": "1.3",
    "jupytext_version": "1.13.0"
   }
  },
  "kernelspec": {
   "display_name": "Python 3 (ipykernel)",
   "language": "python",
   "name": "python3"
  },
  "language_info": {
   "codemirror_mode": {
    "name": "ipython",
    "version": 3
   },
   "file_extension": ".py",
   "mimetype": "text/x-python",
   "name": "python",
   "nbconvert_exporter": "python",
   "pygments_lexer": "ipython3",
   "version": "3.9.7"
  },
  "papermill": {
   "default_parameters": {},
   "duration": 3.538661,
   "end_time": "2021-10-06T02:02:57.662872",
   "environment_variables": {},
   "exception": null,
   "input_path": "generate_jobs.ipynb",
   "output_path": "agglom_pearson_abs-generate_jobs.ipynb",
   "parameters": {
    "method_name": "agglom_pearson_abs"
   },
   "start_time": "2021-10-06T02:02:54.124211",
   "version": "2.3.3"
  },
  "toc": {
   "base_numbering": 1,
   "nav_menu": {},
   "number_sections": true,
   "sideBar": true,
   "skip_h1_title": false,
   "title_cell": "Table of Contents",
   "title_sidebar": "Contents",
   "toc_cell": false,
   "toc_position": {},
   "toc_section_display": true,
   "toc_window_display": false
  }
 },
 "nbformat": 4,
 "nbformat_minor": 5
}