{
 "cells": [
  {
   "cell_type": "markdown",
   "metadata": {},
   "source": [
    "# Overall performance of module detection methods"
   ]
  },
  {
   "cell_type": "code",
   "execution_count": 1,
   "metadata": {
    "scrolled": true
   },
   "outputs": [],
   "source": [
    "import sys\n",
    "import os\n",
    "sys.path.insert(0,os.path.abspath(\"../lib/\"))\n",
    "\n",
    "import json\n",
    "\n",
    "from util import JSONExtendedEncoder\n",
    "\n",
    "from modulecontainers import Modules\n",
    "\n",
    "%load_ext autoreload\n",
    "%autoreload 2\n",
    "\n",
    "%matplotlib inline\n",
    "from matplotlib.pyplot import *\n",
    "\n",
    "import pandas as pd\n",
    "import numpy as np\n",
    "\n",
    "import multiprocessing as mp\n",
    "\n",
    "from collections import OrderedDict\n",
    "\n",
    "from itertools import product\n",
    "from collections import defaultdict\n",
    "\n",
    "import itertools\n",
    "import shutil\n",
    "\n",
    "conf_folder = \"conf/\"\n",
    "base_folder = \"~/tmp/\"\n",
    "\n",
    "import os\n",
    "\n",
    "from modulescomparison_baselines import ModevalKnownmodules, ModevalCoverage"
   ]
  },
  {
   "cell_type": "markdown",
   "metadata": {},
   "source": [
    "# Running a method on different parameter settings and datasets"
   ]
  },
  {
   "cell_type": "markdown",
   "metadata": {},
   "source": [
    "The following code will explore the parameters of a module detection method on every dataset using a grid-search approach."
   ]
  },
  {
   "cell_type": "markdown",
   "metadata": {},
   "source": [
    "If you want to run your own method, you should wrap it into a python function and add its parameters to `paramexplo_blueprints.py`. We will show the whole workflow here for a \"dummy\"  (but fast) clustering method, which will simply group genes randomly."
   ]
  },
  {
   "cell_type": "markdown",
   "metadata": {},
   "source": [
    "Every module detection method is wrapped in a python function (see lib/moduledetection.py)\n",
    "\n",
    "Because module detection methods usually take a while to run, we generate the files necessary to run a method on the several parameter settings and datasets here. These can then be easily called from the commandline, for example on a computer cluster or locally using GNU `parallel`.\n",
    "\n",
    "This function will be called by scripts/moduledetection.py , which will save the modules in the correct format along with additional run information (such as running times)."
   ]
  },
  {
   "cell_type": "code",
   "execution_count": 2,
   "metadata": {},
   "outputs": [
    {
     "name": "stderr",
     "output_type": "stream",
     "text": [
      "/home/miltondp/projects/labs/greenelab/clustermatch_repos/clustermatch-gene-expr/nbs/moduledetection-evaluation/conf/paramexplo_blueprints.py:216: DeprecationWarning: `np.float` is a deprecated alias for the builtin `float`. To silence this warning, use `float` by itself. Doing this will not modify any behavior and is safe. If you specifically wanted the numpy scalar type, use `np.float64` here.\n",
      "Deprecated in NumPy 1.20; for more details and guidance: https://numpy.org/devdocs/release/1.20.0-notes.html#deprecations\n",
      "  \"qvalcutoff\":10**(-np.arange(1, 15, dtype=np.float))\n",
      "/home/miltondp/projects/labs/greenelab/clustermatch_repos/clustermatch-gene-expr/nbs/moduledetection-evaluation/conf/paramexplo_blueprints.py:226: DeprecationWarning: `np.float` is a deprecated alias for the builtin `float`. To silence this warning, use `float` by itself. Doing this will not modify any behavior and is safe. If you specifically wanted the numpy scalar type, use `np.float64` here.\n",
      "Deprecated in NumPy 1.20; for more details and guidance: https://numpy.org/devdocs/release/1.20.0-notes.html#deprecations\n",
      "  \"qvalcutoff\":10**(-np.arange(1, 15, dtype=np.float))\n",
      "/home/miltondp/projects/labs/greenelab/clustermatch_repos/clustermatch-gene-expr/nbs/moduledetection-evaluation/conf/paramexplo_blueprints.py:255: DeprecationWarning: `np.float` is a deprecated alias for the builtin `float`. To silence this warning, use `float` by itself. Doing this will not modify any behavior and is safe. If you specifically wanted the numpy scalar type, use `np.float64` here.\n",
      "Deprecated in NumPy 1.20; for more details and guidance: https://numpy.org/devdocs/release/1.20.0-notes.html#deprecations\n",
      "  \"qvalcutoff\":10**(-np.arange(1, 15, dtype=np.float))\n",
      "/home/miltondp/projects/labs/greenelab/clustermatch_repos/clustermatch-gene-expr/nbs/moduledetection-evaluation/conf/paramexplo_blueprints.py:265: DeprecationWarning: `np.float` is a deprecated alias for the builtin `float`. To silence this warning, use `float` by itself. Doing this will not modify any behavior and is safe. If you specifically wanted the numpy scalar type, use `np.float64` here.\n",
      "Deprecated in NumPy 1.20; for more details and guidance: https://numpy.org/devdocs/release/1.20.0-notes.html#deprecations\n",
      "  \"qvalcutoff\":10**(-np.arange(1, 15, dtype=np.float))\n"
     ]
    }
   ],
   "source": [
    "# datasets to run\n",
    "datasetnames = [\"ecoli_colombos\", \"ecoli_dream5\", \"yeast_gpl2529\", \"yeast_dream5\", \"synth_ecoli_regulondb\", \"synth_yeast_macisaac\", \"human_tcga\", \"human_gtex\", \"human_seek_gpl5175\"]\n",
    "\n",
    "# paramexplo_blueprints.py stores for every method the parameters which will be varied using a grid-search approach.\n",
    "%run ../conf/paramexplo_blueprints.py\n",
    "\n",
    "# choose the method to evaluate\n",
    "method_name = \"baseline_permuted\"\n",
    "methodblueprint = blueprints[method_name]"
   ]
  },
  {
   "cell_type": "markdown",
   "metadata": {},
   "source": [
    "Generate different parameter settings using a grid-search."
   ]
  },
  {
   "cell_type": "code",
   "execution_count": 3,
   "metadata": {},
   "outputs": [],
   "source": [
    "params_folder = \"conf/paramexplo/\" + method_name + \"/\"\n",
    "if os.path.exists(\"../\" + params_folder):\n",
    "    shutil.rmtree(\"../\" + params_folder)\n",
    "os.makedirs(\"../\" + params_folder)\n",
    "\n",
    "methodsettings = []\n",
    "method_locations = []\n",
    "i = 0\n",
    "for dynparam_combination in list(itertools.product(*[methodblueprint[\"dynparams\"][param] for param in sorted(methodblueprint[\"dynparams\"].keys())])):\n",
    "    method = {\"params\":{}}\n",
    "    method[\"params\"] = methodblueprint[\"staticparams\"].copy()\n",
    "    method[\"params\"].update(dict(zip(sorted(methodblueprint[\"dynparams\"].keys()), dynparam_combination)))\n",
    "    method[\"location\"] = params_folder + str(i) + \".json\"\n",
    "    method[\"seed\"] = 0\n",
    "\n",
    "    methodsettings.append(method)\n",
    "\n",
    "    json.dump(method, open(\"../\" + method[\"location\"], \"w\"), cls=JSONExtendedEncoder)\n",
    "\n",
    "    method_locations.append(method[\"location\"])\n",
    "\n",
    "    i+=1"
   ]
  },
  {
   "cell_type": "markdown",
   "metadata": {},
   "source": [
    "Now combine the different parameter settings and datasets. Then generate the different python commands to run every parameter setting and dataset in parallel."
   ]
  },
  {
   "cell_type": "code",
   "execution_count": 4,
   "metadata": {},
   "outputs": [],
   "source": [
    "settings_name = \"paramexplo/{method_name}\".format(method_name = method_name)\n",
    "settings = [{\n",
    "        \"dataset_location\":\"conf/datasets/\" + datasetname + \".json\",\n",
    "        \"dataset_name\":datasetname,\n",
    "        \"method_location\":methodsetting[\"location\"],\n",
    "        \"output_folder\":\"results/\" + methodblueprint[\"type\"] + \"/{settings_name}/{i}/\".format(settings_name=settings_name, i=i),\n",
    "        \"settingid\":i\n",
    "    } for i, (datasetname, methodsetting) in enumerate(product(datasetnames, methodsettings))]\n",
    "json.dump(settings, open(\"../conf/settings/{settings_name}.json\".format(settings_name=settings_name), \"w\"))"
   ]
  },
  {
   "cell_type": "code",
   "execution_count": 5,
   "metadata": {},
   "outputs": [],
   "source": [
    "settings_dataset = pd.DataFrame([dict(settingid=setting[\"settingid\"], **json.load(open(\"../\" + setting[\"dataset_location\"]))[\"params\"]) for setting in settings])\n",
    "settings_method = pd.DataFrame([dict(settingid=setting[\"settingid\"], **json.load(open(\"../\" + setting[\"method_location\"]))[\"params\"]) for setting in settings])"
   ]
  },
  {
   "cell_type": "code",
   "execution_count": 6,
   "metadata": {},
   "outputs": [
    {
     "name": "stdout",
     "output_type": "stream",
     "text": [
      "parallel -a tmp/paramexplo/baseline_permuted.txt\n"
     ]
    }
   ],
   "source": [
    "commands = \"\"\n",
    "for i, setting in enumerate(settings):\n",
    "    #commands += \"python scripts/moduledetection.py {method_location} {dataset_location} {output_folder} 0 test\\n\".format(**setting)\n",
    "    commands += \"python3 scripts/\" + methodblueprint[\"type\"] + \".py {method_location} {dataset_location} {output_folder}\\n\".format(**setting)\n",
    "\n",
    "commands_location = \"tmp/{settings_name}.txt\".format(**locals())\n",
    "os.makedirs(\"../\" + os.path.dirname(commands_location), exist_ok=True)\n",
    "with open(\"../\" + commands_location, \"w\") as outfile:\n",
    "    outfile.write(commands)\n",
    "commands_location = \"tmp/{settings_name}.txt\".format(**locals())\n",
    "os.makedirs(os.path.dirname(base_folder + commands_location), exist_ok=True)\n",
    "with open(base_folder + commands_location, \"w\") as outfile:\n",
    "    outfile.write(commands)\n",
    "    \n",
    "#script_location = generate_batchcode(commands_location, settings_name, len(settings), {\"memory\":\"10G\", \"numcores\":1}, \"biclust_comp2\")\n",
    "\n",
    "# this command can be used on most linux computers to run the different parameter settings in parallel\n",
    "print(\"parallel -a \" + commands_location)"
   ]
  },
  {
   "cell_type": "markdown",
   "metadata": {},
   "source": [
    "# Evaluating the method"
   ]
  },
  {
   "cell_type": "markdown",
   "metadata": {},
   "source": [
    "## By comparing with known modules"
   ]
  },
  {
   "cell_type": "code",
   "execution_count": 7,
   "metadata": {},
   "outputs": [],
   "source": [
    "# create pool of processors\n",
    "if \"pool\" in locals().keys():\n",
    "    pool.close()\n",
    "pool = mp.Pool(mp.cpu_count()-1)"
   ]
  },
  {
   "cell_type": "code",
   "execution_count": 8,
   "metadata": {},
   "outputs": [],
   "source": [
    "# settings_filtered = [setting for setting in settings if not setting[\"dataset_name\"].startswith(\"human\")] # only evaluate non-human datasets\n",
    "# display(settings_filtered)"
   ]
  },
  {
   "cell_type": "code",
   "execution_count": 9,
   "metadata": {},
   "outputs": [],
   "source": [
    "settings_filtered = [setting for setting in settings if not setting[\"dataset_name\"].startswith(\"human\")] # only evaluate non-human datasets\n",
    "modeval = ModevalKnownmodules(settings_filtered)\n",
    "modeval.run(pool)"
   ]
  },
  {
   "cell_type": "code",
   "execution_count": 10,
   "metadata": {},
   "outputs": [],
   "source": [
    "modeval.save(settings_name)"
   ]
  },
  {
   "cell_type": "markdown",
   "metadata": {},
   "source": [
    "## Using the coverage of regulators"
   ]
  },
  {
   "cell_type": "code",
   "execution_count": 11,
   "metadata": {},
   "outputs": [],
   "source": [
    "from modulescomparison_baselines import ModevalCoverage"
   ]
  },
  {
   "cell_type": "code",
   "execution_count": 12,
   "metadata": {
    "scrolled": false
   },
   "outputs": [
    {
     "name": "stderr",
     "output_type": "stream",
     "text": [
      "/home/miltondp/projects/labs/greenelab/clustermatch_repos/clustermatch-gene-expr/nbs/moduledetection-evaluation/lib/modulescomparison_baselines.py:319: VisibleDeprecationWarning: Creating an ndarray from ragged nested sequences (which is a list-or-tuple of lists-or-tuples-or ndarrays with different lengths or shapes) is deprecated. If you meant to do this, you must specify 'dtype=object' when creating the ndarray.\n",
      "  _,qvalrow,_,_ = np.array(multipletests(pvalrow))\n",
      "/home/miltondp/software/miniconda3/envs/clustermatch_gene_expr/lib/python3.9/site-packages/pandas/core/arraylike.py:364: RuntimeWarning: divide by zero encountered in log10\n",
      "  result = getattr(ufunc, method)(*inputs, **kwargs)\n",
      "/home/miltondp/projects/labs/greenelab/clustermatch_repos/clustermatch-gene-expr/nbs/moduledetection-evaluation/lib/modulescomparison_baselines.py:319: VisibleDeprecationWarning: Creating an ndarray from ragged nested sequences (which is a list-or-tuple of lists-or-tuples-or ndarrays with different lengths or shapes) is deprecated. If you meant to do this, you must specify 'dtype=object' when creating the ndarray.\n",
      "  _,qvalrow,_,_ = np.array(multipletests(pvalrow))\n",
      "/home/miltondp/software/miniconda3/envs/clustermatch_gene_expr/lib/python3.9/site-packages/pandas/core/arraylike.py:364: RuntimeWarning: divide by zero encountered in log10\n",
      "  result = getattr(ufunc, method)(*inputs, **kwargs)\n",
      "/home/miltondp/projects/labs/greenelab/clustermatch_repos/clustermatch-gene-expr/nbs/moduledetection-evaluation/lib/modulescomparison_baselines.py:319: VisibleDeprecationWarning: Creating an ndarray from ragged nested sequences (which is a list-or-tuple of lists-or-tuples-or ndarrays with different lengths or shapes) is deprecated. If you meant to do this, you must specify 'dtype=object' when creating the ndarray.\n",
      "  _,qvalrow,_,_ = np.array(multipletests(pvalrow))\n",
      "/home/miltondp/software/miniconda3/envs/clustermatch_gene_expr/lib/python3.9/site-packages/pandas/core/arraylike.py:364: RuntimeWarning: divide by zero encountered in log10\n",
      "  result = getattr(ufunc, method)(*inputs, **kwargs)\n",
      "/home/miltondp/projects/labs/greenelab/clustermatch_repos/clustermatch-gene-expr/nbs/moduledetection-evaluation/lib/modulescomparison_baselines.py:319: VisibleDeprecationWarning: Creating an ndarray from ragged nested sequences (which is a list-or-tuple of lists-or-tuples-or ndarrays with different lengths or shapes) is deprecated. If you meant to do this, you must specify 'dtype=object' when creating the ndarray.\n",
      "  _,qvalrow,_,_ = np.array(multipletests(pvalrow))\n",
      "/home/miltondp/software/miniconda3/envs/clustermatch_gene_expr/lib/python3.9/site-packages/pandas/core/arraylike.py:364: RuntimeWarning: divide by zero encountered in log10\n",
      "  result = getattr(ufunc, method)(*inputs, **kwargs)\n",
      "/home/miltondp/projects/labs/greenelab/clustermatch_repos/clustermatch-gene-expr/nbs/moduledetection-evaluation/lib/modulescomparison_baselines.py:319: VisibleDeprecationWarning: Creating an ndarray from ragged nested sequences (which is a list-or-tuple of lists-or-tuples-or ndarrays with different lengths or shapes) is deprecated. If you meant to do this, you must specify 'dtype=object' when creating the ndarray.\n",
      "  _,qvalrow,_,_ = np.array(multipletests(pvalrow))\n",
      "/home/miltondp/software/miniconda3/envs/clustermatch_gene_expr/lib/python3.9/site-packages/pandas/core/arraylike.py:364: RuntimeWarning: divide by zero encountered in log10\n",
      "  result = getattr(ufunc, method)(*inputs, **kwargs)\n",
      "/home/miltondp/projects/labs/greenelab/clustermatch_repos/clustermatch-gene-expr/nbs/moduledetection-evaluation/lib/modulescomparison_baselines.py:319: VisibleDeprecationWarning: Creating an ndarray from ragged nested sequences (which is a list-or-tuple of lists-or-tuples-or ndarrays with different lengths or shapes) is deprecated. If you meant to do this, you must specify 'dtype=object' when creating the ndarray.\n",
      "  _,qvalrow,_,_ = np.array(multipletests(pvalrow))\n",
      "/home/miltondp/software/miniconda3/envs/clustermatch_gene_expr/lib/python3.9/site-packages/pandas/core/arraylike.py:364: RuntimeWarning: divide by zero encountered in log10\n",
      "  result = getattr(ufunc, method)(*inputs, **kwargs)\n",
      "/home/miltondp/projects/labs/greenelab/clustermatch_repos/clustermatch-gene-expr/nbs/moduledetection-evaluation/lib/modulescomparison_baselines.py:319: VisibleDeprecationWarning: Creating an ndarray from ragged nested sequences (which is a list-or-tuple of lists-or-tuples-or ndarrays with different lengths or shapes) is deprecated. If you meant to do this, you must specify 'dtype=object' when creating the ndarray.\n",
      "  _,qvalrow,_,_ = np.array(multipletests(pvalrow))\n",
      "/home/miltondp/software/miniconda3/envs/clustermatch_gene_expr/lib/python3.9/site-packages/pandas/core/arraylike.py:364: RuntimeWarning: divide by zero encountered in log10\n",
      "  result = getattr(ufunc, method)(*inputs, **kwargs)\n",
      "/home/miltondp/projects/labs/greenelab/clustermatch_repos/clustermatch-gene-expr/nbs/moduledetection-evaluation/lib/modulescomparison_baselines.py:319: VisibleDeprecationWarning: Creating an ndarray from ragged nested sequences (which is a list-or-tuple of lists-or-tuples-or ndarrays with different lengths or shapes) is deprecated. If you meant to do this, you must specify 'dtype=object' when creating the ndarray.\n",
      "  _,qvalrow,_,_ = np.array(multipletests(pvalrow))\n",
      "/home/miltondp/software/miniconda3/envs/clustermatch_gene_expr/lib/python3.9/site-packages/pandas/core/arraylike.py:364: RuntimeWarning: divide by zero encountered in log10\n",
      "  result = getattr(ufunc, method)(*inputs, **kwargs)\n",
      "/home/miltondp/projects/labs/greenelab/clustermatch_repos/clustermatch-gene-expr/nbs/moduledetection-evaluation/lib/modulescomparison_baselines.py:319: VisibleDeprecationWarning: Creating an ndarray from ragged nested sequences (which is a list-or-tuple of lists-or-tuples-or ndarrays with different lengths or shapes) is deprecated. If you meant to do this, you must specify 'dtype=object' when creating the ndarray.\n",
      "  _,qvalrow,_,_ = np.array(multipletests(pvalrow))\n",
      "/home/miltondp/projects/labs/greenelab/clustermatch_repos/clustermatch-gene-expr/nbs/moduledetection-evaluation/lib/modulescomparison_baselines.py:319: VisibleDeprecationWarning: Creating an ndarray from ragged nested sequences (which is a list-or-tuple of lists-or-tuples-or ndarrays with different lengths or shapes) is deprecated. If you meant to do this, you must specify 'dtype=object' when creating the ndarray.\n",
      "  _,qvalrow,_,_ = np.array(multipletests(pvalrow))\n",
      "/home/miltondp/software/miniconda3/envs/clustermatch_gene_expr/lib/python3.9/site-packages/pandas/core/arraylike.py:364: RuntimeWarning: divide by zero encountered in log10\n",
      "  result = getattr(ufunc, method)(*inputs, **kwargs)\n",
      "/home/miltondp/software/miniconda3/envs/clustermatch_gene_expr/lib/python3.9/site-packages/pandas/core/arraylike.py:364: RuntimeWarning: divide by zero encountered in log10\n",
      "  result = getattr(ufunc, method)(*inputs, **kwargs)\n",
      "/home/miltondp/projects/labs/greenelab/clustermatch_repos/clustermatch-gene-expr/nbs/moduledetection-evaluation/lib/modulescomparison_baselines.py:319: VisibleDeprecationWarning: Creating an ndarray from ragged nested sequences (which is a list-or-tuple of lists-or-tuples-or ndarrays with different lengths or shapes) is deprecated. If you meant to do this, you must specify 'dtype=object' when creating the ndarray.\n",
      "  _,qvalrow,_,_ = np.array(multipletests(pvalrow))\n",
      "/home/miltondp/software/miniconda3/envs/clustermatch_gene_expr/lib/python3.9/site-packages/pandas/core/arraylike.py:364: RuntimeWarning: divide by zero encountered in log10\n",
      "  result = getattr(ufunc, method)(*inputs, **kwargs)\n",
      "/home/miltondp/projects/labs/greenelab/clustermatch_repos/clustermatch-gene-expr/nbs/moduledetection-evaluation/lib/modulescomparison_baselines.py:319: VisibleDeprecationWarning: Creating an ndarray from ragged nested sequences (which is a list-or-tuple of lists-or-tuples-or ndarrays with different lengths or shapes) is deprecated. If you meant to do this, you must specify 'dtype=object' when creating the ndarray.\n",
      "  _,qvalrow,_,_ = np.array(multipletests(pvalrow))\n",
      "/home/miltondp/software/miniconda3/envs/clustermatch_gene_expr/lib/python3.9/site-packages/pandas/core/arraylike.py:364: RuntimeWarning: divide by zero encountered in log10\n",
      "  result = getattr(ufunc, method)(*inputs, **kwargs)\n"
     ]
    },
    {
     "name": "stderr",
     "output_type": "stream",
     "text": [
      "/home/miltondp/projects/labs/greenelab/clustermatch_repos/clustermatch-gene-expr/nbs/moduledetection-evaluation/lib/modulescomparison_baselines.py:319: VisibleDeprecationWarning: Creating an ndarray from ragged nested sequences (which is a list-or-tuple of lists-or-tuples-or ndarrays with different lengths or shapes) is deprecated. If you meant to do this, you must specify 'dtype=object' when creating the ndarray.\n",
      "  _,qvalrow,_,_ = np.array(multipletests(pvalrow))\n",
      "/home/miltondp/software/miniconda3/envs/clustermatch_gene_expr/lib/python3.9/site-packages/pandas/core/arraylike.py:364: RuntimeWarning: divide by zero encountered in log10\n",
      "  result = getattr(ufunc, method)(*inputs, **kwargs)\n",
      "/home/miltondp/projects/labs/greenelab/clustermatch_repos/clustermatch-gene-expr/nbs/moduledetection-evaluation/lib/modulescomparison_baselines.py:319: VisibleDeprecationWarning: Creating an ndarray from ragged nested sequences (which is a list-or-tuple of lists-or-tuples-or ndarrays with different lengths or shapes) is deprecated. If you meant to do this, you must specify 'dtype=object' when creating the ndarray.\n",
      "  _,qvalrow,_,_ = np.array(multipletests(pvalrow))\n",
      "/home/miltondp/software/miniconda3/envs/clustermatch_gene_expr/lib/python3.9/site-packages/pandas/core/arraylike.py:364: RuntimeWarning: divide by zero encountered in log10\n",
      "  result = getattr(ufunc, method)(*inputs, **kwargs)\n",
      "/home/miltondp/projects/labs/greenelab/clustermatch_repos/clustermatch-gene-expr/nbs/moduledetection-evaluation/lib/modulescomparison_baselines.py:319: VisibleDeprecationWarning: Creating an ndarray from ragged nested sequences (which is a list-or-tuple of lists-or-tuples-or ndarrays with different lengths or shapes) is deprecated. If you meant to do this, you must specify 'dtype=object' when creating the ndarray.\n",
      "  _,qvalrow,_,_ = np.array(multipletests(pvalrow))\n",
      "/home/miltondp/projects/labs/greenelab/clustermatch_repos/clustermatch-gene-expr/nbs/moduledetection-evaluation/lib/modulescomparison_baselines.py:319: VisibleDeprecationWarning: Creating an ndarray from ragged nested sequences (which is a list-or-tuple of lists-or-tuples-or ndarrays with different lengths or shapes) is deprecated. If you meant to do this, you must specify 'dtype=object' when creating the ndarray.\n",
      "  _,qvalrow,_,_ = np.array(multipletests(pvalrow))\n",
      "/home/miltondp/software/miniconda3/envs/clustermatch_gene_expr/lib/python3.9/site-packages/pandas/core/arraylike.py:364: RuntimeWarning: divide by zero encountered in log10\n",
      "  result = getattr(ufunc, method)(*inputs, **kwargs)\n",
      "/home/miltondp/software/miniconda3/envs/clustermatch_gene_expr/lib/python3.9/site-packages/pandas/core/arraylike.py:364: RuntimeWarning: divide by zero encountered in log10\n",
      "  result = getattr(ufunc, method)(*inputs, **kwargs)\n",
      "/home/miltondp/projects/labs/greenelab/clustermatch_repos/clustermatch-gene-expr/nbs/moduledetection-evaluation/lib/modulescomparison_baselines.py:319: VisibleDeprecationWarning: Creating an ndarray from ragged nested sequences (which is a list-or-tuple of lists-or-tuples-or ndarrays with different lengths or shapes) is deprecated. If you meant to do this, you must specify 'dtype=object' when creating the ndarray.\n",
      "  _,qvalrow,_,_ = np.array(multipletests(pvalrow))\n",
      "/home/miltondp/software/miniconda3/envs/clustermatch_gene_expr/lib/python3.9/site-packages/pandas/core/arraylike.py:364: RuntimeWarning: divide by zero encountered in log10\n",
      "  result = getattr(ufunc, method)(*inputs, **kwargs)\n",
      "/home/miltondp/projects/labs/greenelab/clustermatch_repos/clustermatch-gene-expr/nbs/moduledetection-evaluation/lib/modulescomparison_baselines.py:319: VisibleDeprecationWarning: Creating an ndarray from ragged nested sequences (which is a list-or-tuple of lists-or-tuples-or ndarrays with different lengths or shapes) is deprecated. If you meant to do this, you must specify 'dtype=object' when creating the ndarray.\n",
      "  _,qvalrow,_,_ = np.array(multipletests(pvalrow))\n",
      "/home/miltondp/software/miniconda3/envs/clustermatch_gene_expr/lib/python3.9/site-packages/pandas/core/arraylike.py:364: RuntimeWarning: divide by zero encountered in log10\n",
      "  result = getattr(ufunc, method)(*inputs, **kwargs)\n",
      "/home/miltondp/projects/labs/greenelab/clustermatch_repos/clustermatch-gene-expr/nbs/moduledetection-evaluation/lib/modulescomparison_baselines.py:319: VisibleDeprecationWarning: Creating an ndarray from ragged nested sequences (which is a list-or-tuple of lists-or-tuples-or ndarrays with different lengths or shapes) is deprecated. If you meant to do this, you must specify 'dtype=object' when creating the ndarray.\n",
      "  _,qvalrow,_,_ = np.array(multipletests(pvalrow))\n",
      "/home/miltondp/software/miniconda3/envs/clustermatch_gene_expr/lib/python3.9/site-packages/pandas/core/arraylike.py:364: RuntimeWarning: divide by zero encountered in log10\n",
      "  result = getattr(ufunc, method)(*inputs, **kwargs)\n",
      "/home/miltondp/projects/labs/greenelab/clustermatch_repos/clustermatch-gene-expr/nbs/moduledetection-evaluation/lib/modulescomparison_baselines.py:319: VisibleDeprecationWarning: Creating an ndarray from ragged nested sequences (which is a list-or-tuple of lists-or-tuples-or ndarrays with different lengths or shapes) is deprecated. If you meant to do this, you must specify 'dtype=object' when creating the ndarray.\n",
      "  _,qvalrow,_,_ = np.array(multipletests(pvalrow))\n",
      "/home/miltondp/software/miniconda3/envs/clustermatch_gene_expr/lib/python3.9/site-packages/pandas/core/arraylike.py:364: RuntimeWarning: divide by zero encountered in log10\n",
      "  result = getattr(ufunc, method)(*inputs, **kwargs)\n",
      "/home/miltondp/projects/labs/greenelab/clustermatch_repos/clustermatch-gene-expr/nbs/moduledetection-evaluation/lib/modulescomparison_baselines.py:319: VisibleDeprecationWarning: Creating an ndarray from ragged nested sequences (which is a list-or-tuple of lists-or-tuples-or ndarrays with different lengths or shapes) is deprecated. If you meant to do this, you must specify 'dtype=object' when creating the ndarray.\n",
      "  _,qvalrow,_,_ = np.array(multipletests(pvalrow))\n",
      "/home/miltondp/software/miniconda3/envs/clustermatch_gene_expr/lib/python3.9/site-packages/pandas/core/arraylike.py:364: RuntimeWarning: divide by zero encountered in log10\n",
      "  result = getattr(ufunc, method)(*inputs, **kwargs)\n",
      "/home/miltondp/projects/labs/greenelab/clustermatch_repos/clustermatch-gene-expr/nbs/moduledetection-evaluation/lib/modulescomparison_baselines.py:319: VisibleDeprecationWarning: Creating an ndarray from ragged nested sequences (which is a list-or-tuple of lists-or-tuples-or ndarrays with different lengths or shapes) is deprecated. If you meant to do this, you must specify 'dtype=object' when creating the ndarray.\n",
      "  _,qvalrow,_,_ = np.array(multipletests(pvalrow))\n",
      "/home/miltondp/software/miniconda3/envs/clustermatch_gene_expr/lib/python3.9/site-packages/pandas/core/arraylike.py:364: RuntimeWarning: divide by zero encountered in log10\n",
      "  result = getattr(ufunc, method)(*inputs, **kwargs)\n",
      "/home/miltondp/projects/labs/greenelab/clustermatch_repos/clustermatch-gene-expr/nbs/moduledetection-evaluation/lib/modulescomparison_baselines.py:319: VisibleDeprecationWarning: Creating an ndarray from ragged nested sequences (which is a list-or-tuple of lists-or-tuples-or ndarrays with different lengths or shapes) is deprecated. If you meant to do this, you must specify 'dtype=object' when creating the ndarray.\n",
      "  _,qvalrow,_,_ = np.array(multipletests(pvalrow))\n",
      "/home/miltondp/software/miniconda3/envs/clustermatch_gene_expr/lib/python3.9/site-packages/pandas/core/arraylike.py:364: RuntimeWarning: divide by zero encountered in log10\n",
      "  result = getattr(ufunc, method)(*inputs, **kwargs)\n",
      "/home/miltondp/projects/labs/greenelab/clustermatch_repos/clustermatch-gene-expr/nbs/moduledetection-evaluation/lib/modulescomparison_baselines.py:319: VisibleDeprecationWarning: Creating an ndarray from ragged nested sequences (which is a list-or-tuple of lists-or-tuples-or ndarrays with different lengths or shapes) is deprecated. If you meant to do this, you must specify 'dtype=object' when creating the ndarray.\n",
      "  _,qvalrow,_,_ = np.array(multipletests(pvalrow))\n",
      "/home/miltondp/software/miniconda3/envs/clustermatch_gene_expr/lib/python3.9/site-packages/pandas/core/arraylike.py:364: RuntimeWarning: divide by zero encountered in log10\n",
      "  result = getattr(ufunc, method)(*inputs, **kwargs)\n"
     ]
    },
    {
     "name": "stderr",
     "output_type": "stream",
     "text": [
      "/home/miltondp/projects/labs/greenelab/clustermatch_repos/clustermatch-gene-expr/nbs/moduledetection-evaluation/lib/modulescomparison_baselines.py:319: VisibleDeprecationWarning: Creating an ndarray from ragged nested sequences (which is a list-or-tuple of lists-or-tuples-or ndarrays with different lengths or shapes) is deprecated. If you meant to do this, you must specify 'dtype=object' when creating the ndarray.\n",
      "  _,qvalrow,_,_ = np.array(multipletests(pvalrow))\n",
      "/home/miltondp/software/miniconda3/envs/clustermatch_gene_expr/lib/python3.9/site-packages/pandas/core/arraylike.py:364: RuntimeWarning: divide by zero encountered in log10\n",
      "  result = getattr(ufunc, method)(*inputs, **kwargs)\n",
      "/home/miltondp/projects/labs/greenelab/clustermatch_repos/clustermatch-gene-expr/nbs/moduledetection-evaluation/lib/modulescomparison_baselines.py:319: VisibleDeprecationWarning: Creating an ndarray from ragged nested sequences (which is a list-or-tuple of lists-or-tuples-or ndarrays with different lengths or shapes) is deprecated. If you meant to do this, you must specify 'dtype=object' when creating the ndarray.\n",
      "  _,qvalrow,_,_ = np.array(multipletests(pvalrow))\n",
      "/home/miltondp/software/miniconda3/envs/clustermatch_gene_expr/lib/python3.9/site-packages/pandas/core/arraylike.py:364: RuntimeWarning: divide by zero encountered in log10\n",
      "  result = getattr(ufunc, method)(*inputs, **kwargs)\n",
      "/home/miltondp/projects/labs/greenelab/clustermatch_repos/clustermatch-gene-expr/nbs/moduledetection-evaluation/lib/modulescomparison_baselines.py:319: VisibleDeprecationWarning: Creating an ndarray from ragged nested sequences (which is a list-or-tuple of lists-or-tuples-or ndarrays with different lengths or shapes) is deprecated. If you meant to do this, you must specify 'dtype=object' when creating the ndarray.\n",
      "  _,qvalrow,_,_ = np.array(multipletests(pvalrow))\n",
      "/home/miltondp/software/miniconda3/envs/clustermatch_gene_expr/lib/python3.9/site-packages/pandas/core/arraylike.py:364: RuntimeWarning: divide by zero encountered in log10\n",
      "  result = getattr(ufunc, method)(*inputs, **kwargs)\n"
     ]
    }
   ],
   "source": [
    "# built a pool of processors\n",
    "if \"pool\" in locals().keys():\n",
    "    pool.close()\n",
    "pool = mp.Pool(mp.cpu_count()-1)"
   ]
  },
  {
   "cell_type": "code",
   "execution_count": 13,
   "metadata": {},
   "outputs": [
    {
     "name": "stdout",
     "output_type": "stream",
     "text": [
      "Evaluating a total of 3 settings.\n"
     ]
    }
   ],
   "source": [
    "settings_filtered = [setting for setting in settings if setting[\"dataset_name\"].startswith(\"human\")] # only evaluate human datasets\n",
    "modeval = ModevalCoverage(settings_filtered)\n",
    "modeval.run(pool)"
   ]
  },
  {
   "cell_type": "code",
   "execution_count": 14,
   "metadata": {},
   "outputs": [],
   "source": [
    "modeval.save(settings_name)"
   ]
  },
  {
   "cell_type": "code",
   "execution_count": 15,
   "metadata": {},
   "outputs": [],
   "source": [
    "modeval.load(settings_name)"
   ]
  },
  {
   "cell_type": "markdown",
   "metadata": {},
   "source": [
    "## Comparing with other methods"
   ]
  },
  {
   "cell_type": "code",
   "execution_count": 16,
   "metadata": {},
   "outputs": [],
   "source": [
    "def score_method(scores):\n",
    "    methodscores = []\n",
    "    for ((datasetoi, goldstandardoi), scoresoi), ((datasetor, goldstandardor), scoresor) in product(scores.groupby([\"datasetname\", \"goldstandard\"]), scores.groupby([\"datasetname\", \"goldstandard\"])):\n",
    "        if (datasetor.split(\"_\")[0]==\"synth\" and datasetoi.split(\"_\")[0]!=\"synth\") or (datasetor.split(\"_\")[0]!=\"synth\" and datasetoi.split(\"_\")[0]==\"synth\"):\n",
    "            continue\n",
    "                \n",
    "        if (goldstandardoi.split(\"#\")[-1] != goldstandardor.split(\"#\")[-1]):\n",
    "            if (datasetoi.startswith(\"human\") != datasetor.startswith(\"human\")):\n",
    "                \"\"\n",
    "            else:\n",
    "                continue\n",
    "\n",
    "        # find the most optimal method parameters in the reference dataset (test dataset)\n",
    "        bestparams = scoresor[paramsoi].loc[scoresor[\"score\"].idxmax()]\n",
    "        \n",
    "        try:\n",
    "            rowids = scoresoi.index[np.where(np.all([scoresoi[param] == paramvalue for param, paramvalue in bestparams.items()], 0))[0]]\n",
    "        except:\n",
    "            print(scoresoi)\n",
    "\n",
    "        # now find these parameters in the dataset of interest (training dataset)\n",
    "        rowids = scoresoi.index[np.where(np.all([scoresoi[param] == paramvalue for param, paramvalue in bestparams.items()], 0))[0]]\n",
    "            \n",
    "        if len(rowids) == 0:\n",
    "            print(\"parameters could not be matched!!\", datasetoi, datasetor)\n",
    "            print(bestparams)\n",
    "            print([scoresoi[param] == paramvalue for param, paramvalue in bestparams.items()])\n",
    "        if len(rowids) > 1:\n",
    "            print(datasetoi)\n",
    "            print(\"multiple matched parameters\")\n",
    "            print(scoresoi.loc[rowids][paramsoi])\n",
    "\n",
    "        methodscores.append({\n",
    "            \"datasetoi\":datasetoi,\n",
    "            \"datasetor\":datasetor,\n",
    "            \"score\":scoresoi.loc[rowids,\"score\"].max(),\n",
    "            \"method\":methodname,\n",
    "            \"goldstandardoi\":goldstandardoi,\n",
    "            \"goldstandardor\":goldstandardor,\n",
    "            \"ofinterest\":datasetoi + \"#\" + goldstandardoi,\n",
    "            \"ofreference\":datasetor + \"#\" + goldstandardor,\n",
    "            \"runningtime\":scoresoi.loc[rowids, \"runningtime\"].mean() if \"runningtime\" in scoresoi.columns else 0,\n",
    "            \"moduledef\":scoresoi.loc[rowids, \"moduledef\"].tolist()[0],\n",
    "            \"organismoi\":scoresoi.loc[rowids, \"organism\"].tolist()[0],  \n",
    "        })\n",
    "    \n",
    "    return pd.DataFrame(methodscores)"
   ]
  },
  {
   "cell_type": "code",
   "execution_count": 17,
   "metadata": {},
   "outputs": [],
   "source": [
    "methodnames = [method_name]"
   ]
  },
  {
   "cell_type": "code",
   "execution_count": 18,
   "metadata": {},
   "outputs": [
    {
     "name": "stdout",
     "output_type": "stream",
     "text": [
      "baseline_permuted\n"
     ]
    }
   ],
   "source": [
    "finalscores = []\n",
    "for methodname in methodnames:\n",
    "    settings_name = \"paramexplo/\" + methodname\n",
    "    settings = json.load(open(\"../conf/settings/{}.json\".format(settings_name)))\n",
    "    settings_dataset = pd.DataFrame([dict(settingid=settingid, **json.load(open(\"../\" + setting[\"dataset_location\"]))[\"params\"]) for settingid, setting in enumerate(settings)])\n",
    "    settings_method = pd.DataFrame([dict(settingid=settingid, **json.load(open(\"../\" + setting[\"method_location\"]))[\"params\"]) for settingid, setting in enumerate(settings)])\n",
    "    \n",
    "    print(methodname)\n",
    "    paramsoi = methodparamsoi[methodname]\n",
    "\n",
    "    scores = pd.DataFrame()\n",
    "    \n",
    "    modeval = ModevalKnownmodules(settings_name)\n",
    "    modeval.load(settings_name)\n",
    "    modeval.scores[\"score\"] = modeval.scores[\"F1rprr\"]\n",
    "    modeval.scores[\"moduledef\"] = [modulesname if modulesname in [\"minimal\", \"strict\"] else \"interconnected\" for modulesname in modeval.scores[\"knownmodules_name\"]]\n",
    "    modeval.scores = modeval.scores.merge(settings_dataset, on=\"settingid\").merge(settings_method, on=\"settingid\")\n",
    "    scores = scores.append(modeval.scores, ignore_index=True)\n",
    "    \n",
    "    modeval = ModevalCoverage(settings_name)\n",
    "    modeval.load(settings_name)\n",
    "    modeval.scores[\"score\"] = modeval.scores[\"aucodds\"]\n",
    "    modeval.scores = modeval.scores.merge(settings_dataset, on=\"settingid\").merge(settings_method, on=\"settingid\")\n",
    "    scores = scores.append(modeval.scores, ignore_index=True)\n",
    "    \n",
    "    methodscores = score_method(scores)\n",
    "    \n",
    "    methodscores[\"organismnetoi\"] = [dataset.split(\"_\")[0] for dataset in methodscores[\"goldstandardoi\"]]\n",
    "    methodscores[\"organismnetor\"] = [dataset.split(\"_\")[0] for dataset in methodscores[\"goldstandardor\"]]\n",
    "\n",
    "    finalscores.append(methodscores)\n",
    "finalscores = pd.concat(finalscores, ignore_index=True)"
   ]
  },
  {
   "cell_type": "code",
   "execution_count": 19,
   "metadata": {},
   "outputs": [],
   "source": [
    "def add_weights(scores):\n",
    "    weights = []\n",
    "    scores[\"moduledef\"] = scores[\"moduledef\"].fillna(\"\")\n",
    "    for organismoi, subscores in scores.groupby(\"organismoi\"):\n",
    "        moduledef_weights = 1/subscores.groupby(\"moduledef\")[\"score\"].count()\n",
    "        for moduledef, weight in moduledef_weights.items():\n",
    "            weights.append({\n",
    "                    \"organism\":organismoi,\n",
    "                    \"moduledef\":moduledef,\n",
    "                    \"weight\":weight / len(moduledef_weights)\n",
    "                })\n",
    "    weights = pd.DataFrame(weights).set_index([\"organism\", \"moduledef\"])[\"weight\"]\n",
    "    \n",
    "    scores[\"weight\"] = weights.loc[pd.Index(scores[[\"organismoi\", \"moduledef\"]])].tolist()\n",
    "    \n",
    "    return scores"
   ]
  },
  {
   "cell_type": "code",
   "execution_count": 20,
   "metadata": {},
   "outputs": [
    {
     "name": "stderr",
     "output_type": "stream",
     "text": [
      "/tmp/ipykernel_143585/4089861130.py:3: SettingWithCopyWarning: \n",
      "A value is trying to be set on a copy of a slice from a DataFrame.\n",
      "Try using .loc[row_indexer,col_indexer] = value instead\n",
      "\n",
      "See the caveats in the documentation: https://pandas.pydata.org/pandas-docs/stable/user_guide/indexing.html#returning-a-view-versus-a-copy\n",
      "  scores[\"moduledef\"] = scores[\"moduledef\"].fillna(\"\")\n",
      "/tmp/ipykernel_143585/4089861130.py:14: SettingWithCopyWarning: \n",
      "A value is trying to be set on a copy of a slice from a DataFrame.\n",
      "Try using .loc[row_indexer,col_indexer] = value instead\n",
      "\n",
      "See the caveats in the documentation: https://pandas.pydata.org/pandas-docs/stable/user_guide/indexing.html#returning-a-view-versus-a-copy\n",
      "  scores[\"weight\"] = weights.loc[pd.Index(scores[[\"organismoi\", \"moduledef\"]])].tolist()\n"
     ]
    }
   ],
   "source": [
    "trainingscores_ = add_weights(finalscores.loc[(finalscores[\"ofinterest\"] == finalscores[\"ofreference\"])])\n",
    "testscores_ = add_weights(finalscores.loc[(finalscores[\"ofinterest\"] != finalscores[\"ofreference\"]) & (finalscores[\"organismnetoi\"] != finalscores[\"organismnetor\"])])\n",
    "\n",
    "trainingscores = trainingscores_.groupby(\"method\").apply(lambda x: np.average(x.score, weights=x.weight))\n",
    "testscores = testscores_.groupby(\"method\").apply(lambda x: np.average(x.score, weights=x.weight))"
   ]
  },
  {
   "cell_type": "code",
   "execution_count": 21,
   "metadata": {},
   "outputs": [],
   "source": [
    "testscores_.to_csv(\"../results/testscores_.tsv\", sep=\"\\t\")\n",
    "trainingscores_.to_csv(\"../results/trainingscores_.tsv\", sep=\"\\t\")"
   ]
  },
  {
   "cell_type": "code",
   "execution_count": 22,
   "metadata": {},
   "outputs": [
    {
     "data": {
      "text/plain": [
       "method\n",
       "baseline_permuted    0.008491\n",
       "dtype: float64"
      ]
     },
     "execution_count": 22,
     "metadata": {},
     "output_type": "execute_result"
    }
   ],
   "source": [
    "trainingscores"
   ]
  },
  {
   "cell_type": "code",
   "execution_count": 23,
   "metadata": {},
   "outputs": [
    {
     "data": {
      "image/png": "[encoded data removed]",
      "text/plain": [
       "<Figure size 36x360 with 1 Axes>"
      ]
     },
     "metadata": {
      "needs_background": "light"
     },
     "output_type": "display_data"
    }
   ],
   "source": [
    "fig, ax = subplots(figsize=(len(trainingscores)/2, 5))\n",
    "\n",
    "methodorder = testscores.sort_values(ascending=False).index\n",
    "\n",
    "ax.bar(range(len(methodorder)), trainingscores[methodorder], color=\"grey\")\n",
    "ax.bar(range(len(methodorder)), testscores[methodorder], color=\"#333333\")\n",
    "ax.set_xlim(-0.2, len(methodorder))\n",
    "ax.set_xticks(np.arange(len(methodorder))+0.4)\n",
    "ax.set_xticklabels(methodorder, rotation=45, ha=\"right\", va=\"top\")\n",
    "\"\"\n",
    "\n",
    "\n",
    "ax.tick_params(labelsize=14)"
   ]
  },
  {
   "cell_type": "code",
   "execution_count": null,
   "metadata": {},
   "outputs": [],
   "source": []
  }
 ],
 "metadata": {
  "kernelspec": {
   "display_name": "Python 3 (ipykernel)",
   "language": "python",
   "name": "python3"
  },
  "language_info": {
   "codemirror_mode": {
    "name": "ipython",
    "version": 3
   },
   "file_extension": ".py",
   "mimetype": "text/x-python",
   "name": "python",
   "nbconvert_exporter": "python",
   "pygments_lexer": "ipython3",
   "version": "3.9.6"
  },
  "toc": {
   "base_numbering": 1,
   "nav_menu": {},
   "number_sections": true,
   "sideBar": true,
   "skip_h1_title": false,
   "title_cell": "Table of Contents",
   "title_sidebar": "Contents",
   "toc_cell": false,
   "toc_position": {},
   "toc_section_display": true,
   "toc_window_display": false
  }
 },
 "nbformat": 4,
 "nbformat_minor": 1
}
