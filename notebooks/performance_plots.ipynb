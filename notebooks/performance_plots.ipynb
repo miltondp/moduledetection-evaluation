{
 "cells": [
  {
   "cell_type": "markdown",
   "metadata": {},
   "source": [
    "# Overall performance of module detection methods"
   ]
  },
  {
   "cell_type": "code",
   "execution_count": 1,
   "metadata": {
    "scrolled": true
   },
   "outputs": [],
   "source": [
    "import sys\n",
    "import os\n",
    "# sys.path.insert(0,os.path.abspath(\"../lib/\"))\n",
    "\n",
    "import json\n",
    "\n",
    "from util import JSONExtendedEncoder\n",
    "\n",
    "%load_ext autoreload\n",
    "%autoreload 2\n",
    "\n",
    "%matplotlib inline\n",
    "from matplotlib.pyplot import *\n",
    "\n",
    "import pandas as pd\n",
    "import numpy as np\n",
    "\n",
    "import multiprocessing as mp\n",
    "\n",
    "from itertools import product\n",
    "\n",
    "import itertools\n",
    "import shutil\n",
    "\n",
    "import os\n",
    "\n",
    "conf_folder = \"conf/\""
   ]
  },
  {
   "cell_type": "markdown",
   "metadata": {
    "tags": []
   },
   "source": [
    "# Settings"
   ]
  },
  {
   "cell_type": "code",
   "execution_count": 2,
   "metadata": {},
   "outputs": [],
   "source": [
    "# N_JOBS = 1\n",
    "# N_JOBS = mp.cpu_count()-1"
   ]
  },
  {
   "cell_type": "code",
   "execution_count": 3,
   "metadata": {},
   "outputs": [],
   "source": [
    "method_name = None  # \"agglom_clustermatch\""
   ]
  },
  {
   "cell_type": "code",
   "execution_count": 4,
   "metadata": {},
   "outputs": [],
   "source": [
    "assert method_name is not None, \"You have to specify a method_name\""
   ]
  },
  {
   "cell_type": "markdown",
   "metadata": {
    "tags": []
   },
   "source": [
    "# Running a method on different parameter settings and datasets"
   ]
  },
  {
   "cell_type": "markdown",
   "metadata": {},
   "source": [
    "Note: If you downloaded the results from zenodo, you don't need to rerun this for \"dummy\", \"agglom\", \"ica_zscore\", \"spectral_biclust\" and \"meanshift\""
   ]
  },
  {
   "cell_type": "markdown",
   "metadata": {},
   "source": [
    "The following code will explore the parameters of a module detection method on every dataset using a grid-search approach."
   ]
  },
  {
   "cell_type": "markdown",
   "metadata": {},
   "source": [
    "If you want to run your own method, you should wrap it into a python function and add its parameters to `conf/paramexplo_blueprints.py`. We will show the whole workflow here for a \"dummy\"  (but fast) clustering method, which will simply group genes randomly."
   ]
  },
  {
   "cell_type": "markdown",
   "metadata": {},
   "source": [
    "Every module detection method is wrapped in a python function (see `scripts/moduledetection.py`)\n",
    "\n",
    "Because module detection methods usually take a while to run, we generate the files necessary to run a method on the several parameter settings and datasets here. These can then be easily called from the commandline, for example on a computer cluster or locally using GNU `parallel`.\n",
    "\n",
    "This function will be called by scripts/moduledetection.py , which will save the modules in the correct format along with additional run information (such as running times)."
   ]
  },
  {
   "cell_type": "code",
   "execution_count": 5,
   "metadata": {},
   "outputs": [],
   "source": [
    "# datasets to run\n",
    "datasetnames = [\n",
    "    \"ecoli_colombos\",\n",
    "    \"ecoli_dream5\",\n",
    "    \"yeast_gpl2529\",\n",
    "    \"yeast_dream5\",\n",
    "    \"synth_ecoli_regulondb\",\n",
    "    \"synth_yeast_macisaac\",\n",
    "    \"human_tcga\",\n",
    "    \"human_gtex\",\n",
    "    \"human_seek_gpl5175\",\n",
    "    \"ecoli_precise2\"\n",
    "]\n",
    "\n",
    "# choose the method to evaluate\n",
    "# method_name = \"agglom_pearson_abs\" # use the dummy method to check if everything works correctly\n",
    "# method_name = \"agglom\" # this method runs very fast, and has the best performance among clustering methods\n",
    "# method_name = \"ica_zscore\" # this method runs very slow, but has approx. the highest performance in the benchmark\n",
    "# method_name = \"spectral_biclust\" # top biclustering method\n",
    "# method_name = \"meanshift\""
   ]
  },
  {
   "cell_type": "markdown",
   "metadata": {},
   "source": [
    "To add your own method, create a function with \"your_method_name\" in the `lib/clustering.py` file (or any other file as long as it's imported in `scripts/moduledetection.py`.\n",
    "This function should accept an `E` object (which is a dataframe with genes in columns) and any additional parameters\n",
    "Then add reasonable parameter setting of your method to `conf/paramexplo_blueprints.py`."
   ]
  },
  {
   "cell_type": "markdown",
   "metadata": {},
   "source": [
    "method_name = \"your_method_name\""
   ]
  },
  {
   "cell_type": "code",
   "execution_count": 6,
   "metadata": {},
   "outputs": [],
   "source": [
    "# paramexplo_blueprints.py stores for every method the parameters which will be varied using a grid-search approach.\n",
    "%run ../conf/paramexplo_blueprints.py\n",
    "methodblueprint = blueprints[method_name]"
   ]
  },
  {
   "cell_type": "code",
   "execution_count": 7,
   "metadata": {},
   "outputs": [
    {
     "data": {
      "text/plain": [
       "{'staticparams': {'method': 'agglom_clustermatch',\n",
       "  'simdist_function': 'clustermatch'},\n",
       " 'dynparams': {'linkage': ['complete', 'average'],\n",
       "  'k': array([ 25.,  50.,  75., 100., 125., 150., 175., 200., 225., 250., 275.,\n",
       "         300.])},\n",
       " 'type': 'moduledetection'}"
      ]
     },
     "execution_count": 7,
     "metadata": {},
     "output_type": "execute_result"
    }
   ],
   "source": [
    "methodblueprint"
   ]
  },
  {
   "cell_type": "markdown",
   "metadata": {},
   "source": [
    "Generate different parameter settings using a grid-search."
   ]
  },
  {
   "cell_type": "code",
   "execution_count": 8,
   "metadata": {},
   "outputs": [],
   "source": [
    "params_folder = \"conf/paramexplo/\" + method_name + \"/\"\n",
    "if os.path.exists(\"../\" + params_folder):\n",
    "    shutil.rmtree(\"../\" + params_folder)\n",
    "os.makedirs(\"../\" + params_folder)\n",
    "\n",
    "methodsettings = []\n",
    "method_locations = []\n",
    "i = 0\n",
    "for dynparam_combination in list(itertools.product(*[methodblueprint[\"dynparams\"][param] for param in sorted(methodblueprint[\"dynparams\"].keys())])):\n",
    "    method = {\"params\":{}}\n",
    "    method[\"params\"] = methodblueprint[\"staticparams\"].copy()\n",
    "    method[\"params\"].update(dict(zip(sorted(methodblueprint[\"dynparams\"].keys()), dynparam_combination)))\n",
    "    method[\"location\"] = params_folder + str(i) + \".json\"\n",
    "    method[\"seed\"] = 0\n",
    "\n",
    "    methodsettings.append(method)\n",
    "\n",
    "    json.dump(method, open(\"../\" + method[\"location\"], \"w\"), cls=JSONExtendedEncoder)\n",
    "\n",
    "    method_locations.append(method[\"location\"])\n",
    "\n",
    "    i+=1"
   ]
  },
  {
   "cell_type": "markdown",
   "metadata": {},
   "source": [
    "Now combine the different parameter settings and datasets. Then generate the different python commands to run every parameter setting and dataset in parallel."
   ]
  },
  {
   "cell_type": "code",
   "execution_count": 9,
   "metadata": {},
   "outputs": [],
   "source": [
    "settings_name = \"paramexplo/{method_name}\".format(method_name = method_name)\n",
    "settings = []\n",
    "for datasetname in datasetnames:\n",
    "    for setting_ix, methodsetting in enumerate(methodsettings):\n",
    "        settingid = datasetname + \"_\" + str(setting_ix)\n",
    "        settings.append({\n",
    "            \"dataset_location\":\"conf/datasets/\" + datasetname + \".json\",\n",
    "            \"dataset_name\":datasetname,\n",
    "            \"method_location\":methodsetting[\"location\"],\n",
    "            \"output_folder\":\"results/\" + methodblueprint[\"type\"] + \"/{settings_name}/{settingid}/\".format(settings_name=settings_name, settingid=settingid),\n",
    "            \"settingid\":settingid\n",
    "        })\n",
    "json.dump(settings, open(\"../conf/settings/{settings_name}.json\".format(settings_name=settings_name), \"w\"))"
   ]
  },
  {
   "cell_type": "code",
   "execution_count": 10,
   "metadata": {},
   "outputs": [],
   "source": [
    "settings_dataset = pd.DataFrame([dict(settingid=setting[\"settingid\"], **json.load(open(\"../\" + setting[\"dataset_location\"]))[\"params\"]) for setting in settings])\n",
    "settings_method = pd.DataFrame([dict(settingid=setting[\"settingid\"], **json.load(open(\"../\" + setting[\"method_location\"]))[\"params\"]) for setting in settings])"
   ]
  },
  {
   "cell_type": "code",
   "execution_count": 11,
   "metadata": {},
   "outputs": [],
   "source": [
    "# commands = \"\"\n",
    "# for i, setting in enumerate(settings):\n",
    "#     #commands += \"python scripts/moduledetection.py {method_location} {dataset_location} {output_folder} 0 test\\n\".format(**setting)\n",
    "#     commands += \"python3 scripts/\" + methodblueprint[\"type\"] + \".py {method_location} {dataset_location} {output_folder}\\n\".format(**setting)\n",
    "\n",
    "# commands_location = \"tmp/{settings_name}.txt\".format(**locals())\n",
    "# os.makedirs(\"../\" + os.path.dirname(commands_location), exist_ok=True)\n",
    "# with open(\"../\" + commands_location, \"w\") as outfile:\n",
    "#     outfile.write(commands)\n",
    "# commands_location = \"tmp/{settings_name}.txt\".format(**locals())\n",
    "# os.makedirs(os.path.dirname(\"../tmp/\" + commands_location), exist_ok=True)\n",
    "# with open(\"../tmp/\" + commands_location, \"w\") as outfile:\n",
    "#     outfile.write(commands)\n",
    "    \n",
    "# #script_location = generate_batchcode(commands_location, settings_name, len(settings), {\"memory\":\"10G\", \"numcores\":1}, \"biclust_comp2\")\n",
    "\n",
    "# # this command can be used on most linux computers to run the different parameter settings in parallel\n",
    "# print(\"parallel -j 4 -a \" + commands_location)"
   ]
  },
  {
   "cell_type": "markdown",
   "metadata": {},
   "source": [
    "# Evaluating the method"
   ]
  },
  {
   "cell_type": "code",
   "execution_count": 12,
   "metadata": {},
   "outputs": [],
   "source": [
    "from modulescomparison import ModevalKnownmodules, ModevalCoverage"
   ]
  },
  {
   "cell_type": "markdown",
   "metadata": {},
   "source": [
    "Note: If you downloaded the results from zenodo, you don't need to rerun this for \"dummy\", \"agglom\", \"ica_zscore\", \"spectral_biclust\" and \"meanshift\""
   ]
  },
  {
   "cell_type": "markdown",
   "metadata": {},
   "source": [
    "## By comparing with known modules"
   ]
  },
  {
   "cell_type": "markdown",
   "metadata": {},
   "source": [
    "Evaluate by comparing with known modules"
   ]
  },
  {
   "cell_type": "code",
   "execution_count": 13,
   "metadata": {},
   "outputs": [],
   "source": [
    "# # create pool of processors\n",
    "# if \"pool\" in locals().keys():\n",
    "#     pool.close()\n",
    "# pool = mp.Pool(N_JOBS)"
   ]
  },
  {
   "cell_type": "code",
   "execution_count": 14,
   "metadata": {},
   "outputs": [],
   "source": [
    "# settings_filtered = [setting for setting in settings if not setting[\"dataset_name\"].startswith(\"human\")] # only evaluate non-human datasets\n",
    "# modeval = ModevalKnownmodules(settings_filtered, baseline = True)"
   ]
  },
  {
   "cell_type": "code",
   "execution_count": 15,
   "metadata": {},
   "outputs": [],
   "source": [
    "# modeval.run(pool)\n",
    "# modeval.save(settings_name)"
   ]
  },
  {
   "cell_type": "code",
   "execution_count": 16,
   "metadata": {},
   "outputs": [],
   "source": [
    "# modeval.load(settings_name)"
   ]
  },
  {
   "cell_type": "code",
   "execution_count": 17,
   "metadata": {},
   "outputs": [],
   "source": [
    "# modeval.scores"
   ]
  },
  {
   "cell_type": "markdown",
   "metadata": {},
   "source": [
    "## Using the coverage of regulators"
   ]
  },
  {
   "cell_type": "code",
   "execution_count": 18,
   "metadata": {},
   "outputs": [],
   "source": [
    "# # create pool of processors\n",
    "# if \"pool\" in locals().keys():\n",
    "#     pool.close()\n",
    "# pool = mp.Pool(N_JOBS)"
   ]
  },
  {
   "cell_type": "code",
   "execution_count": 19,
   "metadata": {},
   "outputs": [],
   "source": [
    "# settings_filtered = [setting for setting in settings if setting[\"dataset_name\"].startswith(\"human\")] # only evaluate human datasets\n",
    "# modeval = ModevalCoverage(settings_filtered, baseline = True)"
   ]
  },
  {
   "cell_type": "code",
   "execution_count": 20,
   "metadata": {},
   "outputs": [],
   "source": [
    "# modeval.run(pool)\n",
    "# modeval.save(settings_name)"
   ]
  },
  {
   "cell_type": "code",
   "execution_count": 21,
   "metadata": {},
   "outputs": [],
   "source": [
    "# modeval.load(settings_name)"
   ]
  },
  {
   "cell_type": "code",
   "execution_count": 22,
   "metadata": {},
   "outputs": [],
   "source": [
    "# modeval.scores"
   ]
  },
  {
   "cell_type": "markdown",
   "metadata": {},
   "source": [
    "## Comparing with other methods"
   ]
  },
  {
   "cell_type": "markdown",
   "metadata": {},
   "source": [
    "This compares all methods as was done in the paper. Essentially, we will calculate test scores by choosing optimal parameters from one dataset and check how they performed on another dataset. We only compare between [ecoli, yeast], [synthetic] and [human] datasets."
   ]
  },
  {
   "cell_type": "code",
   "execution_count": 23,
   "metadata": {},
   "outputs": [],
   "source": [
    "def score_method(scores):\n",
    "    methodscores = []\n",
    "    for ((datasetoi, goldstandardoi), scoresoi), ((datasetor, goldstandardor), scoresor) in product(scores.groupby([\"datasetname\", \"goldstandard\"]), scores.groupby([\"datasetname\", \"goldstandard\"])):\n",
    "        if (datasetor.split(\"_\")[0]==\"synth\" and datasetoi.split(\"_\")[0]!=\"synth\") or (datasetor.split(\"_\")[0]!=\"synth\" and datasetoi.split(\"_\")[0]==\"synth\"):\n",
    "            continue\n",
    "                \n",
    "        if (goldstandardoi.split(\"#\")[-1] != goldstandardor.split(\"#\")[-1]):\n",
    "            if (datasetoi.startswith(\"human\") != datasetor.startswith(\"human\")):\n",
    "                \"\"\n",
    "            else:\n",
    "                continue\n",
    "\n",
    "        # find the most optimal method parameters in the reference dataset (test dataset)\n",
    "        bestparams = scoresor[paramsoi].loc[scoresor[\"score\"].idxmax()]\n",
    "        \n",
    "        try:\n",
    "            rowids = scoresoi.index[np.where(np.all([scoresoi[param] == paramvalue for param, paramvalue in bestparams.items()], 0))[0]]\n",
    "        except:\n",
    "            print(scoresoi)\n",
    "\n",
    "        # now find these parameters in the dataset of interest (training dataset)\n",
    "        rowids = scoresoi.index[np.where(np.all([scoresoi[param] == paramvalue for param, paramvalue in bestparams.items()], 0))[0]]\n",
    "            \n",
    "        if len(rowids) == 0:\n",
    "            print(\"parameters could not be matched!!\", datasetoi, datasetor)\n",
    "            print(bestparams)\n",
    "            print([scoresoi[param] == paramvalue for param, paramvalue in bestparams.items()])\n",
    "        if len(rowids) > 1:\n",
    "            print(datasetoi)\n",
    "            print(\"multiple matched parameters\")\n",
    "            print(scoresoi.loc[rowids][paramsoi])\n",
    "\n",
    "        methodscores.append({\n",
    "            \"datasetoi\":datasetoi,\n",
    "            \"datasetor\":datasetor,\n",
    "            \"score\":scoresoi.loc[rowids,\"score\"].max(),\n",
    "            \"method\":methodname,\n",
    "            \"goldstandardoi\":goldstandardoi,\n",
    "            \"goldstandardor\":goldstandardor,\n",
    "            \"ofinterest\":datasetoi + \"#\" + goldstandardoi,\n",
    "            \"ofreference\":datasetor + \"#\" + goldstandardor,\n",
    "            \"runningtime\":scoresoi.loc[rowids, \"runningtime\"].mean() if \"runningtime\" in scoresoi.columns else 0,\n",
    "            \"moduledef\":scoresoi.loc[rowids, \"moduledef\"].tolist()[0],\n",
    "            \"organismoi\":scoresoi.loc[rowids, \"organism\"].tolist()[0],  \n",
    "        })\n",
    "    \n",
    "    return pd.DataFrame(methodscores)"
   ]
  },
  {
   "cell_type": "code",
   "execution_count": 24,
   "metadata": {},
   "outputs": [],
   "source": [
    "methodnames = [method_name, \"agglom_pearson_abs\", \"agglom\", \"ica_zscore\", \"spectral_biclust\", \"meanshift\"]"
   ]
  },
  {
   "cell_type": "code",
   "execution_count": 25,
   "metadata": {},
   "outputs": [
    {
     "name": "stdout",
     "output_type": "stream",
     "text": [
      "agglom_clustermatch\n",
      "agglom_pearson_abs\n",
      "agglom\n",
      "ica_zscore\n",
      "spectral_biclust\n",
      "meanshift\n"
     ]
    }
   ],
   "source": [
    "finalscores = []\n",
    "for methodname in methodnames:\n",
    "    settings_name = \"paramexplo/\" + methodname\n",
    "    settings = json.load(open(\"../conf/settings/{}.json\".format(settings_name)))\n",
    "    settings_dataset = pd.DataFrame([dict(settingid=setting[\"settingid\"], **json.load(open(\"../\" + setting[\"dataset_location\"]))[\"params\"]) for setting in settings])\n",
    "    settings_method = pd.DataFrame([dict(settingid=setting[\"settingid\"], **json.load(open(\"../\" + setting[\"method_location\"]))[\"params\"]) for setting in settings])\n",
    "    \n",
    "    print(methodname)\n",
    "    paramsoi = methodparamsoi[methodname]\n",
    "\n",
    "    scores = pd.DataFrame()\n",
    "    \n",
    "    modeval = ModevalKnownmodules(settings_name)\n",
    "    modeval.load(settings_name)\n",
    "    modeval.scores[\"score\"] = modeval.scores[\"F1rprr_permuted\"]\n",
    "    modeval.scores[\"moduledef\"] = [modulesname if modulesname in [\"minimal\", \"strict\"] else \"interconnected\" for modulesname in modeval.scores[\"knownmodules_name\"]]\n",
    "    modeval.scores = modeval.scores.merge(settings_dataset, on=\"settingid\").merge(settings_method, on=\"settingid\")\n",
    "    scores = scores.append(modeval.scores, ignore_index=True)\n",
    "    \n",
    "    modeval = ModevalCoverage(settings_name)\n",
    "    modeval.load(settings_name)\n",
    "    modeval.scores[\"score\"] = modeval.scores[\"aucodds_permuted\"]\n",
    "    modeval.scores = modeval.scores.merge(settings_dataset, on=\"settingid\").merge(settings_method, on=\"settingid\")\n",
    "    scores = scores.append(modeval.scores, ignore_index=True)\n",
    "    \n",
    "    methodscores = score_method(scores)\n",
    "    \n",
    "    methodscores[\"organismnetoi\"] = [dataset.split(\"_\")[0] for dataset in methodscores[\"goldstandardoi\"]]\n",
    "    methodscores[\"organismnetor\"] = [dataset.split(\"_\")[0] for dataset in methodscores[\"goldstandardor\"]]\n",
    "\n",
    "    finalscores.append(methodscores)\n",
    "finalscores = pd.concat(finalscores, ignore_index=True)"
   ]
  },
  {
   "cell_type": "markdown",
   "metadata": {},
   "source": [
    "The final scores contains all the comparisons we made, together with a final score in the score column:"
   ]
  },
  {
   "cell_type": "code",
   "execution_count": 26,
   "metadata": {},
   "outputs": [
    {
     "data": {
      "text/html": [
       "<div>\n",
       "<style scoped>\n",
       "    .dataframe tbody tr th:only-of-type {\n",
       "        vertical-align: middle;\n",
       "    }\n",
       "\n",
       "    .dataframe tbody tr th {\n",
       "        vertical-align: top;\n",
       "    }\n",
       "\n",
       "    .dataframe thead th {\n",
       "        text-align: right;\n",
       "    }\n",
       "</style>\n",
       "<table border=\"1\" class=\"dataframe\">\n",
       "  <thead>\n",
       "    <tr style=\"text-align: right;\">\n",
       "      <th></th>\n",
       "      <th>datasetoi</th>\n",
       "      <th>datasetor</th>\n",
       "      <th>score</th>\n",
       "      <th>method</th>\n",
       "      <th>goldstandardoi</th>\n",
       "      <th>goldstandardor</th>\n",
       "      <th>ofinterest</th>\n",
       "      <th>ofreference</th>\n",
       "      <th>runningtime</th>\n",
       "      <th>moduledef</th>\n",
       "      <th>organismoi</th>\n",
       "      <th>organismnetoi</th>\n",
       "      <th>organismnetor</th>\n",
       "    </tr>\n",
       "  </thead>\n",
       "  <tbody>\n",
       "    <tr>\n",
       "      <th>0</th>\n",
       "      <td>ecoli_colombos</td>\n",
       "      <td>ecoli_colombos</td>\n",
       "      <td>4.478926</td>\n",
       "      <td>agglom_clustermatch</td>\n",
       "      <td>ecoli_regulondb#ap1</td>\n",
       "      <td>ecoli_regulondb#ap1</td>\n",
       "      <td>ecoli_colombos#ecoli_regulondb#ap1</td>\n",
       "      <td>ecoli_colombos#ecoli_regulondb#ap1</td>\n",
       "      <td>0.413265</td>\n",
       "      <td>interconnected</td>\n",
       "      <td>ecoli</td>\n",
       "      <td>ecoli</td>\n",
       "      <td>ecoli</td>\n",
       "    </tr>\n",
       "    <tr>\n",
       "      <th>1</th>\n",
       "      <td>ecoli_colombos</td>\n",
       "      <td>ecoli_dream5</td>\n",
       "      <td>4.176660</td>\n",
       "      <td>agglom_clustermatch</td>\n",
       "      <td>ecoli_regulondb#ap1</td>\n",
       "      <td>ecoli_regulondb#ap1</td>\n",
       "      <td>ecoli_colombos#ecoli_regulondb#ap1</td>\n",
       "      <td>ecoli_dream5#ecoli_regulondb#ap1</td>\n",
       "      <td>0.422959</td>\n",
       "      <td>interconnected</td>\n",
       "      <td>ecoli</td>\n",
       "      <td>ecoli</td>\n",
       "      <td>ecoli</td>\n",
       "    </tr>\n",
       "    <tr>\n",
       "      <th>2</th>\n",
       "      <td>ecoli_colombos</td>\n",
       "      <td>human_gtex</td>\n",
       "      <td>4.176660</td>\n",
       "      <td>agglom_clustermatch</td>\n",
       "      <td>ecoli_regulondb#ap1</td>\n",
       "      <td>regcircuit</td>\n",
       "      <td>ecoli_colombos#ecoli_regulondb#ap1</td>\n",
       "      <td>human_gtex#regcircuit</td>\n",
       "      <td>0.422959</td>\n",
       "      <td>interconnected</td>\n",
       "      <td>ecoli</td>\n",
       "      <td>ecoli</td>\n",
       "      <td>regcircuit</td>\n",
       "    </tr>\n",
       "    <tr>\n",
       "      <th>3</th>\n",
       "      <td>ecoli_colombos</td>\n",
       "      <td>human_seek_gpl5175</td>\n",
       "      <td>4.309491</td>\n",
       "      <td>agglom_clustermatch</td>\n",
       "      <td>ecoli_regulondb#ap1</td>\n",
       "      <td>regcircuit</td>\n",
       "      <td>ecoli_colombos#ecoli_regulondb#ap1</td>\n",
       "      <td>human_seek_gpl5175#regcircuit</td>\n",
       "      <td>0.411244</td>\n",
       "      <td>interconnected</td>\n",
       "      <td>ecoli</td>\n",
       "      <td>ecoli</td>\n",
       "      <td>regcircuit</td>\n",
       "    </tr>\n",
       "    <tr>\n",
       "      <th>4</th>\n",
       "      <td>ecoli_colombos</td>\n",
       "      <td>human_tcga</td>\n",
       "      <td>4.315799</td>\n",
       "      <td>agglom_clustermatch</td>\n",
       "      <td>ecoli_regulondb#ap1</td>\n",
       "      <td>regcircuit</td>\n",
       "      <td>ecoli_colombos#ecoli_regulondb#ap1</td>\n",
       "      <td>human_tcga#regcircuit</td>\n",
       "      <td>0.419348</td>\n",
       "      <td>interconnected</td>\n",
       "      <td>ecoli</td>\n",
       "      <td>ecoli</td>\n",
       "      <td>regcircuit</td>\n",
       "    </tr>\n",
       "    <tr>\n",
       "      <th>...</th>\n",
       "      <td>...</td>\n",
       "      <td>...</td>\n",
       "      <td>...</td>\n",
       "      <td>...</td>\n",
       "      <td>...</td>\n",
       "      <td>...</td>\n",
       "      <td>...</td>\n",
       "      <td>...</td>\n",
       "      <td>...</td>\n",
       "      <td>...</td>\n",
       "      <td>...</td>\n",
       "      <td>...</td>\n",
       "      <td>...</td>\n",
       "    </tr>\n",
       "    <tr>\n",
       "      <th>5179</th>\n",
       "      <td>yeast_gpl2529</td>\n",
       "      <td>human_tcga</td>\n",
       "      <td>1.247844</td>\n",
       "      <td>meanshift</td>\n",
       "      <td>yeast_sisima#tc3</td>\n",
       "      <td>regcircuit</td>\n",
       "      <td>yeast_gpl2529#yeast_sisima#tc3</td>\n",
       "      <td>human_tcga#regcircuit</td>\n",
       "      <td>1014.925722</td>\n",
       "      <td>interconnected</td>\n",
       "      <td>yeast</td>\n",
       "      <td>yeast</td>\n",
       "      <td>regcircuit</td>\n",
       "    </tr>\n",
       "    <tr>\n",
       "      <th>5180</th>\n",
       "      <td>yeast_gpl2529</td>\n",
       "      <td>yeast_dream5</td>\n",
       "      <td>0.000000</td>\n",
       "      <td>meanshift</td>\n",
       "      <td>yeast_sisima#tc3</td>\n",
       "      <td>yeast_macisaac#tc3</td>\n",
       "      <td>yeast_gpl2529#yeast_sisima#tc3</td>\n",
       "      <td>yeast_dream5#yeast_macisaac#tc3</td>\n",
       "      <td>133.666315</td>\n",
       "      <td>interconnected</td>\n",
       "      <td>yeast</td>\n",
       "      <td>yeast</td>\n",
       "      <td>yeast</td>\n",
       "    </tr>\n",
       "    <tr>\n",
       "      <th>5181</th>\n",
       "      <td>yeast_gpl2529</td>\n",
       "      <td>yeast_dream5</td>\n",
       "      <td>0.000000</td>\n",
       "      <td>meanshift</td>\n",
       "      <td>yeast_sisima#tc3</td>\n",
       "      <td>yeast_sisima#tc3</td>\n",
       "      <td>yeast_gpl2529#yeast_sisima#tc3</td>\n",
       "      <td>yeast_dream5#yeast_sisima#tc3</td>\n",
       "      <td>192.197864</td>\n",
       "      <td>interconnected</td>\n",
       "      <td>yeast</td>\n",
       "      <td>yeast</td>\n",
       "      <td>yeast</td>\n",
       "    </tr>\n",
       "    <tr>\n",
       "      <th>5182</th>\n",
       "      <td>yeast_gpl2529</td>\n",
       "      <td>yeast_gpl2529</td>\n",
       "      <td>1.419103</td>\n",
       "      <td>meanshift</td>\n",
       "      <td>yeast_sisima#tc3</td>\n",
       "      <td>yeast_macisaac#tc3</td>\n",
       "      <td>yeast_gpl2529#yeast_sisima#tc3</td>\n",
       "      <td>yeast_gpl2529#yeast_macisaac#tc3</td>\n",
       "      <td>248.151631</td>\n",
       "      <td>interconnected</td>\n",
       "      <td>yeast</td>\n",
       "      <td>yeast</td>\n",
       "      <td>yeast</td>\n",
       "    </tr>\n",
       "    <tr>\n",
       "      <th>5183</th>\n",
       "      <td>yeast_gpl2529</td>\n",
       "      <td>yeast_gpl2529</td>\n",
       "      <td>2.122598</td>\n",
       "      <td>meanshift</td>\n",
       "      <td>yeast_sisima#tc3</td>\n",
       "      <td>yeast_sisima#tc3</td>\n",
       "      <td>yeast_gpl2529#yeast_sisima#tc3</td>\n",
       "      <td>yeast_gpl2529#yeast_sisima#tc3</td>\n",
       "      <td>348.319909</td>\n",
       "      <td>interconnected</td>\n",
       "      <td>yeast</td>\n",
       "      <td>yeast</td>\n",
       "      <td>yeast</td>\n",
       "    </tr>\n",
       "  </tbody>\n",
       "</table>\n",
       "<p>5184 rows × 13 columns</p>\n",
       "</div>"
      ],
      "text/plain": [
       "           datasetoi           datasetor     score               method  \\\n",
       "0     ecoli_colombos      ecoli_colombos  4.478926  agglom_clustermatch   \n",
       "1     ecoli_colombos        ecoli_dream5  4.176660  agglom_clustermatch   \n",
       "2     ecoli_colombos          human_gtex  4.176660  agglom_clustermatch   \n",
       "3     ecoli_colombos  human_seek_gpl5175  4.309491  agglom_clustermatch   \n",
       "4     ecoli_colombos          human_tcga  4.315799  agglom_clustermatch   \n",
       "...              ...                 ...       ...                  ...   \n",
       "5179   yeast_gpl2529          human_tcga  1.247844            meanshift   \n",
       "5180   yeast_gpl2529        yeast_dream5  0.000000            meanshift   \n",
       "5181   yeast_gpl2529        yeast_dream5  0.000000            meanshift   \n",
       "5182   yeast_gpl2529       yeast_gpl2529  1.419103            meanshift   \n",
       "5183   yeast_gpl2529       yeast_gpl2529  2.122598            meanshift   \n",
       "\n",
       "           goldstandardoi       goldstandardor  \\\n",
       "0     ecoli_regulondb#ap1  ecoli_regulondb#ap1   \n",
       "1     ecoli_regulondb#ap1  ecoli_regulondb#ap1   \n",
       "2     ecoli_regulondb#ap1           regcircuit   \n",
       "3     ecoli_regulondb#ap1           regcircuit   \n",
       "4     ecoli_regulondb#ap1           regcircuit   \n",
       "...                   ...                  ...   \n",
       "5179     yeast_sisima#tc3           regcircuit   \n",
       "5180     yeast_sisima#tc3   yeast_macisaac#tc3   \n",
       "5181     yeast_sisima#tc3     yeast_sisima#tc3   \n",
       "5182     yeast_sisima#tc3   yeast_macisaac#tc3   \n",
       "5183     yeast_sisima#tc3     yeast_sisima#tc3   \n",
       "\n",
       "                              ofinterest                         ofreference  \\\n",
       "0     ecoli_colombos#ecoli_regulondb#ap1  ecoli_colombos#ecoli_regulondb#ap1   \n",
       "1     ecoli_colombos#ecoli_regulondb#ap1    ecoli_dream5#ecoli_regulondb#ap1   \n",
       "2     ecoli_colombos#ecoli_regulondb#ap1               human_gtex#regcircuit   \n",
       "3     ecoli_colombos#ecoli_regulondb#ap1       human_seek_gpl5175#regcircuit   \n",
       "4     ecoli_colombos#ecoli_regulondb#ap1               human_tcga#regcircuit   \n",
       "...                                  ...                                 ...   \n",
       "5179      yeast_gpl2529#yeast_sisima#tc3               human_tcga#regcircuit   \n",
       "5180      yeast_gpl2529#yeast_sisima#tc3     yeast_dream5#yeast_macisaac#tc3   \n",
       "5181      yeast_gpl2529#yeast_sisima#tc3       yeast_dream5#yeast_sisima#tc3   \n",
       "5182      yeast_gpl2529#yeast_sisima#tc3    yeast_gpl2529#yeast_macisaac#tc3   \n",
       "5183      yeast_gpl2529#yeast_sisima#tc3      yeast_gpl2529#yeast_sisima#tc3   \n",
       "\n",
       "      runningtime       moduledef organismoi organismnetoi organismnetor  \n",
       "0        0.413265  interconnected      ecoli         ecoli         ecoli  \n",
       "1        0.422959  interconnected      ecoli         ecoli         ecoli  \n",
       "2        0.422959  interconnected      ecoli         ecoli    regcircuit  \n",
       "3        0.411244  interconnected      ecoli         ecoli    regcircuit  \n",
       "4        0.419348  interconnected      ecoli         ecoli    regcircuit  \n",
       "...           ...             ...        ...           ...           ...  \n",
       "5179  1014.925722  interconnected      yeast         yeast    regcircuit  \n",
       "5180   133.666315  interconnected      yeast         yeast         yeast  \n",
       "5181   192.197864  interconnected      yeast         yeast         yeast  \n",
       "5182   248.151631  interconnected      yeast         yeast         yeast  \n",
       "5183   348.319909  interconnected      yeast         yeast         yeast  \n",
       "\n",
       "[5184 rows x 13 columns]"
      ]
     },
     "execution_count": 26,
     "metadata": {},
     "output_type": "execute_result"
    }
   ],
   "source": [
    "finalscores"
   ]
  },
  {
   "cell_type": "code",
   "execution_count": 27,
   "metadata": {},
   "outputs": [
    {
     "data": {
      "text/html": [
       "<div>\n",
       "<style scoped>\n",
       "    .dataframe tbody tr th:only-of-type {\n",
       "        vertical-align: middle;\n",
       "    }\n",
       "\n",
       "    .dataframe tbody tr th {\n",
       "        vertical-align: top;\n",
       "    }\n",
       "\n",
       "    .dataframe thead th {\n",
       "        text-align: right;\n",
       "    }\n",
       "</style>\n",
       "<table border=\"1\" class=\"dataframe\">\n",
       "  <thead>\n",
       "    <tr style=\"text-align: right;\">\n",
       "      <th></th>\n",
       "      <th>datasetoi</th>\n",
       "      <th>datasetor</th>\n",
       "      <th>score</th>\n",
       "      <th>method</th>\n",
       "      <th>goldstandardoi</th>\n",
       "      <th>goldstandardor</th>\n",
       "      <th>ofinterest</th>\n",
       "      <th>ofreference</th>\n",
       "      <th>runningtime</th>\n",
       "      <th>moduledef</th>\n",
       "      <th>organismoi</th>\n",
       "      <th>organismnetoi</th>\n",
       "      <th>organismnetor</th>\n",
       "    </tr>\n",
       "  </thead>\n",
       "  <tbody>\n",
       "    <tr>\n",
       "      <th>2592</th>\n",
       "      <td>ecoli_colombos</td>\n",
       "      <td>ecoli_colombos</td>\n",
       "      <td>6.351389</td>\n",
       "      <td>ica_zscore</td>\n",
       "      <td>ecoli_regulondb#ap1</td>\n",
       "      <td>ecoli_regulondb#ap1</td>\n",
       "      <td>ecoli_colombos#ecoli_regulondb#ap1</td>\n",
       "      <td>ecoli_colombos#ecoli_regulondb#ap1</td>\n",
       "      <td>45.998550</td>\n",
       "      <td>interconnected</td>\n",
       "      <td>ecoli</td>\n",
       "      <td>ecoli</td>\n",
       "      <td>ecoli</td>\n",
       "    </tr>\n",
       "    <tr>\n",
       "      <th>2593</th>\n",
       "      <td>ecoli_colombos</td>\n",
       "      <td>ecoli_dream5</td>\n",
       "      <td>6.242537</td>\n",
       "      <td>ica_zscore</td>\n",
       "      <td>ecoli_regulondb#ap1</td>\n",
       "      <td>ecoli_regulondb#ap1</td>\n",
       "      <td>ecoli_colombos#ecoli_regulondb#ap1</td>\n",
       "      <td>ecoli_dream5#ecoli_regulondb#ap1</td>\n",
       "      <td>26.985090</td>\n",
       "      <td>interconnected</td>\n",
       "      <td>ecoli</td>\n",
       "      <td>ecoli</td>\n",
       "      <td>ecoli</td>\n",
       "    </tr>\n",
       "    <tr>\n",
       "      <th>2594</th>\n",
       "      <td>ecoli_colombos</td>\n",
       "      <td>human_gtex</td>\n",
       "      <td>5.215639</td>\n",
       "      <td>ica_zscore</td>\n",
       "      <td>ecoli_regulondb#ap1</td>\n",
       "      <td>regcircuit</td>\n",
       "      <td>ecoli_colombos#ecoli_regulondb#ap1</td>\n",
       "      <td>human_gtex#regcircuit</td>\n",
       "      <td>74.804224</td>\n",
       "      <td>interconnected</td>\n",
       "      <td>ecoli</td>\n",
       "      <td>ecoli</td>\n",
       "      <td>regcircuit</td>\n",
       "    </tr>\n",
       "    <tr>\n",
       "      <th>2595</th>\n",
       "      <td>ecoli_colombos</td>\n",
       "      <td>human_seek_gpl5175</td>\n",
       "      <td>5.712158</td>\n",
       "      <td>ica_zscore</td>\n",
       "      <td>ecoli_regulondb#ap1</td>\n",
       "      <td>regcircuit</td>\n",
       "      <td>ecoli_colombos#ecoli_regulondb#ap1</td>\n",
       "      <td>human_seek_gpl5175#regcircuit</td>\n",
       "      <td>75.714326</td>\n",
       "      <td>interconnected</td>\n",
       "      <td>ecoli</td>\n",
       "      <td>ecoli</td>\n",
       "      <td>regcircuit</td>\n",
       "    </tr>\n",
       "    <tr>\n",
       "      <th>2596</th>\n",
       "      <td>ecoli_colombos</td>\n",
       "      <td>human_tcga</td>\n",
       "      <td>6.119170</td>\n",
       "      <td>ica_zscore</td>\n",
       "      <td>ecoli_regulondb#ap1</td>\n",
       "      <td>regcircuit</td>\n",
       "      <td>ecoli_colombos#ecoli_regulondb#ap1</td>\n",
       "      <td>human_tcga#regcircuit</td>\n",
       "      <td>63.381258</td>\n",
       "      <td>interconnected</td>\n",
       "      <td>ecoli</td>\n",
       "      <td>ecoli</td>\n",
       "      <td>regcircuit</td>\n",
       "    </tr>\n",
       "    <tr>\n",
       "      <th>...</th>\n",
       "      <td>...</td>\n",
       "      <td>...</td>\n",
       "      <td>...</td>\n",
       "      <td>...</td>\n",
       "      <td>...</td>\n",
       "      <td>...</td>\n",
       "      <td>...</td>\n",
       "      <td>...</td>\n",
       "      <td>...</td>\n",
       "      <td>...</td>\n",
       "      <td>...</td>\n",
       "      <td>...</td>\n",
       "      <td>...</td>\n",
       "    </tr>\n",
       "    <tr>\n",
       "      <th>3451</th>\n",
       "      <td>yeast_gpl2529</td>\n",
       "      <td>human_tcga</td>\n",
       "      <td>3.971098</td>\n",
       "      <td>ica_zscore</td>\n",
       "      <td>yeast_sisima#tc3</td>\n",
       "      <td>regcircuit</td>\n",
       "      <td>yeast_gpl2529#yeast_sisima#tc3</td>\n",
       "      <td>human_tcga#regcircuit</td>\n",
       "      <td>82.797954</td>\n",
       "      <td>interconnected</td>\n",
       "      <td>yeast</td>\n",
       "      <td>yeast</td>\n",
       "      <td>regcircuit</td>\n",
       "    </tr>\n",
       "    <tr>\n",
       "      <th>3452</th>\n",
       "      <td>yeast_gpl2529</td>\n",
       "      <td>yeast_dream5</td>\n",
       "      <td>4.220220</td>\n",
       "      <td>ica_zscore</td>\n",
       "      <td>yeast_sisima#tc3</td>\n",
       "      <td>yeast_macisaac#tc3</td>\n",
       "      <td>yeast_gpl2529#yeast_sisima#tc3</td>\n",
       "      <td>yeast_dream5#yeast_macisaac#tc3</td>\n",
       "      <td>9.789663</td>\n",
       "      <td>interconnected</td>\n",
       "      <td>yeast</td>\n",
       "      <td>yeast</td>\n",
       "      <td>yeast</td>\n",
       "    </tr>\n",
       "    <tr>\n",
       "      <th>3453</th>\n",
       "      <td>yeast_gpl2529</td>\n",
       "      <td>yeast_dream5</td>\n",
       "      <td>4.253741</td>\n",
       "      <td>ica_zscore</td>\n",
       "      <td>yeast_sisima#tc3</td>\n",
       "      <td>yeast_sisima#tc3</td>\n",
       "      <td>yeast_gpl2529#yeast_sisima#tc3</td>\n",
       "      <td>yeast_dream5#yeast_sisima#tc3</td>\n",
       "      <td>11.933597</td>\n",
       "      <td>interconnected</td>\n",
       "      <td>yeast</td>\n",
       "      <td>yeast</td>\n",
       "      <td>yeast</td>\n",
       "    </tr>\n",
       "    <tr>\n",
       "      <th>3454</th>\n",
       "      <td>yeast_gpl2529</td>\n",
       "      <td>yeast_gpl2529</td>\n",
       "      <td>4.220220</td>\n",
       "      <td>ica_zscore</td>\n",
       "      <td>yeast_sisima#tc3</td>\n",
       "      <td>yeast_macisaac#tc3</td>\n",
       "      <td>yeast_gpl2529#yeast_sisima#tc3</td>\n",
       "      <td>yeast_gpl2529#yeast_macisaac#tc3</td>\n",
       "      <td>9.789663</td>\n",
       "      <td>interconnected</td>\n",
       "      <td>yeast</td>\n",
       "      <td>yeast</td>\n",
       "      <td>yeast</td>\n",
       "    </tr>\n",
       "    <tr>\n",
       "      <th>3455</th>\n",
       "      <td>yeast_gpl2529</td>\n",
       "      <td>yeast_gpl2529</td>\n",
       "      <td>4.800505</td>\n",
       "      <td>ica_zscore</td>\n",
       "      <td>yeast_sisima#tc3</td>\n",
       "      <td>yeast_sisima#tc3</td>\n",
       "      <td>yeast_gpl2529#yeast_sisima#tc3</td>\n",
       "      <td>yeast_gpl2529#yeast_sisima#tc3</td>\n",
       "      <td>29.896674</td>\n",
       "      <td>interconnected</td>\n",
       "      <td>yeast</td>\n",
       "      <td>yeast</td>\n",
       "      <td>yeast</td>\n",
       "    </tr>\n",
       "  </tbody>\n",
       "</table>\n",
       "<p>864 rows × 13 columns</p>\n",
       "</div>"
      ],
      "text/plain": [
       "           datasetoi           datasetor     score      method  \\\n",
       "2592  ecoli_colombos      ecoli_colombos  6.351389  ica_zscore   \n",
       "2593  ecoli_colombos        ecoli_dream5  6.242537  ica_zscore   \n",
       "2594  ecoli_colombos          human_gtex  5.215639  ica_zscore   \n",
       "2595  ecoli_colombos  human_seek_gpl5175  5.712158  ica_zscore   \n",
       "2596  ecoli_colombos          human_tcga  6.119170  ica_zscore   \n",
       "...              ...                 ...       ...         ...   \n",
       "3451   yeast_gpl2529          human_tcga  3.971098  ica_zscore   \n",
       "3452   yeast_gpl2529        yeast_dream5  4.220220  ica_zscore   \n",
       "3453   yeast_gpl2529        yeast_dream5  4.253741  ica_zscore   \n",
       "3454   yeast_gpl2529       yeast_gpl2529  4.220220  ica_zscore   \n",
       "3455   yeast_gpl2529       yeast_gpl2529  4.800505  ica_zscore   \n",
       "\n",
       "           goldstandardoi       goldstandardor  \\\n",
       "2592  ecoli_regulondb#ap1  ecoli_regulondb#ap1   \n",
       "2593  ecoli_regulondb#ap1  ecoli_regulondb#ap1   \n",
       "2594  ecoli_regulondb#ap1           regcircuit   \n",
       "2595  ecoli_regulondb#ap1           regcircuit   \n",
       "2596  ecoli_regulondb#ap1           regcircuit   \n",
       "...                   ...                  ...   \n",
       "3451     yeast_sisima#tc3           regcircuit   \n",
       "3452     yeast_sisima#tc3   yeast_macisaac#tc3   \n",
       "3453     yeast_sisima#tc3     yeast_sisima#tc3   \n",
       "3454     yeast_sisima#tc3   yeast_macisaac#tc3   \n",
       "3455     yeast_sisima#tc3     yeast_sisima#tc3   \n",
       "\n",
       "                              ofinterest                         ofreference  \\\n",
       "2592  ecoli_colombos#ecoli_regulondb#ap1  ecoli_colombos#ecoli_regulondb#ap1   \n",
       "2593  ecoli_colombos#ecoli_regulondb#ap1    ecoli_dream5#ecoli_regulondb#ap1   \n",
       "2594  ecoli_colombos#ecoli_regulondb#ap1               human_gtex#regcircuit   \n",
       "2595  ecoli_colombos#ecoli_regulondb#ap1       human_seek_gpl5175#regcircuit   \n",
       "2596  ecoli_colombos#ecoli_regulondb#ap1               human_tcga#regcircuit   \n",
       "...                                  ...                                 ...   \n",
       "3451      yeast_gpl2529#yeast_sisima#tc3               human_tcga#regcircuit   \n",
       "3452      yeast_gpl2529#yeast_sisima#tc3     yeast_dream5#yeast_macisaac#tc3   \n",
       "3453      yeast_gpl2529#yeast_sisima#tc3       yeast_dream5#yeast_sisima#tc3   \n",
       "3454      yeast_gpl2529#yeast_sisima#tc3    yeast_gpl2529#yeast_macisaac#tc3   \n",
       "3455      yeast_gpl2529#yeast_sisima#tc3      yeast_gpl2529#yeast_sisima#tc3   \n",
       "\n",
       "      runningtime       moduledef organismoi organismnetoi organismnetor  \n",
       "2592    45.998550  interconnected      ecoli         ecoli         ecoli  \n",
       "2593    26.985090  interconnected      ecoli         ecoli         ecoli  \n",
       "2594    74.804224  interconnected      ecoli         ecoli    regcircuit  \n",
       "2595    75.714326  interconnected      ecoli         ecoli    regcircuit  \n",
       "2596    63.381258  interconnected      ecoli         ecoli    regcircuit  \n",
       "...           ...             ...        ...           ...           ...  \n",
       "3451    82.797954  interconnected      yeast         yeast    regcircuit  \n",
       "3452     9.789663  interconnected      yeast         yeast         yeast  \n",
       "3453    11.933597  interconnected      yeast         yeast         yeast  \n",
       "3454     9.789663  interconnected      yeast         yeast         yeast  \n",
       "3455    29.896674  interconnected      yeast         yeast         yeast  \n",
       "\n",
       "[864 rows x 13 columns]"
      ]
     },
     "execution_count": 27,
     "metadata": {},
     "output_type": "execute_result"
    }
   ],
   "source": [
    "finalscores.query(\"method == 'ica_zscore'\")"
   ]
  },
  {
   "cell_type": "code",
   "execution_count": 28,
   "metadata": {},
   "outputs": [
    {
     "data": {
      "text/html": [
       "<div>\n",
       "<style scoped>\n",
       "    .dataframe tbody tr th:only-of-type {\n",
       "        vertical-align: middle;\n",
       "    }\n",
       "\n",
       "    .dataframe tbody tr th {\n",
       "        vertical-align: top;\n",
       "    }\n",
       "\n",
       "    .dataframe thead th {\n",
       "        text-align: right;\n",
       "    }\n",
       "</style>\n",
       "<table border=\"1\" class=\"dataframe\">\n",
       "  <thead>\n",
       "    <tr style=\"text-align: right;\">\n",
       "      <th></th>\n",
       "      <th>datasetoi</th>\n",
       "      <th>datasetor</th>\n",
       "      <th>score</th>\n",
       "      <th>method</th>\n",
       "      <th>goldstandardoi</th>\n",
       "      <th>goldstandardor</th>\n",
       "      <th>ofinterest</th>\n",
       "      <th>ofreference</th>\n",
       "      <th>runningtime</th>\n",
       "      <th>moduledef</th>\n",
       "      <th>organismoi</th>\n",
       "      <th>organismnetoi</th>\n",
       "      <th>organismnetor</th>\n",
       "    </tr>\n",
       "  </thead>\n",
       "  <tbody>\n",
       "    <tr>\n",
       "      <th>0</th>\n",
       "      <td>ecoli_colombos</td>\n",
       "      <td>ecoli_colombos</td>\n",
       "      <td>4.478926</td>\n",
       "      <td>agglom_clustermatch</td>\n",
       "      <td>ecoli_regulondb#ap1</td>\n",
       "      <td>ecoli_regulondb#ap1</td>\n",
       "      <td>ecoli_colombos#ecoli_regulondb#ap1</td>\n",
       "      <td>ecoli_colombos#ecoli_regulondb#ap1</td>\n",
       "      <td>0.413265</td>\n",
       "      <td>interconnected</td>\n",
       "      <td>ecoli</td>\n",
       "      <td>ecoli</td>\n",
       "      <td>ecoli</td>\n",
       "    </tr>\n",
       "    <tr>\n",
       "      <th>1</th>\n",
       "      <td>ecoli_colombos</td>\n",
       "      <td>ecoli_dream5</td>\n",
       "      <td>4.176660</td>\n",
       "      <td>agglom_clustermatch</td>\n",
       "      <td>ecoli_regulondb#ap1</td>\n",
       "      <td>ecoli_regulondb#ap1</td>\n",
       "      <td>ecoli_colombos#ecoli_regulondb#ap1</td>\n",
       "      <td>ecoli_dream5#ecoli_regulondb#ap1</td>\n",
       "      <td>0.422959</td>\n",
       "      <td>interconnected</td>\n",
       "      <td>ecoli</td>\n",
       "      <td>ecoli</td>\n",
       "      <td>ecoli</td>\n",
       "    </tr>\n",
       "    <tr>\n",
       "      <th>2</th>\n",
       "      <td>ecoli_colombos</td>\n",
       "      <td>human_gtex</td>\n",
       "      <td>4.176660</td>\n",
       "      <td>agglom_clustermatch</td>\n",
       "      <td>ecoli_regulondb#ap1</td>\n",
       "      <td>regcircuit</td>\n",
       "      <td>ecoli_colombos#ecoli_regulondb#ap1</td>\n",
       "      <td>human_gtex#regcircuit</td>\n",
       "      <td>0.422959</td>\n",
       "      <td>interconnected</td>\n",
       "      <td>ecoli</td>\n",
       "      <td>ecoli</td>\n",
       "      <td>regcircuit</td>\n",
       "    </tr>\n",
       "    <tr>\n",
       "      <th>3</th>\n",
       "      <td>ecoli_colombos</td>\n",
       "      <td>human_seek_gpl5175</td>\n",
       "      <td>4.309491</td>\n",
       "      <td>agglom_clustermatch</td>\n",
       "      <td>ecoli_regulondb#ap1</td>\n",
       "      <td>regcircuit</td>\n",
       "      <td>ecoli_colombos#ecoli_regulondb#ap1</td>\n",
       "      <td>human_seek_gpl5175#regcircuit</td>\n",
       "      <td>0.411244</td>\n",
       "      <td>interconnected</td>\n",
       "      <td>ecoli</td>\n",
       "      <td>ecoli</td>\n",
       "      <td>regcircuit</td>\n",
       "    </tr>\n",
       "    <tr>\n",
       "      <th>4</th>\n",
       "      <td>ecoli_colombos</td>\n",
       "      <td>human_tcga</td>\n",
       "      <td>4.315799</td>\n",
       "      <td>agglom_clustermatch</td>\n",
       "      <td>ecoli_regulondb#ap1</td>\n",
       "      <td>regcircuit</td>\n",
       "      <td>ecoli_colombos#ecoli_regulondb#ap1</td>\n",
       "      <td>human_tcga#regcircuit</td>\n",
       "      <td>0.419348</td>\n",
       "      <td>interconnected</td>\n",
       "      <td>ecoli</td>\n",
       "      <td>ecoli</td>\n",
       "      <td>regcircuit</td>\n",
       "    </tr>\n",
       "    <tr>\n",
       "      <th>...</th>\n",
       "      <td>...</td>\n",
       "      <td>...</td>\n",
       "      <td>...</td>\n",
       "      <td>...</td>\n",
       "      <td>...</td>\n",
       "      <td>...</td>\n",
       "      <td>...</td>\n",
       "      <td>...</td>\n",
       "      <td>...</td>\n",
       "      <td>...</td>\n",
       "      <td>...</td>\n",
       "      <td>...</td>\n",
       "      <td>...</td>\n",
       "    </tr>\n",
       "    <tr>\n",
       "      <th>859</th>\n",
       "      <td>yeast_gpl2529</td>\n",
       "      <td>human_tcga</td>\n",
       "      <td>2.343326</td>\n",
       "      <td>agglom_clustermatch</td>\n",
       "      <td>yeast_sisima#tc3</td>\n",
       "      <td>regcircuit</td>\n",
       "      <td>yeast_gpl2529#yeast_sisima#tc3</td>\n",
       "      <td>human_tcga#regcircuit</td>\n",
       "      <td>0.720057</td>\n",
       "      <td>interconnected</td>\n",
       "      <td>yeast</td>\n",
       "      <td>yeast</td>\n",
       "      <td>regcircuit</td>\n",
       "    </tr>\n",
       "    <tr>\n",
       "      <th>860</th>\n",
       "      <td>yeast_gpl2529</td>\n",
       "      <td>yeast_dream5</td>\n",
       "      <td>3.181990</td>\n",
       "      <td>agglom_clustermatch</td>\n",
       "      <td>yeast_sisima#tc3</td>\n",
       "      <td>yeast_macisaac#tc3</td>\n",
       "      <td>yeast_gpl2529#yeast_sisima#tc3</td>\n",
       "      <td>yeast_dream5#yeast_macisaac#tc3</td>\n",
       "      <td>0.740652</td>\n",
       "      <td>interconnected</td>\n",
       "      <td>yeast</td>\n",
       "      <td>yeast</td>\n",
       "      <td>yeast</td>\n",
       "    </tr>\n",
       "    <tr>\n",
       "      <th>861</th>\n",
       "      <td>yeast_gpl2529</td>\n",
       "      <td>yeast_dream5</td>\n",
       "      <td>2.933166</td>\n",
       "      <td>agglom_clustermatch</td>\n",
       "      <td>yeast_sisima#tc3</td>\n",
       "      <td>yeast_sisima#tc3</td>\n",
       "      <td>yeast_gpl2529#yeast_sisima#tc3</td>\n",
       "      <td>yeast_dream5#yeast_sisima#tc3</td>\n",
       "      <td>0.741005</td>\n",
       "      <td>interconnected</td>\n",
       "      <td>yeast</td>\n",
       "      <td>yeast</td>\n",
       "      <td>yeast</td>\n",
       "    </tr>\n",
       "    <tr>\n",
       "      <th>862</th>\n",
       "      <td>yeast_gpl2529</td>\n",
       "      <td>yeast_gpl2529</td>\n",
       "      <td>2.933166</td>\n",
       "      <td>agglom_clustermatch</td>\n",
       "      <td>yeast_sisima#tc3</td>\n",
       "      <td>yeast_macisaac#tc3</td>\n",
       "      <td>yeast_gpl2529#yeast_sisima#tc3</td>\n",
       "      <td>yeast_gpl2529#yeast_macisaac#tc3</td>\n",
       "      <td>0.741005</td>\n",
       "      <td>interconnected</td>\n",
       "      <td>yeast</td>\n",
       "      <td>yeast</td>\n",
       "      <td>yeast</td>\n",
       "    </tr>\n",
       "    <tr>\n",
       "      <th>863</th>\n",
       "      <td>yeast_gpl2529</td>\n",
       "      <td>yeast_gpl2529</td>\n",
       "      <td>3.181990</td>\n",
       "      <td>agglom_clustermatch</td>\n",
       "      <td>yeast_sisima#tc3</td>\n",
       "      <td>yeast_sisima#tc3</td>\n",
       "      <td>yeast_gpl2529#yeast_sisima#tc3</td>\n",
       "      <td>yeast_gpl2529#yeast_sisima#tc3</td>\n",
       "      <td>0.740652</td>\n",
       "      <td>interconnected</td>\n",
       "      <td>yeast</td>\n",
       "      <td>yeast</td>\n",
       "      <td>yeast</td>\n",
       "    </tr>\n",
       "  </tbody>\n",
       "</table>\n",
       "<p>864 rows × 13 columns</p>\n",
       "</div>"
      ],
      "text/plain": [
       "          datasetoi           datasetor     score               method  \\\n",
       "0    ecoli_colombos      ecoli_colombos  4.478926  agglom_clustermatch   \n",
       "1    ecoli_colombos        ecoli_dream5  4.176660  agglom_clustermatch   \n",
       "2    ecoli_colombos          human_gtex  4.176660  agglom_clustermatch   \n",
       "3    ecoli_colombos  human_seek_gpl5175  4.309491  agglom_clustermatch   \n",
       "4    ecoli_colombos          human_tcga  4.315799  agglom_clustermatch   \n",
       "..              ...                 ...       ...                  ...   \n",
       "859   yeast_gpl2529          human_tcga  2.343326  agglom_clustermatch   \n",
       "860   yeast_gpl2529        yeast_dream5  3.181990  agglom_clustermatch   \n",
       "861   yeast_gpl2529        yeast_dream5  2.933166  agglom_clustermatch   \n",
       "862   yeast_gpl2529       yeast_gpl2529  2.933166  agglom_clustermatch   \n",
       "863   yeast_gpl2529       yeast_gpl2529  3.181990  agglom_clustermatch   \n",
       "\n",
       "          goldstandardoi       goldstandardor  \\\n",
       "0    ecoli_regulondb#ap1  ecoli_regulondb#ap1   \n",
       "1    ecoli_regulondb#ap1  ecoli_regulondb#ap1   \n",
       "2    ecoli_regulondb#ap1           regcircuit   \n",
       "3    ecoli_regulondb#ap1           regcircuit   \n",
       "4    ecoli_regulondb#ap1           regcircuit   \n",
       "..                   ...                  ...   \n",
       "859     yeast_sisima#tc3           regcircuit   \n",
       "860     yeast_sisima#tc3   yeast_macisaac#tc3   \n",
       "861     yeast_sisima#tc3     yeast_sisima#tc3   \n",
       "862     yeast_sisima#tc3   yeast_macisaac#tc3   \n",
       "863     yeast_sisima#tc3     yeast_sisima#tc3   \n",
       "\n",
       "                             ofinterest                         ofreference  \\\n",
       "0    ecoli_colombos#ecoli_regulondb#ap1  ecoli_colombos#ecoli_regulondb#ap1   \n",
       "1    ecoli_colombos#ecoli_regulondb#ap1    ecoli_dream5#ecoli_regulondb#ap1   \n",
       "2    ecoli_colombos#ecoli_regulondb#ap1               human_gtex#regcircuit   \n",
       "3    ecoli_colombos#ecoli_regulondb#ap1       human_seek_gpl5175#regcircuit   \n",
       "4    ecoli_colombos#ecoli_regulondb#ap1               human_tcga#regcircuit   \n",
       "..                                  ...                                 ...   \n",
       "859      yeast_gpl2529#yeast_sisima#tc3               human_tcga#regcircuit   \n",
       "860      yeast_gpl2529#yeast_sisima#tc3     yeast_dream5#yeast_macisaac#tc3   \n",
       "861      yeast_gpl2529#yeast_sisima#tc3       yeast_dream5#yeast_sisima#tc3   \n",
       "862      yeast_gpl2529#yeast_sisima#tc3    yeast_gpl2529#yeast_macisaac#tc3   \n",
       "863      yeast_gpl2529#yeast_sisima#tc3      yeast_gpl2529#yeast_sisima#tc3   \n",
       "\n",
       "     runningtime       moduledef organismoi organismnetoi organismnetor  \n",
       "0       0.413265  interconnected      ecoli         ecoli         ecoli  \n",
       "1       0.422959  interconnected      ecoli         ecoli         ecoli  \n",
       "2       0.422959  interconnected      ecoli         ecoli    regcircuit  \n",
       "3       0.411244  interconnected      ecoli         ecoli    regcircuit  \n",
       "4       0.419348  interconnected      ecoli         ecoli    regcircuit  \n",
       "..           ...             ...        ...           ...           ...  \n",
       "859     0.720057  interconnected      yeast         yeast    regcircuit  \n",
       "860     0.740652  interconnected      yeast         yeast         yeast  \n",
       "861     0.741005  interconnected      yeast         yeast         yeast  \n",
       "862     0.741005  interconnected      yeast         yeast         yeast  \n",
       "863     0.740652  interconnected      yeast         yeast         yeast  \n",
       "\n",
       "[864 rows x 13 columns]"
      ]
     },
     "execution_count": 28,
     "metadata": {},
     "output_type": "execute_result"
    }
   ],
   "source": [
    "finalscores.query(f\"method == '{method_name}'\")"
   ]
  },
  {
   "cell_type": "markdown",
   "metadata": {},
   "source": [
    "We add weights to the test scores, because e.g. E. coli datasets will have many more test scores as there are more \"reference\" datasets available."
   ]
  },
  {
   "cell_type": "code",
   "execution_count": 29,
   "metadata": {},
   "outputs": [],
   "source": [
    "def add_weights(scores):\n",
    "    weights = []\n",
    "    scores[\"moduledef\"] = scores[\"moduledef\"].fillna(\"\")\n",
    "    for organismoi, subscores in scores.groupby(\"organismoi\"):\n",
    "        moduledef_weights = 1/subscores.groupby(\"moduledef\")[\"score\"].count()\n",
    "        for moduledef, weight in moduledef_weights.items():\n",
    "            weights.append({\n",
    "                    \"organism\":organismoi,\n",
    "                    \"moduledef\":moduledef,\n",
    "                    \"weight\":weight / len(moduledef_weights)\n",
    "                })\n",
    "    weights = pd.DataFrame(weights).set_index([\"organism\", \"moduledef\"])[\"weight\"]\n",
    "    \n",
    "    scores[\"weight\"] = weights.loc[pd.Index(scores[[\"organismoi\", \"moduledef\"]])].tolist()\n",
    "    \n",
    "    return scores"
   ]
  },
  {
   "cell_type": "code",
   "execution_count": 30,
   "metadata": {},
   "outputs": [
    {
     "name": "stderr",
     "output_type": "stream",
     "text": [
      "/tmp/ipykernel_23089/4089861130.py:3: SettingWithCopyWarning: \n",
      "A value is trying to be set on a copy of a slice from a DataFrame.\n",
      "Try using .loc[row_indexer,col_indexer] = value instead\n",
      "\n",
      "See the caveats in the documentation: https://pandas.pydata.org/pandas-docs/stable/user_guide/indexing.html#returning-a-view-versus-a-copy\n",
      "  scores[\"moduledef\"] = scores[\"moduledef\"].fillna(\"\")\n",
      "/tmp/ipykernel_23089/4089861130.py:14: SettingWithCopyWarning: \n",
      "A value is trying to be set on a copy of a slice from a DataFrame.\n",
      "Try using .loc[row_indexer,col_indexer] = value instead\n",
      "\n",
      "See the caveats in the documentation: https://pandas.pydata.org/pandas-docs/stable/user_guide/indexing.html#returning-a-view-versus-a-copy\n",
      "  scores[\"weight\"] = weights.loc[pd.Index(scores[[\"organismoi\", \"moduledef\"]])].tolist()\n"
     ]
    }
   ],
   "source": [
    "trainingscores_ = add_weights(finalscores.loc[(finalscores[\"ofinterest\"] == finalscores[\"ofreference\"])])\n",
    "testscores_ = add_weights(finalscores.loc[(finalscores[\"ofinterest\"] != finalscores[\"ofreference\"]) & (finalscores[\"organismnetoi\"] != finalscores[\"organismnetor\"])])"
   ]
  },
  {
   "cell_type": "markdown",
   "metadata": {},
   "source": [
    "Do a weighted mean:"
   ]
  },
  {
   "cell_type": "code",
   "execution_count": 31,
   "metadata": {},
   "outputs": [],
   "source": [
    "trainingscores = trainingscores_.groupby(\"method\").apply(lambda x: np.average(x.score, weights=x.weight))\n",
    "testscores = testscores_.groupby(\"method\").apply(lambda x: np.average(x.score, weights=x.weight))"
   ]
  },
  {
   "cell_type": "code",
   "execution_count": 32,
   "metadata": {},
   "outputs": [],
   "source": [
    "testscores_.to_csv(\"../results/testscores_.tsv\", sep=\"\\t\")\n",
    "trainingscores_.to_csv(\"../results/trainingscores_.tsv\", sep=\"\\t\")"
   ]
  },
  {
   "cell_type": "code",
   "execution_count": 33,
   "metadata": {},
   "outputs": [
    {
     "data": {
      "text/plain": [
       "method\n",
       "agglom                 7.854651\n",
       "agglom_clustermatch    7.526286\n",
       "agglom_pearson_abs     7.834184\n",
       "ica_zscore             9.831074\n",
       "meanshift              5.134528\n",
       "spectral_biclust       7.839478\n",
       "dtype: float64"
      ]
     },
     "execution_count": 33,
     "metadata": {},
     "output_type": "execute_result"
    }
   ],
   "source": [
    "trainingscores"
   ]
  },
  {
   "cell_type": "code",
   "execution_count": 34,
   "metadata": {},
   "outputs": [
    {
     "data": {
      "text/plain": [
       "method\n",
       "agglom                 6.931690\n",
       "agglom_clustermatch    6.363507\n",
       "agglom_pearson_abs     6.881817\n",
       "ica_zscore             8.116071\n",
       "meanshift              2.264274\n",
       "spectral_biclust       5.887325\n",
       "dtype: float64"
      ]
     },
     "execution_count": 34,
     "metadata": {},
     "output_type": "execute_result"
    }
   ],
   "source": [
    "testscores"
   ]
  },
  {
   "cell_type": "markdown",
   "metadata": {},
   "source": [
    "Visualization of overall training and test scores:"
   ]
  },
  {
   "cell_type": "code",
   "execution_count": 35,
   "metadata": {},
   "outputs": [],
   "source": [
    "import matplotlib as mpl"
   ]
  },
  {
   "cell_type": "code",
   "execution_count": 36,
   "metadata": {},
   "outputs": [
    {
     "data": {
      "text/plain": [
       "''"
      ]
     },
     "execution_count": 36,
     "metadata": {},
     "output_type": "execute_result"
    },
    {
     "data": {
      "image/png": "[encoded data removed]",
      "text/plain": [
       "<Figure size 216x360 with 1 Axes>"
      ]
     },
     "metadata": {
      "needs_background": "light"
     },
     "output_type": "display_data"
    }
   ],
   "source": [
    "# A bar chart is actually not the ideal representation here, given that we're working with ratios. \n",
    "# This way of plotting is kept here because it most closely resembles that of the paper.\n",
    "\n",
    "fig, ax = subplots(figsize=(len(trainingscores)/2, 5))\n",
    "\n",
    "methodorder = testscores.sort_values(ascending=False).index\n",
    "\n",
    "ax.axhline(1, color = \"black\")\n",
    "ax.bar(range(len(methodorder)), trainingscores[methodorder], color=\"grey\")\n",
    "ax.bar(range(len(methodorder)), testscores[methodorder], color=\"#333333\")\n",
    "ax.set_xticks(np.arange(len(methodorder)))\n",
    "ax.set_xticklabels(methodorder, rotation=45, ha=\"right\", va=\"top\")\n",
    "ax.tick_params(labelsize=14)\n",
    "\"\""
   ]
  },
  {
   "cell_type": "code",
   "execution_count": 37,
   "metadata": {},
   "outputs": [
    {
     "data": {
      "text/plain": [
       "''"
      ]
     },
     "execution_count": 37,
     "metadata": {},
     "output_type": "execute_result"
    },
    {
     "data": {
      "image/png": "[encoded data removed]",
      "text/plain": [
       "<Figure size 360x216 with 1 Axes>"
      ]
     },
     "metadata": {
      "needs_background": "light"
     },
     "output_type": "display_data"
    }
   ],
   "source": [
    "# A better way to visualize the data would be dotplot\n",
    "\n",
    "fig, ax = subplots(figsize=(5, len(trainingscores)/2))\n",
    "\n",
    "methodorder = testscores.sort_values(ascending=True).index\n",
    "\n",
    "ax.axvline(1, color = \"black\")\n",
    "for y, method in enumerate(methodorder):\n",
    "    ax.plot([trainingscores[method], testscores[method]], [y, y], zorder = 0, color = \"grey\")\n",
    "ax.scatter(trainingscores[methodorder], range(len(methodorder)), color=\"grey\", s = 20)\n",
    "ax.scatter(testscores[methodorder], range(len(methodorder)), color=\"#333333\", s = 100)\n",
    "ax.set_yticks(np.arange(len(methodorder)))\n",
    "ax.set_yticklabels(methodorder)\n",
    "ax.tick_params(labelsize=14)\n",
    "ax.set_xlim([0, ax.get_xlim()[1]])\n",
    "\"\""
   ]
  },
  {
   "cell_type": "markdown",
   "metadata": {},
   "source": [
    "You can also calculate scores for a particular organism, ...:"
   ]
  },
  {
   "cell_type": "code",
   "execution_count": 38,
   "metadata": {},
   "outputs": [
    {
     "data": {
      "text/plain": [
       "array(['ecoli', 'human', 'synth', 'yeast'], dtype=object)"
      ]
     },
     "execution_count": 38,
     "metadata": {},
     "output_type": "execute_result"
    }
   ],
   "source": [
    "trainingscores_[\"organismoi\"].unique()"
   ]
  },
  {
   "cell_type": "markdown",
   "metadata": {},
   "source": [
    "# Plot for each organism"
   ]
  },
  {
   "cell_type": "code",
   "execution_count": 39,
   "metadata": {},
   "outputs": [
    {
     "data": {
      "image/png": "[encoded data removed]",
      "text/plain": [
       "<Figure size 360x216 with 1 Axes>"
      ]
     },
     "metadata": {},
     "output_type": "display_data"
    },
    {
     "data": {
      "image/png": "[encoded data removed]",
      "text/plain": [
       "<Figure size 360x216 with 1 Axes>"
      ]
     },
     "metadata": {},
     "output_type": "display_data"
    },
    {
     "data": {
      "image/png": "[encoded data removed]",
      "text/plain": [
       "<Figure size 360x216 with 1 Axes>"
      ]
     },
     "metadata": {},
     "output_type": "display_data"
    },
    {
     "data": {
      "image/png": "[encoded data removed]",
      "text/plain": [
       "<Figure size 360x216 with 1 Axes>"
      ]
     },
     "metadata": {},
     "output_type": "display_data"
    },
    {
     "data": {
      "image/png": "[encoded data removed]",
      "text/plain": [
       "<Figure size 360x216 with 1 Axes>"
      ]
     },
     "metadata": {
      "needs_background": "light"
     },
     "output_type": "display_data"
    },
    {
     "data": {
      "image/png": "[encoded data removed]",
      "text/plain": [
       "<Figure size 360x216 with 1 Axes>"
      ]
     },
     "metadata": {
      "needs_background": "light"
     },
     "output_type": "display_data"
    },
    {
     "data": {
      "image/png": "[encoded data removed]",
      "text/plain": [
       "<Figure size 360x216 with 1 Axes>"
      ]
     },
     "metadata": {
      "needs_background": "light"
     },
     "output_type": "display_data"
    },
    {
     "data": {
      "image/png": "[encoded data removed]",
      "text/plain": [
       "<Figure size 360x216 with 1 Axes>"
      ]
     },
     "metadata": {
      "needs_background": "light"
     },
     "output_type": "display_data"
    }
   ],
   "source": [
    "for organism in trainingscores_[\"organismoi\"].unique():\n",
    "    trainingscores = trainingscores_.query(f\"organismoi == '{organism}'\").groupby(\"method\").apply(lambda x: np.average(x.score, weights=x.weight))\n",
    "    testscores = testscores_.query(f\"organismoi == '{organism}'\").groupby(\"method\").apply(lambda x: np.average(x.score, weights=x.weight))\n",
    "    \n",
    "    fig, ax = subplots(figsize=(5, len(trainingscores)/2))\n",
    "\n",
    "    methodorder = testscores.sort_values(ascending=True).index\n",
    "\n",
    "    ax.axvline(1, color = \"black\")\n",
    "    for y, method in enumerate(methodorder):\n",
    "        ax.plot([trainingscores[method], testscores[method]], [y, y], zorder = 0, color = \"grey\")\n",
    "    ax.scatter(trainingscores[methodorder], range(len(methodorder)), color=\"grey\", s = 20)\n",
    "    ax.scatter(testscores[methodorder], range(len(methodorder)), color=\"#333333\", s = 100)\n",
    "    ax.set_yticks(np.arange(len(methodorder)))\n",
    "    ax.set_yticklabels(methodorder)\n",
    "    ax.tick_params(labelsize=14)\n",
    "    ax.set_xlim([0, ax.get_xlim()[1]])\n",
    "    ax.set_title(organism)\n",
    "    display(fig)"
   ]
  },
  {
   "cell_type": "code",
   "execution_count": null,
   "metadata": {},
   "outputs": [],
   "source": []
  }
 ],
 "metadata": {
  "jupytext": {
   "cell_metadata_filter": "all,-execution,-papermill,-trusted",
   "text_representation": {
    "extension": ".py",
    "format_name": "percent",
    "format_version": "1.3",
    "jupytext_version": "1.13.0"
   }
  },
  "kernelspec": {
   "display_name": "Python 3 (ipykernel)",
   "language": "python",
   "name": "python3"
  },
  "language_info": {
   "codemirror_mode": {
    "name": "ipython",
    "version": 3
   },
   "file_extension": ".py",
   "mimetype": "text/x-python",
   "name": "python",
   "nbconvert_exporter": "python",
   "pygments_lexer": "ipython3",
   "version": "3.9.7"
  },
  "toc": {
   "base_numbering": 1,
   "nav_menu": {},
   "number_sections": true,
   "sideBar": true,
   "skip_h1_title": false,
   "title_cell": "Table of Contents",
   "title_sidebar": "Contents",
   "toc_cell": false,
   "toc_position": {},
   "toc_section_display": true,
   "toc_window_display": false
  }
 },
 "nbformat": 4,
 "nbformat_minor": 4
}
