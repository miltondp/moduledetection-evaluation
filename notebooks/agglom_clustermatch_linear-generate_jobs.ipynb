{
 "cells": [
  {
   "cell_type": "markdown",
   "id": "11deed12",
   "metadata": {
    "papermill": {
     "duration": 0.053672,
     "end_time": "2021-10-05T18:23:53.444374",
     "exception": false,
     "start_time": "2021-10-05T18:23:53.390702",
     "status": "completed"
    },
    "tags": []
   },
   "source": [
    "# Overall performance of module detection methods"
   ]
  },
  {
   "cell_type": "code",
   "execution_count": 1,
   "id": "3291ff62",
   "metadata": {
    "execution": {
     "iopub.execute_input": "2021-10-05T18:23:53.508645Z",
     "iopub.status.busy": "2021-10-05T18:23:53.508194Z",
     "iopub.status.idle": "2021-10-05T18:23:53.903141Z",
     "shell.execute_reply": "2021-10-05T18:23:53.902564Z"
    },
    "papermill": {
     "duration": 0.430514,
     "end_time": "2021-10-05T18:23:53.903263",
     "exception": false,
     "start_time": "2021-10-05T18:23:53.472749",
     "status": "completed"
    },
    "scrolled": true,
    "tags": []
   },
   "outputs": [],
   "source": [
    "import sys\n",
    "import os\n",
    "# sys.path.insert(0,os.path.abspath(\"../lib/\"))\n",
    "\n",
    "import json\n",
    "\n",
    "from util import JSONExtendedEncoder\n",
    "\n",
    "%load_ext autoreload\n",
    "%autoreload 2\n",
    "\n",
    "%matplotlib inline\n",
    "from matplotlib.pyplot import *\n",
    "\n",
    "import pandas as pd\n",
    "import numpy as np\n",
    "\n",
    "import multiprocessing as mp\n",
    "\n",
    "from itertools import product\n",
    "\n",
    "import itertools\n",
    "import shutil\n",
    "\n",
    "import os\n",
    "\n",
    "conf_folder = \"conf/\""
   ]
  },
  {
   "cell_type": "markdown",
   "id": "d8c49c52",
   "metadata": {
    "papermill": {
     "duration": 0.03176,
     "end_time": "2021-10-05T18:23:53.973478",
     "exception": false,
     "start_time": "2021-10-05T18:23:53.941718",
     "status": "completed"
    },
    "tags": []
   },
   "source": [
    "# Settings"
   ]
  },
  {
   "cell_type": "code",
   "execution_count": 2,
   "id": "1cfb4f01",
   "metadata": {
    "execution": {
     "iopub.execute_input": "2021-10-05T18:23:54.033869Z",
     "iopub.status.busy": "2021-10-05T18:23:54.033473Z",
     "iopub.status.idle": "2021-10-05T18:23:54.042433Z",
     "shell.execute_reply": "2021-10-05T18:23:54.042728Z"
    },
    "papermill": {
     "duration": 0.040464,
     "end_time": "2021-10-05T18:23:54.042832",
     "exception": false,
     "start_time": "2021-10-05T18:23:54.002368",
     "status": "completed"
    },
    "tags": []
   },
   "outputs": [],
   "source": [
    "N_JOBS = 1\n",
    "# N_JOBS = mp.cpu_count()-1"
   ]
  },
  {
   "cell_type": "code",
   "execution_count": 3,
   "id": "e990a83c",
   "metadata": {
    "execution": {
     "iopub.execute_input": "2021-10-05T18:23:54.102525Z",
     "iopub.status.busy": "2021-10-05T18:23:54.102153Z",
     "iopub.status.idle": "2021-10-05T18:23:54.111190Z",
     "shell.execute_reply": "2021-10-05T18:23:54.110844Z"
    },
    "papermill": {
     "duration": 0.039995,
     "end_time": "2021-10-05T18:23:54.111275",
     "exception": false,
     "start_time": "2021-10-05T18:23:54.071280",
     "status": "completed"
    },
    "tags": [
     "parameters"
    ]
   },
   "outputs": [],
   "source": [
    "method_name = None"
   ]
  },
  {
   "cell_type": "code",
   "execution_count": 4,
   "id": "2e6c7333",
   "metadata": {
    "execution": {
     "iopub.execute_input": "2021-10-05T18:23:54.172104Z",
     "iopub.status.busy": "2021-10-05T18:23:54.171686Z",
     "iopub.status.idle": "2021-10-05T18:23:54.180079Z",
     "shell.execute_reply": "2021-10-05T18:23:54.180350Z"
    },
    "papermill": {
     "duration": 0.040043,
     "end_time": "2021-10-05T18:23:54.180452",
     "exception": false,
     "start_time": "2021-10-05T18:23:54.140409",
     "status": "completed"
    },
    "tags": [
     "injected-parameters"
    ]
   },
   "outputs": [],
   "source": [
    "# Parameters\n",
    "method_name = \"agglom_clustermatch_linear\"\n"
   ]
  },
  {
   "cell_type": "code",
   "execution_count": 5,
   "id": "d507a57e",
   "metadata": {
    "execution": {
     "iopub.execute_input": "2021-10-05T18:23:54.241376Z",
     "iopub.status.busy": "2021-10-05T18:23:54.240991Z",
     "iopub.status.idle": "2021-10-05T18:23:54.249418Z",
     "shell.execute_reply": "2021-10-05T18:23:54.249717Z"
    },
    "papermill": {
     "duration": 0.040356,
     "end_time": "2021-10-05T18:23:54.249821",
     "exception": false,
     "start_time": "2021-10-05T18:23:54.209465",
     "status": "completed"
    },
    "tags": []
   },
   "outputs": [],
   "source": [
    "assert method_name is not None, \"You have to specify a method_name\""
   ]
  },
  {
   "cell_type": "markdown",
   "id": "959d555c",
   "metadata": {
    "papermill": {
     "duration": 0.028552,
     "end_time": "2021-10-05T18:23:54.308143",
     "exception": false,
     "start_time": "2021-10-05T18:23:54.279591",
     "status": "completed"
    },
    "tags": []
   },
   "source": [
    "# Running a method on different parameter settings and datasets"
   ]
  },
  {
   "cell_type": "markdown",
   "id": "327d9569",
   "metadata": {
    "papermill": {
     "duration": 0.03325,
     "end_time": "2021-10-05T18:23:54.370131",
     "exception": false,
     "start_time": "2021-10-05T18:23:54.336881",
     "status": "completed"
    },
    "tags": []
   },
   "source": [
    "Note: If you downloaded the results from zenodo, you don't need to rerun this for \"dummy\", \"agglom\", \"ica_zscore\", \"spectral_biclust\" and \"meanshift\""
   ]
  },
  {
   "cell_type": "markdown",
   "id": "b8cc2c45",
   "metadata": {
    "papermill": {
     "duration": 0.028288,
     "end_time": "2021-10-05T18:23:54.428475",
     "exception": false,
     "start_time": "2021-10-05T18:23:54.400187",
     "status": "completed"
    },
    "tags": []
   },
   "source": [
    "The following code will explore the parameters of a module detection method on every dataset using a grid-search approach."
   ]
  },
  {
   "cell_type": "markdown",
   "id": "900b08de",
   "metadata": {
    "papermill": {
     "duration": 0.028633,
     "end_time": "2021-10-05T18:23:54.485772",
     "exception": false,
     "start_time": "2021-10-05T18:23:54.457139",
     "status": "completed"
    },
    "tags": []
   },
   "source": [
    "If you want to run your own method, you should wrap it into a python function and add its parameters to `conf/paramexplo_blueprints.py`. We will show the whole workflow here for a \"dummy\"  (but fast) clustering method, which will simply group genes randomly."
   ]
  },
  {
   "cell_type": "markdown",
   "id": "e287b462",
   "metadata": {
    "papermill": {
     "duration": 0.028501,
     "end_time": "2021-10-05T18:23:54.542775",
     "exception": false,
     "start_time": "2021-10-05T18:23:54.514274",
     "status": "completed"
    },
    "tags": []
   },
   "source": [
    "Every module detection method is wrapped in a python function (see `scripts/moduledetection.py`)\n",
    "\n",
    "Because module detection methods usually take a while to run, we generate the files necessary to run a method on the several parameter settings and datasets here. These can then be easily called from the commandline, for example on a computer cluster or locally using GNU `parallel`.\n",
    "\n",
    "This function will be called by scripts/moduledetection.py , which will save the modules in the correct format along with additional run information (such as running times)."
   ]
  },
  {
   "cell_type": "code",
   "execution_count": 6,
   "id": "cf92cea7",
   "metadata": {
    "execution": {
     "iopub.execute_input": "2021-10-05T18:23:54.603488Z",
     "iopub.status.busy": "2021-10-05T18:23:54.603098Z",
     "iopub.status.idle": "2021-10-05T18:23:54.612221Z",
     "shell.execute_reply": "2021-10-05T18:23:54.611805Z"
    },
    "papermill": {
     "duration": 0.04072,
     "end_time": "2021-10-05T18:23:54.612303",
     "exception": false,
     "start_time": "2021-10-05T18:23:54.571583",
     "status": "completed"
    },
    "tags": []
   },
   "outputs": [],
   "source": [
    "# datasets to run\n",
    "datasetnames = [\n",
    "    \"ecoli_colombos\",\n",
    "    \"ecoli_dream5\",\n",
    "    \"yeast_gpl2529\",\n",
    "    \"yeast_dream5\",\n",
    "    \"synth_ecoli_regulondb\",\n",
    "    \"synth_yeast_macisaac\",\n",
    "    \"human_tcga\",\n",
    "    \"human_gtex\",\n",
    "    \"human_seek_gpl5175\",\n",
    "    \"ecoli_precise2\"\n",
    "]\n",
    "\n",
    "# choose the method to evaluate\n",
    "# method_name = \"agglom_pearson_abs\" # use the dummy method to check if everything works correctly\n",
    "# method_name = \"agglom\" # this method runs very fast, and has the best performance among clustering methods\n",
    "# method_name = \"ica_zscore\" # this method runs very slow, but has approx. the highest performance in the benchmark\n",
    "# method_name = \"spectral_biclust\" # top biclustering method\n",
    "# method_name = \"meanshift\""
   ]
  },
  {
   "cell_type": "markdown",
   "id": "d05e7285",
   "metadata": {
    "papermill": {
     "duration": 0.028419,
     "end_time": "2021-10-05T18:23:54.669098",
     "exception": false,
     "start_time": "2021-10-05T18:23:54.640679",
     "status": "completed"
    },
    "tags": []
   },
   "source": [
    "To add your own method, create a function with \"your_method_name\" in the `lib/clustering.py` file (or any other file as long as it's imported in `scripts/moduledetection.py`.\n",
    "This function should accept an `E` object (which is a dataframe with genes in columns) and any additional parameters\n",
    "Then add reasonable parameter setting of your method to `conf/paramexplo_blueprints.py`."
   ]
  },
  {
   "cell_type": "markdown",
   "id": "8fa3da49",
   "metadata": {
    "papermill": {
     "duration": 0.028096,
     "end_time": "2021-10-05T18:23:54.725297",
     "exception": false,
     "start_time": "2021-10-05T18:23:54.697201",
     "status": "completed"
    },
    "tags": []
   },
   "source": [
    "method_name = \"your_method_name\""
   ]
  },
  {
   "cell_type": "code",
   "execution_count": 7,
   "id": "2be5d197",
   "metadata": {
    "execution": {
     "iopub.execute_input": "2021-10-05T18:23:54.785449Z",
     "iopub.status.busy": "2021-10-05T18:23:54.785059Z",
     "iopub.status.idle": "2021-10-05T18:23:54.796529Z",
     "shell.execute_reply": "2021-10-05T18:23:54.796828Z"
    },
    "papermill": {
     "duration": 0.04354,
     "end_time": "2021-10-05T18:23:54.796932",
     "exception": false,
     "start_time": "2021-10-05T18:23:54.753392",
     "status": "completed"
    },
    "tags": []
   },
   "outputs": [],
   "source": [
    "# paramexplo_blueprints.py stores for every method the parameters which will be varied using a grid-search approach.\n",
    "%run ../conf/paramexplo_blueprints.py\n",
    "methodblueprint = blueprints[method_name]"
   ]
  },
  {
   "cell_type": "code",
   "execution_count": 8,
   "id": "ef9076db",
   "metadata": {
    "execution": {
     "iopub.execute_input": "2021-10-05T18:23:54.856678Z",
     "iopub.status.busy": "2021-10-05T18:23:54.856300Z",
     "iopub.status.idle": "2021-10-05T18:23:54.868033Z",
     "shell.execute_reply": "2021-10-05T18:23:54.868352Z"
    },
    "papermill": {
     "duration": 0.042752,
     "end_time": "2021-10-05T18:23:54.868457",
     "exception": false,
     "start_time": "2021-10-05T18:23:54.825705",
     "status": "completed"
    },
    "tags": []
   },
   "outputs": [
    {
     "data": {
      "text/plain": [
       "{'staticparams': {'method': 'agglom_clustermatch_linear',\n",
       "  'simdist_function': 'clustermatch_linear'},\n",
       " 'dynparams': {'linkage': ['complete', 'average'],\n",
       "  'k': array([ 25.,  50.,  75., 100., 125., 150., 175., 200., 225., 250., 275.,\n",
       "         300.])},\n",
       " 'type': 'moduledetection'}"
      ]
     },
     "execution_count": 8,
     "metadata": {},
     "output_type": "execute_result"
    }
   ],
   "source": [
    "methodblueprint"
   ]
  },
  {
   "cell_type": "markdown",
   "id": "d7bcf89b",
   "metadata": {
    "papermill": {
     "duration": 0.029306,
     "end_time": "2021-10-05T18:23:54.928673",
     "exception": false,
     "start_time": "2021-10-05T18:23:54.899367",
     "status": "completed"
    },
    "tags": []
   },
   "source": [
    "Generate different parameter settings using a grid-search."
   ]
  },
  {
   "cell_type": "code",
   "execution_count": 9,
   "id": "49891fe4",
   "metadata": {
    "execution": {
     "iopub.execute_input": "2021-10-05T18:23:54.992656Z",
     "iopub.status.busy": "2021-10-05T18:23:54.992267Z",
     "iopub.status.idle": "2021-10-05T18:23:55.003619Z",
     "shell.execute_reply": "2021-10-05T18:23:55.003305Z"
    },
    "papermill": {
     "duration": 0.045518,
     "end_time": "2021-10-05T18:23:55.003708",
     "exception": false,
     "start_time": "2021-10-05T18:23:54.958190",
     "status": "completed"
    },
    "tags": []
   },
   "outputs": [],
   "source": [
    "params_folder = \"conf/paramexplo/\" + method_name + \"/\"\n",
    "if os.path.exists(\"../\" + params_folder):\n",
    "    shutil.rmtree(\"../\" + params_folder)\n",
    "os.makedirs(\"../\" + params_folder)\n",
    "\n",
    "methodsettings = []\n",
    "method_locations = []\n",
    "i = 0\n",
    "for dynparam_combination in list(itertools.product(*[methodblueprint[\"dynparams\"][param] for param in sorted(methodblueprint[\"dynparams\"].keys())])):\n",
    "    method = {\"params\":{}}\n",
    "    method[\"params\"] = methodblueprint[\"staticparams\"].copy()\n",
    "    method[\"params\"].update(dict(zip(sorted(methodblueprint[\"dynparams\"].keys()), dynparam_combination)))\n",
    "    method[\"location\"] = params_folder + str(i) + \".json\"\n",
    "    method[\"seed\"] = 0\n",
    "\n",
    "    methodsettings.append(method)\n",
    "\n",
    "    json.dump(method, open(\"../\" + method[\"location\"], \"w\"), cls=JSONExtendedEncoder)\n",
    "\n",
    "    method_locations.append(method[\"location\"])\n",
    "\n",
    "    i+=1"
   ]
  },
  {
   "cell_type": "markdown",
   "id": "50f84b8f",
   "metadata": {
    "papermill": {
     "duration": 0.029323,
     "end_time": "2021-10-05T18:23:55.062953",
     "exception": false,
     "start_time": "2021-10-05T18:23:55.033630",
     "status": "completed"
    },
    "tags": []
   },
   "source": [
    "Now combine the different parameter settings and datasets. Then generate the different python commands to run every parameter setting and dataset in parallel."
   ]
  },
  {
   "cell_type": "code",
   "execution_count": 10,
   "id": "d18ccf85",
   "metadata": {
    "execution": {
     "iopub.execute_input": "2021-10-05T18:23:55.125943Z",
     "iopub.status.busy": "2021-10-05T18:23:55.125541Z",
     "iopub.status.idle": "2021-10-05T18:23:55.137140Z",
     "shell.execute_reply": "2021-10-05T18:23:55.136755Z"
    },
    "papermill": {
     "duration": 0.044883,
     "end_time": "2021-10-05T18:23:55.137228",
     "exception": false,
     "start_time": "2021-10-05T18:23:55.092345",
     "status": "completed"
    },
    "tags": []
   },
   "outputs": [],
   "source": [
    "settings_name = \"paramexplo/{method_name}\".format(method_name = method_name)\n",
    "settings = []\n",
    "for datasetname in datasetnames:\n",
    "    for setting_ix, methodsetting in enumerate(methodsettings):\n",
    "        settingid = datasetname + \"_\" + str(setting_ix)\n",
    "        settings.append({\n",
    "            \"dataset_location\":\"conf/datasets/\" + datasetname + \".json\",\n",
    "            \"dataset_name\":datasetname,\n",
    "            \"method_location\":methodsetting[\"location\"],\n",
    "            \"output_folder\":\"results/\" + methodblueprint[\"type\"] + \"/{settings_name}/{settingid}/\".format(settings_name=settings_name, settingid=settingid),\n",
    "            \"settingid\":settingid\n",
    "        })\n",
    "json.dump(settings, open(\"../conf/settings/{settings_name}.json\".format(settings_name=settings_name), \"w\"))"
   ]
  },
  {
   "cell_type": "code",
   "execution_count": 11,
   "id": "2daaefa5",
   "metadata": {
    "execution": {
     "iopub.execute_input": "2021-10-05T18:23:55.200627Z",
     "iopub.status.busy": "2021-10-05T18:23:55.200250Z",
     "iopub.status.idle": "2021-10-05T18:23:55.224493Z",
     "shell.execute_reply": "2021-10-05T18:23:55.224101Z"
    },
    "papermill": {
     "duration": 0.05736,
     "end_time": "2021-10-05T18:23:55.224578",
     "exception": false,
     "start_time": "2021-10-05T18:23:55.167218",
     "status": "completed"
    },
    "tags": []
   },
   "outputs": [],
   "source": [
    "settings_dataset = pd.DataFrame([dict(settingid=setting[\"settingid\"], **json.load(open(\"../\" + setting[\"dataset_location\"]))[\"params\"]) for setting in settings])\n",
    "settings_method = pd.DataFrame([dict(settingid=setting[\"settingid\"], **json.load(open(\"../\" + setting[\"method_location\"]))[\"params\"]) for setting in settings])"
   ]
  },
  {
   "cell_type": "code",
   "execution_count": 12,
   "id": "3cfd1ea4",
   "metadata": {
    "execution": {
     "iopub.execute_input": "2021-10-05T18:23:55.288627Z",
     "iopub.status.busy": "2021-10-05T18:23:55.288241Z",
     "iopub.status.idle": "2021-10-05T18:23:55.298652Z",
     "shell.execute_reply": "2021-10-05T18:23:55.298987Z"
    },
    "papermill": {
     "duration": 0.04427,
     "end_time": "2021-10-05T18:23:55.299086",
     "exception": false,
     "start_time": "2021-10-05T18:23:55.254816",
     "status": "completed"
    },
    "tags": []
   },
   "outputs": [
    {
     "name": "stdout",
     "output_type": "stream",
     "text": [
      "Run the following command:\n",
      "parallel -j 4 -a tmp/paramexplo/agglom_clustermatch_linear.txt\n"
     ]
    }
   ],
   "source": [
    "commands = \"\"\n",
    "for i, setting in enumerate(settings):\n",
    "    #commands += \"python scripts/moduledetection.py {method_location} {dataset_location} {output_folder} 0 test\\n\".format(**setting)\n",
    "    commands += \"python3 scripts/\" + methodblueprint[\"type\"] + \".py {method_location} {dataset_location} {output_folder}\\n\".format(**setting)\n",
    "\n",
    "commands_location = \"tmp/{settings_name}.txt\".format(**locals())\n",
    "os.makedirs(\"../\" + os.path.dirname(commands_location), exist_ok=True)\n",
    "with open(\"../\" + commands_location, \"w\") as outfile:\n",
    "    outfile.write(commands)\n",
    "commands_location = \"tmp/{settings_name}.txt\".format(**locals())\n",
    "os.makedirs(os.path.dirname(\"../tmp/\" + commands_location), exist_ok=True)\n",
    "with open(\"../tmp/\" + commands_location, \"w\") as outfile:\n",
    "    outfile.write(commands)\n",
    "    \n",
    "#script_location = generate_batchcode(commands_location, settings_name, len(settings), {\"memory\":\"10G\", \"numcores\":1}, \"biclust_comp2\")\n",
    "\n",
    "# this command can be used on most linux computers to run the different parameter settings in parallel\n",
    "print(\"Run the following command:\\nparallel -j 4 -a \" + commands_location)"
   ]
  },
  {
   "cell_type": "code",
   "execution_count": null,
   "id": "a21a2759",
   "metadata": {
    "papermill": {
     "duration": 0.033939,
     "end_time": "2021-10-05T18:23:55.364623",
     "exception": false,
     "start_time": "2021-10-05T18:23:55.330684",
     "status": "completed"
    },
    "tags": []
   },
   "outputs": [],
   "source": []
  }
 ],
 "metadata": {
  "celltoolbar": "Tags",
  "jupytext": {
   "cell_metadata_filter": "all,-execution,-papermill,-trusted",
   "text_representation": {
    "extension": ".py",
    "format_name": "percent",
    "format_version": "1.3",
    "jupytext_version": "1.13.0"
   }
  },
  "kernelspec": {
   "display_name": "Python 3 (ipykernel)",
   "language": "python",
   "name": "python3"
  },
  "language_info": {
   "codemirror_mode": {
    "name": "ipython",
    "version": 3
   },
   "file_extension": ".py",
   "mimetype": "text/x-python",
   "name": "python",
   "nbconvert_exporter": "python",
   "pygments_lexer": "ipython3",
   "version": "3.9.7"
  },
  "papermill": {
   "default_parameters": {},
   "duration": 3.149625,
   "end_time": "2021-10-05T18:23:55.604718",
   "environment_variables": {},
   "exception": null,
   "input_path": "generate_jobs.ipynb",
   "output_path": "agglom_clustermatch_linear-generate_jobs.ipynb",
   "parameters": {
    "method_name": "agglom_clustermatch_linear"
   },
   "start_time": "2021-10-05T18:23:52.455093",
   "version": "2.3.3"
  },
  "toc": {
   "base_numbering": 1,
   "nav_menu": {},
   "number_sections": true,
   "sideBar": true,
   "skip_h1_title": false,
   "title_cell": "Table of Contents",
   "title_sidebar": "Contents",
   "toc_cell": false,
   "toc_position": {},
   "toc_section_display": true,
   "toc_window_display": false
  }
 },
 "nbformat": 4,
 "nbformat_minor": 5
}