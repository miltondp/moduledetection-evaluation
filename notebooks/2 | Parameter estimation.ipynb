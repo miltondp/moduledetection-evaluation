{
 "cells": [
  {
   "cell_type": "code",
   "execution_count": 43,
   "metadata": {
    "jupyter": {
     "outputs_hidden": false
    }
   },
   "outputs": [
    {
     "name": "stdout",
     "output_type": "stream",
     "text": [
      "The autoreload extension is already loaded. To reload it, use:\n",
      "  %reload_ext autoreload\n"
     ]
    }
   ],
   "source": [
    "import sys\n",
    "import os\n",
    "sys.path.insert(0,os.path.abspath(\"../lib/\"))\n",
    "\n",
    "import json\n",
    "\n",
    "from util import JSONExtendedEncoder\n",
    "\n",
    "from modulecontainers import Modules\n",
    "\n",
    "%load_ext autoreload\n",
    "%autoreload 2\n",
    "\n",
    "%matplotlib inline\n",
    "from matplotlib.pyplot import *\n",
    "\n",
    "import pandas as pd\n",
    "import numpy as np\n",
    "\n",
    "import multiprocessing as mp\n",
    "\n",
    "from collections import OrderedDict\n",
    "\n",
    "from itertools import product\n",
    "from collections import defaultdict\n",
    "\n",
    "import itertools\n",
    "import shutil\n",
    "\n",
    "conf_folder = \"conf/\"\n",
    "\n",
    "import os"
   ]
  },
  {
   "cell_type": "markdown",
   "metadata": {},
   "source": [
    "This runs parameter estimation using either functional enrichment as in Figure 3 of our paper."
   ]
  },
  {
   "cell_type": "markdown",
   "metadata": {},
   "source": [
    "## Run a method"
   ]
  },
  {
   "cell_type": "markdown",
   "metadata": {},
   "source": [
    "To run individual methods:"
   ]
  },
  {
   "cell_type": "code",
   "execution_count": 44,
   "metadata": {
    "tags": []
   },
   "outputs": [],
   "source": [
    "from modulescomparison import ModevalFunctional, ModevalKnownmodules, ModevalCoverage"
   ]
  },
  {
   "cell_type": "code",
   "execution_count": 1,
   "metadata": {
    "tags": []
   },
   "outputs": [
    {
     "ename": "NameError",
     "evalue": "name 'json' is not defined",
     "output_type": "error",
     "traceback": [
      "\u001b[0;31m---------------------------------------------------------------------------\u001b[0m",
      "\u001b[0;31mNameError\u001b[0m                                 Traceback (most recent call last)",
      "\u001b[0;32m/tmp/ipykernel_96711/2728166581.py\u001b[0m in \u001b[0;36m<module>\u001b[0;34m\u001b[0m\n\u001b[1;32m      1\u001b[0m \u001b[0mmethodname\u001b[0m \u001b[0;34m=\u001b[0m \u001b[0;34m\"agglom\"\u001b[0m\u001b[0;34m\u001b[0m\u001b[0;34m\u001b[0m\u001b[0m\n\u001b[1;32m      2\u001b[0m \u001b[0msettings_name\u001b[0m \u001b[0;34m=\u001b[0m \u001b[0;34m\"paramexplo/\"\u001b[0m \u001b[0;34m+\u001b[0m \u001b[0mmethodname\u001b[0m\u001b[0;34m\u001b[0m\u001b[0;34m\u001b[0m\u001b[0m\n\u001b[0;32m----> 3\u001b[0;31m \u001b[0msettings\u001b[0m \u001b[0;34m=\u001b[0m \u001b[0mjson\u001b[0m\u001b[0;34m.\u001b[0m\u001b[0mload\u001b[0m\u001b[0;34m(\u001b[0m\u001b[0mopen\u001b[0m\u001b[0;34m(\u001b[0m\u001b[0;34m\"../conf/settings/{}.json\"\u001b[0m\u001b[0;34m.\u001b[0m\u001b[0mformat\u001b[0m\u001b[0;34m(\u001b[0m\u001b[0msettings_name\u001b[0m\u001b[0;34m)\u001b[0m\u001b[0;34m)\u001b[0m\u001b[0;34m)\u001b[0m\u001b[0;34m\u001b[0m\u001b[0;34m\u001b[0m\u001b[0m\n\u001b[0m",
      "\u001b[0;31mNameError\u001b[0m: name 'json' is not defined"
     ]
    }
   ],
   "source": [
    "methodname = \"agglom\"\n",
    "settings_name = \"paramexplo/\" + methodname\n",
    "settings = json.load(open(\"../conf/settings/{}.json\".format(settings_name)))"
   ]
  },
  {
   "cell_type": "code",
   "execution_count": 46,
   "metadata": {
    "jupyter": {
     "outputs_hidden": false
    }
   },
   "outputs": [
    {
     "name": "stderr",
     "output_type": "stream",
     "text": [
      "Process ForkPoolWorker-5:\n",
      "Traceback (most recent call last):\n",
      "  File \"/home/wsaelens/miniconda3/envs/moduledetect/lib/python3.9/multiprocessing/process.py\", line 315, in _bootstrap\n",
      "    self.run()\n",
      "  File \"/home/wsaelens/miniconda3/envs/moduledetect/lib/python3.9/multiprocessing/process.py\", line 108, in run\n",
      "    self._target(*self._args, **self._kwargs)\n",
      "  File \"/home/wsaelens/miniconda3/envs/moduledetect/lib/python3.9/multiprocessing/pool.py\", line 125, in worker\n",
      "    result = (True, func(*args, **kwds))\n",
      "  File \"/home/wsaelens/miniconda3/envs/moduledetect/lib/python3.9/multiprocessing/pool.py\", line 51, in starmapstar\n",
      "    return list(itertools.starmap(args[0], args[1]))\n",
      "  File \"/home/wsaelens/projects/moduledetection-evaluation/lib/modulescomparison.py\", line 397, in modenrichevalworker\n",
      "    settingscores_gsets = modenrichevalscorer(modules, membership, connectivity)\n",
      "  File \"/home/wsaelens/projects/moduledetection-evaluation/lib/modulescomparison.py\", line 476, in modenrichevalscorer\n",
      "    \"bhi\":cal_bhi(modules, connectivity),\n",
      "  File \"/home/wsaelens/projects/moduledetection-evaluation/lib/modulescomparison.py\", line 407, in cal_bhi\n",
      "    bhi += 1/(len(module) * (len(module) - 1)) * connectivity.loc[module, module].sum().sum()\n",
      "  File \"/home/wsaelens/miniconda3/envs/moduledetect/lib/python3.9/site-packages/pandas/core/indexing.py\", line 925, in __getitem__\n",
      "    return self._getitem_tuple(key)\n",
      "  File \"/home/wsaelens/miniconda3/envs/moduledetect/lib/python3.9/site-packages/pandas/core/indexing.py\", line 1107, in _getitem_tuple\n",
      "    return self._multi_take(tup)\n",
      "  File \"/home/wsaelens/miniconda3/envs/moduledetect/lib/python3.9/site-packages/pandas/core/indexing.py\", line 1059, in _multi_take\n",
      "    d = {\n",
      "KeyboardInterrupt\n",
      "  File \"/home/wsaelens/miniconda3/envs/moduledetect/lib/python3.9/site-packages/pandas/core/dtypes/base.py\", line 289, in is_dtype\n",
      "    if isinstance(dtype, (ABCSeries, ABCIndex, ABCDataFrame, np.dtype)):\n",
      "  File \"/home/wsaelens/miniconda3/envs/moduledetect/lib/python3.9/site-packages/pandas/core/indexing.py\", line 1060, in <dictcomp>\n",
      "    axis: self._get_listlike_indexer(key, axis)\n",
      "  File \"/home/wsaelens/miniconda3/envs/moduledetect/lib/python3.9/site-packages/pandas/core/indexing.py\", line 1310, in _get_listlike_indexer\n",
      "    keyarr = ax.reindex(keyarr)[0]\n",
      "  File \"/home/wsaelens/miniconda3/envs/moduledetect/lib/python3.9/site-packages/pandas/core/indexes/base.py\", line 3825, in reindex\n",
      "    indexer = self.get_indexer(\n",
      "  File \"/home/wsaelens/miniconda3/envs/moduledetect/lib/python3.9/site-packages/pandas/core/indexes/base.py\", line 3461, in get_indexer\n",
      "    if is_categorical_dtype(target.dtype):\n",
      "  File \"/home/wsaelens/miniconda3/envs/moduledetect/lib/python3.9/site-packages/pandas/core/dtypes/common.py\", line 529, in is_categorical_dtype\n",
      "    return CategoricalDtype.is_dtype(arr_or_dtype)\n"
     ]
    }
   ],
   "source": [
    "# create pool of processors\n",
    "if \"pool\" in locals().keys():\n",
    "    pool.close()\n",
    "pool = mp.Pool(1)"
   ]
  },
  {
   "cell_type": "code",
   "execution_count": 47,
   "metadata": {
    "jupyter": {
     "outputs_hidden": false
    }
   },
   "outputs": [],
   "source": [
    "modeval_functional = ModevalFunctional([setting for setting in settings if not setting[\"dataset_name\"].startswith(\"synth\")])"
   ]
  },
  {
   "cell_type": "code",
   "execution_count": 48,
   "metadata": {
    "jupyter": {
     "outputs_hidden": false
    }
   },
   "outputs": [
    {
     "name": "stdout",
     "output_type": "stream",
     "text": [
      "Evaluating a total of 1344 settings.\n"
     ]
    },
    {
     "ename": "KeyboardInterrupt",
     "evalue": "",
     "output_type": "error",
     "traceback": [
      "\u001b[0;31m---------------------------------------------------------------------------\u001b[0m",
      "\u001b[0;31mKeyboardInterrupt\u001b[0m                         Traceback (most recent call last)",
      "\u001b[0;32m/tmp/ipykernel_91716/3979577903.py\u001b[0m in \u001b[0;36m<module>\u001b[0;34m\u001b[0m\n\u001b[0;32m----> 1\u001b[0;31m \u001b[0mmodeval_functional\u001b[0m\u001b[0;34m.\u001b[0m\u001b[0mrun\u001b[0m\u001b[0;34m(\u001b[0m\u001b[0mpool\u001b[0m\u001b[0;34m)\u001b[0m\u001b[0;34m\u001b[0m\u001b[0;34m\u001b[0m\u001b[0m\n\u001b[0m",
      "\u001b[0;32m~/projects/moduledetection-evaluation/lib/modulescomparison.py\u001b[0m in \u001b[0;36mrun\u001b[0;34m(self, pool, gset_names)\u001b[0m\n\u001b[1;32m    367\u001b[0m             \u001b[0mparams_pool\u001b[0m\u001b[0;34m.\u001b[0m\u001b[0mappend\u001b[0m\u001b[0;34m(\u001b[0m\u001b[0;34m(\u001b[0m\u001b[0msetting\u001b[0m\u001b[0;34m,\u001b[0m \u001b[0mscores\u001b[0m\u001b[0;34m)\u001b[0m\u001b[0;34m)\u001b[0m\u001b[0;34m\u001b[0m\u001b[0;34m\u001b[0m\u001b[0m\n\u001b[1;32m    368\u001b[0m \u001b[0;34m\u001b[0m\u001b[0m\n\u001b[0;32m--> 369\u001b[0;31m         \u001b[0mpool\u001b[0m\u001b[0;34m.\u001b[0m\u001b[0mstarmap\u001b[0m\u001b[0;34m(\u001b[0m\u001b[0mmodenrichevalworker\u001b[0m\u001b[0;34m,\u001b[0m \u001b[0mparams_pool\u001b[0m\u001b[0;34m)\u001b[0m\u001b[0;34m\u001b[0m\u001b[0;34m\u001b[0m\u001b[0m\n\u001b[0m\u001b[1;32m    370\u001b[0m \u001b[0;34m\u001b[0m\u001b[0m\n\u001b[1;32m    371\u001b[0m         \u001b[0mscores\u001b[0m \u001b[0;34m=\u001b[0m \u001b[0;34m[\u001b[0m\u001b[0mscores_line\u001b[0m \u001b[0;32mfor\u001b[0m \u001b[0msettingscores\u001b[0m \u001b[0;32min\u001b[0m \u001b[0mlist\u001b[0m\u001b[0;34m(\u001b[0m\u001b[0mscores\u001b[0m\u001b[0;34m.\u001b[0m\u001b[0mvalues\u001b[0m\u001b[0;34m(\u001b[0m\u001b[0;34m)\u001b[0m\u001b[0;34m)\u001b[0m \u001b[0;32mfor\u001b[0m \u001b[0mscores_line\u001b[0m \u001b[0;32min\u001b[0m \u001b[0msettingscores\u001b[0m\u001b[0;34m]\u001b[0m\u001b[0;34m\u001b[0m\u001b[0;34m\u001b[0m\u001b[0m\n",
      "\u001b[0;32m~/miniconda3/envs/moduledetect/lib/python3.9/multiprocessing/pool.py\u001b[0m in \u001b[0;36mstarmap\u001b[0;34m(self, func, iterable, chunksize)\u001b[0m\n\u001b[1;32m    370\u001b[0m         \u001b[0;31m`\u001b[0m\u001b[0mfunc\u001b[0m\u001b[0;31m`\u001b[0m \u001b[0;32mand\u001b[0m \u001b[0;34m(\u001b[0m\u001b[0ma\u001b[0m\u001b[0;34m,\u001b[0m \u001b[0mb\u001b[0m\u001b[0;34m)\u001b[0m \u001b[0mbecomes\u001b[0m \u001b[0mfunc\u001b[0m\u001b[0;34m(\u001b[0m\u001b[0ma\u001b[0m\u001b[0;34m,\u001b[0m \u001b[0mb\u001b[0m\u001b[0;34m)\u001b[0m\u001b[0;34m.\u001b[0m\u001b[0;34m\u001b[0m\u001b[0;34m\u001b[0m\u001b[0m\n\u001b[1;32m    371\u001b[0m         '''\n\u001b[0;32m--> 372\u001b[0;31m         \u001b[0;32mreturn\u001b[0m \u001b[0mself\u001b[0m\u001b[0;34m.\u001b[0m\u001b[0m_map_async\u001b[0m\u001b[0;34m(\u001b[0m\u001b[0mfunc\u001b[0m\u001b[0;34m,\u001b[0m \u001b[0miterable\u001b[0m\u001b[0;34m,\u001b[0m \u001b[0mstarmapstar\u001b[0m\u001b[0;34m,\u001b[0m \u001b[0mchunksize\u001b[0m\u001b[0;34m)\u001b[0m\u001b[0;34m.\u001b[0m\u001b[0mget\u001b[0m\u001b[0;34m(\u001b[0m\u001b[0;34m)\u001b[0m\u001b[0;34m\u001b[0m\u001b[0;34m\u001b[0m\u001b[0m\n\u001b[0m\u001b[1;32m    373\u001b[0m \u001b[0;34m\u001b[0m\u001b[0m\n\u001b[1;32m    374\u001b[0m     def starmap_async(self, func, iterable, chunksize=None, callback=None,\n",
      "\u001b[0;32m~/miniconda3/envs/moduledetect/lib/python3.9/multiprocessing/pool.py\u001b[0m in \u001b[0;36mget\u001b[0;34m(self, timeout)\u001b[0m\n\u001b[1;32m    763\u001b[0m \u001b[0;34m\u001b[0m\u001b[0m\n\u001b[1;32m    764\u001b[0m     \u001b[0;32mdef\u001b[0m \u001b[0mget\u001b[0m\u001b[0;34m(\u001b[0m\u001b[0mself\u001b[0m\u001b[0;34m,\u001b[0m \u001b[0mtimeout\u001b[0m\u001b[0;34m=\u001b[0m\u001b[0;32mNone\u001b[0m\u001b[0;34m)\u001b[0m\u001b[0;34m:\u001b[0m\u001b[0;34m\u001b[0m\u001b[0;34m\u001b[0m\u001b[0m\n\u001b[0;32m--> 765\u001b[0;31m         \u001b[0mself\u001b[0m\u001b[0;34m.\u001b[0m\u001b[0mwait\u001b[0m\u001b[0;34m(\u001b[0m\u001b[0mtimeout\u001b[0m\u001b[0;34m)\u001b[0m\u001b[0;34m\u001b[0m\u001b[0;34m\u001b[0m\u001b[0m\n\u001b[0m\u001b[1;32m    766\u001b[0m         \u001b[0;32mif\u001b[0m \u001b[0;32mnot\u001b[0m \u001b[0mself\u001b[0m\u001b[0;34m.\u001b[0m\u001b[0mready\u001b[0m\u001b[0;34m(\u001b[0m\u001b[0;34m)\u001b[0m\u001b[0;34m:\u001b[0m\u001b[0;34m\u001b[0m\u001b[0;34m\u001b[0m\u001b[0m\n\u001b[1;32m    767\u001b[0m             \u001b[0;32mraise\u001b[0m \u001b[0mTimeoutError\u001b[0m\u001b[0;34m\u001b[0m\u001b[0;34m\u001b[0m\u001b[0m\n",
      "\u001b[0;32m~/miniconda3/envs/moduledetect/lib/python3.9/multiprocessing/pool.py\u001b[0m in \u001b[0;36mwait\u001b[0;34m(self, timeout)\u001b[0m\n\u001b[1;32m    760\u001b[0m \u001b[0;34m\u001b[0m\u001b[0m\n\u001b[1;32m    761\u001b[0m     \u001b[0;32mdef\u001b[0m \u001b[0mwait\u001b[0m\u001b[0;34m(\u001b[0m\u001b[0mself\u001b[0m\u001b[0;34m,\u001b[0m \u001b[0mtimeout\u001b[0m\u001b[0;34m=\u001b[0m\u001b[0;32mNone\u001b[0m\u001b[0;34m)\u001b[0m\u001b[0;34m:\u001b[0m\u001b[0;34m\u001b[0m\u001b[0;34m\u001b[0m\u001b[0m\n\u001b[0;32m--> 762\u001b[0;31m         \u001b[0mself\u001b[0m\u001b[0;34m.\u001b[0m\u001b[0m_event\u001b[0m\u001b[0;34m.\u001b[0m\u001b[0mwait\u001b[0m\u001b[0;34m(\u001b[0m\u001b[0mtimeout\u001b[0m\u001b[0;34m)\u001b[0m\u001b[0;34m\u001b[0m\u001b[0;34m\u001b[0m\u001b[0m\n\u001b[0m\u001b[1;32m    763\u001b[0m \u001b[0;34m\u001b[0m\u001b[0m\n\u001b[1;32m    764\u001b[0m     \u001b[0;32mdef\u001b[0m \u001b[0mget\u001b[0m\u001b[0;34m(\u001b[0m\u001b[0mself\u001b[0m\u001b[0;34m,\u001b[0m \u001b[0mtimeout\u001b[0m\u001b[0;34m=\u001b[0m\u001b[0;32mNone\u001b[0m\u001b[0;34m)\u001b[0m\u001b[0;34m:\u001b[0m\u001b[0;34m\u001b[0m\u001b[0;34m\u001b[0m\u001b[0m\n",
      "\u001b[0;32m~/miniconda3/envs/moduledetect/lib/python3.9/threading.py\u001b[0m in \u001b[0;36mwait\u001b[0;34m(self, timeout)\u001b[0m\n\u001b[1;32m    572\u001b[0m             \u001b[0msignaled\u001b[0m \u001b[0;34m=\u001b[0m \u001b[0mself\u001b[0m\u001b[0;34m.\u001b[0m\u001b[0m_flag\u001b[0m\u001b[0;34m\u001b[0m\u001b[0;34m\u001b[0m\u001b[0m\n\u001b[1;32m    573\u001b[0m             \u001b[0;32mif\u001b[0m \u001b[0;32mnot\u001b[0m \u001b[0msignaled\u001b[0m\u001b[0;34m:\u001b[0m\u001b[0;34m\u001b[0m\u001b[0;34m\u001b[0m\u001b[0m\n\u001b[0;32m--> 574\u001b[0;31m                 \u001b[0msignaled\u001b[0m \u001b[0;34m=\u001b[0m \u001b[0mself\u001b[0m\u001b[0;34m.\u001b[0m\u001b[0m_cond\u001b[0m\u001b[0;34m.\u001b[0m\u001b[0mwait\u001b[0m\u001b[0;34m(\u001b[0m\u001b[0mtimeout\u001b[0m\u001b[0;34m)\u001b[0m\u001b[0;34m\u001b[0m\u001b[0;34m\u001b[0m\u001b[0m\n\u001b[0m\u001b[1;32m    575\u001b[0m             \u001b[0;32mreturn\u001b[0m \u001b[0msignaled\u001b[0m\u001b[0;34m\u001b[0m\u001b[0;34m\u001b[0m\u001b[0m\n\u001b[1;32m    576\u001b[0m \u001b[0;34m\u001b[0m\u001b[0m\n",
      "\u001b[0;32m~/miniconda3/envs/moduledetect/lib/python3.9/threading.py\u001b[0m in \u001b[0;36mwait\u001b[0;34m(self, timeout)\u001b[0m\n\u001b[1;32m    310\u001b[0m         \u001b[0;32mtry\u001b[0m\u001b[0;34m:\u001b[0m    \u001b[0;31m# restore state no matter what (e.g., KeyboardInterrupt)\u001b[0m\u001b[0;34m\u001b[0m\u001b[0;34m\u001b[0m\u001b[0m\n\u001b[1;32m    311\u001b[0m             \u001b[0;32mif\u001b[0m \u001b[0mtimeout\u001b[0m \u001b[0;32mis\u001b[0m \u001b[0;32mNone\u001b[0m\u001b[0;34m:\u001b[0m\u001b[0;34m\u001b[0m\u001b[0;34m\u001b[0m\u001b[0m\n\u001b[0;32m--> 312\u001b[0;31m                 \u001b[0mwaiter\u001b[0m\u001b[0;34m.\u001b[0m\u001b[0macquire\u001b[0m\u001b[0;34m(\u001b[0m\u001b[0;34m)\u001b[0m\u001b[0;34m\u001b[0m\u001b[0;34m\u001b[0m\u001b[0m\n\u001b[0m\u001b[1;32m    313\u001b[0m                 \u001b[0mgotit\u001b[0m \u001b[0;34m=\u001b[0m \u001b[0;32mTrue\u001b[0m\u001b[0;34m\u001b[0m\u001b[0;34m\u001b[0m\u001b[0m\n\u001b[1;32m    314\u001b[0m             \u001b[0;32melse\u001b[0m\u001b[0;34m:\u001b[0m\u001b[0;34m\u001b[0m\u001b[0;34m\u001b[0m\u001b[0m\n",
      "\u001b[0;31mKeyboardInterrupt\u001b[0m: "
     ]
    }
   ],
   "source": [
    "modeval_functional.run(pool)"
   ]
  },
  {
   "cell_type": "code",
   "execution_count": null,
   "metadata": {
    "jupyter": {
     "outputs_hidden": false
    }
   },
   "outputs": [],
   "source": [
    "modeval_functional.save(settings_name)"
   ]
  },
  {
   "cell_type": "markdown",
   "metadata": {},
   "source": [
    "## Combine output from different methods"
   ]
  },
  {
   "cell_type": "markdown",
   "metadata": {},
   "source": [
    "Combine different methods to compare:"
   ]
  },
  {
   "cell_type": "code",
   "execution_count": 23,
   "metadata": {},
   "outputs": [],
   "source": [
    "method_names = [\"dummy\", \"agglom\"]"
   ]
  },
  {
   "cell_type": "code",
   "execution_count": 27,
   "metadata": {
    "jupyter": {
     "outputs_hidden": false
    }
   },
   "outputs": [],
   "source": [
    "scores = {}\n",
    "for methodname in method_names:\n",
    "    settings_name = \"paramexplo/\" + methodname\n",
    "    settings = json.load(open(\"../conf/settings/{}.json\".format(settings_name)))\n",
    "    settings_dataset = pd.DataFrame([dict(settingid=setting[\"settingid\"], **json.load(open(\"../\" + setting[\"dataset_location\"]))[\"params\"]) for setting in settings])\n",
    "    settings_method = pd.DataFrame([dict(settingid=setting[\"settingid\"], **json.load(open(\"../\" + setting[\"method_location\"]))[\"params\"]) for setting in settings])\n",
    "    \n",
    "    modeval_functional.load(settings_name)\n",
    "\n",
    "    modeval_knownmodules = ModevalKnownmodules(settings)\n",
    "    modeval_knownmodules.load(settings_name)\n",
    "    modeval_coverage = ModevalCoverage(settings)\n",
    "    modeval_coverage.load(settings_name)\n",
    "\n",
    "    modeval_coverage.scores[\"refscore\"] = modeval_coverage.scores[\"aucodds_permuted\"]\n",
    "    modeval_knownmodules.scores[\"refscore\"] = modeval_knownmodules.scores[\"F1rprr_permuted\"]\n",
    "    modeval_knownmodules.scores[\"moduledef\"] = [modulesname if modulesname in [\"minimal\", \"strict\"] else \"interconnected\" for modulesname in modeval_knownmodules.scores[\"knownmodules_name\"]]\n",
    "\n",
    "    refscores = pd.concat([modeval_knownmodules.scores, modeval_coverage.scores], ignore_index=True)[[\"settingid\", \"refscore\", \"goldstandard\", \"moduledef\"]]\n",
    "    refscores = refscores.merge(settings_dataset, on=\"settingid\")\n",
    "    \n",
    "    proxyscores = modeval_functional.scores.rename(columns={\"score\":\"proxyscore\", \"scorename\":\"proxyname\"})\n",
    "    \n",
    "    combined = refscores.merge(proxyscores, on=\"settingid\")\n",
    "    \n",
    "    scores[methodname] = combined"
   ]
  },
  {
   "cell_type": "code",
   "execution_count": 28,
   "metadata": {
    "tags": []
   },
   "outputs": [],
   "source": [
    "optimalproxy_funcs = {\"asw\":np.nanargmax, \"ch\":np.nanargmax, \"dbindex\":np.nanargmin, \"dbstarindex\":np.nanargmin, \"bhi#go\":np.nanargmax, \"bhi#kegg\":np.nanargmax, \"bhi#reactome\":np.nanargmax, \n",
    "                      \"faucodds#go\":np.nanargmax, \"faucodds#kegg\":np.nanargmax, \"faucodds#reactome\":np.nanargmax}"
   ]
  },
  {
   "cell_type": "code",
   "execution_count": 30,
   "metadata": {},
   "outputs": [
    {
     "data": {
      "text/html": [
       "<div>\n",
       "<style scoped>\n",
       "    .dataframe tbody tr th:only-of-type {\n",
       "        vertical-align: middle;\n",
       "    }\n",
       "\n",
       "    .dataframe tbody tr th {\n",
       "        vertical-align: top;\n",
       "    }\n",
       "\n",
       "    .dataframe thead th {\n",
       "        text-align: right;\n",
       "    }\n",
       "</style>\n",
       "<table border=\"1\" class=\"dataframe\">\n",
       "  <thead>\n",
       "    <tr style=\"text-align: right;\">\n",
       "      <th></th>\n",
       "      <th>settingid</th>\n",
       "      <th>refscore</th>\n",
       "      <th>goldstandard</th>\n",
       "      <th>moduledef</th>\n",
       "      <th>datasetname</th>\n",
       "      <th>organism</th>\n",
       "      <th>proxyname</th>\n",
       "      <th>proxyscore</th>\n",
       "    </tr>\n",
       "  </thead>\n",
       "  <tbody>\n",
       "    <tr>\n",
       "      <th>0</th>\n",
       "      <td>ecoli_colombos_0</td>\n",
       "      <td>0.999904</td>\n",
       "      <td>ecoli_regulondb#mcl2</td>\n",
       "      <td>interconnected</td>\n",
       "      <td>ecoli_colombos</td>\n",
       "      <td>ecoli</td>\n",
       "      <td>bhi#kegg</td>\n",
       "      <td>0.018868</td>\n",
       "    </tr>\n",
       "    <tr>\n",
       "      <th>1</th>\n",
       "      <td>ecoli_colombos_0</td>\n",
       "      <td>0.999904</td>\n",
       "      <td>ecoli_regulondb#mcl2</td>\n",
       "      <td>interconnected</td>\n",
       "      <td>ecoli_colombos</td>\n",
       "      <td>ecoli</td>\n",
       "      <td>faucodds#kegg</td>\n",
       "      <td>0.011770</td>\n",
       "    </tr>\n",
       "    <tr>\n",
       "      <th>2</th>\n",
       "      <td>ecoli_colombos_0</td>\n",
       "      <td>0.999904</td>\n",
       "      <td>ecoli_regulondb#mcl2</td>\n",
       "      <td>interconnected</td>\n",
       "      <td>ecoli_colombos</td>\n",
       "      <td>ecoli</td>\n",
       "      <td>bhi#go</td>\n",
       "      <td>0.062176</td>\n",
       "    </tr>\n",
       "    <tr>\n",
       "      <th>3</th>\n",
       "      <td>ecoli_colombos_0</td>\n",
       "      <td>0.999904</td>\n",
       "      <td>ecoli_regulondb#mcl2</td>\n",
       "      <td>interconnected</td>\n",
       "      <td>ecoli_colombos</td>\n",
       "      <td>ecoli</td>\n",
       "      <td>faucodds#go</td>\n",
       "      <td>0.010013</td>\n",
       "    </tr>\n",
       "    <tr>\n",
       "      <th>4</th>\n",
       "      <td>ecoli_colombos_0</td>\n",
       "      <td>0.687690</td>\n",
       "      <td>ecoli_regulondb#minimal</td>\n",
       "      <td>minimal</td>\n",
       "      <td>ecoli_colombos</td>\n",
       "      <td>ecoli</td>\n",
       "      <td>bhi#kegg</td>\n",
       "      <td>0.018868</td>\n",
       "    </tr>\n",
       "    <tr>\n",
       "      <th>...</th>\n",
       "      <td>...</td>\n",
       "      <td>...</td>\n",
       "      <td>...</td>\n",
       "      <td>...</td>\n",
       "      <td>...</td>\n",
       "      <td>...</td>\n",
       "      <td>...</td>\n",
       "      <td>...</td>\n",
       "    </tr>\n",
       "    <tr>\n",
       "      <th>1123</th>\n",
       "      <td>human_tcga_3</td>\n",
       "      <td>0.183811</td>\n",
       "      <td>regcircuit</td>\n",
       "      <td>NaN</td>\n",
       "      <td>human_tcga</td>\n",
       "      <td>human</td>\n",
       "      <td>faucodds#kegg</td>\n",
       "      <td>0.014474</td>\n",
       "    </tr>\n",
       "    <tr>\n",
       "      <th>1124</th>\n",
       "      <td>human_tcga_3</td>\n",
       "      <td>0.183811</td>\n",
       "      <td>regcircuit</td>\n",
       "      <td>NaN</td>\n",
       "      <td>human_tcga</td>\n",
       "      <td>human</td>\n",
       "      <td>bhi#go</td>\n",
       "      <td>0.287339</td>\n",
       "    </tr>\n",
       "    <tr>\n",
       "      <th>1125</th>\n",
       "      <td>human_tcga_3</td>\n",
       "      <td>0.183811</td>\n",
       "      <td>regcircuit</td>\n",
       "      <td>NaN</td>\n",
       "      <td>human_tcga</td>\n",
       "      <td>human</td>\n",
       "      <td>faucodds#go</td>\n",
       "      <td>0.001295</td>\n",
       "    </tr>\n",
       "    <tr>\n",
       "      <th>1126</th>\n",
       "      <td>human_tcga_3</td>\n",
       "      <td>0.183811</td>\n",
       "      <td>regcircuit</td>\n",
       "      <td>NaN</td>\n",
       "      <td>human_tcga</td>\n",
       "      <td>human</td>\n",
       "      <td>bhi#reactome</td>\n",
       "      <td>0.031348</td>\n",
       "    </tr>\n",
       "    <tr>\n",
       "      <th>1127</th>\n",
       "      <td>human_tcga_3</td>\n",
       "      <td>0.183811</td>\n",
       "      <td>regcircuit</td>\n",
       "      <td>NaN</td>\n",
       "      <td>human_tcga</td>\n",
       "      <td>human</td>\n",
       "      <td>faucodds#reactome</td>\n",
       "      <td>0.005322</td>\n",
       "    </tr>\n",
       "  </tbody>\n",
       "</table>\n",
       "<p>1128 rows × 8 columns</p>\n",
       "</div>"
      ],
      "text/plain": [
       "             settingid  refscore             goldstandard       moduledef  \\\n",
       "0     ecoli_colombos_0  0.999904     ecoli_regulondb#mcl2  interconnected   \n",
       "1     ecoli_colombos_0  0.999904     ecoli_regulondb#mcl2  interconnected   \n",
       "2     ecoli_colombos_0  0.999904     ecoli_regulondb#mcl2  interconnected   \n",
       "3     ecoli_colombos_0  0.999904     ecoli_regulondb#mcl2  interconnected   \n",
       "4     ecoli_colombos_0  0.687690  ecoli_regulondb#minimal         minimal   \n",
       "...                ...       ...                      ...             ...   \n",
       "1123      human_tcga_3  0.183811               regcircuit             NaN   \n",
       "1124      human_tcga_3  0.183811               regcircuit             NaN   \n",
       "1125      human_tcga_3  0.183811               regcircuit             NaN   \n",
       "1126      human_tcga_3  0.183811               regcircuit             NaN   \n",
       "1127      human_tcga_3  0.183811               regcircuit             NaN   \n",
       "\n",
       "         datasetname organism          proxyname  proxyscore  \n",
       "0     ecoli_colombos    ecoli           bhi#kegg    0.018868  \n",
       "1     ecoli_colombos    ecoli      faucodds#kegg    0.011770  \n",
       "2     ecoli_colombos    ecoli             bhi#go    0.062176  \n",
       "3     ecoli_colombos    ecoli        faucodds#go    0.010013  \n",
       "4     ecoli_colombos    ecoli           bhi#kegg    0.018868  \n",
       "...              ...      ...                ...         ...  \n",
       "1123      human_tcga    human      faucodds#kegg    0.014474  \n",
       "1124      human_tcga    human             bhi#go    0.287339  \n",
       "1125      human_tcga    human        faucodds#go    0.001295  \n",
       "1126      human_tcga    human       bhi#reactome    0.031348  \n",
       "1127      human_tcga    human  faucodds#reactome    0.005322  \n",
       "\n",
       "[1128 rows x 8 columns]"
      ]
     },
     "execution_count": 30,
     "metadata": {},
     "output_type": "execute_result"
    }
   ],
   "source": [
    "methodscores"
   ]
  },
  {
   "cell_type": "code",
   "execution_count": 32,
   "metadata": {
    "jupyter": {
     "outputs_hidden": false
    }
   },
   "outputs": [
    {
     "name": "stderr",
     "output_type": "stream",
     "text": [
      "/tmp/ipykernel_91716/3358237533.py:4: SettingWithCopyWarning: \n",
      "A value is trying to be set on a copy of a slice from a DataFrame\n",
      "\n",
      "See the caveats in the documentation: https://pandas.pydata.org/pandas-docs/stable/user_guide/indexing.html#returning-a-view-versus-a-copy\n",
      "  methodscores[\"proxyscore\"][np.isinf(methodscores[\"proxyscore\"])] = np.nan\n"
     ]
    }
   ],
   "source": [
    "finalscores = []\n",
    "\n",
    "for method, methodscores in scores.items():\n",
    "    methodscores[\"proxyscore\"][np.isinf(methodscores[\"proxyscore\"])] = np.nan\n",
    "    for (dataset, goldstandard, proxyname), subscores in methodscores.groupby([\"datasetname\", \"goldstandard\", \"proxyname\"]):\n",
    "        if proxyname not in optimalproxy_funcs.keys():\n",
    "            continue\n",
    "        if proxyname.endswith(\"reactome\"):\n",
    "            continue\n",
    "\n",
    "        optimalproxy_func = optimalproxy_funcs[proxyname]\n",
    "        if np.all(np.isnan(subscores[\"proxyscore\"])):\n",
    "            print(\"random?\", method)\n",
    "            print(dataset, refgrouper,proxygrouper)\n",
    "            optimalproxy = np.random.choice(subscores.index)\n",
    "        else:\n",
    "            optimalproxy = subscores.index[optimalproxy_func(subscores[\"proxyscore\"])]\n",
    "            \n",
    "        row = subscores.loc[optimalproxy].copy()\n",
    "        row[\"optimalrefscore\"] = subscores[\"refscore\"].max()\n",
    "        row[\"method\"] = method\n",
    "        finalscores.append(row)\n",
    "finalscores = pd.DataFrame(finalscores).rename(columns={\"organism\":\"organismoi\", \"goldstandard\":\"goldstandardoi\", \"refscore\":\"score\"})"
   ]
  },
  {
   "cell_type": "code",
   "execution_count": 33,
   "metadata": {
    "tags": []
   },
   "outputs": [],
   "source": [
    "from collections import Counter"
   ]
  },
  {
   "cell_type": "code",
   "execution_count": 35,
   "metadata": {},
   "outputs": [],
   "source": [
    "def add_weights(scores):\n",
    "    weights = []\n",
    "    scores[\"moduledef\"] = scores[\"moduledef\"].fillna(\"\")\n",
    "    for organismoi, subscores in scores.groupby(\"organismoi\"):\n",
    "        moduledef_weights = 1/subscores.groupby(\"moduledef\")[\"score\"].count()\n",
    "        for moduledef, weight in moduledef_weights.items():\n",
    "            weights.append({\n",
    "                    \"organism\":organismoi,\n",
    "                    \"moduledef\":moduledef,\n",
    "                    \"weight\":weight / len(moduledef_weights)\n",
    "                })\n",
    "    weights = pd.DataFrame(weights).set_index([\"organism\", \"moduledef\"])[\"weight\"]\n",
    "    \n",
    "    scores[\"weight\"] = weights.loc[pd.Index(scores[[\"organismoi\", \"moduledef\"]])].tolist()\n",
    "    \n",
    "    return scores"
   ]
  },
  {
   "cell_type": "code",
   "execution_count": 37,
   "metadata": {
    "jupyter": {
     "outputs_hidden": false
    }
   },
   "outputs": [
    {
     "data": {
      "text/plain": [
       "method\n",
       "agglom    6.246780\n",
       "dummy     0.671632\n",
       "dtype: float64"
      ]
     },
     "execution_count": 37,
     "metadata": {},
     "output_type": "execute_result"
    }
   ],
   "source": [
    "proxyscores_ = add_weights(finalscores)\n",
    "proxyscores = proxyscores_.groupby([\"proxyname\", \"method\"]).apply(lambda x: np.average(x.score, weights=x.weight)).unstack()\n",
    "\n",
    "proxyscores_.groupby(\"method\").apply(lambda x: np.average(x.optimalrefscore, weights=x.weight))"
   ]
  },
  {
   "cell_type": "code",
   "execution_count": 40,
   "metadata": {
    "tags": []
   },
   "outputs": [],
   "source": [
    "testscores_original = pd.read_table(\"../results/testscores_.tsv\", index_col=0)\n",
    "testscores_original = testscores_original.query(\"organismoi != 'synth'\").groupby(\"method\").apply(lambda x: np.average(x.score, weights=x.weight))\n",
    "\n",
    "trainingscores_original = pd.read_table(\"../results/trainingscores_.tsv\", index_col=0)\n",
    "trainingscores_original = trainingscores_original.query(\"organismoi != 'synth'\").groupby(\"method\").apply(lambda x: np.average(x.score, weights=x.weight))\n",
    "\n",
    "proxyscores.loc[\"training\"] = trainingscores_original.loc[proxyscores.columns]\n",
    "proxyscores.loc[\"test\"] = testscores_original.loc[proxyscores.columns]"
   ]
  },
  {
   "cell_type": "code",
   "execution_count": 42,
   "metadata": {
    "jupyter": {
     "outputs_hidden": false
    },
    "scrolled": true
   },
   "outputs": [
    {
     "data": {
      "image/png": "[encoded data removed]",
      "text/plain": [
       "<Figure size 72x288 with 1 Axes>"
      ]
     },
     "metadata": {
      "needs_background": "light"
     },
     "output_type": "display_data"
    }
   ],
   "source": [
    "xs = pd.Series(np.arange(0, len(proxyscores.columns)), index=proxyscores.columns)\n",
    "fig = figure(figsize=(len(xs)*0.5,4))\n",
    "ax = fig.add_subplot(111)\n",
    "\n",
    "markersettings = {\n",
    "    \"training\":[\"#999999\", \"_\", 0],\n",
    "    \"test\":[\"#333333\", \"_\", 0],\n",
    "    \"bhi#go\":[\"#00A6BF\", \"o\", 50],\n",
    "    \"faucodds#go\":[\"#0067bd\", \"o\", 50],\n",
    "    \"bhi#kegg\":[\"#00A6BF\", \"x\", 50],\n",
    "    \"faucodds#kegg\":[\"#0067bd\", \"x\", 50]\n",
    "}\n",
    "\n",
    "proxyorder = [\"test\", \"bhi#go\", \"faucodds#go\", \"bhi#kegg\", \"faucodds#kegg\", \"training\"]\n",
    "proxyscores = proxyscores.loc[proxyorder]\n",
    "w = 0.8\n",
    "for method, methodscores in proxyscores.iteritems():\n",
    "    x = xs[method]\n",
    "    ax.add_patch(\n",
    "        Rectangle(\n",
    "            (x-w/2, methodscores[\"test\"]),\n",
    "            w,\n",
    "            methodscores[\"training\"]-methodscores[\"test\"],\n",
    "            fc=\"#AAAAAA\", zorder=0, lw=0\n",
    "        )\n",
    "    )\n",
    "    for i, (proxygroup, score) in enumerate(methodscores.items()):\n",
    "        if proxygroup in [\"training\"]:#, \"test\"]:\n",
    "            \"\"\n",
    "        else:\n",
    "            markersetting = markersettings[proxygroup]\n",
    "            scatter(x, score, color=markersetting[0], marker=markersetting[1], s=markersetting[2], zorder=i+5)\n",
    "            #scatter(x, score, color=markersetting[0], marker=\"_\", s=250)\n",
    "            line =  Line2D((x-w/2,x+w/2),(score, score),color=markersetting[0], zorder=i+5, solid_capstyle=\"butt\", lw=1)\n",
    "            ax.add_artist(line)\n",
    "        \n",
    "ax.set_ylim(0, 6.5)\n",
    "ax.set_xlim(-.6, xs.max()+0.6)\n",
    "#axis(\"off\")\n",
    "ax.set_xticks(range(len(proxyscores.columns)))\n",
    "ax.set_xticklabels(proxyscores.columns, rotation=45, ha=\"right\")\n",
    "ax.set_yticks(np.arange(0, 6.01, 2))\n",
    "\n",
    "axhline(1, linestyle=\"--\", color=\"#555555\", lw=1)\n",
    "\n",
    "ax.tick_params(labelsize=14)"
   ]
  }
 ],
 "metadata": {
  "jupytext": {
   "cell_metadata_filter": "all,-execution,-papermill,-trusted"
  },
  "kernelspec": {
   "display_name": "Python 3 (ipykernel)",
   "language": "python",
   "name": "python3"
  },
  "language_info": {
   "codemirror_mode": {
    "name": "ipython",
    "version": 3
   },
   "file_extension": ".py",
   "mimetype": "text/x-python",
   "name": "python",
   "nbconvert_exporter": "python",
   "pygments_lexer": "ipython3",
   "version": "3.9.7"
  },
  "toc": {
   "base_numbering": 1,
   "nav_menu": {},
   "number_sections": true,
   "sideBar": true,
   "skip_h1_title": false,
   "title_cell": "Table of Contents",
   "title_sidebar": "Contents",
   "toc_cell": false,
   "toc_position": {},
   "toc_section_display": true,
   "toc_window_display": false
  }
 },
 "nbformat": 4,
 "nbformat_minor": 4
}
