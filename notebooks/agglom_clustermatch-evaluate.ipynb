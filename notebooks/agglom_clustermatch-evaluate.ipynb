{
 "cells": [
  {
   "cell_type": "markdown",
   "id": "e6223c58",
   "metadata": {
    "papermill": {
     "duration": 0.086045,
     "end_time": "2021-10-11T13:16:52.331995",
     "exception": false,
     "start_time": "2021-10-11T13:16:52.245950",
     "status": "completed"
    },
    "tags": []
   },
   "source": [
    "# Overall performance of module detection methods"
   ]
  },
  {
   "cell_type": "code",
   "execution_count": 1,
   "id": "37913d59",
   "metadata": {
    "execution": {
     "iopub.execute_input": "2021-10-11T13:16:52.442069Z",
     "iopub.status.busy": "2021-10-11T13:16:52.440651Z",
     "iopub.status.idle": "2021-10-11T13:16:52.846321Z",
     "shell.execute_reply": "2021-10-11T13:16:52.845754Z"
    },
    "papermill": {
     "duration": 0.461359,
     "end_time": "2021-10-11T13:16:52.846439",
     "exception": false,
     "start_time": "2021-10-11T13:16:52.385080",
     "status": "completed"
    },
    "scrolled": true,
    "tags": []
   },
   "outputs": [],
   "source": [
    "import sys\n",
    "import os\n",
    "# sys.path.insert(0,os.path.abspath(\"../lib/\"))\n",
    "\n",
    "import json\n",
    "\n",
    "from util import JSONExtendedEncoder\n",
    "\n",
    "%load_ext autoreload\n",
    "%autoreload 2\n",
    "\n",
    "%matplotlib inline\n",
    "from matplotlib.pyplot import *\n",
    "\n",
    "import pandas as pd\n",
    "import numpy as np\n",
    "\n",
    "import multiprocessing as mp\n",
    "\n",
    "from itertools import product\n",
    "\n",
    "import itertools\n",
    "import shutil\n",
    "\n",
    "import os\n",
    "\n",
    "conf_folder = \"conf/\""
   ]
  },
  {
   "cell_type": "markdown",
   "id": "5f16487a",
   "metadata": {
    "papermill": {
     "duration": 0.047379,
     "end_time": "2021-10-11T13:16:52.953448",
     "exception": false,
     "start_time": "2021-10-11T13:16:52.906069",
     "status": "completed"
    },
    "tags": []
   },
   "source": [
    "# Settings"
   ]
  },
  {
   "cell_type": "code",
   "execution_count": 2,
   "id": "ec650a54",
   "metadata": {
    "execution": {
     "iopub.execute_input": "2021-10-11T13:16:53.051087Z",
     "iopub.status.busy": "2021-10-11T13:16:53.050697Z",
     "iopub.status.idle": "2021-10-11T13:16:53.059992Z",
     "shell.execute_reply": "2021-10-11T13:16:53.059572Z"
    },
    "papermill": {
     "duration": 0.059029,
     "end_time": "2021-10-11T13:16:53.060080",
     "exception": false,
     "start_time": "2021-10-11T13:16:53.001051",
     "status": "completed"
    },
    "tags": [
     "parameters"
    ]
   },
   "outputs": [],
   "source": [
    "n_jobs = int(mp.cpu_count() - 1)\n",
    "method_name = None"
   ]
  },
  {
   "cell_type": "code",
   "execution_count": 3,
   "id": "cb007c96",
   "metadata": {
    "execution": {
     "iopub.execute_input": "2021-10-11T13:16:53.158619Z",
     "iopub.status.busy": "2021-10-11T13:16:53.158261Z",
     "iopub.status.idle": "2021-10-11T13:16:53.169499Z",
     "shell.execute_reply": "2021-10-11T13:16:53.168458Z"
    },
    "papermill": {
     "duration": 0.061074,
     "end_time": "2021-10-11T13:16:53.169720",
     "exception": false,
     "start_time": "2021-10-11T13:16:53.108646",
     "status": "completed"
    },
    "tags": [
     "injected-parameters"
    ]
   },
   "outputs": [],
   "source": [
    "# Parameters\n",
    "method_name = \"agglom_clustermatch\"\n",
    "n_jobs = 3\n"
   ]
  },
  {
   "cell_type": "code",
   "execution_count": 4,
   "id": "f1d8ca28",
   "metadata": {
    "execution": {
     "iopub.execute_input": "2021-10-11T13:16:53.269277Z",
     "iopub.status.busy": "2021-10-11T13:16:53.268902Z",
     "iopub.status.idle": "2021-10-11T13:16:53.278268Z",
     "shell.execute_reply": "2021-10-11T13:16:53.277888Z"
    },
    "papermill": {
     "duration": 0.05937,
     "end_time": "2021-10-11T13:16:53.278355",
     "exception": false,
     "start_time": "2021-10-11T13:16:53.218985",
     "status": "completed"
    },
    "tags": []
   },
   "outputs": [],
   "source": [
    "assert method_name is not None, \"You have to specify a method_name\""
   ]
  },
  {
   "cell_type": "code",
   "execution_count": 5,
   "id": "0471176f",
   "metadata": {
    "execution": {
     "iopub.execute_input": "2021-10-11T13:16:53.381652Z",
     "iopub.status.busy": "2021-10-11T13:16:53.380611Z",
     "iopub.status.idle": "2021-10-11T13:16:53.392046Z",
     "shell.execute_reply": "2021-10-11T13:16:53.391597Z"
    },
    "papermill": {
     "duration": 0.06576,
     "end_time": "2021-10-11T13:16:53.392150",
     "exception": false,
     "start_time": "2021-10-11T13:16:53.326390",
     "status": "completed"
    },
    "tags": []
   },
   "outputs": [
    {
     "name": "stdout",
     "output_type": "stream",
     "text": [
      "Using 3 cores\n"
     ]
    }
   ],
   "source": [
    "print(f\"Using {n_jobs} cores\")"
   ]
  },
  {
   "cell_type": "markdown",
   "id": "5b2b490e",
   "metadata": {
    "papermill": {
     "duration": 0.048399,
     "end_time": "2021-10-11T13:16:53.493179",
     "exception": false,
     "start_time": "2021-10-11T13:16:53.444780",
     "status": "completed"
    },
    "tags": []
   },
   "source": [
    "# Running a method on different parameter settings and datasets"
   ]
  },
  {
   "cell_type": "markdown",
   "id": "a74714f1",
   "metadata": {
    "papermill": {
     "duration": 0.048413,
     "end_time": "2021-10-11T13:16:53.589146",
     "exception": false,
     "start_time": "2021-10-11T13:16:53.540733",
     "status": "completed"
    },
    "tags": []
   },
   "source": [
    "Note: If you downloaded the results from zenodo, you don't need to rerun this for \"dummy\", \"agglom\", \"ica_zscore\", \"spectral_biclust\" and \"meanshift\""
   ]
  },
  {
   "cell_type": "markdown",
   "id": "d9d3c68b",
   "metadata": {
    "papermill": {
     "duration": 0.048447,
     "end_time": "2021-10-11T13:16:53.685266",
     "exception": false,
     "start_time": "2021-10-11T13:16:53.636819",
     "status": "completed"
    },
    "tags": []
   },
   "source": [
    "The following code will explore the parameters of a module detection method on every dataset using a grid-search approach."
   ]
  },
  {
   "cell_type": "markdown",
   "id": "8ceb3073",
   "metadata": {
    "papermill": {
     "duration": 0.047773,
     "end_time": "2021-10-11T13:16:53.780476",
     "exception": false,
     "start_time": "2021-10-11T13:16:53.732703",
     "status": "completed"
    },
    "tags": []
   },
   "source": [
    "If you want to run your own method, you should wrap it into a python function and add its parameters to `conf/paramexplo_blueprints.py`. We will show the whole workflow here for a \"dummy\"  (but fast) clustering method, which will simply group genes randomly."
   ]
  },
  {
   "cell_type": "markdown",
   "id": "4912b207",
   "metadata": {
    "papermill": {
     "duration": 0.047376,
     "end_time": "2021-10-11T13:16:53.875369",
     "exception": false,
     "start_time": "2021-10-11T13:16:53.827993",
     "status": "completed"
    },
    "tags": []
   },
   "source": [
    "Every module detection method is wrapped in a python function (see `scripts/moduledetection.py`)\n",
    "\n",
    "Because module detection methods usually take a while to run, we generate the files necessary to run a method on the several parameter settings and datasets here. These can then be easily called from the commandline, for example on a computer cluster or locally using GNU `parallel`.\n",
    "\n",
    "This function will be called by scripts/moduledetection.py , which will save the modules in the correct format along with additional run information (such as running times)."
   ]
  },
  {
   "cell_type": "code",
   "execution_count": 6,
   "id": "04791140",
   "metadata": {
    "execution": {
     "iopub.execute_input": "2021-10-11T13:16:53.973770Z",
     "iopub.status.busy": "2021-10-11T13:16:53.973387Z",
     "iopub.status.idle": "2021-10-11T13:16:53.982377Z",
     "shell.execute_reply": "2021-10-11T13:16:53.982669Z"
    },
    "papermill": {
     "duration": 0.060064,
     "end_time": "2021-10-11T13:16:53.982771",
     "exception": false,
     "start_time": "2021-10-11T13:16:53.922707",
     "status": "completed"
    },
    "tags": []
   },
   "outputs": [],
   "source": [
    "# datasets to run\n",
    "datasetnames = [\n",
    "    \"ecoli_colombos\",\n",
    "    \"ecoli_dream5\",\n",
    "    \"yeast_gpl2529\",\n",
    "    \"yeast_dream5\",\n",
    "    \"synth_ecoli_regulondb\",\n",
    "    \"synth_yeast_macisaac\",\n",
    "    \"human_tcga\",\n",
    "    \"human_gtex\",\n",
    "    \"human_seek_gpl5175\",\n",
    "    \"ecoli_precise2\"\n",
    "]\n",
    "\n",
    "# choose the method to evaluate\n",
    "# method_name = \"agglom_pearson_abs\" # use the dummy method to check if everything works correctly\n",
    "# method_name = \"agglom\" # this method runs very fast, and has the best performance among clustering methods\n",
    "# method_name = \"ica_zscore\" # this method runs very slow, but has approx. the highest performance in the benchmark\n",
    "# method_name = \"spectral_biclust\" # top biclustering method\n",
    "# method_name = \"meanshift\""
   ]
  },
  {
   "cell_type": "markdown",
   "id": "405c506e",
   "metadata": {
    "papermill": {
     "duration": 0.047835,
     "end_time": "2021-10-11T13:16:54.078855",
     "exception": false,
     "start_time": "2021-10-11T13:16:54.031020",
     "status": "completed"
    },
    "tags": []
   },
   "source": [
    "To add your own method, create a function with \"your_method_name\" in the `lib/clustering.py` file (or any other file as long as it's imported in `scripts/moduledetection.py`.\n",
    "This function should accept an `E` object (which is a dataframe with genes in columns) and any additional parameters\n",
    "Then add reasonable parameter setting of your method to `conf/paramexplo_blueprints.py`."
   ]
  },
  {
   "cell_type": "markdown",
   "id": "d9b38dbe",
   "metadata": {
    "papermill": {
     "duration": 0.047719,
     "end_time": "2021-10-11T13:16:54.174362",
     "exception": false,
     "start_time": "2021-10-11T13:16:54.126643",
     "status": "completed"
    },
    "tags": []
   },
   "source": [
    "method_name = \"your_method_name\""
   ]
  },
  {
   "cell_type": "code",
   "execution_count": 7,
   "id": "debc5e35",
   "metadata": {
    "execution": {
     "iopub.execute_input": "2021-10-11T13:16:54.273214Z",
     "iopub.status.busy": "2021-10-11T13:16:54.272121Z",
     "iopub.status.idle": "2021-10-11T13:16:54.284635Z",
     "shell.execute_reply": "2021-10-11T13:16:54.284922Z"
    },
    "papermill": {
     "duration": 0.062443,
     "end_time": "2021-10-11T13:16:54.285028",
     "exception": false,
     "start_time": "2021-10-11T13:16:54.222585",
     "status": "completed"
    },
    "tags": []
   },
   "outputs": [],
   "source": [
    "# paramexplo_blueprints.py stores for every method the parameters which will be varied using a grid-search approach.\n",
    "%run ../conf/paramexplo_blueprints.py\n",
    "methodblueprint = blueprints[method_name]"
   ]
  },
  {
   "cell_type": "code",
   "execution_count": 8,
   "id": "1ee973ec",
   "metadata": {
    "execution": {
     "iopub.execute_input": "2021-10-11T13:16:54.388847Z",
     "iopub.status.busy": "2021-10-11T13:16:54.388437Z",
     "iopub.status.idle": "2021-10-11T13:16:54.400541Z",
     "shell.execute_reply": "2021-10-11T13:16:54.400877Z"
    },
    "papermill": {
     "duration": 0.067235,
     "end_time": "2021-10-11T13:16:54.400993",
     "exception": false,
     "start_time": "2021-10-11T13:16:54.333758",
     "status": "completed"
    },
    "tags": []
   },
   "outputs": [
    {
     "data": {
      "text/plain": [
       "{'staticparams': {'method': 'agglom_clustermatch',\n",
       "  'simdist_function': 'clustermatch'},\n",
       " 'dynparams': {'linkage': ['complete', 'average'],\n",
       "  'k': array([ 25.,  50.,  75., 100., 125., 150., 175., 200., 225., 250., 275.,\n",
       "         300.])},\n",
       " 'type': 'moduledetection'}"
      ]
     },
     "execution_count": 8,
     "metadata": {},
     "output_type": "execute_result"
    }
   ],
   "source": [
    "methodblueprint"
   ]
  },
  {
   "cell_type": "markdown",
   "id": "68c822d7",
   "metadata": {
    "papermill": {
     "duration": 0.049104,
     "end_time": "2021-10-11T13:16:54.501446",
     "exception": false,
     "start_time": "2021-10-11T13:16:54.452342",
     "status": "completed"
    },
    "tags": []
   },
   "source": [
    "Generate different parameter settings using a grid-search."
   ]
  },
  {
   "cell_type": "code",
   "execution_count": 9,
   "id": "72676133",
   "metadata": {
    "execution": {
     "iopub.execute_input": "2021-10-11T13:16:54.604414Z",
     "iopub.status.busy": "2021-10-11T13:16:54.604026Z",
     "iopub.status.idle": "2021-10-11T13:16:54.615717Z",
     "shell.execute_reply": "2021-10-11T13:16:54.615341Z"
    },
    "papermill": {
     "duration": 0.065507,
     "end_time": "2021-10-11T13:16:54.615805",
     "exception": false,
     "start_time": "2021-10-11T13:16:54.550298",
     "status": "completed"
    },
    "tags": []
   },
   "outputs": [],
   "source": [
    "params_folder = \"conf/paramexplo/\" + method_name + \"/\"\n",
    "if os.path.exists(\"../\" + params_folder):\n",
    "    shutil.rmtree(\"../\" + params_folder)\n",
    "os.makedirs(\"../\" + params_folder)\n",
    "\n",
    "methodsettings = []\n",
    "method_locations = []\n",
    "i = 0\n",
    "for dynparam_combination in list(itertools.product(*[methodblueprint[\"dynparams\"][param] for param in sorted(methodblueprint[\"dynparams\"].keys())])):\n",
    "    method = {\"params\":{}}\n",
    "    method[\"params\"] = methodblueprint[\"staticparams\"].copy()\n",
    "    method[\"params\"].update(dict(zip(sorted(methodblueprint[\"dynparams\"].keys()), dynparam_combination)))\n",
    "    method[\"location\"] = params_folder + str(i) + \".json\"\n",
    "    method[\"seed\"] = 0\n",
    "\n",
    "    methodsettings.append(method)\n",
    "\n",
    "    json.dump(method, open(\"../\" + method[\"location\"], \"w\"), cls=JSONExtendedEncoder)\n",
    "\n",
    "    method_locations.append(method[\"location\"])\n",
    "\n",
    "    i+=1"
   ]
  },
  {
   "cell_type": "markdown",
   "id": "f7b9e145",
   "metadata": {
    "papermill": {
     "duration": 0.048923,
     "end_time": "2021-10-11T13:16:54.714820",
     "exception": false,
     "start_time": "2021-10-11T13:16:54.665897",
     "status": "completed"
    },
    "tags": []
   },
   "source": [
    "Now combine the different parameter settings and datasets. Then generate the different python commands to run every parameter setting and dataset in parallel."
   ]
  },
  {
   "cell_type": "code",
   "execution_count": 10,
   "id": "3bbdb596",
   "metadata": {
    "execution": {
     "iopub.execute_input": "2021-10-11T13:16:54.816625Z",
     "iopub.status.busy": "2021-10-11T13:16:54.816234Z",
     "iopub.status.idle": "2021-10-11T13:16:54.827836Z",
     "shell.execute_reply": "2021-10-11T13:16:54.827466Z"
    },
    "papermill": {
     "duration": 0.064436,
     "end_time": "2021-10-11T13:16:54.827961",
     "exception": false,
     "start_time": "2021-10-11T13:16:54.763525",
     "status": "completed"
    },
    "tags": []
   },
   "outputs": [],
   "source": [
    "settings_name = \"paramexplo/{method_name}\".format(method_name = method_name)\n",
    "settings = []\n",
    "for datasetname in datasetnames:\n",
    "    for setting_ix, methodsetting in enumerate(methodsettings):\n",
    "        settingid = datasetname + \"_\" + str(setting_ix)\n",
    "        settings.append({\n",
    "            \"dataset_location\":\"conf/datasets/\" + datasetname + \".json\",\n",
    "            \"dataset_name\":datasetname,\n",
    "            \"method_location\":methodsetting[\"location\"],\n",
    "            \"output_folder\":\"results/\" + methodblueprint[\"type\"] + \"/{settings_name}/{settingid}/\".format(settings_name=settings_name, settingid=settingid),\n",
    "            \"settingid\":settingid\n",
    "        })\n",
    "json.dump(settings, open(\"../conf/settings/{settings_name}.json\".format(settings_name=settings_name), \"w\"))"
   ]
  },
  {
   "cell_type": "code",
   "execution_count": 11,
   "id": "d9bb0e00",
   "metadata": {
    "execution": {
     "iopub.execute_input": "2021-10-11T13:16:54.929666Z",
     "iopub.status.busy": "2021-10-11T13:16:54.929285Z",
     "iopub.status.idle": "2021-10-11T13:16:54.953328Z",
     "shell.execute_reply": "2021-10-11T13:16:54.952943Z"
    },
    "papermill": {
     "duration": 0.076316,
     "end_time": "2021-10-11T13:16:54.953415",
     "exception": false,
     "start_time": "2021-10-11T13:16:54.877099",
     "status": "completed"
    },
    "tags": []
   },
   "outputs": [],
   "source": [
    "settings_dataset = pd.DataFrame([dict(settingid=setting[\"settingid\"], **json.load(open(\"../\" + setting[\"dataset_location\"]))[\"params\"]) for setting in settings])\n",
    "settings_method = pd.DataFrame([dict(settingid=setting[\"settingid\"], **json.load(open(\"../\" + setting[\"method_location\"]))[\"params\"]) for setting in settings])"
   ]
  },
  {
   "cell_type": "code",
   "execution_count": 12,
   "id": "f0c7eb31",
   "metadata": {
    "execution": {
     "iopub.execute_input": "2021-10-11T13:16:55.056150Z",
     "iopub.status.busy": "2021-10-11T13:16:55.055727Z",
     "iopub.status.idle": "2021-10-11T13:16:55.064557Z",
     "shell.execute_reply": "2021-10-11T13:16:55.064233Z"
    },
    "papermill": {
     "duration": 0.061464,
     "end_time": "2021-10-11T13:16:55.064645",
     "exception": false,
     "start_time": "2021-10-11T13:16:55.003181",
     "status": "completed"
    },
    "tags": []
   },
   "outputs": [],
   "source": [
    "# commands = \"\"\n",
    "# for i, setting in enumerate(settings):\n",
    "#     #commands += \"python scripts/moduledetection.py {method_location} {dataset_location} {output_folder} 0 test\\n\".format(**setting)\n",
    "#     commands += \"python3 scripts/\" + methodblueprint[\"type\"] + \".py {method_location} {dataset_location} {output_folder}\\n\".format(**setting)\n",
    "\n",
    "# commands_location = \"tmp/{settings_name}.txt\".format(**locals())\n",
    "# os.makedirs(\"../\" + os.path.dirname(commands_location), exist_ok=True)\n",
    "# with open(\"../\" + commands_location, \"w\") as outfile:\n",
    "#     outfile.write(commands)\n",
    "# commands_location = \"tmp/{settings_name}.txt\".format(**locals())\n",
    "# os.makedirs(os.path.dirname(\"../tmp/\" + commands_location), exist_ok=True)\n",
    "# with open(\"../tmp/\" + commands_location, \"w\") as outfile:\n",
    "#     outfile.write(commands)\n",
    "    \n",
    "# #script_location = generate_batchcode(commands_location, settings_name, len(settings), {\"memory\":\"10G\", \"numcores\":1}, \"biclust_comp2\")\n",
    "\n",
    "# # this command can be used on most linux computers to run the different parameter settings in parallel\n",
    "# print(\"parallel -j 4 -a \" + commands_location)"
   ]
  },
  {
   "cell_type": "markdown",
   "id": "d81b16e5",
   "metadata": {
    "papermill": {
     "duration": 0.048996,
     "end_time": "2021-10-11T13:16:55.163428",
     "exception": false,
     "start_time": "2021-10-11T13:16:55.114432",
     "status": "completed"
    },
    "tags": []
   },
   "source": [
    "# Evaluating the method"
   ]
  },
  {
   "cell_type": "code",
   "execution_count": 13,
   "id": "d7aada30",
   "metadata": {
    "execution": {
     "iopub.execute_input": "2021-10-11T13:16:55.264527Z",
     "iopub.status.busy": "2021-10-11T13:16:55.264146Z",
     "iopub.status.idle": "2021-10-11T13:16:55.503555Z",
     "shell.execute_reply": "2021-10-11T13:16:55.503202Z"
    },
    "papermill": {
     "duration": 0.291547,
     "end_time": "2021-10-11T13:16:55.503642",
     "exception": false,
     "start_time": "2021-10-11T13:16:55.212095",
     "status": "completed"
    },
    "tags": []
   },
   "outputs": [],
   "source": [
    "from modulescomparison import ModevalKnownmodules, ModevalCoverage"
   ]
  },
  {
   "cell_type": "markdown",
   "id": "9cd8641e",
   "metadata": {
    "papermill": {
     "duration": 0.049083,
     "end_time": "2021-10-11T13:16:55.601997",
     "exception": false,
     "start_time": "2021-10-11T13:16:55.552914",
     "status": "completed"
    },
    "tags": []
   },
   "source": [
    "Note: If you downloaded the results from zenodo, you don't need to rerun this for \"dummy\", \"agglom\", \"ica_zscore\", \"spectral_biclust\" and \"meanshift\""
   ]
  },
  {
   "cell_type": "markdown",
   "id": "24242b0c",
   "metadata": {
    "papermill": {
     "duration": 0.048686,
     "end_time": "2021-10-11T13:16:55.699385",
     "exception": false,
     "start_time": "2021-10-11T13:16:55.650699",
     "status": "completed"
    },
    "tags": []
   },
   "source": [
    "## By comparing with known modules"
   ]
  },
  {
   "cell_type": "markdown",
   "id": "b2dc06eb",
   "metadata": {
    "papermill": {
     "duration": 0.048704,
     "end_time": "2021-10-11T13:16:55.797417",
     "exception": false,
     "start_time": "2021-10-11T13:16:55.748713",
     "status": "completed"
    },
    "tags": []
   },
   "source": [
    "Evaluate by comparing with known modules"
   ]
  },
  {
   "cell_type": "code",
   "execution_count": 14,
   "id": "ed657e06",
   "metadata": {
    "execution": {
     "iopub.execute_input": "2021-10-11T13:16:55.898353Z",
     "iopub.status.busy": "2021-10-11T13:16:55.897972Z",
     "iopub.status.idle": "2021-10-11T13:16:55.941778Z",
     "shell.execute_reply": "2021-10-11T13:16:55.941341Z"
    },
    "papermill": {
     "duration": 0.095788,
     "end_time": "2021-10-11T13:16:55.941877",
     "exception": false,
     "start_time": "2021-10-11T13:16:55.846089",
     "status": "completed"
    },
    "tags": []
   },
   "outputs": [],
   "source": [
    "# create pool of processors\n",
    "if \"pool\" in locals().keys():\n",
    "    pool.close()\n",
    "pool = mp.Pool(n_jobs)"
   ]
  },
  {
   "cell_type": "code",
   "execution_count": 15,
   "id": "e668bb93",
   "metadata": {
    "execution": {
     "iopub.execute_input": "2021-10-11T13:16:56.047063Z",
     "iopub.status.busy": "2021-10-11T13:16:56.046680Z",
     "iopub.status.idle": "2021-10-11T13:16:56.063653Z",
     "shell.execute_reply": "2021-10-11T13:16:56.063320Z"
    },
    "papermill": {
     "duration": 0.069554,
     "end_time": "2021-10-11T13:16:56.063741",
     "exception": false,
     "start_time": "2021-10-11T13:16:55.994187",
     "status": "completed"
    },
    "tags": []
   },
   "outputs": [],
   "source": [
    "settings_filtered = [setting for setting in settings if not setting[\"dataset_name\"].startswith(\"human\")] # only evaluate non-human datasets\n",
    "modeval = ModevalKnownmodules(settings_filtered, baseline = True)"
   ]
  },
  {
   "cell_type": "code",
   "execution_count": 16,
   "id": "6a5a0861",
   "metadata": {
    "execution": {
     "iopub.execute_input": "2021-10-11T13:16:56.165543Z",
     "iopub.status.busy": "2021-10-11T13:16:56.165156Z",
     "iopub.status.idle": "2021-10-11T13:18:35.702088Z",
     "shell.execute_reply": "2021-10-11T13:18:35.701709Z"
    },
    "papermill": {
     "duration": 99.588947,
     "end_time": "2021-10-11T13:18:35.702175",
     "exception": false,
     "start_time": "2021-10-11T13:16:56.113228",
     "status": "completed"
    },
    "tags": []
   },
   "outputs": [],
   "source": [
    "modeval.run(pool)\n",
    "modeval.save(settings_name)"
   ]
  },
  {
   "cell_type": "code",
   "execution_count": 17,
   "id": "32b14adc",
   "metadata": {
    "execution": {
     "iopub.execute_input": "2021-10-11T13:18:35.810896Z",
     "iopub.status.busy": "2021-10-11T13:18:35.810520Z",
     "iopub.status.idle": "2021-10-11T13:18:35.831792Z",
     "shell.execute_reply": "2021-10-11T13:18:35.832145Z"
    },
    "papermill": {
     "duration": 0.080475,
     "end_time": "2021-10-11T13:18:35.832269",
     "exception": false,
     "start_time": "2021-10-11T13:18:35.751794",
     "status": "completed"
    },
    "tags": []
   },
   "outputs": [],
   "source": [
    "modeval.load(settings_name)"
   ]
  },
  {
   "cell_type": "code",
   "execution_count": 18,
   "id": "88197a6d",
   "metadata": {
    "execution": {
     "iopub.execute_input": "2021-10-11T13:18:35.935372Z",
     "iopub.status.busy": "2021-10-11T13:18:35.934985Z",
     "iopub.status.idle": "2021-10-11T13:18:35.959966Z",
     "shell.execute_reply": "2021-10-11T13:18:35.959597Z"
    },
    "papermill": {
     "duration": 0.076855,
     "end_time": "2021-10-11T13:18:35.960052",
     "exception": false,
     "start_time": "2021-10-11T13:18:35.883197",
     "status": "completed"
    },
    "tags": []
   },
   "outputs": [
    {
     "data": {
      "text/html": [
       "<div>\n",
       "<style scoped>\n",
       "    .dataframe tbody tr th:only-of-type {\n",
       "        vertical-align: middle;\n",
       "    }\n",
       "\n",
       "    .dataframe tbody tr th {\n",
       "        vertical-align: top;\n",
       "    }\n",
       "\n",
       "    .dataframe thead th {\n",
       "        text-align: right;\n",
       "    }\n",
       "</style>\n",
       "<table border=\"1\" class=\"dataframe\">\n",
       "  <thead>\n",
       "    <tr style=\"text-align: right;\">\n",
       "      <th></th>\n",
       "      <th>recovery</th>\n",
       "      <th>relevance</th>\n",
       "      <th>F1rr</th>\n",
       "      <th>recall</th>\n",
       "      <th>precision</th>\n",
       "      <th>F1rp</th>\n",
       "      <th>F1rprr</th>\n",
       "      <th>F1rr_permuted</th>\n",
       "      <th>F1rp_permuted</th>\n",
       "      <th>F1rprr_permuted</th>\n",
       "      <th>settingid</th>\n",
       "      <th>knownmodules_name</th>\n",
       "      <th>regnet_name</th>\n",
       "      <th>goldstandard</th>\n",
       "      <th>runningtime</th>\n",
       "    </tr>\n",
       "  </thead>\n",
       "  <tbody>\n",
       "    <tr>\n",
       "      <th>0</th>\n",
       "      <td>0.204072</td>\n",
       "      <td>0.155772</td>\n",
       "      <td>0.176681</td>\n",
       "      <td>0.034730</td>\n",
       "      <td>0.052112</td>\n",
       "      <td>0.041681</td>\n",
       "      <td>0.067450</td>\n",
       "      <td>2.393683</td>\n",
       "      <td>6.003424</td>\n",
       "      <td>3.422678</td>\n",
       "      <td>ecoli_colombos_0</td>\n",
       "      <td>mcl2</td>\n",
       "      <td>ecoli_regulondb</td>\n",
       "      <td>ecoli_regulondb#mcl2</td>\n",
       "      <td>9860.165773</td>\n",
       "    </tr>\n",
       "    <tr>\n",
       "      <th>1</th>\n",
       "      <td>0.181225</td>\n",
       "      <td>0.131946</td>\n",
       "      <td>0.152708</td>\n",
       "      <td>0.045633</td>\n",
       "      <td>0.030637</td>\n",
       "      <td>0.036661</td>\n",
       "      <td>0.059127</td>\n",
       "      <td>2.076844</td>\n",
       "      <td>4.348791</td>\n",
       "      <td>2.811165</td>\n",
       "      <td>ecoli_colombos_0</td>\n",
       "      <td>minimal</td>\n",
       "      <td>ecoli_regulondb</td>\n",
       "      <td>ecoli_regulondb#minimal</td>\n",
       "      <td>9860.165773</td>\n",
       "    </tr>\n",
       "    <tr>\n",
       "      <th>2</th>\n",
       "      <td>0.147236</td>\n",
       "      <td>0.110189</td>\n",
       "      <td>0.126046</td>\n",
       "      <td>0.016048</td>\n",
       "      <td>0.033773</td>\n",
       "      <td>0.021758</td>\n",
       "      <td>0.037110</td>\n",
       "      <td>1.677602</td>\n",
       "      <td>3.103377</td>\n",
       "      <td>2.177893</td>\n",
       "      <td>ecoli_colombos_0</td>\n",
       "      <td>ap3</td>\n",
       "      <td>ecoli_regulondb</td>\n",
       "      <td>ecoli_regulondb#ap3</td>\n",
       "      <td>9860.165773</td>\n",
       "    </tr>\n",
       "    <tr>\n",
       "      <th>3</th>\n",
       "      <td>0.159253</td>\n",
       "      <td>0.128440</td>\n",
       "      <td>0.142197</td>\n",
       "      <td>0.031995</td>\n",
       "      <td>0.036934</td>\n",
       "      <td>0.034288</td>\n",
       "      <td>0.055252</td>\n",
       "      <td>2.128900</td>\n",
       "      <td>5.075888</td>\n",
       "      <td>2.999688</td>\n",
       "      <td>ecoli_colombos_0</td>\n",
       "      <td>tc1</td>\n",
       "      <td>ecoli_regulondb</td>\n",
       "      <td>ecoli_regulondb#tc1</td>\n",
       "      <td>9860.165773</td>\n",
       "    </tr>\n",
       "    <tr>\n",
       "      <th>4</th>\n",
       "      <td>0.171253</td>\n",
       "      <td>0.135728</td>\n",
       "      <td>0.151435</td>\n",
       "      <td>0.027523</td>\n",
       "      <td>0.039573</td>\n",
       "      <td>0.032466</td>\n",
       "      <td>0.053469</td>\n",
       "      <td>2.378674</td>\n",
       "      <td>6.058349</td>\n",
       "      <td>3.416095</td>\n",
       "      <td>ecoli_colombos_0</td>\n",
       "      <td>mcl3</td>\n",
       "      <td>ecoli_regulondb</td>\n",
       "      <td>ecoli_regulondb#mcl3</td>\n",
       "      <td>9860.165773</td>\n",
       "    </tr>\n",
       "    <tr>\n",
       "      <th>...</th>\n",
       "      <td>...</td>\n",
       "      <td>...</td>\n",
       "      <td>...</td>\n",
       "      <td>...</td>\n",
       "      <td>...</td>\n",
       "      <td>...</td>\n",
       "      <td>...</td>\n",
       "      <td>...</td>\n",
       "      <td>...</td>\n",
       "      <td>...</td>\n",
       "      <td>...</td>\n",
       "      <td>...</td>\n",
       "      <td>...</td>\n",
       "      <td>...</td>\n",
       "      <td>...</td>\n",
       "    </tr>\n",
       "    <tr>\n",
       "      <th>2131</th>\n",
       "      <td>0.263015</td>\n",
       "      <td>0.184682</td>\n",
       "      <td>0.216996</td>\n",
       "      <td>0.041213</td>\n",
       "      <td>0.053502</td>\n",
       "      <td>0.046560</td>\n",
       "      <td>0.076669</td>\n",
       "      <td>1.923664</td>\n",
       "      <td>2.727465</td>\n",
       "      <td>2.256109</td>\n",
       "      <td>synth_yeast_macisaac_19</td>\n",
       "      <td>ap2</td>\n",
       "      <td>yeast_macisaac</td>\n",
       "      <td>yeast_macisaac#ap2</td>\n",
       "      <td>0.314966</td>\n",
       "    </tr>\n",
       "    <tr>\n",
       "      <th>2132</th>\n",
       "      <td>0.513998</td>\n",
       "      <td>0.492474</td>\n",
       "      <td>0.503006</td>\n",
       "      <td>0.335392</td>\n",
       "      <td>0.324600</td>\n",
       "      <td>0.329908</td>\n",
       "      <td>0.398470</td>\n",
       "      <td>8.871212</td>\n",
       "      <td>81.424476</td>\n",
       "      <td>15.999298</td>\n",
       "      <td>synth_yeast_macisaac_19</td>\n",
       "      <td>mcl1</td>\n",
       "      <td>yeast_macisaac</td>\n",
       "      <td>yeast_macisaac#mcl1</td>\n",
       "      <td>0.314966</td>\n",
       "    </tr>\n",
       "    <tr>\n",
       "      <th>2133</th>\n",
       "      <td>0.443107</td>\n",
       "      <td>0.384471</td>\n",
       "      <td>0.411712</td>\n",
       "      <td>0.403232</td>\n",
       "      <td>0.203112</td>\n",
       "      <td>0.270148</td>\n",
       "      <td>0.326234</td>\n",
       "      <td>7.229137</td>\n",
       "      <td>36.503901</td>\n",
       "      <td>12.068299</td>\n",
       "      <td>synth_yeast_macisaac_19</td>\n",
       "      <td>tc2</td>\n",
       "      <td>yeast_macisaac</td>\n",
       "      <td>yeast_macisaac#tc2</td>\n",
       "      <td>0.314966</td>\n",
       "    </tr>\n",
       "    <tr>\n",
       "      <th>2134</th>\n",
       "      <td>0.240714</td>\n",
       "      <td>0.190353</td>\n",
       "      <td>0.212591</td>\n",
       "      <td>0.039618</td>\n",
       "      <td>0.058981</td>\n",
       "      <td>0.047398</td>\n",
       "      <td>0.077514</td>\n",
       "      <td>3.470634</td>\n",
       "      <td>10.408960</td>\n",
       "      <td>5.205583</td>\n",
       "      <td>synth_yeast_macisaac_19</td>\n",
       "      <td>ap1</td>\n",
       "      <td>yeast_macisaac</td>\n",
       "      <td>yeast_macisaac#ap1</td>\n",
       "      <td>0.314966</td>\n",
       "    </tr>\n",
       "    <tr>\n",
       "      <th>2135</th>\n",
       "      <td>0.843679</td>\n",
       "      <td>0.576659</td>\n",
       "      <td>0.685069</td>\n",
       "      <td>0.582181</td>\n",
       "      <td>0.678976</td>\n",
       "      <td>0.626864</td>\n",
       "      <td>0.654675</td>\n",
       "      <td>8.389472</td>\n",
       "      <td>69.973823</td>\n",
       "      <td>14.982612</td>\n",
       "      <td>synth_yeast_macisaac_19</td>\n",
       "      <td>strict</td>\n",
       "      <td>yeast_macisaac</td>\n",
       "      <td>yeast_macisaac#strict</td>\n",
       "      <td>0.314966</td>\n",
       "    </tr>\n",
       "  </tbody>\n",
       "</table>\n",
       "<p>2136 rows × 15 columns</p>\n",
       "</div>"
      ],
      "text/plain": [
       "      recovery  relevance      F1rr    recall  precision      F1rp    F1rprr  \\\n",
       "0     0.204072   0.155772  0.176681  0.034730   0.052112  0.041681  0.067450   \n",
       "1     0.181225   0.131946  0.152708  0.045633   0.030637  0.036661  0.059127   \n",
       "2     0.147236   0.110189  0.126046  0.016048   0.033773  0.021758  0.037110   \n",
       "3     0.159253   0.128440  0.142197  0.031995   0.036934  0.034288  0.055252   \n",
       "4     0.171253   0.135728  0.151435  0.027523   0.039573  0.032466  0.053469   \n",
       "...        ...        ...       ...       ...        ...       ...       ...   \n",
       "2131  0.263015   0.184682  0.216996  0.041213   0.053502  0.046560  0.076669   \n",
       "2132  0.513998   0.492474  0.503006  0.335392   0.324600  0.329908  0.398470   \n",
       "2133  0.443107   0.384471  0.411712  0.403232   0.203112  0.270148  0.326234   \n",
       "2134  0.240714   0.190353  0.212591  0.039618   0.058981  0.047398  0.077514   \n",
       "2135  0.843679   0.576659  0.685069  0.582181   0.678976  0.626864  0.654675   \n",
       "\n",
       "      F1rr_permuted  F1rp_permuted  F1rprr_permuted                settingid  \\\n",
       "0          2.393683       6.003424         3.422678         ecoli_colombos_0   \n",
       "1          2.076844       4.348791         2.811165         ecoli_colombos_0   \n",
       "2          1.677602       3.103377         2.177893         ecoli_colombos_0   \n",
       "3          2.128900       5.075888         2.999688         ecoli_colombos_0   \n",
       "4          2.378674       6.058349         3.416095         ecoli_colombos_0   \n",
       "...             ...            ...              ...                      ...   \n",
       "2131       1.923664       2.727465         2.256109  synth_yeast_macisaac_19   \n",
       "2132       8.871212      81.424476        15.999298  synth_yeast_macisaac_19   \n",
       "2133       7.229137      36.503901        12.068299  synth_yeast_macisaac_19   \n",
       "2134       3.470634      10.408960         5.205583  synth_yeast_macisaac_19   \n",
       "2135       8.389472      69.973823        14.982612  synth_yeast_macisaac_19   \n",
       "\n",
       "     knownmodules_name      regnet_name             goldstandard  runningtime  \n",
       "0                 mcl2  ecoli_regulondb     ecoli_regulondb#mcl2  9860.165773  \n",
       "1              minimal  ecoli_regulondb  ecoli_regulondb#minimal  9860.165773  \n",
       "2                  ap3  ecoli_regulondb      ecoli_regulondb#ap3  9860.165773  \n",
       "3                  tc1  ecoli_regulondb      ecoli_regulondb#tc1  9860.165773  \n",
       "4                 mcl3  ecoli_regulondb     ecoli_regulondb#mcl3  9860.165773  \n",
       "...                ...              ...                      ...          ...  \n",
       "2131               ap2   yeast_macisaac       yeast_macisaac#ap2     0.314966  \n",
       "2132              mcl1   yeast_macisaac      yeast_macisaac#mcl1     0.314966  \n",
       "2133               tc2   yeast_macisaac       yeast_macisaac#tc2     0.314966  \n",
       "2134               ap1   yeast_macisaac       yeast_macisaac#ap1     0.314966  \n",
       "2135            strict   yeast_macisaac    yeast_macisaac#strict     0.314966  \n",
       "\n",
       "[2136 rows x 15 columns]"
      ]
     },
     "execution_count": 18,
     "metadata": {},
     "output_type": "execute_result"
    }
   ],
   "source": [
    "modeval.scores"
   ]
  },
  {
   "cell_type": "markdown",
   "id": "738080e6",
   "metadata": {
    "papermill": {
     "duration": 0.050877,
     "end_time": "2021-10-11T13:18:36.063075",
     "exception": false,
     "start_time": "2021-10-11T13:18:36.012198",
     "status": "completed"
    },
    "tags": []
   },
   "source": [
    "## Using the coverage of regulators"
   ]
  },
  {
   "cell_type": "code",
   "execution_count": 19,
   "id": "949f4825",
   "metadata": {
    "execution": {
     "iopub.execute_input": "2021-10-11T13:18:36.168751Z",
     "iopub.status.busy": "2021-10-11T13:18:36.168374Z",
     "iopub.status.idle": "2021-10-11T13:18:36.205361Z",
     "shell.execute_reply": "2021-10-11T13:18:36.205719Z"
    },
    "papermill": {
     "duration": 0.091338,
     "end_time": "2021-10-11T13:18:36.205854",
     "exception": false,
     "start_time": "2021-10-11T13:18:36.114516",
     "status": "completed"
    },
    "tags": []
   },
   "outputs": [],
   "source": [
    "# create pool of processors\n",
    "if \"pool\" in locals().keys():\n",
    "    pool.close()\n",
    "pool = mp.Pool(n_jobs)"
   ]
  },
  {
   "cell_type": "code",
   "execution_count": 20,
   "id": "a7636a84",
   "metadata": {
    "execution": {
     "iopub.execute_input": "2021-10-11T13:18:36.315531Z",
     "iopub.status.busy": "2021-10-11T13:18:36.315127Z",
     "iopub.status.idle": "2021-10-11T13:18:36.361021Z",
     "shell.execute_reply": "2021-10-11T13:18:36.360586Z"
    },
    "papermill": {
     "duration": 0.100679,
     "end_time": "2021-10-11T13:18:36.361119",
     "exception": false,
     "start_time": "2021-10-11T13:18:36.260440",
     "status": "completed"
    },
    "tags": []
   },
   "outputs": [],
   "source": [
    "settings_filtered = [setting for setting in settings if setting[\"dataset_name\"].startswith(\"human\")] # only evaluate human datasets\n",
    "modeval = ModevalCoverage(settings_filtered, baseline = True)"
   ]
  },
  {
   "cell_type": "code",
   "execution_count": 21,
   "id": "90582a85",
   "metadata": {
    "execution": {
     "iopub.execute_input": "2021-10-11T13:18:36.468815Z",
     "iopub.status.busy": "2021-10-11T13:18:36.468431Z",
     "iopub.status.idle": "2021-10-11T13:35:51.419480Z",
     "shell.execute_reply": "2021-10-11T13:35:51.418966Z"
    },
    "papermill": {
     "duration": 1035.004594,
     "end_time": "2021-10-11T13:35:51.419606",
     "exception": false,
     "start_time": "2021-10-11T13:18:36.415012",
     "status": "completed"
    },
    "tags": []
   },
   "outputs": [
    {
     "name": "stdout",
     "output_type": "stream",
     "text": [
      "Evaluating a total of 72 settings.\n"
     ]
    }
   ],
   "source": [
    "modeval.run(pool)\n",
    "modeval.save(settings_name)"
   ]
  },
  {
   "cell_type": "code",
   "execution_count": 22,
   "id": "46a38aa3",
   "metadata": {
    "execution": {
     "iopub.execute_input": "2021-10-11T13:35:51.533808Z",
     "iopub.status.busy": "2021-10-11T13:35:51.533423Z",
     "iopub.status.idle": "2021-10-11T13:35:51.550763Z",
     "shell.execute_reply": "2021-10-11T13:35:51.550433Z"
    },
    "papermill": {
     "duration": 0.073217,
     "end_time": "2021-10-11T13:35:51.550854",
     "exception": false,
     "start_time": "2021-10-11T13:35:51.477637",
     "status": "completed"
    },
    "tags": []
   },
   "outputs": [],
   "source": [
    "modeval.load(settings_name)"
   ]
  },
  {
   "cell_type": "code",
   "execution_count": 23,
   "id": "9d1e0d8d",
   "metadata": {
    "execution": {
     "iopub.execute_input": "2021-10-11T13:35:51.658490Z",
     "iopub.status.busy": "2021-10-11T13:35:51.657621Z",
     "iopub.status.idle": "2021-10-11T13:35:51.676631Z",
     "shell.execute_reply": "2021-10-11T13:35:51.676249Z"
    },
    "papermill": {
     "duration": 0.072914,
     "end_time": "2021-10-11T13:35:51.676718",
     "exception": false,
     "start_time": "2021-10-11T13:35:51.603804",
     "status": "completed"
    },
    "tags": []
   },
   "outputs": [
    {
     "data": {
      "text/html": [
       "<div>\n",
       "<style scoped>\n",
       "    .dataframe tbody tr th:only-of-type {\n",
       "        vertical-align: middle;\n",
       "    }\n",
       "\n",
       "    .dataframe tbody tr th {\n",
       "        vertical-align: top;\n",
       "    }\n",
       "\n",
       "    .dataframe thead th {\n",
       "        text-align: right;\n",
       "    }\n",
       "</style>\n",
       "<table border=\"1\" class=\"dataframe\">\n",
       "  <thead>\n",
       "    <tr style=\"text-align: right;\">\n",
       "      <th></th>\n",
       "      <th>aucodds</th>\n",
       "      <th>aucodds_permuted</th>\n",
       "      <th>settingid</th>\n",
       "      <th>goldstandard</th>\n",
       "      <th>runningtime</th>\n",
       "    </tr>\n",
       "  </thead>\n",
       "  <tbody>\n",
       "    <tr>\n",
       "      <th>0</th>\n",
       "      <td>0.092095</td>\n",
       "      <td>3.475159</td>\n",
       "      <td>human_tcga_0</td>\n",
       "      <td>regcircuit</td>\n",
       "      <td>108280.023016</td>\n",
       "    </tr>\n",
       "    <tr>\n",
       "      <th>1</th>\n",
       "      <td>0.005299</td>\n",
       "      <td>0.199965</td>\n",
       "      <td>human_tcga_1</td>\n",
       "      <td>regcircuit</td>\n",
       "      <td>2.270966</td>\n",
       "    </tr>\n",
       "    <tr>\n",
       "      <th>2</th>\n",
       "      <td>0.129057</td>\n",
       "      <td>4.869895</td>\n",
       "      <td>human_tcga_6</td>\n",
       "      <td>regcircuit</td>\n",
       "      <td>2.183533</td>\n",
       "    </tr>\n",
       "    <tr>\n",
       "      <th>3</th>\n",
       "      <td>0.152574</td>\n",
       "      <td>5.757295</td>\n",
       "      <td>human_tcga_12</td>\n",
       "      <td>regcircuit</td>\n",
       "      <td>2.157218</td>\n",
       "    </tr>\n",
       "    <tr>\n",
       "      <th>4</th>\n",
       "      <td>0.032507</td>\n",
       "      <td>1.226642</td>\n",
       "      <td>human_tcga_7</td>\n",
       "      <td>regcircuit</td>\n",
       "      <td>2.318005</td>\n",
       "    </tr>\n",
       "    <tr>\n",
       "      <th>...</th>\n",
       "      <td>...</td>\n",
       "      <td>...</td>\n",
       "      <td>...</td>\n",
       "      <td>...</td>\n",
       "      <td>...</td>\n",
       "    </tr>\n",
       "    <tr>\n",
       "      <th>67</th>\n",
       "      <td>0.175378</td>\n",
       "      <td>6.617782</td>\n",
       "      <td>human_gtex_23</td>\n",
       "      <td>regcircuit</td>\n",
       "      <td>1.818512</td>\n",
       "    </tr>\n",
       "    <tr>\n",
       "      <th>68</th>\n",
       "      <td>0.174717</td>\n",
       "      <td>6.592872</td>\n",
       "      <td>human_seek_gpl5175_20</td>\n",
       "      <td>regcircuit</td>\n",
       "      <td>1.252326</td>\n",
       "    </tr>\n",
       "    <tr>\n",
       "      <th>69</th>\n",
       "      <td>0.123249</td>\n",
       "      <td>4.650741</td>\n",
       "      <td>human_seek_gpl5175_21</td>\n",
       "      <td>regcircuit</td>\n",
       "      <td>1.284648</td>\n",
       "    </tr>\n",
       "    <tr>\n",
       "      <th>70</th>\n",
       "      <td>0.169265</td>\n",
       "      <td>6.387120</td>\n",
       "      <td>human_seek_gpl5175_22</td>\n",
       "      <td>regcircuit</td>\n",
       "      <td>1.412935</td>\n",
       "    </tr>\n",
       "    <tr>\n",
       "      <th>71</th>\n",
       "      <td>0.098575</td>\n",
       "      <td>3.719693</td>\n",
       "      <td>human_seek_gpl5175_23</td>\n",
       "      <td>regcircuit</td>\n",
       "      <td>1.374848</td>\n",
       "    </tr>\n",
       "  </tbody>\n",
       "</table>\n",
       "<p>72 rows × 5 columns</p>\n",
       "</div>"
      ],
      "text/plain": [
       "     aucodds  aucodds_permuted              settingid goldstandard  \\\n",
       "0   0.092095          3.475159           human_tcga_0   regcircuit   \n",
       "1   0.005299          0.199965           human_tcga_1   regcircuit   \n",
       "2   0.129057          4.869895           human_tcga_6   regcircuit   \n",
       "3   0.152574          5.757295          human_tcga_12   regcircuit   \n",
       "4   0.032507          1.226642           human_tcga_7   regcircuit   \n",
       "..       ...               ...                    ...          ...   \n",
       "67  0.175378          6.617782          human_gtex_23   regcircuit   \n",
       "68  0.174717          6.592872  human_seek_gpl5175_20   regcircuit   \n",
       "69  0.123249          4.650741  human_seek_gpl5175_21   regcircuit   \n",
       "70  0.169265          6.387120  human_seek_gpl5175_22   regcircuit   \n",
       "71  0.098575          3.719693  human_seek_gpl5175_23   regcircuit   \n",
       "\n",
       "      runningtime  \n",
       "0   108280.023016  \n",
       "1        2.270966  \n",
       "2        2.183533  \n",
       "3        2.157218  \n",
       "4        2.318005  \n",
       "..            ...  \n",
       "67       1.818512  \n",
       "68       1.252326  \n",
       "69       1.284648  \n",
       "70       1.412935  \n",
       "71       1.374848  \n",
       "\n",
       "[72 rows x 5 columns]"
      ]
     },
     "execution_count": 23,
     "metadata": {},
     "output_type": "execute_result"
    }
   ],
   "source": [
    "modeval.scores"
   ]
  },
  {
   "cell_type": "markdown",
   "id": "9c760b8c",
   "metadata": {
    "papermill": {
     "duration": 0.052841,
     "end_time": "2021-10-11T13:35:51.785067",
     "exception": false,
     "start_time": "2021-10-11T13:35:51.732226",
     "status": "completed"
    },
    "tags": []
   },
   "source": [
    "**TODO:** I understand that the previous code generates some files that will be used later to create the final dataframe with scores and the plots."
   ]
  },
  {
   "cell_type": "code",
   "execution_count": null,
   "id": "873e73b1",
   "metadata": {
    "papermill": {
     "duration": 0.053281,
     "end_time": "2021-10-11T13:35:51.890841",
     "exception": false,
     "start_time": "2021-10-11T13:35:51.837560",
     "status": "completed"
    },
    "tags": []
   },
   "outputs": [],
   "source": []
  }
 ],
 "metadata": {
  "jupytext": {
   "cell_metadata_filter": "all,-execution,-papermill,-trusted",
   "text_representation": {
    "extension": ".py",
    "format_name": "percent",
    "format_version": "1.3",
    "jupytext_version": "1.13.0"
   }
  },
  "kernelspec": {
   "display_name": "Python 3 (ipykernel)",
   "language": "python",
   "name": "python3"
  },
  "language_info": {
   "codemirror_mode": {
    "name": "ipython",
    "version": 3
   },
   "file_extension": ".py",
   "mimetype": "text/x-python",
   "name": "python",
   "nbconvert_exporter": "python",
   "pygments_lexer": "ipython3",
   "version": "3.9.7"
  },
  "papermill": {
   "default_parameters": {},
   "duration": 1141.121615,
   "end_time": "2021-10-11T13:35:52.251003",
   "environment_variables": {},
   "exception": null,
   "input_path": "evaluate.ipynb",
   "output_path": "agglom_clustermatch-evaluate.ipynb",
   "parameters": {
    "method_name": "agglom_clustermatch",
    "n_jobs": 3
   },
   "start_time": "2021-10-11T13:16:51.129388",
   "version": "2.3.3"
  },
  "toc": {
   "base_numbering": 1,
   "nav_menu": {},
   "number_sections": true,
   "sideBar": true,
   "skip_h1_title": false,
   "title_cell": "Table of Contents",
   "title_sidebar": "Contents",
   "toc_cell": false,
   "toc_position": {},
   "toc_section_display": true,
   "toc_window_display": false
  }
 },
 "nbformat": 4,
 "nbformat_minor": 5
}