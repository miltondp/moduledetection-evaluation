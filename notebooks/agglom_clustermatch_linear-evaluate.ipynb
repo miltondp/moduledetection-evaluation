{
 "cells": [
  {
   "cell_type": "markdown",
   "id": "7b6e7633",
   "metadata": {
    "papermill": {
     "duration": 0.086702,
     "end_time": "2021-10-05T19:26:56.652069",
     "exception": false,
     "start_time": "2021-10-05T19:26:56.565367",
     "status": "completed"
    },
    "tags": []
   },
   "source": [
    "# Overall performance of module detection methods"
   ]
  },
  {
   "cell_type": "code",
   "execution_count": 1,
   "id": "22831049",
   "metadata": {
    "execution": {
     "iopub.execute_input": "2021-10-05T19:26:56.754100Z",
     "iopub.status.busy": "2021-10-05T19:26:56.753651Z",
     "iopub.status.idle": "2021-10-05T19:26:57.145236Z",
     "shell.execute_reply": "2021-10-05T19:26:57.144757Z"
    },
    "papermill": {
     "duration": 0.445567,
     "end_time": "2021-10-05T19:26:57.145360",
     "exception": false,
     "start_time": "2021-10-05T19:26:56.699793",
     "status": "completed"
    },
    "scrolled": true,
    "tags": []
   },
   "outputs": [],
   "source": [
    "import sys\n",
    "import os\n",
    "# sys.path.insert(0,os.path.abspath(\"../lib/\"))\n",
    "\n",
    "import json\n",
    "\n",
    "from util import JSONExtendedEncoder\n",
    "\n",
    "%load_ext autoreload\n",
    "%autoreload 2\n",
    "\n",
    "%matplotlib inline\n",
    "from matplotlib.pyplot import *\n",
    "\n",
    "import pandas as pd\n",
    "import numpy as np\n",
    "\n",
    "import multiprocessing as mp\n",
    "\n",
    "from itertools import product\n",
    "\n",
    "import itertools\n",
    "import shutil\n",
    "\n",
    "import os\n",
    "\n",
    "conf_folder = \"conf/\""
   ]
  },
  {
   "cell_type": "markdown",
   "id": "6dc921f7",
   "metadata": {
    "papermill": {
     "duration": 0.046274,
     "end_time": "2021-10-05T19:26:57.250432",
     "exception": false,
     "start_time": "2021-10-05T19:26:57.204158",
     "status": "completed"
    },
    "tags": []
   },
   "source": [
    "# Settings"
   ]
  },
  {
   "cell_type": "code",
   "execution_count": 2,
   "id": "7c096779",
   "metadata": {
    "execution": {
     "iopub.execute_input": "2021-10-05T19:26:57.347268Z",
     "iopub.status.busy": "2021-10-05T19:26:57.346880Z",
     "iopub.status.idle": "2021-10-05T19:26:57.356368Z",
     "shell.execute_reply": "2021-10-05T19:26:57.355991Z"
    },
    "papermill": {
     "duration": 0.059286,
     "end_time": "2021-10-05T19:26:57.356454",
     "exception": false,
     "start_time": "2021-10-05T19:26:57.297168",
     "status": "completed"
    },
    "tags": [
     "parameters"
    ]
   },
   "outputs": [],
   "source": [
    "n_jobs = int(mp.cpu_count() - 1)\n",
    "method_name = None"
   ]
  },
  {
   "cell_type": "code",
   "execution_count": 3,
   "id": "23c51d0b",
   "metadata": {
    "execution": {
     "iopub.execute_input": "2021-10-05T19:26:57.456358Z",
     "iopub.status.busy": "2021-10-05T19:26:57.455973Z",
     "iopub.status.idle": "2021-10-05T19:26:57.465086Z",
     "shell.execute_reply": "2021-10-05T19:26:57.464707Z"
    },
    "papermill": {
     "duration": 0.060209,
     "end_time": "2021-10-05T19:26:57.465173",
     "exception": false,
     "start_time": "2021-10-05T19:26:57.404964",
     "status": "completed"
    },
    "tags": [
     "injected-parameters"
    ]
   },
   "outputs": [],
   "source": [
    "# Parameters\n",
    "method_name = \"agglom_clustermatch_linear\"\n"
   ]
  },
  {
   "cell_type": "code",
   "execution_count": 4,
   "id": "7136ac3a",
   "metadata": {
    "execution": {
     "iopub.execute_input": "2021-10-05T19:26:57.563484Z",
     "iopub.status.busy": "2021-10-05T19:26:57.563097Z",
     "iopub.status.idle": "2021-10-05T19:26:57.572109Z",
     "shell.execute_reply": "2021-10-05T19:26:57.571675Z"
    },
    "papermill": {
     "duration": 0.059059,
     "end_time": "2021-10-05T19:26:57.572191",
     "exception": false,
     "start_time": "2021-10-05T19:26:57.513132",
     "status": "completed"
    },
    "tags": []
   },
   "outputs": [],
   "source": [
    "assert method_name is not None, \"You have to specify a method_name\""
   ]
  },
  {
   "cell_type": "code",
   "execution_count": 5,
   "id": "edefdb11",
   "metadata": {
    "execution": {
     "iopub.execute_input": "2021-10-05T19:26:57.676333Z",
     "iopub.status.busy": "2021-10-05T19:26:57.675956Z",
     "iopub.status.idle": "2021-10-05T19:26:57.685418Z",
     "shell.execute_reply": "2021-10-05T19:26:57.685711Z"
    },
    "papermill": {
     "duration": 0.061059,
     "end_time": "2021-10-05T19:26:57.685815",
     "exception": false,
     "start_time": "2021-10-05T19:26:57.624756",
     "status": "completed"
    },
    "tags": []
   },
   "outputs": [
    {
     "name": "stdout",
     "output_type": "stream",
     "text": [
      "Using 3 cores\n"
     ]
    }
   ],
   "source": [
    "print(f\"Using {n_jobs} cores\")"
   ]
  },
  {
   "cell_type": "markdown",
   "id": "e1e227ef",
   "metadata": {
    "papermill": {
     "duration": 0.047648,
     "end_time": "2021-10-05T19:26:57.783075",
     "exception": false,
     "start_time": "2021-10-05T19:26:57.735427",
     "status": "completed"
    },
    "tags": []
   },
   "source": [
    "# Running a method on different parameter settings and datasets"
   ]
  },
  {
   "cell_type": "markdown",
   "id": "cee4819e",
   "metadata": {
    "papermill": {
     "duration": 0.048011,
     "end_time": "2021-10-05T19:26:57.879375",
     "exception": false,
     "start_time": "2021-10-05T19:26:57.831364",
     "status": "completed"
    },
    "tags": []
   },
   "source": [
    "Note: If you downloaded the results from zenodo, you don't need to rerun this for \"dummy\", \"agglom\", \"ica_zscore\", \"spectral_biclust\" and \"meanshift\""
   ]
  },
  {
   "cell_type": "markdown",
   "id": "c1177e7d",
   "metadata": {
    "papermill": {
     "duration": 0.048245,
     "end_time": "2021-10-05T19:26:57.975701",
     "exception": false,
     "start_time": "2021-10-05T19:26:57.927456",
     "status": "completed"
    },
    "tags": []
   },
   "source": [
    "The following code will explore the parameters of a module detection method on every dataset using a grid-search approach."
   ]
  },
  {
   "cell_type": "markdown",
   "id": "28bb2248",
   "metadata": {
    "papermill": {
     "duration": 0.04741,
     "end_time": "2021-10-05T19:26:58.070805",
     "exception": false,
     "start_time": "2021-10-05T19:26:58.023395",
     "status": "completed"
    },
    "tags": []
   },
   "source": [
    "If you want to run your own method, you should wrap it into a python function and add its parameters to `conf/paramexplo_blueprints.py`. We will show the whole workflow here for a \"dummy\"  (but fast) clustering method, which will simply group genes randomly."
   ]
  },
  {
   "cell_type": "markdown",
   "id": "e18463d0",
   "metadata": {
    "papermill": {
     "duration": 0.047615,
     "end_time": "2021-10-05T19:26:58.166125",
     "exception": false,
     "start_time": "2021-10-05T19:26:58.118510",
     "status": "completed"
    },
    "tags": []
   },
   "source": [
    "Every module detection method is wrapped in a python function (see `scripts/moduledetection.py`)\n",
    "\n",
    "Because module detection methods usually take a while to run, we generate the files necessary to run a method on the several parameter settings and datasets here. These can then be easily called from the commandline, for example on a computer cluster or locally using GNU `parallel`.\n",
    "\n",
    "This function will be called by scripts/moduledetection.py , which will save the modules in the correct format along with additional run information (such as running times)."
   ]
  },
  {
   "cell_type": "code",
   "execution_count": 6,
   "id": "95f6017c",
   "metadata": {
    "execution": {
     "iopub.execute_input": "2021-10-05T19:26:58.265482Z",
     "iopub.status.busy": "2021-10-05T19:26:58.265089Z",
     "iopub.status.idle": "2021-10-05T19:26:58.274560Z",
     "shell.execute_reply": "2021-10-05T19:26:58.274188Z"
    },
    "papermill": {
     "duration": 0.060399,
     "end_time": "2021-10-05T19:26:58.274646",
     "exception": false,
     "start_time": "2021-10-05T19:26:58.214247",
     "status": "completed"
    },
    "tags": []
   },
   "outputs": [],
   "source": [
    "# datasets to run\n",
    "datasetnames = [\n",
    "    \"ecoli_colombos\",\n",
    "    \"ecoli_dream5\",\n",
    "    \"yeast_gpl2529\",\n",
    "    \"yeast_dream5\",\n",
    "    \"synth_ecoli_regulondb\",\n",
    "    \"synth_yeast_macisaac\",\n",
    "    \"human_tcga\",\n",
    "    \"human_gtex\",\n",
    "    \"human_seek_gpl5175\",\n",
    "    \"ecoli_precise2\"\n",
    "]\n",
    "\n",
    "# choose the method to evaluate\n",
    "# method_name = \"agglom_pearson_abs\" # use the dummy method to check if everything works correctly\n",
    "# method_name = \"agglom\" # this method runs very fast, and has the best performance among clustering methods\n",
    "# method_name = \"ica_zscore\" # this method runs very slow, but has approx. the highest performance in the benchmark\n",
    "# method_name = \"spectral_biclust\" # top biclustering method\n",
    "# method_name = \"meanshift\""
   ]
  },
  {
   "cell_type": "markdown",
   "id": "8aa4ce62",
   "metadata": {
    "papermill": {
     "duration": 0.048276,
     "end_time": "2021-10-05T19:26:58.371127",
     "exception": false,
     "start_time": "2021-10-05T19:26:58.322851",
     "status": "completed"
    },
    "tags": []
   },
   "source": [
    "To add your own method, create a function with \"your_method_name\" in the `lib/clustering.py` file (or any other file as long as it's imported in `scripts/moduledetection.py`.\n",
    "This function should accept an `E` object (which is a dataframe with genes in columns) and any additional parameters\n",
    "Then add reasonable parameter setting of your method to `conf/paramexplo_blueprints.py`."
   ]
  },
  {
   "cell_type": "markdown",
   "id": "178066ad",
   "metadata": {
    "papermill": {
     "duration": 0.048131,
     "end_time": "2021-10-05T19:26:58.467006",
     "exception": false,
     "start_time": "2021-10-05T19:26:58.418875",
     "status": "completed"
    },
    "tags": []
   },
   "source": [
    "method_name = \"your_method_name\""
   ]
  },
  {
   "cell_type": "code",
   "execution_count": 7,
   "id": "2c38faef",
   "metadata": {
    "execution": {
     "iopub.execute_input": "2021-10-05T19:26:58.567091Z",
     "iopub.status.busy": "2021-10-05T19:26:58.566711Z",
     "iopub.status.idle": "2021-10-05T19:26:58.578576Z",
     "shell.execute_reply": "2021-10-05T19:26:58.578190Z"
    },
    "papermill": {
     "duration": 0.063412,
     "end_time": "2021-10-05T19:26:58.578664",
     "exception": false,
     "start_time": "2021-10-05T19:26:58.515252",
     "status": "completed"
    },
    "tags": []
   },
   "outputs": [],
   "source": [
    "# paramexplo_blueprints.py stores for every method the parameters which will be varied using a grid-search approach.\n",
    "%run ../conf/paramexplo_blueprints.py\n",
    "methodblueprint = blueprints[method_name]"
   ]
  },
  {
   "cell_type": "code",
   "execution_count": 8,
   "id": "37085564",
   "metadata": {
    "execution": {
     "iopub.execute_input": "2021-10-05T19:26:58.684084Z",
     "iopub.status.busy": "2021-10-05T19:26:58.683656Z",
     "iopub.status.idle": "2021-10-05T19:26:58.695091Z",
     "shell.execute_reply": "2021-10-05T19:26:58.695391Z"
    },
    "papermill": {
     "duration": 0.062914,
     "end_time": "2021-10-05T19:26:58.695495",
     "exception": false,
     "start_time": "2021-10-05T19:26:58.632581",
     "status": "completed"
    },
    "tags": []
   },
   "outputs": [
    {
     "data": {
      "text/plain": [
       "{'staticparams': {'method': 'agglom_clustermatch_linear',\n",
       "  'simdist_function': 'clustermatch_linear'},\n",
       " 'dynparams': {'linkage': ['complete', 'average'],\n",
       "  'k': array([ 25.,  50.,  75., 100., 125., 150., 175., 200., 225., 250., 275.,\n",
       "         300.])},\n",
       " 'type': 'moduledetection'}"
      ]
     },
     "execution_count": 8,
     "metadata": {},
     "output_type": "execute_result"
    }
   ],
   "source": [
    "methodblueprint"
   ]
  },
  {
   "cell_type": "markdown",
   "id": "20e2dc26",
   "metadata": {
    "papermill": {
     "duration": 0.048405,
     "end_time": "2021-10-05T19:26:58.793190",
     "exception": false,
     "start_time": "2021-10-05T19:26:58.744785",
     "status": "completed"
    },
    "tags": []
   },
   "source": [
    "Generate different parameter settings using a grid-search."
   ]
  },
  {
   "cell_type": "code",
   "execution_count": 9,
   "id": "781652eb",
   "metadata": {
    "execution": {
     "iopub.execute_input": "2021-10-05T19:26:58.895625Z",
     "iopub.status.busy": "2021-10-05T19:26:58.895248Z",
     "iopub.status.idle": "2021-10-05T19:26:58.907516Z",
     "shell.execute_reply": "2021-10-05T19:26:58.907140Z"
    },
    "papermill": {
     "duration": 0.06613,
     "end_time": "2021-10-05T19:26:58.907602",
     "exception": false,
     "start_time": "2021-10-05T19:26:58.841472",
     "status": "completed"
    },
    "tags": []
   },
   "outputs": [],
   "source": [
    "params_folder = \"conf/paramexplo/\" + method_name + \"/\"\n",
    "if os.path.exists(\"../\" + params_folder):\n",
    "    shutil.rmtree(\"../\" + params_folder)\n",
    "os.makedirs(\"../\" + params_folder)\n",
    "\n",
    "methodsettings = []\n",
    "method_locations = []\n",
    "i = 0\n",
    "for dynparam_combination in list(itertools.product(*[methodblueprint[\"dynparams\"][param] for param in sorted(methodblueprint[\"dynparams\"].keys())])):\n",
    "    method = {\"params\":{}}\n",
    "    method[\"params\"] = methodblueprint[\"staticparams\"].copy()\n",
    "    method[\"params\"].update(dict(zip(sorted(methodblueprint[\"dynparams\"].keys()), dynparam_combination)))\n",
    "    method[\"location\"] = params_folder + str(i) + \".json\"\n",
    "    method[\"seed\"] = 0\n",
    "\n",
    "    methodsettings.append(method)\n",
    "\n",
    "    json.dump(method, open(\"../\" + method[\"location\"], \"w\"), cls=JSONExtendedEncoder)\n",
    "\n",
    "    method_locations.append(method[\"location\"])\n",
    "\n",
    "    i+=1"
   ]
  },
  {
   "cell_type": "markdown",
   "id": "dc1d0ada",
   "metadata": {
    "papermill": {
     "duration": 0.048695,
     "end_time": "2021-10-05T19:26:59.005291",
     "exception": false,
     "start_time": "2021-10-05T19:26:58.956596",
     "status": "completed"
    },
    "tags": []
   },
   "source": [
    "Now combine the different parameter settings and datasets. Then generate the different python commands to run every parameter setting and dataset in parallel."
   ]
  },
  {
   "cell_type": "code",
   "execution_count": 10,
   "id": "bedc4306",
   "metadata": {
    "execution": {
     "iopub.execute_input": "2021-10-05T19:26:59.106912Z",
     "iopub.status.busy": "2021-10-05T19:26:59.106531Z",
     "iopub.status.idle": "2021-10-05T19:26:59.117375Z",
     "shell.execute_reply": "2021-10-05T19:26:59.117650Z"
    },
    "papermill": {
     "duration": 0.064056,
     "end_time": "2021-10-05T19:26:59.117755",
     "exception": false,
     "start_time": "2021-10-05T19:26:59.053699",
     "status": "completed"
    },
    "tags": []
   },
   "outputs": [],
   "source": [
    "settings_name = \"paramexplo/{method_name}\".format(method_name = method_name)\n",
    "settings = []\n",
    "for datasetname in datasetnames:\n",
    "    for setting_ix, methodsetting in enumerate(methodsettings):\n",
    "        settingid = datasetname + \"_\" + str(setting_ix)\n",
    "        settings.append({\n",
    "            \"dataset_location\":\"conf/datasets/\" + datasetname + \".json\",\n",
    "            \"dataset_name\":datasetname,\n",
    "            \"method_location\":methodsetting[\"location\"],\n",
    "            \"output_folder\":\"results/\" + methodblueprint[\"type\"] + \"/{settings_name}/{settingid}/\".format(settings_name=settings_name, settingid=settingid),\n",
    "            \"settingid\":settingid\n",
    "        })\n",
    "json.dump(settings, open(\"../conf/settings/{settings_name}.json\".format(settings_name=settings_name), \"w\"))"
   ]
  },
  {
   "cell_type": "code",
   "execution_count": 11,
   "id": "27a9b656",
   "metadata": {
    "execution": {
     "iopub.execute_input": "2021-10-05T19:26:59.220492Z",
     "iopub.status.busy": "2021-10-05T19:26:59.220101Z",
     "iopub.status.idle": "2021-10-05T19:26:59.244421Z",
     "shell.execute_reply": "2021-10-05T19:26:59.244722Z"
    },
    "papermill": {
     "duration": 0.077781,
     "end_time": "2021-10-05T19:26:59.244830",
     "exception": false,
     "start_time": "2021-10-05T19:26:59.167049",
     "status": "completed"
    },
    "tags": []
   },
   "outputs": [],
   "source": [
    "settings_dataset = pd.DataFrame([dict(settingid=setting[\"settingid\"], **json.load(open(\"../\" + setting[\"dataset_location\"]))[\"params\"]) for setting in settings])\n",
    "settings_method = pd.DataFrame([dict(settingid=setting[\"settingid\"], **json.load(open(\"../\" + setting[\"method_location\"]))[\"params\"]) for setting in settings])"
   ]
  },
  {
   "cell_type": "code",
   "execution_count": 12,
   "id": "2d05a544",
   "metadata": {
    "execution": {
     "iopub.execute_input": "2021-10-05T19:26:59.347595Z",
     "iopub.status.busy": "2021-10-05T19:26:59.347203Z",
     "iopub.status.idle": "2021-10-05T19:26:59.356518Z",
     "shell.execute_reply": "2021-10-05T19:26:59.356136Z"
    },
    "papermill": {
     "duration": 0.061488,
     "end_time": "2021-10-05T19:26:59.356605",
     "exception": false,
     "start_time": "2021-10-05T19:26:59.295117",
     "status": "completed"
    },
    "tags": []
   },
   "outputs": [],
   "source": [
    "# commands = \"\"\n",
    "# for i, setting in enumerate(settings):\n",
    "#     #commands += \"python scripts/moduledetection.py {method_location} {dataset_location} {output_folder} 0 test\\n\".format(**setting)\n",
    "#     commands += \"python3 scripts/\" + methodblueprint[\"type\"] + \".py {method_location} {dataset_location} {output_folder}\\n\".format(**setting)\n",
    "\n",
    "# commands_location = \"tmp/{settings_name}.txt\".format(**locals())\n",
    "# os.makedirs(\"../\" + os.path.dirname(commands_location), exist_ok=True)\n",
    "# with open(\"../\" + commands_location, \"w\") as outfile:\n",
    "#     outfile.write(commands)\n",
    "# commands_location = \"tmp/{settings_name}.txt\".format(**locals())\n",
    "# os.makedirs(os.path.dirname(\"../tmp/\" + commands_location), exist_ok=True)\n",
    "# with open(\"../tmp/\" + commands_location, \"w\") as outfile:\n",
    "#     outfile.write(commands)\n",
    "    \n",
    "# #script_location = generate_batchcode(commands_location, settings_name, len(settings), {\"memory\":\"10G\", \"numcores\":1}, \"biclust_comp2\")\n",
    "\n",
    "# # this command can be used on most linux computers to run the different parameter settings in parallel\n",
    "# print(\"parallel -j 4 -a \" + commands_location)"
   ]
  },
  {
   "cell_type": "markdown",
   "id": "171ac1e1",
   "metadata": {
    "papermill": {
     "duration": 0.048542,
     "end_time": "2021-10-05T19:26:59.454851",
     "exception": false,
     "start_time": "2021-10-05T19:26:59.406309",
     "status": "completed"
    },
    "tags": []
   },
   "source": [
    "# Evaluating the method"
   ]
  },
  {
   "cell_type": "code",
   "execution_count": 13,
   "id": "17897446",
   "metadata": {
    "execution": {
     "iopub.execute_input": "2021-10-05T19:26:59.556380Z",
     "iopub.status.busy": "2021-10-05T19:26:59.556001Z",
     "iopub.status.idle": "2021-10-05T19:26:59.794042Z",
     "shell.execute_reply": "2021-10-05T19:26:59.793672Z"
    },
    "papermill": {
     "duration": 0.289918,
     "end_time": "2021-10-05T19:26:59.794126",
     "exception": false,
     "start_time": "2021-10-05T19:26:59.504208",
     "status": "completed"
    },
    "tags": []
   },
   "outputs": [],
   "source": [
    "from modulescomparison import ModevalKnownmodules, ModevalCoverage"
   ]
  },
  {
   "cell_type": "markdown",
   "id": "30d890b8",
   "metadata": {
    "papermill": {
     "duration": 0.048737,
     "end_time": "2021-10-05T19:26:59.891419",
     "exception": false,
     "start_time": "2021-10-05T19:26:59.842682",
     "status": "completed"
    },
    "tags": []
   },
   "source": [
    "Note: If you downloaded the results from zenodo, you don't need to rerun this for \"dummy\", \"agglom\", \"ica_zscore\", \"spectral_biclust\" and \"meanshift\""
   ]
  },
  {
   "cell_type": "markdown",
   "id": "0dce496f",
   "metadata": {
    "papermill": {
     "duration": 0.049313,
     "end_time": "2021-10-05T19:26:59.989606",
     "exception": false,
     "start_time": "2021-10-05T19:26:59.940293",
     "status": "completed"
    },
    "tags": []
   },
   "source": [
    "## By comparing with known modules"
   ]
  },
  {
   "cell_type": "markdown",
   "id": "9af6e2cb",
   "metadata": {
    "papermill": {
     "duration": 0.048609,
     "end_time": "2021-10-05T19:27:00.087021",
     "exception": false,
     "start_time": "2021-10-05T19:27:00.038412",
     "status": "completed"
    },
    "tags": []
   },
   "source": [
    "Evaluate by comparing with known modules"
   ]
  },
  {
   "cell_type": "code",
   "execution_count": 14,
   "id": "daf1f449",
   "metadata": {
    "execution": {
     "iopub.execute_input": "2021-10-05T19:27:00.188112Z",
     "iopub.status.busy": "2021-10-05T19:27:00.187693Z",
     "iopub.status.idle": "2021-10-05T19:27:00.238186Z",
     "shell.execute_reply": "2021-10-05T19:27:00.237734Z"
    },
    "papermill": {
     "duration": 0.102591,
     "end_time": "2021-10-05T19:27:00.238288",
     "exception": false,
     "start_time": "2021-10-05T19:27:00.135697",
     "status": "completed"
    },
    "tags": []
   },
   "outputs": [],
   "source": [
    "# create pool of processors\n",
    "if \"pool\" in locals().keys():\n",
    "    pool.close()\n",
    "pool = mp.Pool(n_jobs)"
   ]
  },
  {
   "cell_type": "code",
   "execution_count": 15,
   "id": "36f650eb",
   "metadata": {
    "execution": {
     "iopub.execute_input": "2021-10-05T19:27:00.342209Z",
     "iopub.status.busy": "2021-10-05T19:27:00.341838Z",
     "iopub.status.idle": "2021-10-05T19:27:00.358087Z",
     "shell.execute_reply": "2021-10-05T19:27:00.357749Z"
    },
    "papermill": {
     "duration": 0.068857,
     "end_time": "2021-10-05T19:27:00.358175",
     "exception": false,
     "start_time": "2021-10-05T19:27:00.289318",
     "status": "completed"
    },
    "tags": []
   },
   "outputs": [],
   "source": [
    "settings_filtered = [setting for setting in settings if not setting[\"dataset_name\"].startswith(\"human\")] # only evaluate non-human datasets\n",
    "modeval = ModevalKnownmodules(settings_filtered, baseline = True)"
   ]
  },
  {
   "cell_type": "code",
   "execution_count": 16,
   "id": "ae7fd36d",
   "metadata": {
    "execution": {
     "iopub.execute_input": "2021-10-05T19:27:00.460791Z",
     "iopub.status.busy": "2021-10-05T19:27:00.460402Z",
     "iopub.status.idle": "2021-10-05T19:28:46.466254Z",
     "shell.execute_reply": "2021-10-05T19:28:46.465920Z"
    },
    "papermill": {
     "duration": 106.058638,
     "end_time": "2021-10-05T19:28:46.466341",
     "exception": false,
     "start_time": "2021-10-05T19:27:00.407703",
     "status": "completed"
    },
    "tags": []
   },
   "outputs": [],
   "source": [
    "modeval.run(pool)\n",
    "modeval.save(settings_name)"
   ]
  },
  {
   "cell_type": "code",
   "execution_count": 17,
   "id": "0b93ca0c",
   "metadata": {
    "execution": {
     "iopub.execute_input": "2021-10-05T19:28:46.569090Z",
     "iopub.status.busy": "2021-10-05T19:28:46.568702Z",
     "iopub.status.idle": "2021-10-05T19:28:46.590027Z",
     "shell.execute_reply": "2021-10-05T19:28:46.589707Z"
    },
    "papermill": {
     "duration": 0.073753,
     "end_time": "2021-10-05T19:28:46.590116",
     "exception": false,
     "start_time": "2021-10-05T19:28:46.516363",
     "status": "completed"
    },
    "tags": []
   },
   "outputs": [],
   "source": [
    "modeval.load(settings_name)"
   ]
  },
  {
   "cell_type": "code",
   "execution_count": 18,
   "id": "5f580183",
   "metadata": {
    "execution": {
     "iopub.execute_input": "2021-10-05T19:28:46.692815Z",
     "iopub.status.busy": "2021-10-05T19:28:46.692435Z",
     "iopub.status.idle": "2021-10-05T19:28:46.717470Z",
     "shell.execute_reply": "2021-10-05T19:28:46.717073Z"
    },
    "papermill": {
     "duration": 0.077508,
     "end_time": "2021-10-05T19:28:46.717563",
     "exception": false,
     "start_time": "2021-10-05T19:28:46.640055",
     "status": "completed"
    },
    "tags": []
   },
   "outputs": [
    {
     "data": {
      "text/html": [
       "<div>\n",
       "<style scoped>\n",
       "    .dataframe tbody tr th:only-of-type {\n",
       "        vertical-align: middle;\n",
       "    }\n",
       "\n",
       "    .dataframe tbody tr th {\n",
       "        vertical-align: top;\n",
       "    }\n",
       "\n",
       "    .dataframe thead th {\n",
       "        text-align: right;\n",
       "    }\n",
       "</style>\n",
       "<table border=\"1\" class=\"dataframe\">\n",
       "  <thead>\n",
       "    <tr style=\"text-align: right;\">\n",
       "      <th></th>\n",
       "      <th>recovery</th>\n",
       "      <th>relevance</th>\n",
       "      <th>F1rr</th>\n",
       "      <th>recall</th>\n",
       "      <th>precision</th>\n",
       "      <th>F1rp</th>\n",
       "      <th>F1rprr</th>\n",
       "      <th>F1rr_permuted</th>\n",
       "      <th>F1rp_permuted</th>\n",
       "      <th>F1rprr_permuted</th>\n",
       "      <th>settingid</th>\n",
       "      <th>knownmodules_name</th>\n",
       "      <th>regnet_name</th>\n",
       "      <th>goldstandard</th>\n",
       "      <th>runningtime</th>\n",
       "    </tr>\n",
       "  </thead>\n",
       "  <tbody>\n",
       "    <tr>\n",
       "      <th>0</th>\n",
       "      <td>0.160323</td>\n",
       "      <td>0.115185</td>\n",
       "      <td>0.134056</td>\n",
       "      <td>0.023544</td>\n",
       "      <td>0.057103</td>\n",
       "      <td>0.033341</td>\n",
       "      <td>0.053400</td>\n",
       "      <td>1.816284</td>\n",
       "      <td>4.808081</td>\n",
       "      <td>2.636582</td>\n",
       "      <td>ecoli_colombos_0</td>\n",
       "      <td>mcl2</td>\n",
       "      <td>ecoli_regulondb</td>\n",
       "      <td>ecoli_regulondb#mcl2</td>\n",
       "      <td>64.392650</td>\n",
       "    </tr>\n",
       "    <tr>\n",
       "      <th>1</th>\n",
       "      <td>0.161990</td>\n",
       "      <td>0.116331</td>\n",
       "      <td>0.135415</td>\n",
       "      <td>0.027470</td>\n",
       "      <td>0.046665</td>\n",
       "      <td>0.034583</td>\n",
       "      <td>0.055095</td>\n",
       "      <td>1.841562</td>\n",
       "      <td>4.098843</td>\n",
       "      <td>2.541333</td>\n",
       "      <td>ecoli_colombos_0</td>\n",
       "      <td>minimal</td>\n",
       "      <td>ecoli_regulondb</td>\n",
       "      <td>ecoli_regulondb#minimal</td>\n",
       "      <td>64.392650</td>\n",
       "    </tr>\n",
       "    <tr>\n",
       "      <th>2</th>\n",
       "      <td>0.138781</td>\n",
       "      <td>0.089873</td>\n",
       "      <td>0.109097</td>\n",
       "      <td>0.011325</td>\n",
       "      <td>0.040541</td>\n",
       "      <td>0.017705</td>\n",
       "      <td>0.030466</td>\n",
       "      <td>1.451533</td>\n",
       "      <td>2.526991</td>\n",
       "      <td>1.843906</td>\n",
       "      <td>ecoli_colombos_0</td>\n",
       "      <td>ap3</td>\n",
       "      <td>ecoli_regulondb</td>\n",
       "      <td>ecoli_regulondb#ap3</td>\n",
       "      <td>64.392650</td>\n",
       "    </tr>\n",
       "    <tr>\n",
       "      <th>3</th>\n",
       "      <td>0.136757</td>\n",
       "      <td>0.110509</td>\n",
       "      <td>0.122240</td>\n",
       "      <td>0.020601</td>\n",
       "      <td>0.049427</td>\n",
       "      <td>0.029081</td>\n",
       "      <td>0.046985</td>\n",
       "      <td>1.830111</td>\n",
       "      <td>4.292295</td>\n",
       "      <td>2.566107</td>\n",
       "      <td>ecoli_colombos_0</td>\n",
       "      <td>tc1</td>\n",
       "      <td>ecoli_regulondb</td>\n",
       "      <td>ecoli_regulondb#tc1</td>\n",
       "      <td>64.392650</td>\n",
       "    </tr>\n",
       "    <tr>\n",
       "      <th>4</th>\n",
       "      <td>0.140813</td>\n",
       "      <td>0.110539</td>\n",
       "      <td>0.123853</td>\n",
       "      <td>0.020329</td>\n",
       "      <td>0.049141</td>\n",
       "      <td>0.028760</td>\n",
       "      <td>0.046680</td>\n",
       "      <td>1.945370</td>\n",
       "      <td>5.379820</td>\n",
       "      <td>2.857466</td>\n",
       "      <td>ecoli_colombos_0</td>\n",
       "      <td>mcl3</td>\n",
       "      <td>ecoli_regulondb</td>\n",
       "      <td>ecoli_regulondb#mcl3</td>\n",
       "      <td>64.392650</td>\n",
       "    </tr>\n",
       "    <tr>\n",
       "      <th>...</th>\n",
       "      <td>...</td>\n",
       "      <td>...</td>\n",
       "      <td>...</td>\n",
       "      <td>...</td>\n",
       "      <td>...</td>\n",
       "      <td>...</td>\n",
       "      <td>...</td>\n",
       "      <td>...</td>\n",
       "      <td>...</td>\n",
       "      <td>...</td>\n",
       "      <td>...</td>\n",
       "      <td>...</td>\n",
       "      <td>...</td>\n",
       "      <td>...</td>\n",
       "      <td>...</td>\n",
       "    </tr>\n",
       "    <tr>\n",
       "      <th>2131</th>\n",
       "      <td>0.218961</td>\n",
       "      <td>0.130819</td>\n",
       "      <td>0.163784</td>\n",
       "      <td>0.026629</td>\n",
       "      <td>0.035206</td>\n",
       "      <td>0.030323</td>\n",
       "      <td>0.051172</td>\n",
       "      <td>1.451927</td>\n",
       "      <td>1.776219</td>\n",
       "      <td>1.597784</td>\n",
       "      <td>synth_yeast_macisaac_19</td>\n",
       "      <td>ap2</td>\n",
       "      <td>yeast_macisaac</td>\n",
       "      <td>yeast_macisaac#ap2</td>\n",
       "      <td>0.320813</td>\n",
       "    </tr>\n",
       "    <tr>\n",
       "      <th>2132</th>\n",
       "      <td>0.485264</td>\n",
       "      <td>0.454219</td>\n",
       "      <td>0.469228</td>\n",
       "      <td>0.299951</td>\n",
       "      <td>0.292661</td>\n",
       "      <td>0.296262</td>\n",
       "      <td>0.363204</td>\n",
       "      <td>8.275350</td>\n",
       "      <td>73.117081</td>\n",
       "      <td>14.867954</td>\n",
       "      <td>synth_yeast_macisaac_19</td>\n",
       "      <td>mcl1</td>\n",
       "      <td>yeast_macisaac</td>\n",
       "      <td>yeast_macisaac#mcl1</td>\n",
       "      <td>0.320813</td>\n",
       "    </tr>\n",
       "    <tr>\n",
       "      <th>2133</th>\n",
       "      <td>0.395816</td>\n",
       "      <td>0.328407</td>\n",
       "      <td>0.358974</td>\n",
       "      <td>0.331798</td>\n",
       "      <td>0.175743</td>\n",
       "      <td>0.229779</td>\n",
       "      <td>0.280202</td>\n",
       "      <td>6.304107</td>\n",
       "      <td>31.051643</td>\n",
       "      <td>10.480469</td>\n",
       "      <td>synth_yeast_macisaac_19</td>\n",
       "      <td>tc2</td>\n",
       "      <td>yeast_macisaac</td>\n",
       "      <td>yeast_macisaac#tc2</td>\n",
       "      <td>0.320813</td>\n",
       "    </tr>\n",
       "    <tr>\n",
       "      <th>2134</th>\n",
       "      <td>0.208612</td>\n",
       "      <td>0.159689</td>\n",
       "      <td>0.180902</td>\n",
       "      <td>0.033736</td>\n",
       "      <td>0.051003</td>\n",
       "      <td>0.040610</td>\n",
       "      <td>0.066330</td>\n",
       "      <td>2.953116</td>\n",
       "      <td>8.918483</td>\n",
       "      <td>4.437029</td>\n",
       "      <td>synth_yeast_macisaac_19</td>\n",
       "      <td>ap1</td>\n",
       "      <td>yeast_macisaac</td>\n",
       "      <td>yeast_macisaac#ap1</td>\n",
       "      <td>0.320813</td>\n",
       "    </tr>\n",
       "    <tr>\n",
       "      <th>2135</th>\n",
       "      <td>0.801229</td>\n",
       "      <td>0.544755</td>\n",
       "      <td>0.648557</td>\n",
       "      <td>0.543408</td>\n",
       "      <td>0.630716</td>\n",
       "      <td>0.583816</td>\n",
       "      <td>0.614486</td>\n",
       "      <td>7.942446</td>\n",
       "      <td>65.169150</td>\n",
       "      <td>14.159244</td>\n",
       "      <td>synth_yeast_macisaac_19</td>\n",
       "      <td>strict</td>\n",
       "      <td>yeast_macisaac</td>\n",
       "      <td>yeast_macisaac#strict</td>\n",
       "      <td>0.320813</td>\n",
       "    </tr>\n",
       "  </tbody>\n",
       "</table>\n",
       "<p>2136 rows × 15 columns</p>\n",
       "</div>"
      ],
      "text/plain": [
       "      recovery  relevance      F1rr    recall  precision      F1rp    F1rprr  \\\n",
       "0     0.160323   0.115185  0.134056  0.023544   0.057103  0.033341  0.053400   \n",
       "1     0.161990   0.116331  0.135415  0.027470   0.046665  0.034583  0.055095   \n",
       "2     0.138781   0.089873  0.109097  0.011325   0.040541  0.017705  0.030466   \n",
       "3     0.136757   0.110509  0.122240  0.020601   0.049427  0.029081  0.046985   \n",
       "4     0.140813   0.110539  0.123853  0.020329   0.049141  0.028760  0.046680   \n",
       "...        ...        ...       ...       ...        ...       ...       ...   \n",
       "2131  0.218961   0.130819  0.163784  0.026629   0.035206  0.030323  0.051172   \n",
       "2132  0.485264   0.454219  0.469228  0.299951   0.292661  0.296262  0.363204   \n",
       "2133  0.395816   0.328407  0.358974  0.331798   0.175743  0.229779  0.280202   \n",
       "2134  0.208612   0.159689  0.180902  0.033736   0.051003  0.040610  0.066330   \n",
       "2135  0.801229   0.544755  0.648557  0.543408   0.630716  0.583816  0.614486   \n",
       "\n",
       "      F1rr_permuted  F1rp_permuted  F1rprr_permuted                settingid  \\\n",
       "0          1.816284       4.808081         2.636582         ecoli_colombos_0   \n",
       "1          1.841562       4.098843         2.541333         ecoli_colombos_0   \n",
       "2          1.451533       2.526991         1.843906         ecoli_colombos_0   \n",
       "3          1.830111       4.292295         2.566107         ecoli_colombos_0   \n",
       "4          1.945370       5.379820         2.857466         ecoli_colombos_0   \n",
       "...             ...            ...              ...                      ...   \n",
       "2131       1.451927       1.776219         1.597784  synth_yeast_macisaac_19   \n",
       "2132       8.275350      73.117081        14.867954  synth_yeast_macisaac_19   \n",
       "2133       6.304107      31.051643        10.480469  synth_yeast_macisaac_19   \n",
       "2134       2.953116       8.918483         4.437029  synth_yeast_macisaac_19   \n",
       "2135       7.942446      65.169150        14.159244  synth_yeast_macisaac_19   \n",
       "\n",
       "     knownmodules_name      regnet_name             goldstandard  runningtime  \n",
       "0                 mcl2  ecoli_regulondb     ecoli_regulondb#mcl2    64.392650  \n",
       "1              minimal  ecoli_regulondb  ecoli_regulondb#minimal    64.392650  \n",
       "2                  ap3  ecoli_regulondb      ecoli_regulondb#ap3    64.392650  \n",
       "3                  tc1  ecoli_regulondb      ecoli_regulondb#tc1    64.392650  \n",
       "4                 mcl3  ecoli_regulondb     ecoli_regulondb#mcl3    64.392650  \n",
       "...                ...              ...                      ...          ...  \n",
       "2131               ap2   yeast_macisaac       yeast_macisaac#ap2     0.320813  \n",
       "2132              mcl1   yeast_macisaac      yeast_macisaac#mcl1     0.320813  \n",
       "2133               tc2   yeast_macisaac       yeast_macisaac#tc2     0.320813  \n",
       "2134               ap1   yeast_macisaac       yeast_macisaac#ap1     0.320813  \n",
       "2135            strict   yeast_macisaac    yeast_macisaac#strict     0.320813  \n",
       "\n",
       "[2136 rows x 15 columns]"
      ]
     },
     "execution_count": 18,
     "metadata": {},
     "output_type": "execute_result"
    }
   ],
   "source": [
    "modeval.scores"
   ]
  },
  {
   "cell_type": "markdown",
   "id": "cd370e65",
   "metadata": {
    "papermill": {
     "duration": 0.05114,
     "end_time": "2021-10-05T19:28:46.821237",
     "exception": false,
     "start_time": "2021-10-05T19:28:46.770097",
     "status": "completed"
    },
    "tags": []
   },
   "source": [
    "## Using the coverage of regulators"
   ]
  },
  {
   "cell_type": "code",
   "execution_count": 19,
   "id": "9ccf9ee9",
   "metadata": {
    "execution": {
     "iopub.execute_input": "2021-10-05T19:28:46.926094Z",
     "iopub.status.busy": "2021-10-05T19:28:46.925712Z",
     "iopub.status.idle": "2021-10-05T19:28:46.960529Z",
     "shell.execute_reply": "2021-10-05T19:28:46.960074Z"
    },
    "papermill": {
     "duration": 0.088643,
     "end_time": "2021-10-05T19:28:46.960636",
     "exception": false,
     "start_time": "2021-10-05T19:28:46.871993",
     "status": "completed"
    },
    "tags": []
   },
   "outputs": [],
   "source": [
    "# create pool of processors\n",
    "if \"pool\" in locals().keys():\n",
    "    pool.close()\n",
    "pool = mp.Pool(n_jobs)"
   ]
  },
  {
   "cell_type": "code",
   "execution_count": 20,
   "id": "e10cefc1",
   "metadata": {
    "execution": {
     "iopub.execute_input": "2021-10-05T19:28:47.077977Z",
     "iopub.status.busy": "2021-10-05T19:28:47.077582Z",
     "iopub.status.idle": "2021-10-05T19:28:47.122630Z",
     "shell.execute_reply": "2021-10-05T19:28:47.122165Z"
    },
    "papermill": {
     "duration": 0.106894,
     "end_time": "2021-10-05T19:28:47.122733",
     "exception": false,
     "start_time": "2021-10-05T19:28:47.015839",
     "status": "completed"
    },
    "tags": []
   },
   "outputs": [],
   "source": [
    "settings_filtered = [setting for setting in settings if setting[\"dataset_name\"].startswith(\"human\")] # only evaluate human datasets\n",
    "modeval = ModevalCoverage(settings_filtered, baseline = True)"
   ]
  },
  {
   "cell_type": "code",
   "execution_count": 21,
   "id": "bd37e386",
   "metadata": {
    "execution": {
     "iopub.execute_input": "2021-10-05T19:28:47.232508Z",
     "iopub.status.busy": "2021-10-05T19:28:47.232115Z",
     "iopub.status.idle": "2021-10-05T19:46:14.469716Z",
     "shell.execute_reply": "2021-10-05T19:46:14.469234Z"
    },
    "papermill": {
     "duration": 1047.291672,
     "end_time": "2021-10-05T19:46:14.469823",
     "exception": false,
     "start_time": "2021-10-05T19:28:47.178151",
     "status": "completed"
    },
    "tags": []
   },
   "outputs": [
    {
     "name": "stdout",
     "output_type": "stream",
     "text": [
      "Evaluating a total of 72 settings.\n"
     ]
    }
   ],
   "source": [
    "modeval.run(pool)\n",
    "modeval.save(settings_name)"
   ]
  },
  {
   "cell_type": "code",
   "execution_count": 22,
   "id": "3161250e",
   "metadata": {
    "execution": {
     "iopub.execute_input": "2021-10-05T19:46:15.443429Z",
     "iopub.status.busy": "2021-10-05T19:46:15.441057Z",
     "iopub.status.idle": "2021-10-05T19:46:15.486174Z",
     "shell.execute_reply": "2021-10-05T19:46:15.485649Z"
    },
    "papermill": {
     "duration": 0.958016,
     "end_time": "2021-10-05T19:46:15.486290",
     "exception": false,
     "start_time": "2021-10-05T19:46:14.528274",
     "status": "completed"
    },
    "tags": []
   },
   "outputs": [],
   "source": [
    "modeval.load(settings_name)"
   ]
  },
  {
   "cell_type": "code",
   "execution_count": 23,
   "id": "236244bb",
   "metadata": {
    "execution": {
     "iopub.execute_input": "2021-10-05T19:46:15.603008Z",
     "iopub.status.busy": "2021-10-05T19:46:15.602628Z",
     "iopub.status.idle": "2021-10-05T19:46:15.621538Z",
     "shell.execute_reply": "2021-10-05T19:46:15.621161Z"
    },
    "papermill": {
     "duration": 0.0733,
     "end_time": "2021-10-05T19:46:15.621625",
     "exception": false,
     "start_time": "2021-10-05T19:46:15.548325",
     "status": "completed"
    },
    "tags": []
   },
   "outputs": [
    {
     "data": {
      "text/html": [
       "<div>\n",
       "<style scoped>\n",
       "    .dataframe tbody tr th:only-of-type {\n",
       "        vertical-align: middle;\n",
       "    }\n",
       "\n",
       "    .dataframe tbody tr th {\n",
       "        vertical-align: top;\n",
       "    }\n",
       "\n",
       "    .dataframe thead th {\n",
       "        text-align: right;\n",
       "    }\n",
       "</style>\n",
       "<table border=\"1\" class=\"dataframe\">\n",
       "  <thead>\n",
       "    <tr style=\"text-align: right;\">\n",
       "      <th></th>\n",
       "      <th>aucodds</th>\n",
       "      <th>aucodds_permuted</th>\n",
       "      <th>settingid</th>\n",
       "      <th>goldstandard</th>\n",
       "      <th>runningtime</th>\n",
       "    </tr>\n",
       "  </thead>\n",
       "  <tbody>\n",
       "    <tr>\n",
       "      <th>0</th>\n",
       "      <td>0.025362</td>\n",
       "      <td>0.957039</td>\n",
       "      <td>human_tcga_0</td>\n",
       "      <td>regcircuit</td>\n",
       "      <td>684.209317</td>\n",
       "    </tr>\n",
       "    <tr>\n",
       "      <th>1</th>\n",
       "      <td>0.004162</td>\n",
       "      <td>0.157069</td>\n",
       "      <td>human_tcga_1</td>\n",
       "      <td>regcircuit</td>\n",
       "      <td>2.243876</td>\n",
       "    </tr>\n",
       "    <tr>\n",
       "      <th>2</th>\n",
       "      <td>0.124455</td>\n",
       "      <td>4.696235</td>\n",
       "      <td>human_tcga_6</td>\n",
       "      <td>regcircuit</td>\n",
       "      <td>2.156149</td>\n",
       "    </tr>\n",
       "    <tr>\n",
       "      <th>3</th>\n",
       "      <td>0.148484</td>\n",
       "      <td>5.602955</td>\n",
       "      <td>human_tcga_12</td>\n",
       "      <td>regcircuit</td>\n",
       "      <td>2.163012</td>\n",
       "    </tr>\n",
       "    <tr>\n",
       "      <th>4</th>\n",
       "      <td>0.098598</td>\n",
       "      <td>3.720532</td>\n",
       "      <td>human_tcga_2</td>\n",
       "      <td>regcircuit</td>\n",
       "      <td>2.175296</td>\n",
       "    </tr>\n",
       "    <tr>\n",
       "      <th>...</th>\n",
       "      <td>...</td>\n",
       "      <td>...</td>\n",
       "      <td>...</td>\n",
       "      <td>...</td>\n",
       "      <td>...</td>\n",
       "    </tr>\n",
       "    <tr>\n",
       "      <th>67</th>\n",
       "      <td>0.081281</td>\n",
       "      <td>3.067092</td>\n",
       "      <td>human_seek_gpl5175_17</td>\n",
       "      <td>regcircuit</td>\n",
       "      <td>1.275766</td>\n",
       "    </tr>\n",
       "    <tr>\n",
       "      <th>68</th>\n",
       "      <td>0.161598</td>\n",
       "      <td>6.097835</td>\n",
       "      <td>human_seek_gpl5175_20</td>\n",
       "      <td>regcircuit</td>\n",
       "      <td>1.258450</td>\n",
       "    </tr>\n",
       "    <tr>\n",
       "      <th>69</th>\n",
       "      <td>0.084471</td>\n",
       "      <td>3.187474</td>\n",
       "      <td>human_seek_gpl5175_21</td>\n",
       "      <td>regcircuit</td>\n",
       "      <td>1.275337</td>\n",
       "    </tr>\n",
       "    <tr>\n",
       "      <th>70</th>\n",
       "      <td>0.163004</td>\n",
       "      <td>6.150857</td>\n",
       "      <td>human_seek_gpl5175_22</td>\n",
       "      <td>regcircuit</td>\n",
       "      <td>1.267121</td>\n",
       "    </tr>\n",
       "    <tr>\n",
       "      <th>71</th>\n",
       "      <td>0.083455</td>\n",
       "      <td>3.149125</td>\n",
       "      <td>human_seek_gpl5175_23</td>\n",
       "      <td>regcircuit</td>\n",
       "      <td>1.285279</td>\n",
       "    </tr>\n",
       "  </tbody>\n",
       "</table>\n",
       "<p>72 rows × 5 columns</p>\n",
       "</div>"
      ],
      "text/plain": [
       "     aucodds  aucodds_permuted              settingid goldstandard  \\\n",
       "0   0.025362          0.957039           human_tcga_0   regcircuit   \n",
       "1   0.004162          0.157069           human_tcga_1   regcircuit   \n",
       "2   0.124455          4.696235           human_tcga_6   regcircuit   \n",
       "3   0.148484          5.602955          human_tcga_12   regcircuit   \n",
       "4   0.098598          3.720532           human_tcga_2   regcircuit   \n",
       "..       ...               ...                    ...          ...   \n",
       "67  0.081281          3.067092  human_seek_gpl5175_17   regcircuit   \n",
       "68  0.161598          6.097835  human_seek_gpl5175_20   regcircuit   \n",
       "69  0.084471          3.187474  human_seek_gpl5175_21   regcircuit   \n",
       "70  0.163004          6.150857  human_seek_gpl5175_22   regcircuit   \n",
       "71  0.083455          3.149125  human_seek_gpl5175_23   regcircuit   \n",
       "\n",
       "    runningtime  \n",
       "0    684.209317  \n",
       "1      2.243876  \n",
       "2      2.156149  \n",
       "3      2.163012  \n",
       "4      2.175296  \n",
       "..          ...  \n",
       "67     1.275766  \n",
       "68     1.258450  \n",
       "69     1.275337  \n",
       "70     1.267121  \n",
       "71     1.285279  \n",
       "\n",
       "[72 rows x 5 columns]"
      ]
     },
     "execution_count": 23,
     "metadata": {},
     "output_type": "execute_result"
    }
   ],
   "source": [
    "modeval.scores"
   ]
  },
  {
   "cell_type": "markdown",
   "id": "90c00569",
   "metadata": {
    "papermill": {
     "duration": 0.052726,
     "end_time": "2021-10-05T19:46:15.727377",
     "exception": false,
     "start_time": "2021-10-05T19:46:15.674651",
     "status": "completed"
    },
    "tags": []
   },
   "source": [
    "**TODO:** I understand that the previous code generates some files that will be used later to create the final dataframe with scores and the plots."
   ]
  },
  {
   "cell_type": "code",
   "execution_count": null,
   "id": "16a83106",
   "metadata": {
    "papermill": {
     "duration": 0.052679,
     "end_time": "2021-10-05T19:46:15.831738",
     "exception": false,
     "start_time": "2021-10-05T19:46:15.779059",
     "status": "completed"
    },
    "tags": []
   },
   "outputs": [],
   "source": []
  }
 ],
 "metadata": {
  "jupytext": {
   "cell_metadata_filter": "all,-execution,-papermill,-trusted",
   "text_representation": {
    "extension": ".py",
    "format_name": "percent",
    "format_version": "1.3",
    "jupytext_version": "1.13.0"
   }
  },
  "kernelspec": {
   "display_name": "Python 3 (ipykernel)",
   "language": "python",
   "name": "python3"
  },
  "language_info": {
   "codemirror_mode": {
    "name": "ipython",
    "version": 3
   },
   "file_extension": ".py",
   "mimetype": "text/x-python",
   "name": "python",
   "nbconvert_exporter": "python",
   "pygments_lexer": "ipython3",
   "version": "3.9.7"
  },
  "papermill": {
   "default_parameters": {},
   "duration": 1160.579023,
   "end_time": "2021-10-05T19:46:16.191982",
   "environment_variables": {},
   "exception": null,
   "input_path": "evaluate.ipynb",
   "output_path": "agglom_clustermatch_linear-evaluate.ipynb",
   "parameters": {
    "method_name": "agglom_clustermatch_linear"
   },
   "start_time": "2021-10-05T19:26:55.612959",
   "version": "2.3.3"
  },
  "toc": {
   "base_numbering": 1,
   "nav_menu": {},
   "number_sections": true,
   "sideBar": true,
   "skip_h1_title": false,
   "title_cell": "Table of Contents",
   "title_sidebar": "Contents",
   "toc_cell": false,
   "toc_position": {},
   "toc_section_display": true,
   "toc_window_display": false
  }
 },
 "nbformat": 4,
 "nbformat_minor": 5
}