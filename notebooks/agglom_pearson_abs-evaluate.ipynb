{
 "cells": [
  {
   "cell_type": "markdown",
   "id": "270c61c8",
   "metadata": {
    "papermill": {
     "duration": 0.051719,
     "end_time": "2021-10-06T02:07:44.977323",
     "exception": false,
     "start_time": "2021-10-06T02:07:44.925604",
     "status": "completed"
    },
    "tags": []
   },
   "source": [
    "# Overall performance of module detection methods"
   ]
  },
  {
   "cell_type": "code",
   "execution_count": 1,
   "id": "1dacec70",
   "metadata": {
    "execution": {
     "iopub.execute_input": "2021-10-06T02:07:45.090210Z",
     "iopub.status.busy": "2021-10-06T02:07:45.089820Z",
     "iopub.status.idle": "2021-10-06T02:07:45.470830Z",
     "shell.execute_reply": "2021-10-06T02:07:45.471395Z"
    },
    "papermill": {
     "duration": 0.443341,
     "end_time": "2021-10-06T02:07:45.471578",
     "exception": false,
     "start_time": "2021-10-06T02:07:45.028237",
     "status": "completed"
    },
    "scrolled": true,
    "tags": []
   },
   "outputs": [],
   "source": [
    "import sys\n",
    "import os\n",
    "# sys.path.insert(0,os.path.abspath(\"../lib/\"))\n",
    "\n",
    "import json\n",
    "\n",
    "from util import JSONExtendedEncoder\n",
    "\n",
    "%load_ext autoreload\n",
    "%autoreload 2\n",
    "\n",
    "%matplotlib inline\n",
    "from matplotlib.pyplot import *\n",
    "\n",
    "import pandas as pd\n",
    "import numpy as np\n",
    "\n",
    "import multiprocessing as mp\n",
    "\n",
    "from itertools import product\n",
    "\n",
    "import itertools\n",
    "import shutil\n",
    "\n",
    "import os\n",
    "\n",
    "conf_folder = \"conf/\""
   ]
  },
  {
   "cell_type": "markdown",
   "id": "c505f40f",
   "metadata": {
    "papermill": {
     "duration": 0.05078,
     "end_time": "2021-10-06T02:07:45.574986",
     "exception": false,
     "start_time": "2021-10-06T02:07:45.524206",
     "status": "completed"
    },
    "tags": []
   },
   "source": [
    "# Settings"
   ]
  },
  {
   "cell_type": "code",
   "execution_count": 2,
   "id": "7121bd9e",
   "metadata": {
    "execution": {
     "iopub.execute_input": "2021-10-06T02:07:45.687018Z",
     "iopub.status.busy": "2021-10-06T02:07:45.686638Z",
     "iopub.status.idle": "2021-10-06T02:07:45.688282Z",
     "shell.execute_reply": "2021-10-06T02:07:45.688571Z"
    },
    "papermill": {
     "duration": 0.06259,
     "end_time": "2021-10-06T02:07:45.688675",
     "exception": false,
     "start_time": "2021-10-06T02:07:45.626085",
     "status": "completed"
    },
    "tags": [
     "parameters"
    ]
   },
   "outputs": [],
   "source": [
    "n_jobs = int(mp.cpu_count() - 1)\n",
    "method_name = None"
   ]
  },
  {
   "cell_type": "code",
   "execution_count": 3,
   "id": "de184913",
   "metadata": {
    "execution": {
     "iopub.execute_input": "2021-10-06T02:07:45.816495Z",
     "iopub.status.busy": "2021-10-06T02:07:45.816114Z",
     "iopub.status.idle": "2021-10-06T02:07:45.818793Z",
     "shell.execute_reply": "2021-10-06T02:07:45.819085Z"
    },
    "papermill": {
     "duration": 0.078055,
     "end_time": "2021-10-06T02:07:45.819193",
     "exception": false,
     "start_time": "2021-10-06T02:07:45.741138",
     "status": "completed"
    },
    "tags": [
     "injected-parameters"
    ]
   },
   "outputs": [],
   "source": [
    "# Parameters\n",
    "method_name = \"agglom_pearson_abs\"\n",
    "n_jobs = 1\n"
   ]
  },
  {
   "cell_type": "code",
   "execution_count": 4,
   "id": "d0578e80",
   "metadata": {
    "execution": {
     "iopub.execute_input": "2021-10-06T02:07:45.937416Z",
     "iopub.status.busy": "2021-10-06T02:07:45.937025Z",
     "iopub.status.idle": "2021-10-06T02:07:45.938674Z",
     "shell.execute_reply": "2021-10-06T02:07:45.938963Z"
    },
    "papermill": {
     "duration": 0.064855,
     "end_time": "2021-10-06T02:07:45.939070",
     "exception": false,
     "start_time": "2021-10-06T02:07:45.874215",
     "status": "completed"
    },
    "tags": []
   },
   "outputs": [],
   "source": [
    "assert method_name is not None, \"You have to specify a method_name\""
   ]
  },
  {
   "cell_type": "code",
   "execution_count": 5,
   "id": "4f7e8246",
   "metadata": {
    "execution": {
     "iopub.execute_input": "2021-10-06T02:07:46.044345Z",
     "iopub.status.busy": "2021-10-06T02:07:46.043962Z",
     "iopub.status.idle": "2021-10-06T02:07:46.052683Z",
     "shell.execute_reply": "2021-10-06T02:07:46.053041Z"
    },
    "papermill": {
     "duration": 0.063053,
     "end_time": "2021-10-06T02:07:46.053146",
     "exception": false,
     "start_time": "2021-10-06T02:07:45.990093",
     "status": "completed"
    },
    "tags": []
   },
   "outputs": [
    {
     "name": "stdout",
     "output_type": "stream",
     "text": [
      "Using 1 cores\n"
     ]
    }
   ],
   "source": [
    "print(f\"Using {n_jobs} cores\")"
   ]
  },
  {
   "cell_type": "markdown",
   "id": "0ba8daa8",
   "metadata": {
    "papermill": {
     "duration": 0.051621,
     "end_time": "2021-10-06T02:07:46.158080",
     "exception": false,
     "start_time": "2021-10-06T02:07:46.106459",
     "status": "completed"
    },
    "tags": []
   },
   "source": [
    "# Running a method on different parameter settings and datasets"
   ]
  },
  {
   "cell_type": "markdown",
   "id": "38acca23",
   "metadata": {
    "papermill": {
     "duration": 0.051347,
     "end_time": "2021-10-06T02:07:46.261338",
     "exception": false,
     "start_time": "2021-10-06T02:07:46.209991",
     "status": "completed"
    },
    "tags": []
   },
   "source": [
    "Note: If you downloaded the results from zenodo, you don't need to rerun this for \"dummy\", \"agglom\", \"ica_zscore\", \"spectral_biclust\" and \"meanshift\""
   ]
  },
  {
   "cell_type": "markdown",
   "id": "735e8706",
   "metadata": {
    "papermill": {
     "duration": 0.051998,
     "end_time": "2021-10-06T02:07:46.365031",
     "exception": false,
     "start_time": "2021-10-06T02:07:46.313033",
     "status": "completed"
    },
    "tags": []
   },
   "source": [
    "The following code will explore the parameters of a module detection method on every dataset using a grid-search approach."
   ]
  },
  {
   "cell_type": "markdown",
   "id": "3bfc5711",
   "metadata": {
    "papermill": {
     "duration": 0.054732,
     "end_time": "2021-10-06T02:07:46.471565",
     "exception": false,
     "start_time": "2021-10-06T02:07:46.416833",
     "status": "completed"
    },
    "tags": []
   },
   "source": [
    "If you want to run your own method, you should wrap it into a python function and add its parameters to `conf/paramexplo_blueprints.py`. We will show the whole workflow here for a \"dummy\"  (but fast) clustering method, which will simply group genes randomly."
   ]
  },
  {
   "cell_type": "markdown",
   "id": "21b83b5a",
   "metadata": {
    "papermill": {
     "duration": 0.051665,
     "end_time": "2021-10-06T02:07:46.574724",
     "exception": false,
     "start_time": "2021-10-06T02:07:46.523059",
     "status": "completed"
    },
    "tags": []
   },
   "source": [
    "Every module detection method is wrapped in a python function (see `scripts/moduledetection.py`)\n",
    "\n",
    "Because module detection methods usually take a while to run, we generate the files necessary to run a method on the several parameter settings and datasets here. These can then be easily called from the commandline, for example on a computer cluster or locally using GNU `parallel`.\n",
    "\n",
    "This function will be called by scripts/moduledetection.py , which will save the modules in the correct format along with additional run information (such as running times)."
   ]
  },
  {
   "cell_type": "code",
   "execution_count": 6,
   "id": "19f862f9",
   "metadata": {
    "execution": {
     "iopub.execute_input": "2021-10-06T02:07:46.688094Z",
     "iopub.status.busy": "2021-10-06T02:07:46.687677Z",
     "iopub.status.idle": "2021-10-06T02:07:46.689262Z",
     "shell.execute_reply": "2021-10-06T02:07:46.689549Z"
    },
    "papermill": {
     "duration": 0.06304,
     "end_time": "2021-10-06T02:07:46.689659",
     "exception": false,
     "start_time": "2021-10-06T02:07:46.626619",
     "status": "completed"
    },
    "tags": []
   },
   "outputs": [],
   "source": [
    "# datasets to run\n",
    "datasetnames = [\n",
    "    \"ecoli_colombos\",\n",
    "    \"ecoli_dream5\",\n",
    "    \"yeast_gpl2529\",\n",
    "    \"yeast_dream5\",\n",
    "    \"synth_ecoli_regulondb\",\n",
    "    \"synth_yeast_macisaac\",\n",
    "    \"human_tcga\",\n",
    "    \"human_gtex\",\n",
    "    \"human_seek_gpl5175\",\n",
    "    \"ecoli_precise2\"\n",
    "]\n",
    "\n",
    "# choose the method to evaluate\n",
    "# method_name = \"agglom_pearson_abs\" # use the dummy method to check if everything works correctly\n",
    "# method_name = \"agglom\" # this method runs very fast, and has the best performance among clustering methods\n",
    "# method_name = \"ica_zscore\" # this method runs very slow, but has approx. the highest performance in the benchmark\n",
    "# method_name = \"spectral_biclust\" # top biclustering method\n",
    "# method_name = \"meanshift\""
   ]
  },
  {
   "cell_type": "markdown",
   "id": "9c92fcc9",
   "metadata": {
    "papermill": {
     "duration": 0.054054,
     "end_time": "2021-10-06T02:07:46.795351",
     "exception": false,
     "start_time": "2021-10-06T02:07:46.741297",
     "status": "completed"
    },
    "tags": []
   },
   "source": [
    "To add your own method, create a function with \"your_method_name\" in the `lib/clustering.py` file (or any other file as long as it's imported in `scripts/moduledetection.py`.\n",
    "This function should accept an `E` object (which is a dataframe with genes in columns) and any additional parameters\n",
    "Then add reasonable parameter setting of your method to `conf/paramexplo_blueprints.py`."
   ]
  },
  {
   "cell_type": "markdown",
   "id": "6fe6d48d",
   "metadata": {
    "papermill": {
     "duration": 0.05635,
     "end_time": "2021-10-06T02:07:46.916054",
     "exception": false,
     "start_time": "2021-10-06T02:07:46.859704",
     "status": "completed"
    },
    "tags": []
   },
   "source": [
    "method_name = \"your_method_name\""
   ]
  },
  {
   "cell_type": "code",
   "execution_count": 7,
   "id": "246ec58d",
   "metadata": {
    "execution": {
     "iopub.execute_input": "2021-10-06T02:07:47.032003Z",
     "iopub.status.busy": "2021-10-06T02:07:47.031605Z",
     "iopub.status.idle": "2021-10-06T02:07:47.033998Z",
     "shell.execute_reply": "2021-10-06T02:07:47.034285Z"
    },
    "papermill": {
     "duration": 0.066519,
     "end_time": "2021-10-06T02:07:47.034396",
     "exception": false,
     "start_time": "2021-10-06T02:07:46.967877",
     "status": "completed"
    },
    "tags": []
   },
   "outputs": [],
   "source": [
    "# paramexplo_blueprints.py stores for every method the parameters which will be varied using a grid-search approach.\n",
    "%run ../conf/paramexplo_blueprints.py\n",
    "methodblueprint = blueprints[method_name]"
   ]
  },
  {
   "cell_type": "code",
   "execution_count": 8,
   "id": "5d74d381",
   "metadata": {
    "execution": {
     "iopub.execute_input": "2021-10-06T02:07:47.149501Z",
     "iopub.status.busy": "2021-10-06T02:07:47.149116Z",
     "iopub.status.idle": "2021-10-06T02:07:47.153698Z",
     "shell.execute_reply": "2021-10-06T02:07:47.153988Z"
    },
    "papermill": {
     "duration": 0.067912,
     "end_time": "2021-10-06T02:07:47.154097",
     "exception": false,
     "start_time": "2021-10-06T02:07:47.086185",
     "status": "completed"
    },
    "tags": []
   },
   "outputs": [
    {
     "data": {
      "text/plain": [
       "{'staticparams': {'method': 'agglom_pearson_abs',\n",
       "  'simdist_function': 'pearson_correlation_absolute'},\n",
       " 'dynparams': {'linkage': ['complete', 'average'],\n",
       "  'k': array([ 25.,  50.,  75., 100., 125., 150., 175., 200., 225., 250., 275.,\n",
       "         300.])},\n",
       " 'type': 'moduledetection'}"
      ]
     },
     "execution_count": 8,
     "metadata": {},
     "output_type": "execute_result"
    }
   ],
   "source": [
    "methodblueprint"
   ]
  },
  {
   "cell_type": "markdown",
   "id": "f4838f6a",
   "metadata": {
    "papermill": {
     "duration": 0.052271,
     "end_time": "2021-10-06T02:07:47.258809",
     "exception": false,
     "start_time": "2021-10-06T02:07:47.206538",
     "status": "completed"
    },
    "tags": []
   },
   "source": [
    "Generate different parameter settings using a grid-search."
   ]
  },
  {
   "cell_type": "code",
   "execution_count": 9,
   "id": "fc81ab89",
   "metadata": {
    "execution": {
     "iopub.execute_input": "2021-10-06T02:07:47.377522Z",
     "iopub.status.busy": "2021-10-06T02:07:47.377131Z",
     "iopub.status.idle": "2021-10-06T02:07:47.379498Z",
     "shell.execute_reply": "2021-10-06T02:07:47.379786Z"
    },
    "papermill": {
     "duration": 0.068648,
     "end_time": "2021-10-06T02:07:47.379904",
     "exception": false,
     "start_time": "2021-10-06T02:07:47.311256",
     "status": "completed"
    },
    "tags": []
   },
   "outputs": [],
   "source": [
    "params_folder = \"conf/paramexplo/\" + method_name + \"/\"\n",
    "if os.path.exists(\"../\" + params_folder):\n",
    "    shutil.rmtree(\"../\" + params_folder)\n",
    "os.makedirs(\"../\" + params_folder)\n",
    "\n",
    "methodsettings = []\n",
    "method_locations = []\n",
    "i = 0\n",
    "for dynparam_combination in list(itertools.product(*[methodblueprint[\"dynparams\"][param] for param in sorted(methodblueprint[\"dynparams\"].keys())])):\n",
    "    method = {\"params\":{}}\n",
    "    method[\"params\"] = methodblueprint[\"staticparams\"].copy()\n",
    "    method[\"params\"].update(dict(zip(sorted(methodblueprint[\"dynparams\"].keys()), dynparam_combination)))\n",
    "    method[\"location\"] = params_folder + str(i) + \".json\"\n",
    "    method[\"seed\"] = 0\n",
    "\n",
    "    methodsettings.append(method)\n",
    "\n",
    "    json.dump(method, open(\"../\" + method[\"location\"], \"w\"), cls=JSONExtendedEncoder)\n",
    "\n",
    "    method_locations.append(method[\"location\"])\n",
    "\n",
    "    i+=1"
   ]
  },
  {
   "cell_type": "markdown",
   "id": "f75c9306",
   "metadata": {
    "papermill": {
     "duration": 0.053186,
     "end_time": "2021-10-06T02:07:47.485863",
     "exception": false,
     "start_time": "2021-10-06T02:07:47.432677",
     "status": "completed"
    },
    "tags": []
   },
   "source": [
    "Now combine the different parameter settings and datasets. Then generate the different python commands to run every parameter setting and dataset in parallel."
   ]
  },
  {
   "cell_type": "code",
   "execution_count": 10,
   "id": "e8a17f57",
   "metadata": {
    "execution": {
     "iopub.execute_input": "2021-10-06T02:07:47.612940Z",
     "iopub.status.busy": "2021-10-06T02:07:47.612517Z",
     "iopub.status.idle": "2021-10-06T02:07:47.615544Z",
     "shell.execute_reply": "2021-10-06T02:07:47.614965Z"
    },
    "papermill": {
     "duration": 0.076722,
     "end_time": "2021-10-06T02:07:47.615641",
     "exception": false,
     "start_time": "2021-10-06T02:07:47.538919",
     "status": "completed"
    },
    "tags": []
   },
   "outputs": [],
   "source": [
    "settings_name = \"paramexplo/{method_name}\".format(method_name = method_name)\n",
    "settings = []\n",
    "for datasetname in datasetnames:\n",
    "    for setting_ix, methodsetting in enumerate(methodsettings):\n",
    "        settingid = datasetname + \"_\" + str(setting_ix)\n",
    "        settings.append({\n",
    "            \"dataset_location\":\"conf/datasets/\" + datasetname + \".json\",\n",
    "            \"dataset_name\":datasetname,\n",
    "            \"method_location\":methodsetting[\"location\"],\n",
    "            \"output_folder\":\"results/\" + methodblueprint[\"type\"] + \"/{settings_name}/{settingid}/\".format(settings_name=settings_name, settingid=settingid),\n",
    "            \"settingid\":settingid\n",
    "        })\n",
    "json.dump(settings, open(\"../conf/settings/{settings_name}.json\".format(settings_name=settings_name), \"w\"))"
   ]
  },
  {
   "cell_type": "code",
   "execution_count": 11,
   "id": "4fec0a3f",
   "metadata": {
    "execution": {
     "iopub.execute_input": "2021-10-06T02:07:47.732958Z",
     "iopub.status.busy": "2021-10-06T02:07:47.732566Z",
     "iopub.status.idle": "2021-10-06T02:07:47.754198Z",
     "shell.execute_reply": "2021-10-06T02:07:47.754525Z"
    },
    "papermill": {
     "duration": 0.084645,
     "end_time": "2021-10-06T02:07:47.754634",
     "exception": false,
     "start_time": "2021-10-06T02:07:47.669989",
     "status": "completed"
    },
    "tags": []
   },
   "outputs": [],
   "source": [
    "settings_dataset = pd.DataFrame([dict(settingid=setting[\"settingid\"], **json.load(open(\"../\" + setting[\"dataset_location\"]))[\"params\"]) for setting in settings])\n",
    "settings_method = pd.DataFrame([dict(settingid=setting[\"settingid\"], **json.load(open(\"../\" + setting[\"method_location\"]))[\"params\"]) for setting in settings])"
   ]
  },
  {
   "cell_type": "code",
   "execution_count": 12,
   "id": "d27463e7",
   "metadata": {
    "execution": {
     "iopub.execute_input": "2021-10-06T02:07:47.868948Z",
     "iopub.status.busy": "2021-10-06T02:07:47.868547Z",
     "iopub.status.idle": "2021-10-06T02:07:47.871078Z",
     "shell.execute_reply": "2021-10-06T02:07:47.871432Z"
    },
    "papermill": {
     "duration": 0.063694,
     "end_time": "2021-10-06T02:07:47.871536",
     "exception": false,
     "start_time": "2021-10-06T02:07:47.807842",
     "status": "completed"
    },
    "tags": []
   },
   "outputs": [],
   "source": [
    "# commands = \"\"\n",
    "# for i, setting in enumerate(settings):\n",
    "#     #commands += \"python scripts/moduledetection.py {method_location} {dataset_location} {output_folder} 0 test\\n\".format(**setting)\n",
    "#     commands += \"python3 scripts/\" + methodblueprint[\"type\"] + \".py {method_location} {dataset_location} {output_folder}\\n\".format(**setting)\n",
    "\n",
    "# commands_location = \"tmp/{settings_name}.txt\".format(**locals())\n",
    "# os.makedirs(\"../\" + os.path.dirname(commands_location), exist_ok=True)\n",
    "# with open(\"../\" + commands_location, \"w\") as outfile:\n",
    "#     outfile.write(commands)\n",
    "# commands_location = \"tmp/{settings_name}.txt\".format(**locals())\n",
    "# os.makedirs(os.path.dirname(\"../tmp/\" + commands_location), exist_ok=True)\n",
    "# with open(\"../tmp/\" + commands_location, \"w\") as outfile:\n",
    "#     outfile.write(commands)\n",
    "    \n",
    "# #script_location = generate_batchcode(commands_location, settings_name, len(settings), {\"memory\":\"10G\", \"numcores\":1}, \"biclust_comp2\")\n",
    "\n",
    "# # this command can be used on most linux computers to run the different parameter settings in parallel\n",
    "# print(\"parallel -j 4 -a \" + commands_location)"
   ]
  },
  {
   "cell_type": "markdown",
   "id": "6fc2de54",
   "metadata": {
    "papermill": {
     "duration": 0.052805,
     "end_time": "2021-10-06T02:07:47.978066",
     "exception": false,
     "start_time": "2021-10-06T02:07:47.925261",
     "status": "completed"
    },
    "tags": []
   },
   "source": [
    "# Evaluating the method"
   ]
  },
  {
   "cell_type": "code",
   "execution_count": 13,
   "id": "b41e0c79",
   "metadata": {
    "execution": {
     "iopub.execute_input": "2021-10-06T02:07:48.100689Z",
     "iopub.status.busy": "2021-10-06T02:07:48.100293Z",
     "iopub.status.idle": "2021-10-06T02:07:48.325467Z",
     "shell.execute_reply": "2021-10-06T02:07:48.325766Z"
    },
    "papermill": {
     "duration": 0.294692,
     "end_time": "2021-10-06T02:07:48.325882",
     "exception": false,
     "start_time": "2021-10-06T02:07:48.031190",
     "status": "completed"
    },
    "tags": []
   },
   "outputs": [],
   "source": [
    "from modulescomparison import ModevalKnownmodules, ModevalCoverage"
   ]
  },
  {
   "cell_type": "markdown",
   "id": "8bd73895",
   "metadata": {
    "papermill": {
     "duration": 0.052638,
     "end_time": "2021-10-06T02:07:48.431835",
     "exception": false,
     "start_time": "2021-10-06T02:07:48.379197",
     "status": "completed"
    },
    "tags": []
   },
   "source": [
    "Note: If you downloaded the results from zenodo, you don't need to rerun this for \"dummy\", \"agglom\", \"ica_zscore\", \"spectral_biclust\" and \"meanshift\""
   ]
  },
  {
   "cell_type": "markdown",
   "id": "659b8b26",
   "metadata": {
    "papermill": {
     "duration": 0.052841,
     "end_time": "2021-10-06T02:07:48.538094",
     "exception": false,
     "start_time": "2021-10-06T02:07:48.485253",
     "status": "completed"
    },
    "tags": []
   },
   "source": [
    "## By comparing with known modules"
   ]
  },
  {
   "cell_type": "markdown",
   "id": "1ae467a0",
   "metadata": {
    "papermill": {
     "duration": 0.052682,
     "end_time": "2021-10-06T02:07:48.643964",
     "exception": false,
     "start_time": "2021-10-06T02:07:48.591282",
     "status": "completed"
    },
    "tags": []
   },
   "source": [
    "Evaluate by comparing with known modules"
   ]
  },
  {
   "cell_type": "code",
   "execution_count": 14,
   "id": "5d864363",
   "metadata": {
    "execution": {
     "iopub.execute_input": "2021-10-06T02:07:48.763675Z",
     "iopub.status.busy": "2021-10-06T02:07:48.763288Z",
     "iopub.status.idle": "2021-10-06T02:07:48.812056Z",
     "shell.execute_reply": "2021-10-06T02:07:48.812611Z"
    },
    "papermill": {
     "duration": 0.115545,
     "end_time": "2021-10-06T02:07:48.812723",
     "exception": false,
     "start_time": "2021-10-06T02:07:48.697178",
     "status": "completed"
    },
    "tags": []
   },
   "outputs": [],
   "source": [
    "# create pool of processors\n",
    "if \"pool\" in locals().keys():\n",
    "    pool.close()\n",
    "pool = mp.Pool(n_jobs)"
   ]
  },
  {
   "cell_type": "code",
   "execution_count": 15,
   "id": "9b592be0",
   "metadata": {
    "execution": {
     "iopub.execute_input": "2021-10-06T02:07:48.935557Z",
     "iopub.status.busy": "2021-10-06T02:07:48.935174Z",
     "iopub.status.idle": "2021-10-06T02:07:48.939989Z",
     "shell.execute_reply": "2021-10-06T02:07:48.940516Z"
    },
    "papermill": {
     "duration": 0.073615,
     "end_time": "2021-10-06T02:07:48.940624",
     "exception": false,
     "start_time": "2021-10-06T02:07:48.867009",
     "status": "completed"
    },
    "tags": []
   },
   "outputs": [],
   "source": [
    "settings_filtered = [setting for setting in settings if not setting[\"dataset_name\"].startswith(\"human\")] # only evaluate non-human datasets\n",
    "modeval = ModevalKnownmodules(settings_filtered, baseline = True)"
   ]
  },
  {
   "cell_type": "code",
   "execution_count": 16,
   "id": "109c6fe6",
   "metadata": {
    "execution": {
     "iopub.execute_input": "2021-10-06T02:07:49.061585Z",
     "iopub.status.busy": "2021-10-06T02:07:49.061199Z",
     "iopub.status.idle": "2021-10-06T02:12:14.466495Z",
     "shell.execute_reply": "2021-10-06T02:12:14.466807Z"
    },
    "papermill": {
     "duration": 265.472968,
     "end_time": "2021-10-06T02:12:14.466918",
     "exception": false,
     "start_time": "2021-10-06T02:07:48.993950",
     "status": "completed"
    },
    "tags": []
   },
   "outputs": [],
   "source": [
    "modeval.run(pool)\n",
    "modeval.save(settings_name)"
   ]
  },
  {
   "cell_type": "code",
   "execution_count": 17,
   "id": "9c1cd083",
   "metadata": {
    "execution": {
     "iopub.execute_input": "2021-10-06T02:12:14.588787Z",
     "iopub.status.busy": "2021-10-06T02:12:14.588388Z",
     "iopub.status.idle": "2021-10-06T02:12:14.597661Z",
     "shell.execute_reply": "2021-10-06T02:12:14.597972Z"
    },
    "papermill": {
     "duration": 0.077676,
     "end_time": "2021-10-06T02:12:14.598083",
     "exception": false,
     "start_time": "2021-10-06T02:12:14.520407",
     "status": "completed"
    },
    "tags": []
   },
   "outputs": [],
   "source": [
    "modeval.load(settings_name)"
   ]
  },
  {
   "cell_type": "code",
   "execution_count": 18,
   "id": "706cc590",
   "metadata": {
    "execution": {
     "iopub.execute_input": "2021-10-06T02:12:14.720700Z",
     "iopub.status.busy": "2021-10-06T02:12:14.716356Z",
     "iopub.status.idle": "2021-10-06T02:12:14.737619Z",
     "shell.execute_reply": "2021-10-06T02:12:14.738090Z"
    },
    "papermill": {
     "duration": 0.085838,
     "end_time": "2021-10-06T02:12:14.738200",
     "exception": false,
     "start_time": "2021-10-06T02:12:14.652362",
     "status": "completed"
    },
    "tags": []
   },
   "outputs": [
    {
     "data": {
      "text/html": [
       "<div>\n",
       "<style scoped>\n",
       "    .dataframe tbody tr th:only-of-type {\n",
       "        vertical-align: middle;\n",
       "    }\n",
       "\n",
       "    .dataframe tbody tr th {\n",
       "        vertical-align: top;\n",
       "    }\n",
       "\n",
       "    .dataframe thead th {\n",
       "        text-align: right;\n",
       "    }\n",
       "</style>\n",
       "<table border=\"1\" class=\"dataframe\">\n",
       "  <thead>\n",
       "    <tr style=\"text-align: right;\">\n",
       "      <th></th>\n",
       "      <th>recovery</th>\n",
       "      <th>relevance</th>\n",
       "      <th>F1rr</th>\n",
       "      <th>recall</th>\n",
       "      <th>precision</th>\n",
       "      <th>F1rp</th>\n",
       "      <th>F1rprr</th>\n",
       "      <th>F1rr_permuted</th>\n",
       "      <th>F1rp_permuted</th>\n",
       "      <th>F1rprr_permuted</th>\n",
       "      <th>settingid</th>\n",
       "      <th>knownmodules_name</th>\n",
       "      <th>regnet_name</th>\n",
       "      <th>goldstandard</th>\n",
       "      <th>runningtime</th>\n",
       "    </tr>\n",
       "  </thead>\n",
       "  <tbody>\n",
       "    <tr>\n",
       "      <th>0</th>\n",
       "      <td>0.226586</td>\n",
       "      <td>0.177894</td>\n",
       "      <td>0.199309</td>\n",
       "      <td>0.051668</td>\n",
       "      <td>0.066232</td>\n",
       "      <td>0.058051</td>\n",
       "      <td>0.089913</td>\n",
       "      <td>2.700201</td>\n",
       "      <td>8.357507</td>\n",
       "      <td>4.081668</td>\n",
       "      <td>ecoli_colombos_0</td>\n",
       "      <td>mcl2</td>\n",
       "      <td>ecoli_regulondb</td>\n",
       "      <td>ecoli_regulondb#mcl2</td>\n",
       "      <td>0.838243</td>\n",
       "    </tr>\n",
       "    <tr>\n",
       "      <th>1</th>\n",
       "      <td>0.203340</td>\n",
       "      <td>0.143121</td>\n",
       "      <td>0.167998</td>\n",
       "      <td>0.052379</td>\n",
       "      <td>0.038628</td>\n",
       "      <td>0.044465</td>\n",
       "      <td>0.070318</td>\n",
       "      <td>2.284497</td>\n",
       "      <td>5.274020</td>\n",
       "      <td>3.188055</td>\n",
       "      <td>ecoli_colombos_0</td>\n",
       "      <td>minimal</td>\n",
       "      <td>ecoli_regulondb</td>\n",
       "      <td>ecoli_regulondb#minimal</td>\n",
       "      <td>0.838243</td>\n",
       "    </tr>\n",
       "    <tr>\n",
       "      <th>2</th>\n",
       "      <td>0.162774</td>\n",
       "      <td>0.114664</td>\n",
       "      <td>0.134547</td>\n",
       "      <td>0.021337</td>\n",
       "      <td>0.039583</td>\n",
       "      <td>0.027727</td>\n",
       "      <td>0.045979</td>\n",
       "      <td>1.790495</td>\n",
       "      <td>3.954100</td>\n",
       "      <td>2.464855</td>\n",
       "      <td>ecoli_colombos_0</td>\n",
       "      <td>ap3</td>\n",
       "      <td>ecoli_regulondb</td>\n",
       "      <td>ecoli_regulondb#ap3</td>\n",
       "      <td>0.838243</td>\n",
       "    </tr>\n",
       "    <tr>\n",
       "      <th>3</th>\n",
       "      <td>0.200813</td>\n",
       "      <td>0.163221</td>\n",
       "      <td>0.180076</td>\n",
       "      <td>0.041041</td>\n",
       "      <td>0.048309</td>\n",
       "      <td>0.044379</td>\n",
       "      <td>0.071209</td>\n",
       "      <td>2.695969</td>\n",
       "      <td>6.569270</td>\n",
       "      <td>3.823009</td>\n",
       "      <td>ecoli_colombos_0</td>\n",
       "      <td>tc1</td>\n",
       "      <td>ecoli_regulondb</td>\n",
       "      <td>ecoli_regulondb#tc1</td>\n",
       "      <td>0.838243</td>\n",
       "    </tr>\n",
       "    <tr>\n",
       "      <th>4</th>\n",
       "      <td>0.204883</td>\n",
       "      <td>0.163406</td>\n",
       "      <td>0.181809</td>\n",
       "      <td>0.038667</td>\n",
       "      <td>0.051042</td>\n",
       "      <td>0.044001</td>\n",
       "      <td>0.070854</td>\n",
       "      <td>2.855823</td>\n",
       "      <td>8.207359</td>\n",
       "      <td>4.237256</td>\n",
       "      <td>ecoli_colombos_0</td>\n",
       "      <td>mcl3</td>\n",
       "      <td>ecoli_regulondb</td>\n",
       "      <td>ecoli_regulondb#mcl3</td>\n",
       "      <td>0.838243</td>\n",
       "    </tr>\n",
       "    <tr>\n",
       "      <th>...</th>\n",
       "      <td>...</td>\n",
       "      <td>...</td>\n",
       "      <td>...</td>\n",
       "      <td>...</td>\n",
       "      <td>...</td>\n",
       "      <td>...</td>\n",
       "      <td>...</td>\n",
       "      <td>...</td>\n",
       "      <td>...</td>\n",
       "      <td>...</td>\n",
       "      <td>...</td>\n",
       "      <td>...</td>\n",
       "      <td>...</td>\n",
       "      <td>...</td>\n",
       "      <td>...</td>\n",
       "    </tr>\n",
       "    <tr>\n",
       "      <th>2131</th>\n",
       "      <td>0.283008</td>\n",
       "      <td>0.187216</td>\n",
       "      <td>0.225355</td>\n",
       "      <td>0.137420</td>\n",
       "      <td>0.031092</td>\n",
       "      <td>0.050710</td>\n",
       "      <td>0.082791</td>\n",
       "      <td>3.063771</td>\n",
       "      <td>6.020099</td>\n",
       "      <td>4.060869</td>\n",
       "      <td>ecoli_precise2_19</td>\n",
       "      <td>minimal</td>\n",
       "      <td>ecoli_regulondb</td>\n",
       "      <td>ecoli_regulondb#minimal</td>\n",
       "      <td>1.338355</td>\n",
       "    </tr>\n",
       "    <tr>\n",
       "      <th>2132</th>\n",
       "      <td>0.257532</td>\n",
       "      <td>0.266224</td>\n",
       "      <td>0.261806</td>\n",
       "      <td>0.153174</td>\n",
       "      <td>0.023756</td>\n",
       "      <td>0.041133</td>\n",
       "      <td>0.071096</td>\n",
       "      <td>3.565290</td>\n",
       "      <td>4.884048</td>\n",
       "      <td>4.121754</td>\n",
       "      <td>ecoli_precise2_20</td>\n",
       "      <td>minimal</td>\n",
       "      <td>ecoli_regulondb</td>\n",
       "      <td>ecoli_regulondb#minimal</td>\n",
       "      <td>1.232296</td>\n",
       "    </tr>\n",
       "    <tr>\n",
       "      <th>2133</th>\n",
       "      <td>0.276771</td>\n",
       "      <td>0.194246</td>\n",
       "      <td>0.228279</td>\n",
       "      <td>0.138249</td>\n",
       "      <td>0.029967</td>\n",
       "      <td>0.049256</td>\n",
       "      <td>0.081029</td>\n",
       "      <td>3.104193</td>\n",
       "      <td>5.847624</td>\n",
       "      <td>4.055524</td>\n",
       "      <td>ecoli_precise2_21</td>\n",
       "      <td>minimal</td>\n",
       "      <td>ecoli_regulondb</td>\n",
       "      <td>ecoli_regulondb#minimal</td>\n",
       "      <td>1.468318</td>\n",
       "    </tr>\n",
       "    <tr>\n",
       "      <th>2134</th>\n",
       "      <td>0.267568</td>\n",
       "      <td>0.272469</td>\n",
       "      <td>0.269997</td>\n",
       "      <td>0.155421</td>\n",
       "      <td>0.022837</td>\n",
       "      <td>0.039823</td>\n",
       "      <td>0.069408</td>\n",
       "      <td>3.676621</td>\n",
       "      <td>4.728512</td>\n",
       "      <td>4.136745</td>\n",
       "      <td>ecoli_precise2_22</td>\n",
       "      <td>minimal</td>\n",
       "      <td>ecoli_regulondb</td>\n",
       "      <td>ecoli_regulondb#minimal</td>\n",
       "      <td>1.426097</td>\n",
       "    </tr>\n",
       "    <tr>\n",
       "      <th>2135</th>\n",
       "      <td>0.279277</td>\n",
       "      <td>0.196534</td>\n",
       "      <td>0.230711</td>\n",
       "      <td>0.139227</td>\n",
       "      <td>0.029555</td>\n",
       "      <td>0.048760</td>\n",
       "      <td>0.080505</td>\n",
       "      <td>3.137292</td>\n",
       "      <td>5.788717</td>\n",
       "      <td>4.069209</td>\n",
       "      <td>ecoli_precise2_23</td>\n",
       "      <td>minimal</td>\n",
       "      <td>ecoli_regulondb</td>\n",
       "      <td>ecoli_regulondb#minimal</td>\n",
       "      <td>1.161765</td>\n",
       "    </tr>\n",
       "  </tbody>\n",
       "</table>\n",
       "<p>2136 rows × 15 columns</p>\n",
       "</div>"
      ],
      "text/plain": [
       "      recovery  relevance      F1rr    recall  precision      F1rp    F1rprr  \\\n",
       "0     0.226586   0.177894  0.199309  0.051668   0.066232  0.058051  0.089913   \n",
       "1     0.203340   0.143121  0.167998  0.052379   0.038628  0.044465  0.070318   \n",
       "2     0.162774   0.114664  0.134547  0.021337   0.039583  0.027727  0.045979   \n",
       "3     0.200813   0.163221  0.180076  0.041041   0.048309  0.044379  0.071209   \n",
       "4     0.204883   0.163406  0.181809  0.038667   0.051042  0.044001  0.070854   \n",
       "...        ...        ...       ...       ...        ...       ...       ...   \n",
       "2131  0.283008   0.187216  0.225355  0.137420   0.031092  0.050710  0.082791   \n",
       "2132  0.257532   0.266224  0.261806  0.153174   0.023756  0.041133  0.071096   \n",
       "2133  0.276771   0.194246  0.228279  0.138249   0.029967  0.049256  0.081029   \n",
       "2134  0.267568   0.272469  0.269997  0.155421   0.022837  0.039823  0.069408   \n",
       "2135  0.279277   0.196534  0.230711  0.139227   0.029555  0.048760  0.080505   \n",
       "\n",
       "      F1rr_permuted  F1rp_permuted  F1rprr_permuted          settingid  \\\n",
       "0          2.700201       8.357507         4.081668   ecoli_colombos_0   \n",
       "1          2.284497       5.274020         3.188055   ecoli_colombos_0   \n",
       "2          1.790495       3.954100         2.464855   ecoli_colombos_0   \n",
       "3          2.695969       6.569270         3.823009   ecoli_colombos_0   \n",
       "4          2.855823       8.207359         4.237256   ecoli_colombos_0   \n",
       "...             ...            ...              ...                ...   \n",
       "2131       3.063771       6.020099         4.060869  ecoli_precise2_19   \n",
       "2132       3.565290       4.884048         4.121754  ecoli_precise2_20   \n",
       "2133       3.104193       5.847624         4.055524  ecoli_precise2_21   \n",
       "2134       3.676621       4.728512         4.136745  ecoli_precise2_22   \n",
       "2135       3.137292       5.788717         4.069209  ecoli_precise2_23   \n",
       "\n",
       "     knownmodules_name      regnet_name             goldstandard  runningtime  \n",
       "0                 mcl2  ecoli_regulondb     ecoli_regulondb#mcl2     0.838243  \n",
       "1              minimal  ecoli_regulondb  ecoli_regulondb#minimal     0.838243  \n",
       "2                  ap3  ecoli_regulondb      ecoli_regulondb#ap3     0.838243  \n",
       "3                  tc1  ecoli_regulondb      ecoli_regulondb#tc1     0.838243  \n",
       "4                 mcl3  ecoli_regulondb     ecoli_regulondb#mcl3     0.838243  \n",
       "...                ...              ...                      ...          ...  \n",
       "2131           minimal  ecoli_regulondb  ecoli_regulondb#minimal     1.338355  \n",
       "2132           minimal  ecoli_regulondb  ecoli_regulondb#minimal     1.232296  \n",
       "2133           minimal  ecoli_regulondb  ecoli_regulondb#minimal     1.468318  \n",
       "2134           minimal  ecoli_regulondb  ecoli_regulondb#minimal     1.426097  \n",
       "2135           minimal  ecoli_regulondb  ecoli_regulondb#minimal     1.161765  \n",
       "\n",
       "[2136 rows x 15 columns]"
      ]
     },
     "execution_count": 18,
     "metadata": {},
     "output_type": "execute_result"
    }
   ],
   "source": [
    "modeval.scores"
   ]
  },
  {
   "cell_type": "markdown",
   "id": "6c26ba3a",
   "metadata": {
    "papermill": {
     "duration": 0.075276,
     "end_time": "2021-10-06T02:12:14.869461",
     "exception": false,
     "start_time": "2021-10-06T02:12:14.794185",
     "status": "completed"
    },
    "tags": []
   },
   "source": [
    "## Using the coverage of regulators"
   ]
  },
  {
   "cell_type": "code",
   "execution_count": 19,
   "id": "6bdfdd92",
   "metadata": {
    "execution": {
     "iopub.execute_input": "2021-10-06T02:12:14.996559Z",
     "iopub.status.busy": "2021-10-06T02:12:14.996168Z",
     "iopub.status.idle": "2021-10-06T02:12:15.012230Z",
     "shell.execute_reply": "2021-10-06T02:12:15.012636Z"
    },
    "papermill": {
     "duration": 0.085744,
     "end_time": "2021-10-06T02:12:15.012745",
     "exception": false,
     "start_time": "2021-10-06T02:12:14.927001",
     "status": "completed"
    },
    "tags": []
   },
   "outputs": [],
   "source": [
    "# create pool of processors\n",
    "if \"pool\" in locals().keys():\n",
    "    pool.close()\n",
    "pool = mp.Pool(n_jobs)"
   ]
  },
  {
   "cell_type": "code",
   "execution_count": 20,
   "id": "4581bbcb",
   "metadata": {
    "execution": {
     "iopub.execute_input": "2021-10-06T02:12:15.136821Z",
     "iopub.status.busy": "2021-10-06T02:12:15.136413Z",
     "iopub.status.idle": "2021-10-06T02:12:15.167197Z",
     "shell.execute_reply": "2021-10-06T02:12:15.167527Z"
    },
    "papermill": {
     "duration": 0.099403,
     "end_time": "2021-10-06T02:12:15.167638",
     "exception": false,
     "start_time": "2021-10-06T02:12:15.068235",
     "status": "completed"
    },
    "tags": []
   },
   "outputs": [],
   "source": [
    "settings_filtered = [setting for setting in settings if setting[\"dataset_name\"].startswith(\"human\")] # only evaluate human datasets\n",
    "modeval = ModevalCoverage(settings_filtered, baseline = True)"
   ]
  },
  {
   "cell_type": "code",
   "execution_count": 21,
   "id": "a842614a",
   "metadata": {
    "execution": {
     "iopub.execute_input": "2021-10-06T02:12:15.291288Z",
     "iopub.status.busy": "2021-10-06T02:12:15.290891Z",
     "iopub.status.idle": "2021-10-06T03:01:44.390816Z",
     "shell.execute_reply": "2021-10-06T03:01:44.391361Z"
    },
    "papermill": {
     "duration": 2969.167514,
     "end_time": "2021-10-06T03:01:44.391473",
     "exception": false,
     "start_time": "2021-10-06T02:12:15.223959",
     "status": "completed"
    },
    "tags": []
   },
   "outputs": [
    {
     "name": "stdout",
     "output_type": "stream",
     "text": [
      "Evaluating a total of 72 settings.\n"
     ]
    }
   ],
   "source": [
    "modeval.run(pool)\n",
    "modeval.save(settings_name)"
   ]
  },
  {
   "cell_type": "code",
   "execution_count": 22,
   "id": "f6a6ce5d",
   "metadata": {
    "execution": {
     "iopub.execute_input": "2021-10-06T03:01:45.365056Z",
     "iopub.status.busy": "2021-10-06T03:01:45.364671Z",
     "iopub.status.idle": "2021-10-06T03:01:45.376108Z",
     "shell.execute_reply": "2021-10-06T03:01:45.376627Z"
    },
    "papermill": {
     "duration": 0.928887,
     "end_time": "2021-10-06T03:01:45.376737",
     "exception": false,
     "start_time": "2021-10-06T03:01:44.447850",
     "status": "completed"
    },
    "tags": []
   },
   "outputs": [],
   "source": [
    "modeval.load(settings_name)"
   ]
  },
  {
   "cell_type": "code",
   "execution_count": 23,
   "id": "d4b059c3",
   "metadata": {
    "execution": {
     "iopub.execute_input": "2021-10-06T03:01:45.504880Z",
     "iopub.status.busy": "2021-10-06T03:01:45.504503Z",
     "iopub.status.idle": "2021-10-06T03:01:45.511605Z",
     "shell.execute_reply": "2021-10-06T03:01:45.512114Z"
    },
    "papermill": {
     "duration": 0.079249,
     "end_time": "2021-10-06T03:01:45.512220",
     "exception": false,
     "start_time": "2021-10-06T03:01:45.432971",
     "status": "completed"
    },
    "tags": []
   },
   "outputs": [
    {
     "data": {
      "text/html": [
       "<div>\n",
       "<style scoped>\n",
       "    .dataframe tbody tr th:only-of-type {\n",
       "        vertical-align: middle;\n",
       "    }\n",
       "\n",
       "    .dataframe tbody tr th {\n",
       "        vertical-align: top;\n",
       "    }\n",
       "\n",
       "    .dataframe thead th {\n",
       "        text-align: right;\n",
       "    }\n",
       "</style>\n",
       "<table border=\"1\" class=\"dataframe\">\n",
       "  <thead>\n",
       "    <tr style=\"text-align: right;\">\n",
       "      <th></th>\n",
       "      <th>aucodds</th>\n",
       "      <th>aucodds_permuted</th>\n",
       "      <th>settingid</th>\n",
       "      <th>goldstandard</th>\n",
       "      <th>runningtime</th>\n",
       "    </tr>\n",
       "  </thead>\n",
       "  <tbody>\n",
       "    <tr>\n",
       "      <th>0</th>\n",
       "      <td>0.095364</td>\n",
       "      <td>3.598500</td>\n",
       "      <td>human_tcga_0</td>\n",
       "      <td>regcircuit</td>\n",
       "      <td>5.915454</td>\n",
       "    </tr>\n",
       "    <tr>\n",
       "      <th>1</th>\n",
       "      <td>0.025903</td>\n",
       "      <td>0.977450</td>\n",
       "      <td>human_tcga_1</td>\n",
       "      <td>regcircuit</td>\n",
       "      <td>5.706284</td>\n",
       "    </tr>\n",
       "    <tr>\n",
       "      <th>2</th>\n",
       "      <td>0.107492</td>\n",
       "      <td>4.056172</td>\n",
       "      <td>human_tcga_2</td>\n",
       "      <td>regcircuit</td>\n",
       "      <td>4.702357</td>\n",
       "    </tr>\n",
       "    <tr>\n",
       "      <th>3</th>\n",
       "      <td>0.042776</td>\n",
       "      <td>1.614130</td>\n",
       "      <td>human_tcga_3</td>\n",
       "      <td>regcircuit</td>\n",
       "      <td>5.028560</td>\n",
       "    </tr>\n",
       "    <tr>\n",
       "      <th>4</th>\n",
       "      <td>0.110955</td>\n",
       "      <td>4.186826</td>\n",
       "      <td>human_tcga_4</td>\n",
       "      <td>regcircuit</td>\n",
       "      <td>4.825297</td>\n",
       "    </tr>\n",
       "    <tr>\n",
       "      <th>...</th>\n",
       "      <td>...</td>\n",
       "      <td>...</td>\n",
       "      <td>...</td>\n",
       "      <td>...</td>\n",
       "      <td>...</td>\n",
       "    </tr>\n",
       "    <tr>\n",
       "      <th>67</th>\n",
       "      <td>0.166105</td>\n",
       "      <td>6.267905</td>\n",
       "      <td>human_seek_gpl5175_19</td>\n",
       "      <td>regcircuit</td>\n",
       "      <td>2.194216</td>\n",
       "    </tr>\n",
       "    <tr>\n",
       "      <th>68</th>\n",
       "      <td>0.228174</td>\n",
       "      <td>8.610032</td>\n",
       "      <td>human_seek_gpl5175_20</td>\n",
       "      <td>regcircuit</td>\n",
       "      <td>1.838537</td>\n",
       "    </tr>\n",
       "    <tr>\n",
       "      <th>69</th>\n",
       "      <td>0.166468</td>\n",
       "      <td>6.281577</td>\n",
       "      <td>human_seek_gpl5175_21</td>\n",
       "      <td>regcircuit</td>\n",
       "      <td>2.168797</td>\n",
       "    </tr>\n",
       "    <tr>\n",
       "      <th>70</th>\n",
       "      <td>0.211450</td>\n",
       "      <td>7.978940</td>\n",
       "      <td>human_seek_gpl5175_22</td>\n",
       "      <td>regcircuit</td>\n",
       "      <td>2.256483</td>\n",
       "    </tr>\n",
       "    <tr>\n",
       "      <th>71</th>\n",
       "      <td>0.163397</td>\n",
       "      <td>6.165696</td>\n",
       "      <td>human_seek_gpl5175_23</td>\n",
       "      <td>regcircuit</td>\n",
       "      <td>1.858893</td>\n",
       "    </tr>\n",
       "  </tbody>\n",
       "</table>\n",
       "<p>72 rows × 5 columns</p>\n",
       "</div>"
      ],
      "text/plain": [
       "     aucodds  aucodds_permuted              settingid goldstandard  \\\n",
       "0   0.095364          3.598500           human_tcga_0   regcircuit   \n",
       "1   0.025903          0.977450           human_tcga_1   regcircuit   \n",
       "2   0.107492          4.056172           human_tcga_2   regcircuit   \n",
       "3   0.042776          1.614130           human_tcga_3   regcircuit   \n",
       "4   0.110955          4.186826           human_tcga_4   regcircuit   \n",
       "..       ...               ...                    ...          ...   \n",
       "67  0.166105          6.267905  human_seek_gpl5175_19   regcircuit   \n",
       "68  0.228174          8.610032  human_seek_gpl5175_20   regcircuit   \n",
       "69  0.166468          6.281577  human_seek_gpl5175_21   regcircuit   \n",
       "70  0.211450          7.978940  human_seek_gpl5175_22   regcircuit   \n",
       "71  0.163397          6.165696  human_seek_gpl5175_23   regcircuit   \n",
       "\n",
       "    runningtime  \n",
       "0      5.915454  \n",
       "1      5.706284  \n",
       "2      4.702357  \n",
       "3      5.028560  \n",
       "4      4.825297  \n",
       "..          ...  \n",
       "67     2.194216  \n",
       "68     1.838537  \n",
       "69     2.168797  \n",
       "70     2.256483  \n",
       "71     1.858893  \n",
       "\n",
       "[72 rows x 5 columns]"
      ]
     },
     "execution_count": 23,
     "metadata": {},
     "output_type": "execute_result"
    }
   ],
   "source": [
    "modeval.scores"
   ]
  },
  {
   "cell_type": "markdown",
   "id": "a9bfffda",
   "metadata": {
    "papermill": {
     "duration": 0.056984,
     "end_time": "2021-10-06T03:01:45.626491",
     "exception": false,
     "start_time": "2021-10-06T03:01:45.569507",
     "status": "completed"
    },
    "tags": []
   },
   "source": [
    "**TODO:** I understand that the previous code generates some files that will be used later to create the final dataframe with scores and the plots."
   ]
  },
  {
   "cell_type": "code",
   "execution_count": null,
   "id": "278a0762",
   "metadata": {
    "papermill": {
     "duration": 0.066594,
     "end_time": "2021-10-06T03:01:45.773415",
     "exception": false,
     "start_time": "2021-10-06T03:01:45.706821",
     "status": "completed"
    },
    "tags": []
   },
   "outputs": [],
   "source": []
  }
 ],
 "metadata": {
  "jupytext": {
   "cell_metadata_filter": "all,-execution,-papermill,-trusted",
   "text_representation": {
    "extension": ".py",
    "format_name": "percent",
    "format_version": "1.3",
    "jupytext_version": "1.13.0"
   }
  },
  "kernelspec": {
   "display_name": "Python 3 (ipykernel)",
   "language": "python",
   "name": "python3"
  },
  "language_info": {
   "codemirror_mode": {
    "name": "ipython",
    "version": 3
   },
   "file_extension": ".py",
   "mimetype": "text/x-python",
   "name": "python",
   "nbconvert_exporter": "python",
   "pygments_lexer": "ipython3",
   "version": "3.9.7"
  },
  "papermill": {
   "default_parameters": {},
   "duration": 3242.439076,
   "end_time": "2021-10-06T03:01:46.144951",
   "environment_variables": {},
   "exception": null,
   "input_path": "evaluate.ipynb",
   "output_path": "agglom_pearson_abs-evaluate.ipynb",
   "parameters": {
    "method_name": "agglom_pearson_abs",
    "n_jobs": 1
   },
   "start_time": "2021-10-06T02:07:43.705875",
   "version": "2.3.3"
  },
  "toc": {
   "base_numbering": 1,
   "nav_menu": {},
   "number_sections": true,
   "sideBar": true,
   "skip_h1_title": false,
   "title_cell": "Table of Contents",
   "title_sidebar": "Contents",
   "toc_cell": false,
   "toc_position": {},
   "toc_section_display": true,
   "toc_window_display": false
  }
 },
 "nbformat": 4,
 "nbformat_minor": 5
}