{
 "cells": [
  {
   "cell_type": "markdown",
   "id": "30404340",
   "metadata": {
    "papermill": {
     "duration": 0.034282,
     "end_time": "2021-10-05T20:30:47.030512",
     "exception": false,
     "start_time": "2021-10-05T20:30:46.996230",
     "status": "completed"
    },
    "tags": []
   },
   "source": [
    "# Overall performance of module detection methods"
   ]
  },
  {
   "cell_type": "code",
   "execution_count": 1,
   "id": "005c49a3",
   "metadata": {
    "execution": {
     "iopub.execute_input": "2021-10-05T20:30:47.095771Z",
     "iopub.status.busy": "2021-10-05T20:30:47.095366Z",
     "iopub.status.idle": "2021-10-05T20:30:47.494828Z",
     "shell.execute_reply": "2021-10-05T20:30:47.493926Z"
    },
    "papermill": {
     "duration": 0.436038,
     "end_time": "2021-10-05T20:30:47.494955",
     "exception": false,
     "start_time": "2021-10-05T20:30:47.058917",
     "status": "completed"
    },
    "scrolled": true,
    "tags": []
   },
   "outputs": [],
   "source": [
    "import sys\n",
    "import os\n",
    "# sys.path.insert(0,os.path.abspath(\"../lib/\"))\n",
    "\n",
    "import json\n",
    "\n",
    "from util import JSONExtendedEncoder\n",
    "\n",
    "%load_ext autoreload\n",
    "%autoreload 2\n",
    "\n",
    "%matplotlib inline\n",
    "from matplotlib.pyplot import *\n",
    "\n",
    "import pandas as pd\n",
    "import numpy as np\n",
    "\n",
    "import multiprocessing as mp\n",
    "\n",
    "from itertools import product\n",
    "\n",
    "import itertools\n",
    "import shutil\n",
    "\n",
    "import os\n",
    "\n",
    "conf_folder = \"conf/\""
   ]
  },
  {
   "cell_type": "markdown",
   "id": "bcff504f",
   "metadata": {
    "papermill": {
     "duration": 0.031023,
     "end_time": "2021-10-05T20:30:47.563987",
     "exception": false,
     "start_time": "2021-10-05T20:30:47.532964",
     "status": "completed"
    },
    "tags": []
   },
   "source": [
    "# Settings"
   ]
  },
  {
   "cell_type": "code",
   "execution_count": 2,
   "id": "a57f0c2d",
   "metadata": {
    "execution": {
     "iopub.execute_input": "2021-10-05T20:30:47.624815Z",
     "iopub.status.busy": "2021-10-05T20:30:47.624420Z",
     "iopub.status.idle": "2021-10-05T20:30:47.632778Z",
     "shell.execute_reply": "2021-10-05T20:30:47.633059Z"
    },
    "papermill": {
     "duration": 0.039708,
     "end_time": "2021-10-05T20:30:47.633165",
     "exception": false,
     "start_time": "2021-10-05T20:30:47.593457",
     "status": "completed"
    },
    "tags": []
   },
   "outputs": [],
   "source": [
    "N_JOBS = 1\n",
    "# N_JOBS = mp.cpu_count()-1"
   ]
  },
  {
   "cell_type": "code",
   "execution_count": 3,
   "id": "2b0664df",
   "metadata": {
    "execution": {
     "iopub.execute_input": "2021-10-05T20:30:47.694552Z",
     "iopub.status.busy": "2021-10-05T20:30:47.694168Z",
     "iopub.status.idle": "2021-10-05T20:30:47.703409Z",
     "shell.execute_reply": "2021-10-05T20:30:47.703034Z"
    },
    "papermill": {
     "duration": 0.041448,
     "end_time": "2021-10-05T20:30:47.703493",
     "exception": false,
     "start_time": "2021-10-05T20:30:47.662045",
     "status": "completed"
    },
    "tags": [
     "parameters"
    ]
   },
   "outputs": [],
   "source": [
    "method_name = None"
   ]
  },
  {
   "cell_type": "code",
   "execution_count": 4,
   "id": "015117d0",
   "metadata": {
    "execution": {
     "iopub.execute_input": "2021-10-05T20:30:47.764241Z",
     "iopub.status.busy": "2021-10-05T20:30:47.763844Z",
     "iopub.status.idle": "2021-10-05T20:30:47.772101Z",
     "shell.execute_reply": "2021-10-05T20:30:47.772390Z"
    },
    "papermill": {
     "duration": 0.039796,
     "end_time": "2021-10-05T20:30:47.772489",
     "exception": false,
     "start_time": "2021-10-05T20:30:47.732693",
     "status": "completed"
    },
    "tags": [
     "injected-parameters"
    ]
   },
   "outputs": [],
   "source": [
    "# Parameters\n",
    "method_name = \"agglom_clustermatch\"\n"
   ]
  },
  {
   "cell_type": "code",
   "execution_count": 5,
   "id": "e55a730c",
   "metadata": {
    "execution": {
     "iopub.execute_input": "2021-10-05T20:30:47.833938Z",
     "iopub.status.busy": "2021-10-05T20:30:47.833567Z",
     "iopub.status.idle": "2021-10-05T20:30:47.842838Z",
     "shell.execute_reply": "2021-10-05T20:30:47.842465Z"
    },
    "papermill": {
     "duration": 0.04097,
     "end_time": "2021-10-05T20:30:47.842921",
     "exception": false,
     "start_time": "2021-10-05T20:30:47.801951",
     "status": "completed"
    },
    "tags": []
   },
   "outputs": [],
   "source": [
    "assert method_name is not None, \"You have to specify a method_name\""
   ]
  },
  {
   "cell_type": "markdown",
   "id": "4ca282dd",
   "metadata": {
    "papermill": {
     "duration": 0.028999,
     "end_time": "2021-10-05T20:30:47.901490",
     "exception": false,
     "start_time": "2021-10-05T20:30:47.872491",
     "status": "completed"
    },
    "tags": []
   },
   "source": [
    "# Running a method on different parameter settings and datasets"
   ]
  },
  {
   "cell_type": "markdown",
   "id": "01da7625",
   "metadata": {
    "papermill": {
     "duration": 0.028772,
     "end_time": "2021-10-05T20:30:47.958988",
     "exception": false,
     "start_time": "2021-10-05T20:30:47.930216",
     "status": "completed"
    },
    "tags": []
   },
   "source": [
    "Note: If you downloaded the results from zenodo, you don't need to rerun this for \"dummy\", \"agglom\", \"ica_zscore\", \"spectral_biclust\" and \"meanshift\""
   ]
  },
  {
   "cell_type": "markdown",
   "id": "4a2f27e4",
   "metadata": {
    "papermill": {
     "duration": 0.028456,
     "end_time": "2021-10-05T20:30:48.016203",
     "exception": false,
     "start_time": "2021-10-05T20:30:47.987747",
     "status": "completed"
    },
    "tags": []
   },
   "source": [
    "The following code will explore the parameters of a module detection method on every dataset using a grid-search approach."
   ]
  },
  {
   "cell_type": "markdown",
   "id": "b153c062",
   "metadata": {
    "papermill": {
     "duration": 0.028413,
     "end_time": "2021-10-05T20:30:48.073397",
     "exception": false,
     "start_time": "2021-10-05T20:30:48.044984",
     "status": "completed"
    },
    "tags": []
   },
   "source": [
    "If you want to run your own method, you should wrap it into a python function and add its parameters to `conf/paramexplo_blueprints.py`. We will show the whole workflow here for a \"dummy\"  (but fast) clustering method, which will simply group genes randomly."
   ]
  },
  {
   "cell_type": "markdown",
   "id": "eb7dbe6d",
   "metadata": {
    "papermill": {
     "duration": 0.028774,
     "end_time": "2021-10-05T20:30:48.131024",
     "exception": false,
     "start_time": "2021-10-05T20:30:48.102250",
     "status": "completed"
    },
    "tags": []
   },
   "source": [
    "Every module detection method is wrapped in a python function (see `scripts/moduledetection.py`)\n",
    "\n",
    "Because module detection methods usually take a while to run, we generate the files necessary to run a method on the several parameter settings and datasets here. These can then be easily called from the commandline, for example on a computer cluster or locally using GNU `parallel`.\n",
    "\n",
    "This function will be called by scripts/moduledetection.py , which will save the modules in the correct format along with additional run information (such as running times)."
   ]
  },
  {
   "cell_type": "code",
   "execution_count": 6,
   "id": "eaf75730",
   "metadata": {
    "execution": {
     "iopub.execute_input": "2021-10-05T20:30:48.197667Z",
     "iopub.status.busy": "2021-10-05T20:30:48.197281Z",
     "iopub.status.idle": "2021-10-05T20:30:48.205755Z",
     "shell.execute_reply": "2021-10-05T20:30:48.206042Z"
    },
    "papermill": {
     "duration": 0.043937,
     "end_time": "2021-10-05T20:30:48.206151",
     "exception": false,
     "start_time": "2021-10-05T20:30:48.162214",
     "status": "completed"
    },
    "tags": []
   },
   "outputs": [],
   "source": [
    "# datasets to run\n",
    "datasetnames = [\n",
    "    \"ecoli_colombos\",\n",
    "    \"ecoli_dream5\",\n",
    "    \"yeast_gpl2529\",\n",
    "    \"yeast_dream5\",\n",
    "    \"synth_ecoli_regulondb\",\n",
    "    \"synth_yeast_macisaac\",\n",
    "    \"human_tcga\",\n",
    "    \"human_gtex\",\n",
    "    \"human_seek_gpl5175\",\n",
    "    \"ecoli_precise2\"\n",
    "]\n",
    "\n",
    "# choose the method to evaluate\n",
    "# method_name = \"agglom_pearson_abs\" # use the dummy method to check if everything works correctly\n",
    "# method_name = \"agglom\" # this method runs very fast, and has the best performance among clustering methods\n",
    "# method_name = \"ica_zscore\" # this method runs very slow, but has approx. the highest performance in the benchmark\n",
    "# method_name = \"spectral_biclust\" # top biclustering method\n",
    "# method_name = \"meanshift\""
   ]
  },
  {
   "cell_type": "markdown",
   "id": "cd9f1f16",
   "metadata": {
    "papermill": {
     "duration": 0.028522,
     "end_time": "2021-10-05T20:30:48.263923",
     "exception": false,
     "start_time": "2021-10-05T20:30:48.235401",
     "status": "completed"
    },
    "tags": []
   },
   "source": [
    "To add your own method, create a function with \"your_method_name\" in the `lib/clustering.py` file (or any other file as long as it's imported in `scripts/moduledetection.py`.\n",
    "This function should accept an `E` object (which is a dataframe with genes in columns) and any additional parameters\n",
    "Then add reasonable parameter setting of your method to `conf/paramexplo_blueprints.py`."
   ]
  },
  {
   "cell_type": "markdown",
   "id": "22a540d7",
   "metadata": {
    "papermill": {
     "duration": 0.028527,
     "end_time": "2021-10-05T20:30:48.321098",
     "exception": false,
     "start_time": "2021-10-05T20:30:48.292571",
     "status": "completed"
    },
    "tags": []
   },
   "source": [
    "method_name = \"your_method_name\""
   ]
  },
  {
   "cell_type": "code",
   "execution_count": 7,
   "id": "a17c9c9f",
   "metadata": {
    "execution": {
     "iopub.execute_input": "2021-10-05T20:30:48.382825Z",
     "iopub.status.busy": "2021-10-05T20:30:48.382443Z",
     "iopub.status.idle": "2021-10-05T20:30:48.394526Z",
     "shell.execute_reply": "2021-10-05T20:30:48.394136Z"
    },
    "papermill": {
     "duration": 0.045029,
     "end_time": "2021-10-05T20:30:48.394611",
     "exception": false,
     "start_time": "2021-10-05T20:30:48.349582",
     "status": "completed"
    },
    "tags": []
   },
   "outputs": [],
   "source": [
    "# paramexplo_blueprints.py stores for every method the parameters which will be varied using a grid-search approach.\n",
    "%run ../conf/paramexplo_blueprints.py\n",
    "methodblueprint = blueprints[method_name]"
   ]
  },
  {
   "cell_type": "code",
   "execution_count": 8,
   "id": "7e24ef49",
   "metadata": {
    "execution": {
     "iopub.execute_input": "2021-10-05T20:30:48.456146Z",
     "iopub.status.busy": "2021-10-05T20:30:48.455738Z",
     "iopub.status.idle": "2021-10-05T20:30:48.467451Z",
     "shell.execute_reply": "2021-10-05T20:30:48.467750Z"
    },
    "papermill": {
     "duration": 0.043639,
     "end_time": "2021-10-05T20:30:48.467853",
     "exception": false,
     "start_time": "2021-10-05T20:30:48.424214",
     "status": "completed"
    },
    "tags": []
   },
   "outputs": [
    {
     "data": {
      "text/plain": [
       "{'staticparams': {'method': 'agglom_clustermatch',\n",
       "  'simdist_function': 'clustermatch'},\n",
       " 'dynparams': {'linkage': ['complete', 'average'],\n",
       "  'k': array([ 25.,  50.,  75., 100., 125., 150., 175., 200., 225., 250., 275.,\n",
       "         300.])},\n",
       " 'type': 'moduledetection'}"
      ]
     },
     "execution_count": 8,
     "metadata": {},
     "output_type": "execute_result"
    }
   ],
   "source": [
    "methodblueprint"
   ]
  },
  {
   "cell_type": "markdown",
   "id": "aa623a75",
   "metadata": {
    "papermill": {
     "duration": 0.029375,
     "end_time": "2021-10-05T20:30:48.528068",
     "exception": false,
     "start_time": "2021-10-05T20:30:48.498693",
     "status": "completed"
    },
    "tags": []
   },
   "source": [
    "Generate different parameter settings using a grid-search."
   ]
  },
  {
   "cell_type": "code",
   "execution_count": 9,
   "id": "45d3f7ba",
   "metadata": {
    "execution": {
     "iopub.execute_input": "2021-10-05T20:30:48.593020Z",
     "iopub.status.busy": "2021-10-05T20:30:48.592621Z",
     "iopub.status.idle": "2021-10-05T20:30:48.603969Z",
     "shell.execute_reply": "2021-10-05T20:30:48.603550Z"
    },
    "papermill": {
     "duration": 0.045888,
     "end_time": "2021-10-05T20:30:48.604058",
     "exception": false,
     "start_time": "2021-10-05T20:30:48.558170",
     "status": "completed"
    },
    "tags": []
   },
   "outputs": [],
   "source": [
    "params_folder = \"conf/paramexplo/\" + method_name + \"/\"\n",
    "if os.path.exists(\"../\" + params_folder):\n",
    "    shutil.rmtree(\"../\" + params_folder)\n",
    "os.makedirs(\"../\" + params_folder)\n",
    "\n",
    "methodsettings = []\n",
    "method_locations = []\n",
    "i = 0\n",
    "for dynparam_combination in list(itertools.product(*[methodblueprint[\"dynparams\"][param] for param in sorted(methodblueprint[\"dynparams\"].keys())])):\n",
    "    method = {\"params\":{}}\n",
    "    method[\"params\"] = methodblueprint[\"staticparams\"].copy()\n",
    "    method[\"params\"].update(dict(zip(sorted(methodblueprint[\"dynparams\"].keys()), dynparam_combination)))\n",
    "    method[\"location\"] = params_folder + str(i) + \".json\"\n",
    "    method[\"seed\"] = 0\n",
    "\n",
    "    methodsettings.append(method)\n",
    "\n",
    "    json.dump(method, open(\"../\" + method[\"location\"], \"w\"), cls=JSONExtendedEncoder)\n",
    "\n",
    "    method_locations.append(method[\"location\"])\n",
    "\n",
    "    i+=1"
   ]
  },
  {
   "cell_type": "markdown",
   "id": "ece7d125",
   "metadata": {
    "papermill": {
     "duration": 0.030038,
     "end_time": "2021-10-05T20:30:48.664555",
     "exception": false,
     "start_time": "2021-10-05T20:30:48.634517",
     "status": "completed"
    },
    "tags": []
   },
   "source": [
    "Now combine the different parameter settings and datasets. Then generate the different python commands to run every parameter setting and dataset in parallel."
   ]
  },
  {
   "cell_type": "code",
   "execution_count": 10,
   "id": "0ad9e4ae",
   "metadata": {
    "execution": {
     "iopub.execute_input": "2021-10-05T20:30:48.728187Z",
     "iopub.status.busy": "2021-10-05T20:30:48.727783Z",
     "iopub.status.idle": "2021-10-05T20:30:48.738973Z",
     "shell.execute_reply": "2021-10-05T20:30:48.738597Z"
    },
    "papermill": {
     "duration": 0.044597,
     "end_time": "2021-10-05T20:30:48.739058",
     "exception": false,
     "start_time": "2021-10-05T20:30:48.694461",
     "status": "completed"
    },
    "tags": []
   },
   "outputs": [],
   "source": [
    "settings_name = \"paramexplo/{method_name}\".format(method_name = method_name)\n",
    "settings = []\n",
    "for datasetname in datasetnames:\n",
    "    for setting_ix, methodsetting in enumerate(methodsettings):\n",
    "        settingid = datasetname + \"_\" + str(setting_ix)\n",
    "        settings.append({\n",
    "            \"dataset_location\":\"conf/datasets/\" + datasetname + \".json\",\n",
    "            \"dataset_name\":datasetname,\n",
    "            \"method_location\":methodsetting[\"location\"],\n",
    "            \"output_folder\":\"results/\" + methodblueprint[\"type\"] + \"/{settings_name}/{settingid}/\".format(settings_name=settings_name, settingid=settingid),\n",
    "            \"settingid\":settingid\n",
    "        })\n",
    "json.dump(settings, open(\"../conf/settings/{settings_name}.json\".format(settings_name=settings_name), \"w\"))"
   ]
  },
  {
   "cell_type": "code",
   "execution_count": 11,
   "id": "e5514c18",
   "metadata": {
    "execution": {
     "iopub.execute_input": "2021-10-05T20:30:48.802608Z",
     "iopub.status.busy": "2021-10-05T20:30:48.802243Z",
     "iopub.status.idle": "2021-10-05T20:30:48.826310Z",
     "shell.execute_reply": "2021-10-05T20:30:48.825940Z"
    },
    "papermill": {
     "duration": 0.057374,
     "end_time": "2021-10-05T20:30:48.826393",
     "exception": false,
     "start_time": "2021-10-05T20:30:48.769019",
     "status": "completed"
    },
    "tags": []
   },
   "outputs": [],
   "source": [
    "settings_dataset = pd.DataFrame([dict(settingid=setting[\"settingid\"], **json.load(open(\"../\" + setting[\"dataset_location\"]))[\"params\"]) for setting in settings])\n",
    "settings_method = pd.DataFrame([dict(settingid=setting[\"settingid\"], **json.load(open(\"../\" + setting[\"method_location\"]))[\"params\"]) for setting in settings])"
   ]
  },
  {
   "cell_type": "code",
   "execution_count": 12,
   "id": "d88472ac",
   "metadata": {
    "execution": {
     "iopub.execute_input": "2021-10-05T20:30:48.890970Z",
     "iopub.status.busy": "2021-10-05T20:30:48.890578Z",
     "iopub.status.idle": "2021-10-05T20:30:48.901195Z",
     "shell.execute_reply": "2021-10-05T20:30:48.901476Z"
    },
    "papermill": {
     "duration": 0.044591,
     "end_time": "2021-10-05T20:30:48.901594",
     "exception": false,
     "start_time": "2021-10-05T20:30:48.857003",
     "status": "completed"
    },
    "tags": []
   },
   "outputs": [
    {
     "name": "stdout",
     "output_type": "stream",
     "text": [
      "Run the following command:\n",
      "parallel -j 4 -a tmp/paramexplo/agglom_clustermatch.txt\n"
     ]
    }
   ],
   "source": [
    "commands = \"\"\n",
    "for i, setting in enumerate(settings):\n",
    "    #commands += \"python scripts/moduledetection.py {method_location} {dataset_location} {output_folder} 0 test\\n\".format(**setting)\n",
    "    commands += \"python3 scripts/\" + methodblueprint[\"type\"] + \".py {method_location} {dataset_location} {output_folder}\\n\".format(**setting)\n",
    "\n",
    "commands_location = \"tmp/{settings_name}.txt\".format(**locals())\n",
    "os.makedirs(\"../\" + os.path.dirname(commands_location), exist_ok=True)\n",
    "with open(\"../\" + commands_location, \"w\") as outfile:\n",
    "    outfile.write(commands)\n",
    "commands_location = \"tmp/{settings_name}.txt\".format(**locals())\n",
    "os.makedirs(os.path.dirname(\"../tmp/\" + commands_location), exist_ok=True)\n",
    "with open(\"../tmp/\" + commands_location, \"w\") as outfile:\n",
    "    outfile.write(commands)\n",
    "    \n",
    "#script_location = generate_batchcode(commands_location, settings_name, len(settings), {\"memory\":\"10G\", \"numcores\":1}, \"biclust_comp2\")\n",
    "\n",
    "# this command can be used on most linux computers to run the different parameter settings in parallel\n",
    "print(\"Run the following command:\\nparallel -j 4 -a \" + commands_location)"
   ]
  },
  {
   "cell_type": "code",
   "execution_count": null,
   "id": "39b81eb2",
   "metadata": {
    "papermill": {
     "duration": 0.030541,
     "end_time": "2021-10-05T20:30:48.964081",
     "exception": false,
     "start_time": "2021-10-05T20:30:48.933540",
     "status": "completed"
    },
    "tags": []
   },
   "outputs": [],
   "source": []
  }
 ],
 "metadata": {
  "celltoolbar": "Tags",
  "jupytext": {
   "cell_metadata_filter": "all,-execution,-papermill,-trusted",
   "text_representation": {
    "extension": ".py",
    "format_name": "percent",
    "format_version": "1.3",
    "jupytext_version": "1.13.0"
   }
  },
  "kernelspec": {
   "display_name": "Python 3 (ipykernel)",
   "language": "python",
   "name": "python3"
  },
  "language_info": {
   "codemirror_mode": {
    "name": "ipython",
    "version": 3
   },
   "file_extension": ".py",
   "mimetype": "text/x-python",
   "name": "python",
   "nbconvert_exporter": "python",
   "pygments_lexer": "ipython3",
   "version": "3.9.7"
  },
  "papermill": {
   "default_parameters": {},
   "duration": 3.164919,
   "end_time": "2021-10-05T20:30:49.199892",
   "environment_variables": {},
   "exception": null,
   "input_path": "generate_jobs.ipynb",
   "output_path": "agglom_clustermatch-generate_jobs.ipynb",
   "parameters": {
    "method_name": "agglom_clustermatch"
   },
   "start_time": "2021-10-05T20:30:46.034973",
   "version": "2.3.3"
  },
  "toc": {
   "base_numbering": 1,
   "nav_menu": {},
   "number_sections": true,
   "sideBar": true,
   "skip_h1_title": false,
   "title_cell": "Table of Contents",
   "title_sidebar": "Contents",
   "toc_cell": false,
   "toc_position": {},
   "toc_section_display": true,
   "toc_window_display": false
  }
 },
 "nbformat": 4,
 "nbformat_minor": 5
}